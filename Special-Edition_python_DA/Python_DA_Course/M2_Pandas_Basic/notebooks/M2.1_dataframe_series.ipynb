{
 "cells": [
  {
   "cell_type": "markdown",
   "id": "a8e55553",
   "metadata": {},
   "source": [
    "\n",
    "## 📘 M2.1 Pandas DataFrame 與 Series 基礎操作\n",
    "\n",
    "本教學將介紹 Pandas 的兩個核心數據結構：`Series` 與 `DataFrame`，它們是進行數據分析的基礎。\n",
    "我們將詳細講解這兩種數據結構的特性、創建方法和基本操作。"
   ]
  },
  {
   "cell_type": "markdown",
   "id": "cccb27b3",
   "metadata": {},
   "source": [
    "\n",
    "### 🎯 教學目標\n",
    "\n",
    "- 🔍 了解 Pandas 中 Series 和 DataFrame 的概念和關係\n",
    "- 📦 學習創建和初始化 Series 和 DataFrame 的多種方法\n",
    "- 🛠️ 掌握 Series 和 DataFrame 的基本屬性和方法\n",
    "- 💻 練習常見的數據操作技巧"
   ]
  },
  {
   "cell_type": "markdown",
   "id": "310526cd",
   "metadata": {},
   "source": [
    "### 🧰 1. 環境設置與導入必要的套件"
   ]
  },
  {
   "cell_type": "code",
   "execution_count": 1,
   "id": "31999bfe",
   "metadata": {},
   "outputs": [],
   "source": [
    "import numpy as np\n",
    "import pandas as pd\n",
    "\n",
    "# 設置顯示選項\n",
    "pd.set_option('display.max_rows', 10)  # 最多顯示10行\n",
    "pd.set_option('display.max_columns', 10)  # 最多顯示10列\n",
    "pd.set_option('display.width', 80)  # 顯示寬度\n",
    "pd.set_option('display.precision', 3)  # 顯示小數點後3位"
   ]
  },
  {
   "cell_type": "markdown",
   "id": "8786d09e",
   "metadata": {},
   "source": [
    "解說：\n",
    "- `pd.set_option` 用於自定義 Pandas 的顯示設置，讓輸出結果更易閱讀\n",
    "- `display.max_rows` 和 `display.max_columns` 控制顯示的行數和列數，避免大型數據框過度輸出\n",
    "- `display.precision` 設定浮點數顯示的小數位數，保持輸出簡潔\n",
    "- 這些設置僅影響顯示，不會改變實際數據計算的精度"
   ]
  },
  {
   "cell_type": "markdown",
   "id": "24d62605",
   "metadata": {},
   "source": [
    "### 📊 2. Pandas Series 介紹"
   ]
  },
  {
   "cell_type": "markdown",
   "id": "9f3d05dd",
   "metadata": {},
   "source": [
    "### 2.1 什麼是 Series?"
   ]
  },
  {
   "cell_type": "markdown",
   "id": "82422441",
   "metadata": {},
   "source": [
    "學習要點：\n",
    "- Series 是 Pandas 中的一維標籤數組，可以存儲各種數據類型\n",
    "- Series 由索引(index)和值(values)兩部分組成\n",
    "- Series 可以看作是一個帶有標籤的一維 NumPy 數組，或類似字典的數據結構"
   ]
  },
  {
   "cell_type": "markdown",
   "id": "6bc3b681",
   "metadata": {},
   "source": [
    "\n",
    "Series 是 Pandas 中的一維標籤數組，可以存儲各種數據類型（整數、字符串、浮點數、Python 對象等）。\n",
    "Series 可以看作是一個帶有標籤的一維 NumPy 數組，或者是一個類似於字典的數據結構。"
   ]
  },
  {
   "cell_type": "code",
   "execution_count": 2,
   "id": "da12dcbb",
   "metadata": {},
   "outputs": [
    {
     "name": "stdout",
     "output_type": "stream",
     "text": [
      "0    1\n",
      "1    3\n",
      "2    5\n",
      "3    7\n",
      "4    9\n",
      "dtype: int64\n",
      "類型: <class 'pandas.core.series.Series'>\n",
      "\n",
      "索引: RangeIndex(start=0, stop=5, step=1)\n",
      "值: [1 3 5 7 9]\n",
      "形狀: (5,)\n",
      "維度: 1\n",
      "數據類型: int64\n"
     ]
    }
   ],
   "source": [
    "# 創建一個簡單的 Series\n",
    "s = pd.Series([1, 3, 5, 7, 9])\n",
    "print(s)\n",
    "print(f\"類型: {type(s)}\")\n",
    "\n",
    "# 查看 Series 的基本屬性\n",
    "print(f\"\\n索引: {s.index}\")\n",
    "print(f\"值: {s.values}\")\n",
    "print(f\"形狀: {s.shape}\")\n",
    "print(f\"維度: {s.ndim}\")\n",
    "print(f\"數據類型: {s.dtype}\")"
   ]
  },
  {
   "cell_type": "markdown",
   "id": "76395a03",
   "metadata": {},
   "source": [
    "解說：\n",
    "- Series 由兩部分組成：索引 (index) 和值 (values)\n",
    "- 如果未指定索引，Pandas 自動創建從 0 開始的整數索引\n",
    "- `.values` 屬性返回底層的 NumPy 數組，可用於與 NumPy 互操作\n",
    "- Series 的 `.dtype` 表示其中所有元素的數據類型，類似於 NumPy 數組\n",
    "- 雖然是一維結構，Series 比 NumPy 數組更靈活，支持標籤索引和更豐富的操作"
   ]
  },
  {
   "cell_type": "markdown",
   "id": "d564742a",
   "metadata": {},
   "source": [
    "### 2.2 Series 的創建方法"
   ]
  },
  {
   "cell_type": "code",
   "execution_count": 3,
   "id": "d94aaf60",
   "metadata": {},
   "outputs": [
    {
     "name": "stdout",
     "output_type": "stream",
     "text": [
      "從列表創建 Series:\n",
      "0    10\n",
      "1    20\n",
      "2    30\n",
      "3    40\n",
      "dtype: int64\n",
      "\n",
      "從NumPy數組創建 Series:\n",
      "0    100\n",
      "1    200\n",
      "2    300\n",
      "3    400\n",
      "dtype: int32\n",
      "\n",
      "從字典創建 Series:\n",
      "a    1\n",
      "b    2\n",
      "c    3\n",
      "d    4\n",
      "dtype: int64\n",
      "\n",
      "使用標量值創建 Series:\n",
      "a    5\n",
      "b    5\n",
      "c    5\n",
      "dtype: int64\n",
      "\n",
      "指定自定義索引創建 Series:\n",
      "a    1\n",
      "b    2\n",
      "c    3\n",
      "d    4\n",
      "dtype: int64\n"
     ]
    }
   ],
   "source": [
    "# 方法1: 從列表創建 (默認整數索引從0開始)\n",
    "s1 = pd.Series([10, 20, 30, 40])\n",
    "print(\"從列表創建 Series:\")\n",
    "print(s1)\n",
    "\n",
    "# 方法2: 從NumPy數組創建\n",
    "arr = np.array([100, 200, 300, 400])\n",
    "s2 = pd.Series(arr)\n",
    "print(\"\\n從NumPy數組創建 Series:\")\n",
    "print(s2)\n",
    "\n",
    "# 方法3: 從字典創建 (鍵作為索引)\n",
    "d = {'a': 1, 'b': 2, 'c': 3, 'd': 4}\n",
    "s3 = pd.Series(d)\n",
    "print(\"\\n從字典創建 Series:\")\n",
    "print(s3)\n",
    "\n",
    "# 方法4: 使用標量值創建\n",
    "s4 = pd.Series(5, index=['a', 'b', 'c'])  # 所有值都是5\n",
    "print(\"\\n使用標量值創建 Series:\")\n",
    "print(s4)\n",
    "\n",
    "# 方法5: 指定自定義索引\n",
    "s5 = pd.Series([1, 2, 3, 4], index=['a', 'b', 'c', 'd'])\n",
    "print(\"\\n指定自定義索引創建 Series:\")\n",
    "print(s5)"
   ]
  },
  {
   "cell_type": "markdown",
   "id": "feb31b85",
   "metadata": {},
   "source": [
    "解說：\n",
    "- 從列表或 NumPy 數組創建 Series 時，系統默認創建整數索引\n",
    "- 從字典創建時，字典的鍵自動成為 Series 的索引，值成為 Series 的數據值\n",
    "- 使用標量創建時，該值會被重複到指定索引的每個位置\n",
    "- 可以通過 `index` 參數顯式指定自定義索引，使數據更具語義化\n",
    "- 字符串索引使數據具有更好的可讀性和可檢索性，常用於分類數據"
   ]
  },
  {
   "cell_type": "markdown",
   "id": "c88a16ed",
   "metadata": {},
   "source": [
    "### 2.3 Series 的索引和切片"
   ]
  },
  {
   "cell_type": "code",
   "execution_count": 4,
   "id": "9fff2cdd",
   "metadata": {},
   "outputs": [
    {
     "name": "stdout",
     "output_type": "stream",
     "text": [
      "示例 Series:\n",
      "a    10\n",
      "b    20\n",
      "c    30\n",
      "d    40\n",
      "e    50\n",
      "dtype: int64\n",
      "\n",
      "s['a']: 10\n",
      "s[0]: 10\n",
      "\n",
      "s[['a', 'c', 'e']]:\n",
      "a    10\n",
      "c    30\n",
      "e    50\n",
      "dtype: int64\n",
      "\n",
      "使用位置切片 s[1:4]:\n",
      "b    20\n",
      "c    30\n",
      "d    40\n",
      "dtype: int64\n",
      "\n",
      "使用標籤切片 s['b':'d']:\n",
      "b    20\n",
      "c    30\n",
      "d    40\n",
      "dtype: int64\n",
      "\n",
      "條件過濾 s[s > 30]:\n",
      "d    40\n",
      "e    50\n",
      "dtype: int64\n"
     ]
    },
    {
     "name": "stderr",
     "output_type": "stream",
     "text": [
      "C:\\Users\\SUNNIE.GD.WENG\\AppData\\Local\\Temp\\ipykernel_30068\\4042917843.py:8: FutureWarning: Series.__getitem__ treating keys as positions is deprecated. In a future version, integer keys will always be treated as labels (consistent with DataFrame behavior). To access a value by position, use `ser.iloc[pos]`\n",
      "  print(f\"s[0]: {s[0]}\")      # 通過位置索引\n"
     ]
    }
   ],
   "source": [
    "# 創建一個示例 Series\n",
    "s = pd.Series([10, 20, 30, 40, 50], index=['a', 'b', 'c', 'd', 'e'])\n",
    "print(\"示例 Series:\")\n",
    "print(s)\n",
    "\n",
    "# 單個元素訪問\n",
    "print(f\"\\ns['a']: {s['a']}\")  # 通過標籤索引\n",
    "print(f\"s[0]: {s[0]}\")      # 通過位置索引\n",
    "\n",
    "# 多個元素訪問\n",
    "print(f\"\\ns[['a', 'c', 'e']]:\\n{s[['a', 'c', 'e']]}\")  # 使用標籤列表\n",
    "\n",
    "# 切片操作\n",
    "print(f\"\\n使用位置切片 s[1:4]:\\n{s[1:4]}\")            # 位置切片\n",
    "print(f\"\\n使用標籤切片 s['b':'d']:\\n{s['b':'d']}\")    # 標籤切片 (包含結束標籤)\n",
    "\n",
    "# 條件過濾\n",
    "print(f\"\\n條件過濾 s[s > 30]:\\n{s[s > 30]}\")"
   ]
  },
  {
   "cell_type": "markdown",
   "id": "944ea5f1",
   "metadata": {},
   "source": [
    "解說：\n",
    "- Series 提供了兩種索引方式：位置索引（整數）和標籤索引（用戶定義的索引值）\n",
    "- 使用方括號 `[]` 可以訪問單個元素，也可以傳入索引列表選擇多個元素\n",
    "- 位置切片 `s[1:4]` 不包含結束位置（類似 Python 列表），而標籤切片 `s['b':'d']` 包含結束標籤\n",
    "- 條件過濾返回滿足條件的元素子集，是數據分析中常用的強大功能\n",
    "- 這些靈活的索引方式使 Series 在數據處理時比普通列表或數組更加便捷"
   ]
  },
  {
   "cell_type": "markdown",
   "id": "d1e08b42",
   "metadata": {},
   "source": [
    "### 2.4 Series 基本運算"
   ]
  },
  {
   "cell_type": "code",
   "execution_count": 5,
   "id": "110daac5",
   "metadata": {},
   "outputs": [
    {
     "name": "stdout",
     "output_type": "stream",
     "text": [
      "s1 + s2:\n",
      "a    11\n",
      "b    22\n",
      "c    33\n",
      "d    44\n",
      "dtype: int64\n",
      "\n",
      "s1 * 2:\n",
      "a    2\n",
      "b    4\n",
      "c    6\n",
      "d    8\n",
      "dtype: int64\n",
      "\n",
      "s3 + s4:\n",
      "a     NaN\n",
      "b    12.0\n",
      "c    23.0\n",
      "d    34.0\n",
      "e     NaN\n",
      "dtype: float64\n",
      "\n",
      "s1的總和: 10\n",
      "s1的平均值: 2.5\n",
      "s1的標準差: 1.2909944487358056\n",
      "s1的描述性統計:\n",
      "count    4.000\n",
      "mean     2.500\n",
      "std      1.291\n",
      "min      1.000\n",
      "25%      1.750\n",
      "50%      2.500\n",
      "75%      3.250\n",
      "max      4.000\n",
      "dtype: float64\n",
      "\n",
      "將s1的每個元素平方:\n",
      "a     1\n",
      "b     4\n",
      "c     9\n",
      "d    16\n",
      "dtype: int64\n"
     ]
    }
   ],
   "source": [
    "# 創建兩個 Series\n",
    "s1 = pd.Series([1, 2, 3, 4], index=['a', 'b', 'c', 'd'])\n",
    "s2 = pd.Series([10, 20, 30, 40], index=['a', 'b', 'c', 'd'])\n",
    "\n",
    "# 算術運算\n",
    "print(f\"s1 + s2:\\n{s1 + s2}\")\n",
    "print(f\"\\ns1 * 2:\\n{s1 * 2}\")\n",
    "\n",
    "# 帶有不同索引的 Series 運算\n",
    "s3 = pd.Series([1, 2, 3, 4], index=['a', 'b', 'c', 'd'])\n",
    "s4 = pd.Series([10, 20, 30, 40], index=['b', 'c', 'd', 'e'])\n",
    "\n",
    "# 注意索引的自動對齊\n",
    "print(f\"\\ns3 + s4:\\n{s3 + s4}\")  # a和e位置會變成NaN\n",
    "\n",
    "# 統計方法\n",
    "print(f\"\\ns1的總和: {s1.sum()}\")\n",
    "print(f\"s1的平均值: {s1.mean()}\")\n",
    "print(f\"s1的標準差: {s1.std()}\")\n",
    "print(f\"s1的描述性統計:\\n{s1.describe()}\")\n",
    "\n",
    "# 應用函數\n",
    "print(f\"\\n將s1的每個元素平方:\\n{s1.apply(lambda x: x**2)}\")"
   ]
  },
  {
   "cell_type": "markdown",
   "id": "30ef0a94",
   "metadata": {},
   "source": [
    "解說：\n",
    "- Series 支持向量化運算，可以直接進行加減乘除等操作，無需循環迭代\n",
    "- 兩個 Series 運算時會自動按索引對齊，只有共同索引的數據參與計算\n",
    "- 不同索引的位置會產生 NaN（缺失值），這是 Pandas 的自動對齊機制\n",
    "- Series 提供豐富的統計方法（sum, mean, std 等）和描述性統計 (describe)\n",
    "- `.apply()` 方法允許對每個元素應用自定義函數，支持複雜的數據轉換\n",
    "- 這些特性使 Series 成為數據科學家處理單變量數據的首選工具"
   ]
  },
  {
   "cell_type": "markdown",
   "id": "8e76670b",
   "metadata": {},
   "source": [
    "### 2.5 Series 缺失值處理"
   ]
  },
  {
   "cell_type": "code",
   "execution_count": 6,
   "id": "96d3074f",
   "metadata": {},
   "outputs": [
    {
     "name": "stdout",
     "output_type": "stream",
     "text": [
      "含有缺失值的 Series:\n",
      "0    1.0\n",
      "1    NaN\n",
      "2    3.0\n",
      "3    NaN\n",
      "4    5.0\n",
      "dtype: float64\n",
      "是否有空值: 0    False\n",
      "1     True\n",
      "2    False\n",
      "3     True\n",
      "4    False\n",
      "dtype: bool\n",
      "非空值的數量: 3\n",
      "\n",
      "丟棄缺失值:\n",
      "0    1.0\n",
      "2    3.0\n",
      "4    5.0\n",
      "dtype: float64\n",
      "\n",
      "填充缺失值為0:\n",
      "0    1.0\n",
      "1    0.0\n",
      "2    3.0\n",
      "3    0.0\n",
      "4    5.0\n",
      "dtype: float64\n",
      "\n",
      "填充缺失值為前面的值:\n",
      "0    1.0\n",
      "1    1.0\n",
      "2    3.0\n",
      "3    3.0\n",
      "4    5.0\n",
      "dtype: float64\n",
      "\n",
      "填充缺失值為後面的值:\n",
      "0    1.0\n",
      "1    3.0\n",
      "2    3.0\n",
      "3    5.0\n",
      "4    5.0\n",
      "dtype: float64\n",
      "\n",
      "原始 Series:\n",
      "0    1.0\n",
      "1    NaN\n",
      "2    3.0\n",
      "3    NaN\n",
      "4    5.0\n",
      "dtype: float64\n"
     ]
    },
    {
     "name": "stderr",
     "output_type": "stream",
     "text": [
      "C:\\Users\\SUNNIE.GD.WENG\\AppData\\Local\\Temp\\ipykernel_30068\\3101164292.py:11: FutureWarning: Series.fillna with 'method' is deprecated and will raise in a future version. Use obj.ffill() or obj.bfill() instead.\n",
      "  print(f\"\\n填充缺失值為前面的值:\\n{s.fillna(method='ffill')}\")\n",
      "C:\\Users\\SUNNIE.GD.WENG\\AppData\\Local\\Temp\\ipykernel_30068\\3101164292.py:12: FutureWarning: Series.fillna with 'method' is deprecated and will raise in a future version. Use obj.ffill() or obj.bfill() instead.\n",
      "  print(f\"\\n填充缺失值為後面的值:\\n{s.fillna(method='bfill')}\")\n"
     ]
    }
   ],
   "source": [
    "# 創建含有缺失值的 Series\n",
    "s = pd.Series([1, np.nan, 3, None, 5])\n",
    "print(\"含有缺失值的 Series:\")\n",
    "print(s)\n",
    "print(f\"是否有空值: {s.isna()}\")\n",
    "print(f\"非空值的數量: {s.count()}\")\n",
    "\n",
    "# 處理缺失值\n",
    "print(f\"\\n丟棄缺失值:\\n{s.dropna()}\")\n",
    "print(f\"\\n填充缺失值為0:\\n{s.fillna(0)}\")\n",
    "print(f\"\\n填充缺失值為前面的值:\\n{s.fillna(method='ffill')}\")\n",
    "print(f\"\\n填充缺失值為後面的值:\\n{s.fillna(method='bfill')}\")\n",
    "\n",
    "# 原始 Series 不變\n",
    "print(f\"\\n原始 Series:\\n{s}\")"
   ]
  },
  {
   "cell_type": "markdown",
   "id": "04f04e56",
   "metadata": {},
   "source": [
    "解說：\n",
    "- Pandas 將 `np.nan` 和 `None` 都視為缺失值，使用 `.isna()` 或 `.isnull()` 方法可檢測它們\n",
    "- `.count()` 返回非缺失值的數量，常用於計算有效數據比例\n",
    "- 處理缺失值的主要策略包括：\n",
    "  - 刪除：使用 `.dropna()` 移除含有缺失值的記錄\n",
    "  - 填充固定值：使用 `.fillna(值)` 將缺失值替換為特定值\n",
    "  - 前向填充：使用 `.fillna(method='ffill')` 用前一個有效值填充\n",
    "  - 後向填充：使用 `.fillna(method='bfill')` 用後一個有效值填充\n",
    "- 這些方法默認返回新的 Series，不會修改原始數據，除非指定 `inplace=True`\n",
    "- 缺失值處理是數據清洗中的關鍵步驟，選擇適當的策略取決於具體的數據背景"
   ]
  },
  {
   "cell_type": "markdown",
   "id": "cbccf8e8",
   "metadata": {},
   "source": [
    "\n",
    "## 3. Pandas DataFrame 介紹"
   ]
  },
  {
   "cell_type": "markdown",
   "id": "c5d1996a",
   "metadata": {},
   "source": [
    "### 3.1 什麼是 DataFrame?"
   ]
  },
  {
   "cell_type": "markdown",
   "id": "6c9601b1",
   "metadata": {},
   "source": [
    "學習要點：\n",
    "- DataFrame 是 Pandas 中的二維表格數據結構，類似於 Excel 工作表或 SQL 表格\n",
    "- DataFrame 由行和列組成，每一列可以看作是一個 Series\n",
    "- DataFrame 有行索引（index）和列標籤（columns）兩個軸"
   ]
  },
  {
   "cell_type": "markdown",
   "id": "1fc99101",
   "metadata": {
    "vscode": {
     "languageId": "plaintext"
    }
   },
   "source": [
    "\n",
    "DataFrame 是 Pandas 中的一個二維標籤數據結構，類似於 Excel 電子表格或 SQL 表。 <br>\n",
    "它由行和列組成，可以看作是由多個共享相同索引的 Series 組成的字典結構。 <br>\n",
    "DataFrame 是數據分析中最常用的數據結構，用於處理和分析表格數據。 <br>"
   ]
  },
  {
   "cell_type": "code",
   "execution_count": 7,
   "id": "0ff06887",
   "metadata": {},
   "outputs": [
    {
     "name": "stdout",
     "output_type": "stream",
     "text": [
      "DataFrame 示例:\n",
      "      Name  Age      City  Salary\n",
      "0    Alice   25  New York   50000\n",
      "1      Bob   30    Boston   60000\n",
      "2  Charlie   35   Chicago   70000\n",
      "3    David   40    Denver   80000\n",
      "\n",
      "DataFrame 形狀: (4, 4)\n",
      "DataFrame 列名: Index(['Name', 'Age', 'City', 'Salary'], dtype='object')\n",
      "DataFrame 索引: RangeIndex(start=0, stop=4, step=1)\n",
      "DataFrame 數據類型:\n",
      "Name      object\n",
      "Age        int64\n",
      "City      object\n",
      "Salary     int64\n",
      "dtype: object\n",
      "\n",
      "DataFrame 頭部數據:\n",
      "    Name  Age      City  Salary\n",
      "0  Alice   25  New York   50000\n",
      "1    Bob   30    Boston   60000\n",
      "\n",
      "DataFrame 尾部數據:\n",
      "      Name  Age     City  Salary\n",
      "2  Charlie   35  Chicago   70000\n",
      "3    David   40   Denver   80000\n",
      "\n",
      "DataFrame 基本描述統計:\n",
      "          Age     Salary\n",
      "count   4.000      4.000\n",
      "mean   32.500  65000.000\n",
      "std     6.455  12909.944\n",
      "min    25.000  50000.000\n",
      "25%    28.750  57500.000\n",
      "50%    32.500  65000.000\n",
      "75%    36.250  72500.000\n",
      "max    40.000  80000.000\n"
     ]
    }
   ],
   "source": [
    "# 創建一個簡單的 DataFrame\n",
    "df = pd.DataFrame({\n",
    "    'Name': ['Alice', 'Bob', 'Charlie', 'David'],\n",
    "    'Age': [25, 30, 35, 40],\n",
    "    'City': ['New York', 'Boston', 'Chicago', 'Denver'],\n",
    "    'Salary': [50000, 60000, 70000, 80000]\n",
    "})\n",
    "\n",
    "print(\"DataFrame 示例:\")\n",
    "print(df)\n",
    "\n",
    "# 查看 DataFrame 的基本信息\n",
    "print(f\"\\nDataFrame 形狀: {df.shape}\")\n",
    "print(f\"DataFrame 列名: {df.columns}\")\n",
    "print(f\"DataFrame 索引: {df.index}\")\n",
    "print(f\"DataFrame 數據類型:\\n{df.dtypes}\")\n",
    "\n",
    "# 查看數據摘要\n",
    "print(\"\\nDataFrame 頭部數據:\")\n",
    "print(df.head(2))\n",
    "print(\"\\nDataFrame 尾部數據:\")\n",
    "print(df.tail(2))\n",
    "print(\"\\nDataFrame 基本描述統計:\")\n",
    "print(df.describe())"
   ]
  },
  {
   "cell_type": "markdown",
   "id": "bfc9320e",
   "metadata": {},
   "source": [
    "解說：\n",
    "- DataFrame 是 Pandas 的核心數據結構，可視為由多個 Series 組成的二維表格\n",
    "- 每一列都是一個 Series，共享相同的索引（行標籤）\n",
    "- `.shape` 返回行數和列數，`.columns` 返回列名列表，`.index` 返回行索引\n",
    "- `.dtypes` 顯示每一列的數據類型，Pandas 自動推斷最佳類型\n",
    "- `.head()` 和 `.tail()` 用於快速查看數據的開頭和結尾部分，參數表示顯示的行數\n",
    "- `.describe()` 提供數值列的統計摘要，包括計數、平均值、標準差、最小值、四分位數和最大值\n",
    "- 這些方法使數據結構透明且易於探索，是數據分析的第一步"
   ]
  },
  {
   "cell_type": "markdown",
   "id": "8ed4d732",
   "metadata": {},
   "source": [
    "### 3.2 DataFrame 的創建方法"
   ]
  },
  {
   "cell_type": "code",
   "execution_count": 8,
   "id": "143f1407",
   "metadata": {},
   "outputs": [
    {
     "name": "stdout",
     "output_type": "stream",
     "text": [
      "從字典創建 DataFrame:\n",
      "      Name  Age      City\n",
      "0    Alice   25  New York\n",
      "1      Bob   30    Boston\n",
      "2  Charlie   35   Chicago\n",
      "\n",
      "從嵌套列表創建 DataFrame:\n",
      "      Name  Age      City\n",
      "0    Alice   25  New York\n",
      "1      Bob   30    Boston\n",
      "2  Charlie   35   Chicago\n",
      "\n",
      "從字典列表創建 DataFrame:\n",
      "      Name  Age      City\n",
      "0    Alice   25  New York\n",
      "1      Bob   30    Boston\n",
      "2  Charlie   35   Chicago\n",
      "\n",
      "從NumPy數組創建 DataFrame:\n",
      "      Name Age      City\n",
      "0    Alice  25  New York\n",
      "1      Bob  30    Boston\n",
      "2  Charlie  35   Chicago\n",
      "\n",
      "從Series創建 DataFrame:\n",
      "      Name Age      City\n",
      "0    Alice  25  New York\n",
      "1      Bob  30    Boston\n",
      "2  Charlie  35   Chicago\n"
     ]
    }
   ],
   "source": [
    "# 方法1: 從字典創建（字典的鍵作為列名）\n",
    "data = {\n",
    "    'Name': ['Alice', 'Bob', 'Charlie'],\n",
    "    'Age': [25, 30, 35],\n",
    "    'City': ['New York', 'Boston', 'Chicago']\n",
    "}\n",
    "df1 = pd.DataFrame(data)\n",
    "print(\"從字典創建 DataFrame:\")\n",
    "print(df1)\n",
    "\n",
    "# 方法2: 從嵌套列表創建\n",
    "data_list = [\n",
    "    ['Alice', 25, 'New York'],\n",
    "    ['Bob', 30, 'Boston'],\n",
    "    ['Charlie', 35, 'Chicago']\n",
    "]\n",
    "df2 = pd.DataFrame(data_list, columns=['Name', 'Age', 'City'])\n",
    "print(\"\\n從嵌套列表創建 DataFrame:\")\n",
    "print(df2)\n",
    "\n",
    "# 方法3: 從字典列表創建\n",
    "dict_list = [\n",
    "    {'Name': 'Alice', 'Age': 25, 'City': 'New York'},\n",
    "    {'Name': 'Bob', 'Age': 30, 'City': 'Boston'},\n",
    "    {'Name': 'Charlie', 'Age': 35, 'City': 'Chicago'}\n",
    "]\n",
    "df3 = pd.DataFrame(dict_list)\n",
    "print(\"\\n從字典列表創建 DataFrame:\")\n",
    "print(df3)\n",
    "\n",
    "# 方法4: 從NumPy二維數組創建\n",
    "arr = np.array([['Alice', 25, 'New York'],\n",
    "                ['Bob', 30, 'Boston'],\n",
    "                ['Charlie', 35, 'Chicago']])\n",
    "df4 = pd.DataFrame(arr, columns=['Name', 'Age', 'City'])\n",
    "print(\"\\n從NumPy數組創建 DataFrame:\")\n",
    "print(df4)\n",
    "\n",
    "# 方法5: 從Series創建\n",
    "s1 = pd.Series(['Alice', 'Bob', 'Charlie'], name='Name')\n",
    "s2 = pd.Series([25, 30, 35], name='Age')\n",
    "s3 = pd.Series(['New York', 'Boston', 'Chicago'], name='City')\n",
    "df5 = pd.DataFrame([s1, s2, s3]).T  # 轉置(T)使Series變為列\n",
    "print(\"\\n從Series創建 DataFrame:\")\n",
    "print(df5)"
   ]
  },
  {
   "cell_type": "markdown",
   "id": "09c7a80f",
   "metadata": {},
   "source": [
    "解說：\n",
    "- 從字典創建是最常用的方法，字典的鍵成為列名，值成為列數據\n",
    "- 從嵌套列表創建時，需要明確指定列名，否則使用數字索引\n",
    "- 從字典列表創建時，每個字典代表一行數據，鍵成為列名\n",
    "- 從NumPy數組創建時，數組的形狀決定DataFrame的形狀，通常需要指定列名\n",
    "- 從Series創建時，每個Series成為一行或一列，需要注意轉置(T)以得到預期的形狀\n",
    "- 創建DataFrame時可以指定索引(index)和列名(columns)，使數據更具語義化\n",
    "- 選擇合適的創建方法取決於數據的來源和格式，Pandas提供了靈活性來處理各種情況"
   ]
  },
  {
   "cell_type": "markdown",
   "id": "19815f6e",
   "metadata": {},
   "source": [
    "### 3.3 DataFrame 的索引和切片"
   ]
  },
  {
   "cell_type": "code",
   "execution_count": 9,
   "id": "a16ae194",
   "metadata": {},
   "outputs": [
    {
     "name": "stdout",
     "output_type": "stream",
     "text": [
      "示例 DataFrame:\n",
      "      Name  Age      City  Salary Department\n",
      "0    Alice   25  New York   50000         HR\n",
      "1      Bob   30    Boston   60000         IT\n",
      "2  Charlie   35   Chicago   70000    Finance\n",
      "3    David   40    Denver   80000         IT\n",
      "4      Eve   45     Miami   90000  Marketing\n",
      "\n",
      "選擇單列 (Series 格式):\n",
      "0      Alice\n",
      "1        Bob\n",
      "2    Charlie\n",
      "3      David\n",
      "4        Eve\n",
      "Name: Name, dtype: object\n",
      "\n",
      "選擇多列 (DataFrame 格式):\n",
      "      Name  Age\n",
      "0    Alice   25\n",
      "1      Bob   30\n",
      "2  Charlie   35\n",
      "3    David   40\n",
      "4      Eve   45\n",
      "\n",
      "使用 .iloc 選擇行 (基於位置):\n",
      "Name             Alice\n",
      "Age                 25\n",
      "City          New York\n",
      "Salary           50000\n",
      "Department          HR\n",
      "Name: 0, dtype: object\n",
      "\n",
      "選擇多行:\n",
      "      Name  Age     City  Salary Department\n",
      "1      Bob   30   Boston   60000         IT\n",
      "2  Charlie   35  Chicago   70000    Finance\n",
      "\n",
      "使用 .loc 選擇行 (基於標籤):\n",
      "Name          Charlie\n",
      "Age                35\n",
      "City          Chicago\n",
      "Salary          70000\n",
      "Department    Finance\n",
      "Name: 2, dtype: object\n",
      "\n",
      "選擇多行:\n",
      "      Name  Age     City  Salary Department\n",
      "1      Bob   30   Boston   60000         IT\n",
      "2  Charlie   35  Chicago   70000    Finance\n",
      "3    David   40   Denver   80000         IT\n",
      "\n",
      "使用 .loc 選擇特定行和列:\n",
      "      Name  Salary\n",
      "1      Bob   60000\n",
      "2  Charlie   70000\n",
      "3    David   80000\n",
      "\n",
      "使用 .iloc 選擇特定行和列:\n",
      "      Name  Salary\n",
      "1      Bob   60000\n",
      "2  Charlie   70000\n",
      "\n",
      "條件選擇 - 選擇年齡大於35的記錄:\n",
      "    Name  Age    City  Salary Department\n",
      "3  David   40  Denver   80000         IT\n",
      "4    Eve   45   Miami   90000  Marketing\n",
      "\n",
      "條件選擇 - 選擇在IT部門的記錄:\n",
      "    Name  Age    City  Salary Department\n",
      "1    Bob   30  Boston   60000         IT\n",
      "3  David   40  Denver   80000         IT\n",
      "\n",
      "複合條件 - 選擇年齡大於30且薪水大於70000的記錄:\n",
      "    Name  Age    City  Salary Department\n",
      "3  David   40  Denver   80000         IT\n",
      "4    Eve   45   Miami   90000  Marketing\n"
     ]
    }
   ],
   "source": [
    "# 創建示例 DataFrame\n",
    "df = pd.DataFrame({\n",
    "    'Name': ['Alice', 'Bob', 'Charlie', 'David', 'Eve'],\n",
    "    'Age': [25, 30, 35, 40, 45],\n",
    "    'City': ['New York', 'Boston', 'Chicago', 'Denver', 'Miami'],\n",
    "    'Salary': [50000, 60000, 70000, 80000, 90000],\n",
    "    'Department': ['HR', 'IT', 'Finance', 'IT', 'Marketing']\n",
    "})\n",
    "print(\"示例 DataFrame:\")\n",
    "print(df)\n",
    "\n",
    "# 1. 選擇列\n",
    "print(\"\\n選擇單列 (Series 格式):\")\n",
    "print(df['Name'])\n",
    "print(\"\\n選擇多列 (DataFrame 格式):\")\n",
    "print(df[['Name', 'Age']])\n",
    "\n",
    "# 2. 選擇行 - 使用位置索引\n",
    "print(\"\\n使用 .iloc 選擇行 (基於位置):\")\n",
    "print(df.iloc[0])  # 第一行\n",
    "print(\"\\n選擇多行:\")\n",
    "print(df.iloc[1:3])  # 第二行到第三行\n",
    "\n",
    "# 3. 選擇行 - 使用標籤索引\n",
    "print(\"\\n使用 .loc 選擇行 (基於標籤):\")\n",
    "print(df.loc[2])  # 索引為2的行\n",
    "print(\"\\n選擇多行:\")\n",
    "print(df.loc[1:3])  # 索引為1到3的行 (包含3)\n",
    "\n",
    "# 4. 選擇行和列 (同時)\n",
    "print(\"\\n使用 .loc 選擇特定行和列:\")\n",
    "print(df.loc[1:3, ['Name', 'Salary']])  # 索引1到3的行，只選Name和Salary列\n",
    "\n",
    "print(\"\\n使用 .iloc 選擇特定行和列:\")\n",
    "print(df.iloc[1:3, [0, 3]])  # 第二行到第三行，第一列和第四列\n",
    "\n",
    "# 5. 簡單條件選擇\n",
    "print(\"\\n條件選擇 - 選擇年齡大於35的記錄:\")\n",
    "print(df[df['Age'] > 35])\n",
    "\n",
    "print(\"\\n條件選擇 - 選擇在IT部門的記錄:\")\n",
    "print(df[df['Department'] == 'IT'])\n",
    "\n",
    "print(\"\\n複合條件 - 選擇年齡大於30且薪水大於70000的記錄:\")\n",
    "print(df[(df['Age'] > 30) & (df['Salary'] > 70000)])"
   ]
  },
  {
   "cell_type": "markdown",
   "id": "33903a25",
   "metadata": {},
   "source": [
    "解說：\n",
    "- DataFrame 提供多種索引和切片方式，適用於不同的數據選擇需求\n",
    "- 選擇列的方法：\n",
    "  - 單括號 `df['列名']` 返回單列作為 Series\n",
    "  - 雙括號 `df[['列名1', '列名2']]` 返回多列作為 DataFrame\n",
    "- 按位置選擇行的方法：\n",
    "  - `.iloc[i]` 選擇第 i 行（從0開始）\n",
    "  - `.iloc[i:j]` 選擇第 i 行到第 j-1 行（不包含j）\n",
    "- 按標籤選擇行的方法：\n",
    "  - `.loc[i]` 選擇索引為 i 的行\n",
    "  - `.loc[i:j]` 選擇索引從 i 到 j 的行（包含j）\n",
    "- 同時選擇行和列：\n",
    "  - `.loc[行範圍, 列範圍]` 使用標籤\n",
    "  - `.iloc[行範圍, 列範圍]` 使用位置\n",
    "- 這些靈活的選擇方法使 DataFrame 成為數據分析的強大工具"
   ]
  },
  {
   "cell_type": "markdown",
   "id": "65474ba1",
   "metadata": {},
   "source": [
    "### 3.4 DataFrame 的基本操作"
   ]
  },
  {
   "cell_type": "code",
   "execution_count": 10,
   "id": "3777da96",
   "metadata": {},
   "outputs": [
    {
     "name": "stdout",
     "output_type": "stream",
     "text": [
      "原始 DataFrame:\n",
      "      Name  Age      City\n",
      "0    Alice   25  New York\n",
      "1      Bob   30    Boston\n",
      "2  Charlie   35   Chicago\n",
      "\n",
      "添加新列後的 DataFrame:\n",
      "      Name  Age      City  Salary  YearsEmployed\n",
      "0    Alice   25  New York   50000              5\n",
      "1      Bob   30    Boston   60000             10\n",
      "2  Charlie   35   Chicago   70000             15\n",
      "\n",
      "刪除'YearsEmployed'列後的 DataFrame:\n",
      "      Name  Age      City  Salary\n",
      "0    Alice   25  New York   50000\n",
      "1      Bob   30    Boston   60000\n",
      "2  Charlie   35   Chicago   70000\n",
      "\n",
      "刪除索引為1的行後的 DataFrame:\n",
      "      Name  Age      City  Salary  YearsEmployed\n",
      "0    Alice   25  New York   50000              5\n",
      "2  Charlie   35   Chicago   70000             15\n",
      "\n",
      "重命名列後的 DataFrame:\n",
      "  FullName  Age  Location  Salary  YearsEmployed\n",
      "0    Alice   25  New York   50000              5\n",
      "1      Bob   30    Boston   60000             10\n",
      "2  Charlie   35   Chicago   70000             15\n",
      "\n",
      "按年齡降序排序後的 DataFrame:\n",
      "      Name  Age      City  Salary  YearsEmployed\n",
      "2  Charlie   35   Chicago   70000             15\n",
      "1      Bob   30    Boston   60000             10\n",
      "0    Alice   25  New York   50000              5\n",
      "\n",
      "轉置後的 DataFrame:\n",
      "                      0       1        2\n",
      "Name              Alice     Bob  Charlie\n",
      "Age                  25      30       35\n",
      "City           New York  Boston  Chicago\n",
      "Salary            50000   60000    70000\n",
      "YearsEmployed         5      10       15\n"
     ]
    }
   ],
   "source": [
    "# 創建示例 DataFrame\n",
    "df = pd.DataFrame({\n",
    "    'Name': ['Alice', 'Bob', 'Charlie'],\n",
    "    'Age': [25, 30, 35],\n",
    "    'City': ['New York', 'Boston', 'Chicago']\n",
    "})\n",
    "print(\"原始 DataFrame:\")\n",
    "print(df)\n",
    "\n",
    "# 1. 添加新列\n",
    "df['Salary'] = [50000, 60000, 70000]  # 直接賦值\n",
    "df['YearsEmployed'] = df['Age'] - 20  # 基於現有列計算\n",
    "print(\"\\n添加新列後的 DataFrame:\")\n",
    "print(df)\n",
    "\n",
    "# 2. 刪除列\n",
    "df_drop_col = df.drop('YearsEmployed', axis=1)  # axis=1表示列\n",
    "print(\"\\n刪除'YearsEmployed'列後的 DataFrame:\")\n",
    "print(df_drop_col)\n",
    "\n",
    "# 3. 刪除行\n",
    "df_drop_row = df.drop(1, axis=0)  # axis=0表示行，刪除索引為1的行\n",
    "print(\"\\n刪除索引為1的行後的 DataFrame:\")\n",
    "print(df_drop_row)\n",
    "\n",
    "# 4. 重命名列\n",
    "df_renamed = df.rename(columns={'Name': 'FullName', 'City': 'Location'})\n",
    "print(\"\\n重命名列後的 DataFrame:\")\n",
    "print(df_renamed)\n",
    "\n",
    "# 5. 排序\n",
    "df_sorted_by_age = df.sort_values('Age', ascending=False)  # 按年齡降序排列\n",
    "print(\"\\n按年齡降序排序後的 DataFrame:\")\n",
    "print(df_sorted_by_age)\n",
    "\n",
    "# 6. 轉置\n",
    "df_transposed = df.T  # 行和列互換\n",
    "print(\"\\n轉置後的 DataFrame:\")\n",
    "print(df_transposed)"
   ]
  },
  {
   "cell_type": "markdown",
   "id": "3776c472",
   "metadata": {},
   "source": [
    "解說：\n",
    "- 添加新列可以通過直接賦值或基於現有列的計算\n",
    "- 刪除操作使用 `drop()` 方法，需要指定 axis 參數（0表示行，1表示列）\n",
    "- 這些方法默認返回新的 DataFrame，不修改原始數據，除非指定 `inplace=True`\n",
    "- 重命名列使用 `rename()` 方法，傳入字典映射舊名稱到新名稱\n",
    "- 排序使用 `sort_values()` 方法，可以按單列或多列排序，控制升序或降序\n",
    "- 轉置操作使用 `.T` 屬性，將行和列互換，對於寬表格變長表格很有用\n",
    "- 這些基本操作為數據分析和預處理提供了豐富的工具集"
   ]
  },
  {
   "cell_type": "markdown",
   "id": "4e58a5a8",
   "metadata": {},
   "source": [
    "\n",
    "## 📋 5. 總結與最佳實踐"
   ]
  },
  {
   "cell_type": "markdown",
   "id": "ebca2eec",
   "metadata": {},
   "source": [
    "\n",
    "### 5.1 Series 與 DataFrame 的核心概念"
   ]
  },
  {
   "cell_type": "markdown",
   "id": "355145f8",
   "metadata": {},
   "source": [
    "\n",
    "- **Series**: 一維標籤數組，索引-值對，類似於字典\n",
    "- **DataFrame**: 二維標籤數據結構，可以看作是共享索引的 Series 集合\n",
    "- 兩者都支持標籤索引和位置索引\n",
    "- 自動對齊和廣播機制使數據處理更加直覺和便捷"
   ]
  },
  {
   "cell_type": "markdown",
   "id": "5414fbd2",
   "metadata": {},
   "source": [
    "解說：\n",
    "- Series 適合處理單變量數據，如時間序列、一維測量結果或類別頻率\n",
    "- DataFrame 適合處理多變量數據，如表格數據、多特徵觀測或關係數據\n",
    "- 兩者的關鍵優勢是標籤索引、自動對齊和整合的數據處理方法\n",
    "- Series 可視為 DataFrame 的構建塊，許多 DataFrame 方法在 Series 上也適用\n",
    "- 這些數據結構的設計理念影響了現代數據分析工具的發展"
   ]
  },
  {
   "cell_type": "markdown",
   "id": "d19ba806",
   "metadata": {},
   "source": [
    "\n",
    "### 5.2 常用技巧"
   ]
  },
  {
   "cell_type": "markdown",
   "id": "1ff43b46",
   "metadata": {},
   "source": [
    "\n",
    "- 使用 `.loc[]` 和 `.iloc[]` 進行更精確的數據選擇\n",
    "- 充分利用條件過濾簡化複雜的數據篩選邏輯\n",
    "- 使用 `describe()` 快速了解數據的統計特性\n",
    "- 熟悉 Series 和 DataFrame 之間的互操作"
   ]
  },
  {
   "cell_type": "markdown",
   "id": "d90a4b79",
   "metadata": {},
   "source": [
    "解說：\n",
    "- `.loc[]` 和 `.iloc[]` 分別提供基於標籤和位置的精確索引，避免混淆和歧義\n",
    "- 條件過濾允許簡潔地表達選擇條件，例如 `df[df['Age'] > 30]`\n",
    "- `describe()` 提供快速統計概覽，幫助識別數據特徵和分布\n",
    "- 了解何時使用 Series 與 DataFrame，以及如何在兩者之間轉換，可以大大提高分析靈活性\n",
    "- 掌握這些技巧可以使代碼更簡潔、更高效，並提供更深入的數據洞察"
   ]
  },
  {
   "cell_type": "markdown",
   "id": "a6a77314",
   "metadata": {},
   "source": [
    "\n",
    "### 5.3 下一步學習"
   ]
  },
  {
   "cell_type": "markdown",
   "id": "af8b86bd",
   "metadata": {},
   "source": [
    "\n",
    "- 探索更多DataFrame和Series的選取方法\n",
    "- 學習處理缺失數據和數據類型轉換\n",
    "- 了解如何讀取和寫入不同格式的文件\n",
    "- 進階數據清洗和預處理技術\n",
    "- 數據分組和聚合操作"
   ]
  },
  {
   "cell_type": "markdown",
   "id": "9f57571a",
   "metadata": {},
   "source": [
    "解說：\n",
    "- Pandas提供了豐富的數據處理功能，本課程只是入門\n",
    "- 隨著您的技能提升，可以探索更多Pandas的進階功能\n",
    "- 實際項目經驗是鞏固這些技能的最佳方式，建議結合真實數據集進行練習\n",
    "- 下一課我們將學習如何使用Pandas進行更詳細的數據選取和索引操作"
   ]
  }
 ],
 "metadata": {
  "kernelspec": {
   "display_name": "Python 3",
   "language": "python",
   "name": "python3"
  },
  "language_info": {
   "codemirror_mode": {
    "name": "ipython",
    "version": 3
   },
   "file_extension": ".py",
   "mimetype": "text/x-python",
   "name": "python",
   "nbconvert_exporter": "python",
   "pygments_lexer": "ipython3",
   "version": "3.11.9"
  }
 },
 "nbformat": 4,
 "nbformat_minor": 5
}
