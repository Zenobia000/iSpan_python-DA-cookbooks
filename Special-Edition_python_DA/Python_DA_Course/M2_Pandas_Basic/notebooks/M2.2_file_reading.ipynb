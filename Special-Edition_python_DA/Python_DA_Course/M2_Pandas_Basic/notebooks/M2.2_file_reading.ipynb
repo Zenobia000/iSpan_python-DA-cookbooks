{
 "cells": [
  {
   "cell_type": "markdown",
   "id": "56140c96",
   "metadata": {},
   "source": [
    "\n",
    "## 📘 M2.3 Pandas 檔案讀寫基礎\n",
    "\n",
    "本課程將介紹 Pandas 中讀取和寫入各種檔案格式的基本方法。掌握這些操作是數據分析的第一步，可以幫助您快速匯入和匯出數據。"
   ]
  },
  {
   "cell_type": "markdown",
   "id": "45952a48",
   "metadata": {},
   "source": [
    "\n",
    "### 🎯 教學目標\n",
    "\n",
    "- 🔍 了解 Pandas 支援的常見檔案格式\n",
    "- 📥 掌握讀取 CSV、Excel 和 JSON 檔案的基本方法\n",
    "- 📤 學習如何將 DataFrame 導出為不同格式\n",
    "- 🔑 了解基本索引操作與檔案讀寫的關係"
   ]
  },
  {
   "cell_type": "markdown",
   "id": "3924311c",
   "metadata": {},
   "source": [
    "### 🧰 環境設置"
   ]
  },
  {
   "cell_type": "code",
   "execution_count": 1,
   "id": "3cf101c9",
   "metadata": {},
   "outputs": [],
   "source": [
    "import numpy as np\n",
    "import pandas as pd\n",
    "import os\n",
    "\n",
    "# 設置顯示選項\n",
    "pd.set_option('display.max_rows', 10)\n",
    "pd.set_option('display.max_columns', 10)\n",
    "pd.set_option('display.width', 80)\n",
    "pd.set_option('display.precision', 3)\n",
    "\n",
    "# 設置數據文件路徑\n",
    "data_dir = os.path.join('..', 'data')"
   ]
  },
  {
   "cell_type": "markdown",
   "id": "4c7909e8",
   "metadata": {},
   "source": [
    "\n",
    "### 📊 1. CSV 檔案的讀寫\n",
    "\n",
    "CSV (Comma-Separated Values) 檔案是數據交換的最常見格式之一，幾乎所有數據工具都支援這種格式。"
   ]
  },
  {
   "cell_type": "code",
   "execution_count": 2,
   "id": "02cd37ea",
   "metadata": {},
   "outputs": [
    {
     "name": "stdout",
     "output_type": "stream",
     "text": [
      "Titanic 數據集 (共 891 行, 12 列):\n",
      "   PassengerId  Survived  Pclass  \\\n",
      "0            1         0       3   \n",
      "1            2         1       1   \n",
      "2            3         1       3   \n",
      "3            4         1       1   \n",
      "4            5         0       3   \n",
      "\n",
      "                                                Name     Sex  ...  Parch  \\\n",
      "0                            Braund, Mr. Owen Harris    male  ...      0   \n",
      "1  Cumings, Mrs. John Bradley (Florence Briggs Th...  female  ...      0   \n",
      "2                             Heikkinen, Miss. Laina  female  ...      0   \n",
      "3       Futrelle, Mrs. Jacques Heath (Lily May Peel)  female  ...      0   \n",
      "4                           Allen, Mr. William Henry    male  ...      0   \n",
      "\n",
      "             Ticket    Fare Cabin  Embarked  \n",
      "0         A/5 21171   7.250   NaN         S  \n",
      "1          PC 17599  71.283   C85         C  \n",
      "2  STON/O2. 3101282   7.925   NaN         S  \n",
      "3            113803  53.100  C123         S  \n",
      "4            373450   8.050   NaN         S  \n",
      "\n",
      "[5 rows x 12 columns]\n"
     ]
    }
   ],
   "source": [
    "# 1.1 讀取 titanic.csv 數據集\n",
    "titanic_file = os.path.join(data_dir, 'titanic.csv')\n",
    "titanic_data = pd.read_csv(titanic_file)\n",
    "\n",
    "print(f\"Titanic 數據集 (共 {titanic_data.shape[0]} 行, {titanic_data.shape[1]} 列):\")\n",
    "print(titanic_data.head())"
   ]
  },
  {
   "cell_type": "code",
   "execution_count": 3,
   "id": "a71a480a",
   "metadata": {},
   "outputs": [
    {
     "name": "stdout",
     "output_type": "stream",
     "text": [
      "Titanic 數據集的基本信息:\n",
      "<class 'pandas.core.frame.DataFrame'>\n",
      "RangeIndex: 891 entries, 0 to 890\n",
      "Data columns (total 12 columns):\n",
      " #   Column       Non-Null Count  Dtype  \n",
      "---  ------       --------------  -----  \n",
      " 0   PassengerId  891 non-null    int64  \n",
      " 1   Survived     891 non-null    int64  \n",
      " 2   Pclass       891 non-null    int64  \n",
      " 3   Name         891 non-null    object \n",
      " 4   Sex          891 non-null    object \n",
      " 5   Age          714 non-null    float64\n",
      " 6   SibSp        891 non-null    int64  \n",
      " 7   Parch        891 non-null    int64  \n",
      " 8   Ticket       891 non-null    object \n",
      " 9   Fare         891 non-null    float64\n",
      " 10  Cabin        204 non-null    object \n",
      " 11  Embarked     889 non-null    object \n",
      "dtypes: float64(2), int64(5), object(5)\n",
      "memory usage: 83.7+ KB\n",
      "None\n",
      "\n",
      "Titanic 數據集的統計摘要:\n",
      "       PassengerId  Survived   Pclass      Age    SibSp    Parch     Fare\n",
      "count      891.000   891.000  891.000  714.000  891.000  891.000  891.000\n",
      "mean       446.000     0.384    2.309   29.699    0.523    0.382   32.204\n",
      "std        257.354     0.487    0.836   14.526    1.103    0.806   49.693\n",
      "min          1.000     0.000    1.000    0.420    0.000    0.000    0.000\n",
      "25%        223.500     0.000    2.000   20.125    0.000    0.000    7.910\n",
      "50%        446.000     0.000    3.000   28.000    0.000    0.000   14.454\n",
      "75%        668.500     1.000    3.000   38.000    1.000    0.000   31.000\n",
      "max        891.000     1.000    3.000   80.000    8.000    6.000  512.329\n"
     ]
    }
   ],
   "source": [
    "# 1.2 查看數據的基本信息\n",
    "print(\"Titanic 數據集的基本信息:\")\n",
    "print(titanic_data.info())\n",
    "\n",
    "print(\"\\nTitanic 數據集的統計摘要:\")\n",
    "print(titanic_data.describe())"
   ]
  },
  {
   "cell_type": "code",
   "execution_count": 4,
   "id": "350a8a23",
   "metadata": {},
   "outputs": [
    {
     "name": "stdout",
     "output_type": "stream",
     "text": [
      "已將 Titanic 子集保存到 titanic_subset.csv\n",
      "已將格式化的 Titanic 子集保存到 titanic_formatted.csv\n"
     ]
    }
   ],
   "source": [
    "# 1.3 保存部分 Titanic 數據為新的 CSV 文件\n",
    "# 選擇幾個關鍵列保存\n",
    "titanic_subset = titanic_data[['PassengerId', 'Survived', 'Pclass', 'Name', 'Sex', 'Age', 'Fare']]\n",
    "titanic_subset.to_csv('titanic_subset.csv', index=False)\n",
    "print(\"已將 Titanic 子集保存到 titanic_subset.csv\")\n",
    "\n",
    "# 1.4 使用不同參數保存 CSV\n",
    "titanic_subset.to_csv('titanic_formatted.csv', index=False, \n",
    "                    float_format='%.2f',  # 格式化浮點數為兩位小數\n",
    "                    na_rep='MISSING')     # 將缺失值表示為 \"MISSING\"\n",
    "print(\"已將格式化的 Titanic 子集保存到 titanic_formatted.csv\")"
   ]
  },
  {
   "cell_type": "code",
   "execution_count": 5,
   "id": "8e85751c",
   "metadata": {},
   "outputs": [
    {
     "name": "stdout",
     "output_type": "stream",
     "text": [
      "從 CSV 讀取的數據 (前 5 行):\n",
      "   PassengerId  Survived  Pclass  \\\n",
      "0            1         0       3   \n",
      "1            2         1       1   \n",
      "2            3         1       3   \n",
      "3            4         1       1   \n",
      "4            5         0       3   \n",
      "\n",
      "                                                Name     Sex   Age    Fare  \n",
      "0                            Braund, Mr. Owen Harris    male  22.0   7.250  \n",
      "1  Cumings, Mrs. John Bradley (Florence Briggs Th...  female  38.0  71.283  \n",
      "2                             Heikkinen, Miss. Laina  female  26.0   7.925  \n",
      "3       Futrelle, Mrs. Jacques Heath (Lily May Peel)  female  35.0  53.100  \n",
      "4                           Allen, Mr. William Henry    male  35.0   8.050  \n"
     ]
    }
   ],
   "source": [
    "# 1.5 讀取保存的 CSV 文件\n",
    "read_back = pd.read_csv('titanic_subset.csv')\n",
    "print(\"從 CSV 讀取的數據 (前 5 行):\")\n",
    "print(read_back.head())"
   ]
  },
  {
   "cell_type": "markdown",
   "id": "5863e61d",
   "metadata": {},
   "source": [
    "解說:\n",
    "- CSV 是最常用的數據交換格式，文本格式且容易閱讀\n",
    "- `read_csv()` 用於從 CSV 檔案讀取數據，返回 DataFrame\n",
    "- `to_csv()` 方法可以將 DataFrame 保存為 CSV 檔案\n",
    "- 設置 `index=False` 可以避免將行索引保存到 CSV\n",
    "- 可通過 `float_format` 控制數值格式，`na_rep` 設置缺失值的表示\n",
    "- 對於基本的數據交換，CSV 是最簡單且兼容性最好的選擇"
   ]
  },
  {
   "cell_type": "markdown",
   "id": "98b11bed",
   "metadata": {},
   "source": [
    "\n",
    "### 📊 2. 讀取其他 CSV 數據集"
   ]
  },
  {
   "cell_type": "code",
   "execution_count": 6,
   "id": "03d57faa",
   "metadata": {},
   "outputs": [
    {
     "name": "stdout",
     "output_type": "stream",
     "text": [
      "空氣質量數據集 (共 153 行, 5 列):\n",
      "         Date  Ozone  Solar  Wind  Temp\n",
      "0  1976-05-01   41.0  190.0   7.4    67\n",
      "1  1976-05-02   36.0  118.0   8.0    72\n",
      "2  1976-05-03   12.0  149.0  12.6    74\n",
      "3  1976-05-04   18.0  313.0  11.5    62\n",
      "4  1976-05-05    NaN    NaN  14.3    56\n",
      "\n",
      "空氣質量數據的數據類型:\n",
      "Date      object\n",
      "Ozone    float64\n",
      "Solar    float64\n",
      "Wind     float64\n",
      "Temp       int64\n",
      "dtype: object\n"
     ]
    }
   ],
   "source": [
    "# 2.1 讀取 air-quality.csv 數據集\n",
    "air_quality_file = os.path.join(data_dir, 'air-quality.csv')\n",
    "air_quality = pd.read_csv(air_quality_file)\n",
    "\n",
    "print(f\"空氣質量數據集 (共 {air_quality.shape[0]} 行, {air_quality.shape[1]} 列):\")\n",
    "print(air_quality.head())\n",
    "\n",
    "# 2.2 檢查空氣質量數據的數據類型\n",
    "print(\"\\n空氣質量數據的數據類型:\")\n",
    "print(air_quality.dtypes)"
   ]
  },
  {
   "cell_type": "code",
   "execution_count": 7,
   "id": "83e56632",
   "metadata": {},
   "outputs": [
    {
     "name": "stdout",
     "output_type": "stream",
     "text": [
      "糖尿病數據集 (共 768 行, 9 列):\n",
      "   Pregnant  Glucose  Diastolic_BP Skin_Fold  Serum_Insulin   BMI  \\\n",
      "0         6    129.0          90.0         7          326.0  19.6   \n",
      "1        12     92.0          62.0         7          258.0  27.6   \n",
      "2         1     90.0          68.0         8            NaN  24.5   \n",
      "3         1    109.0          60.0         8          182.0  25.4   \n",
      "4         1     73.0          50.0        10            NaN  23.0   \n",
      "\n",
      "   Diabetes_Pedigree  Age  Class  \n",
      "0              0.582   60      0  \n",
      "1              0.926   44      1  \n",
      "2              1.138   36      0  \n",
      "3              0.947   21      0  \n",
      "4              0.248   21      0  \n",
      "\n",
      "糖尿病數據集中每列的缺失值數量:\n",
      "Pregnant               0\n",
      "Glucose                5\n",
      "Diastolic_BP          35\n",
      "Skin_Fold              0\n",
      "Serum_Insulin        374\n",
      "BMI                    0\n",
      "Diabetes_Pedigree      0\n",
      "Age                    0\n",
      "Class                  0\n",
      "dtype: int64\n"
     ]
    }
   ],
   "source": [
    "# 2.3 讀取 pima-indians-diabetes.csv 數據集\n",
    "diabetes_file = os.path.join(data_dir, 'pima-indians-diabetes.csv')\n",
    "diabetes = pd.read_csv(diabetes_file)\n",
    "\n",
    "print(f\"糖尿病數據集 (共 {diabetes.shape[0]} 行, {diabetes.shape[1]} 列):\")\n",
    "print(diabetes.head())\n",
    "\n",
    "# 檢查是否有缺失值 (NaN)\n",
    "print(\"\\n糖尿病數據集中每列的缺失值數量:\")\n",
    "print(diabetes.isna().sum())"
   ]
  },
  {
   "cell_type": "code",
   "execution_count": 8,
   "id": "87e9a9b8",
   "metadata": {},
   "outputs": [
    {
     "name": "stdout",
     "output_type": "stream",
     "text": [
      "使用自定義列名讀取糖尿病數據集:\n",
      "  Pregnancies  Glucose BloodPressure SkinThickness        Insulin   BMI  \\\n",
      "0    Pregnant  Glucose  Diastolic_BP     Skin_Fold  Serum_Insulin   BMI   \n",
      "1           6      129            90             7            326  19.6   \n",
      "2          12       92            62             7            258  27.6   \n",
      "3           1       90            68             8            NaN  24.5   \n",
      "4           1      109            60             8            182  25.4   \n",
      "\n",
      "  DiabetesPedigreeFunction  Age Outcome  \n",
      "0        Diabetes_Pedigree  Age   Class  \n",
      "1                    0.582   60       0  \n",
      "2                    0.926   44       1  \n",
      "3                    1.138   36       0  \n",
      "4                    0.947   21       0  \n",
      "\n",
      "跳過前 5 行讀取糖尿病數據集:\n",
      "   1     73    50  10  Unnamed: 4    23  0.248  21  0\n",
      "0  2  108.0  62.0  10       278.0  25.3  0.881  22  0\n",
      "1  1   99.0  58.0  10         NaN  25.4  0.551  21  0\n",
      "2  0   74.0  52.0  10        36.0  27.8  0.269  22  0\n",
      "3  3  113.0  50.0  10        85.0  29.5  0.626  25  0\n",
      "4  3   99.0  80.0  11        64.0  19.3  0.284  30  0\n"
     ]
    }
   ],
   "source": [
    "# 2.4 使用更多 read_csv 參數\n",
    "# 假設 pima-indians-diabetes.csv 的第一行不是標題\n",
    "diabetes_no_header = pd.read_csv(diabetes_file, header=None, \n",
    "                               names=['Pregnancies', 'Glucose', 'BloodPressure', 'SkinThickness', \n",
    "                                      'Insulin', 'BMI', 'DiabetesPedigreeFunction', 'Age', 'Outcome'])\n",
    "\n",
    "print(\"使用自定義列名讀取糖尿病數據集:\")\n",
    "print(diabetes_no_header.head())\n",
    "\n",
    "# 使用 skiprows 參數跳過前 5 行\n",
    "diabetes_skip = pd.read_csv(diabetes_file, skiprows=5)\n",
    "print(\"\\n跳過前 5 行讀取糖尿病數據集:\")\n",
    "print(diabetes_skip.head())"
   ]
  },
  {
   "cell_type": "markdown",
   "id": "df29874f",
   "metadata": {},
   "source": [
    "解說:\n",
    "- Pandas 的 `read_csv()` 函數有許多參數可以控制讀取行為\n",
    "- `header=None` 表示文件沒有標題行，可以通過 `names` 參數提供列名\n",
    "- `skiprows` 參數可以跳過指定數量的行或特定行\n",
    "- 其他常用參數包括 `sep`（分隔符）、`dtype`（指定列的數據類型）\n",
    "- 靈活運用這些參數可以處理各種格式的 CSV 文件"
   ]
  },
  {
   "cell_type": "markdown",
   "id": "03ab1a00",
   "metadata": {},
   "source": [
    "\n",
    "### 📊 3. Excel 檔案的讀寫\n",
    "\n",
    "Excel 檔案在商業環境中非常普遍，Pandas 提供了與 Excel 進行交互的功能。"
   ]
  },
  {
   "cell_type": "code",
   "execution_count": 9,
   "id": "24dadbd5",
   "metadata": {},
   "outputs": [
    {
     "name": "stdout",
     "output_type": "stream",
     "text": [
      "已將 Titanic 子集保存到 Excel 文件\n",
      "已創建包含多個數據集的 Excel 檔案\n"
     ]
    }
   ],
   "source": [
    "# 3.1 將數據保存為 Excel 檔案\n",
    "titanic_subset.to_excel('titanic_subset.xlsx', sheet_name='Titanic', index=False)\n",
    "print(\"已將 Titanic 子集保存到 Excel 文件\")\n",
    "\n",
    "# 3.2 創建多個工作表的 Excel 檔案\n",
    "with pd.ExcelWriter('multiple_datasets.xlsx') as writer:\n",
    "    titanic_subset.to_excel(writer, sheet_name='Titanic', index=False)\n",
    "    air_quality.to_excel(writer, sheet_name='Air Quality', index=False)\n",
    "    diabetes.to_excel(writer, sheet_name='Diabetes', index=False)\n",
    "\n",
    "print(\"已創建包含多個數據集的 Excel 檔案\")"
   ]
  },
  {
   "cell_type": "code",
   "execution_count": 10,
   "id": "237427ea",
   "metadata": {},
   "outputs": [
    {
     "name": "stdout",
     "output_type": "stream",
     "text": [
      "從 Excel 讀取的 Titanic 數據:\n",
      "   PassengerId  Survived  Pclass  \\\n",
      "0            1         0       3   \n",
      "1            2         1       1   \n",
      "2            3         1       3   \n",
      "3            4         1       1   \n",
      "4            5         0       3   \n",
      "\n",
      "                                                Name     Sex   Age    Fare  \n",
      "0                            Braund, Mr. Owen Harris    male  22.0   7.250  \n",
      "1  Cumings, Mrs. John Bradley (Florence Briggs Th...  female  38.0  71.283  \n",
      "2                             Heikkinen, Miss. Laina  female  26.0   7.925  \n",
      "3       Futrelle, Mrs. Jacques Heath (Lily May Peel)  female  35.0  53.100  \n",
      "4                           Allen, Mr. William Henry    male  35.0   8.050  \n",
      "\n",
      "從多工作表 Excel 讀取的空氣質量數據:\n",
      "         Date  Ozone  Solar  Wind  Temp\n",
      "0  1976-05-01   41.0  190.0   7.4    67\n",
      "1  1976-05-02   36.0  118.0   8.0    72\n",
      "2  1976-05-03   12.0  149.0  12.6    74\n",
      "3  1976-05-04   18.0  313.0  11.5    62\n",
      "4  1976-05-05    NaN    NaN  14.3    56\n",
      "\n",
      "Excel 檔案中的所有工作表:\n",
      "- Titanic: 891 行, 7 列\n",
      "- Air Quality: 153 行, 5 列\n",
      "- Diabetes: 768 行, 9 列\n"
     ]
    }
   ],
   "source": [
    "# 3.3 從 Excel 檔案讀取數據\n",
    "excel_data = pd.read_excel('titanic_subset.xlsx')\n",
    "print(\"從 Excel 讀取的 Titanic 數據:\")\n",
    "print(excel_data.head())\n",
    "\n",
    "# 3.4 讀取特定工作表\n",
    "multi_excel_data = pd.read_excel('multiple_datasets.xlsx', sheet_name='Air Quality')\n",
    "print(\"\\n從多工作表 Excel 讀取的空氣質量數據:\")\n",
    "print(multi_excel_data.head())\n",
    "\n",
    "# 3.5 讀取所有工作表\n",
    "all_sheets = pd.read_excel('multiple_datasets.xlsx', sheet_name=None)\n",
    "print(\"\\nExcel 檔案中的所有工作表:\")\n",
    "for sheet_name, sheet_data in all_sheets.items():\n",
    "    print(f\"- {sheet_name}: {len(sheet_data)} 行, {len(sheet_data.columns)} 列\")"
   ]
  },
  {
   "cell_type": "markdown",
   "id": "6c1936e9",
   "metadata": {},
   "source": [
    "解說:\n",
    "- Excel 檔案可以包含多個工作表，適合組織相關的數據\n",
    "- `to_excel()` 方法將 DataFrame 保存為 Excel 檔案\n",
    "- 使用 `ExcelWriter` 可以創建包含多個工作表的 Excel 檔案\n",
    "- `read_excel()` 用於讀取 Excel 檔案的數據\n",
    "- 使用 `sheet_name` 參數可以指定讀取特定工作表\n",
    "- 設置 `sheet_name=None` 將讀取所有工作表，返回字典\n",
    "- 與 CSV 相比，Excel 支持更豐富的格式和多工作表，但文件大小通常更大"
   ]
  },
  {
   "cell_type": "markdown",
   "id": "a4e31fa5",
   "metadata": {},
   "source": [
    "\n",
    "### 📊 4. JSON 檔案的讀寫\n",
    "\n",
    "JSON (JavaScript Object Notation) 是一種輕量級的數據交換格式，廣泛用於 Web 應用和 API。"
   ]
  },
  {
   "cell_type": "code",
   "execution_count": 11,
   "id": "a8b74e02",
   "metadata": {},
   "outputs": [
    {
     "name": "stdout",
     "output_type": "stream",
     "text": [
      "DataFrame 轉換為 JSON 字符串:\n",
      "{\"PassengerId\":{\"0\":1,\"1\":2,\"2\":3,\"3\":4,\"4\":5},\"Survived\":{\"0\":0,\"1\":1,\"2\":1,\"3\":1,\"4\":0},\"Pclass\":{\"0\":3,\"1\":1,\"2\":3,\"3\":1,\"4\":3},\"Name\":{\"0\":\"Braund, Mr. Owen Harris\",\"1\":\"Cumings, Mrs. John Bradley...\n",
      "\n",
      "已將 Titanic 子集保存到 titanic_subset.json\n",
      "已將 Titanic 子集保存到易讀格式的 titanic_pretty.json\n"
     ]
    }
   ],
   "source": [
    "# 4.1 將 DataFrame 轉換為 JSON 字符串\n",
    "json_str = titanic_subset.head().to_json()\n",
    "print(\"DataFrame 轉換為 JSON 字符串:\")\n",
    "print(json_str[:200] + \"...\") # 只顯示前200個字符\n",
    "\n",
    "# 4.2 寫入 JSON 檔案\n",
    "titanic_subset.head(20).to_json('titanic_subset.json')\n",
    "print(\"\\n已將 Titanic 子集保存到 titanic_subset.json\")\n",
    "\n",
    "# 4.3 寫入格式化的 JSON 檔案\n",
    "titanic_subset.head(20).to_json('titanic_pretty.json', orient='records', indent=4)\n",
    "print(\"已將 Titanic 子集保存到易讀格式的 titanic_pretty.json\")"
   ]
  },
  {
   "cell_type": "code",
   "execution_count": 12,
   "id": "1eed37e9",
   "metadata": {},
   "outputs": [
    {
     "name": "stdout",
     "output_type": "stream",
     "text": [
      "從 JSON 讀取的數據:\n",
      "   PassengerId  Survived  Pclass  \\\n",
      "0            1         0       3   \n",
      "1            2         1       1   \n",
      "2            3         1       3   \n",
      "3            4         1       1   \n",
      "4            5         0       3   \n",
      "\n",
      "                                                Name     Sex   Age    Fare  \n",
      "0                            Braund, Mr. Owen Harris    male  22.0   7.250  \n",
      "1  Cumings, Mrs. John Bradley (Florence Briggs Th...  female  38.0  71.283  \n",
      "2                             Heikkinen, Miss. Laina  female  26.0   7.925  \n",
      "3       Futrelle, Mrs. Jacques Heath (Lily May Peel)  female  35.0  53.100  \n",
      "4                           Allen, Mr. William Henry    male  35.0   8.050  \n",
      "\n",
      "從格式化 JSON 讀取的數據:\n",
      "   PassengerId  Survived  Pclass  \\\n",
      "0            1         0       3   \n",
      "1            2         1       1   \n",
      "2            3         1       3   \n",
      "3            4         1       1   \n",
      "4            5         0       3   \n",
      "\n",
      "                                                Name     Sex   Age    Fare  \n",
      "0                            Braund, Mr. Owen Harris    male  22.0   7.250  \n",
      "1  Cumings, Mrs. John Bradley (Florence Briggs Th...  female  38.0  71.283  \n",
      "2                             Heikkinen, Miss. Laina  female  26.0   7.925  \n",
      "3       Futrelle, Mrs. Jacques Heath (Lily May Peel)  female  35.0  53.100  \n",
      "4                           Allen, Mr. William Henry    male  35.0   8.050  \n"
     ]
    }
   ],
   "source": [
    "# 4.4 從 JSON 檔案讀取數據\n",
    "df_from_json = pd.read_json('titanic_subset.json')\n",
    "print(\"從 JSON 讀取的數據:\")\n",
    "print(df_from_json.head())\n",
    "\n",
    "# 4.5 從格式化的 JSON 檔案讀取\n",
    "df_from_pretty_json = pd.read_json('titanic_pretty.json', orient='records')\n",
    "print(\"\\n從格式化 JSON 讀取的數據:\")\n",
    "print(df_from_pretty_json.head())"
   ]
  },
  {
   "cell_type": "markdown",
   "id": "2bacb9a2",
   "metadata": {},
   "source": [
    "解說:\n",
    "- JSON 是 Web 和 API 中常用的數據交換格式\n",
    "- `to_json()` 方法將 DataFrame 轉換為 JSON 格式\n",
    "- `orient` 參數定義了 JSON 的結構，'records' 使每行成為單獨的對象\n",
    "- `indent` 參數使 JSON 更易讀，但會增加文件大小\n",
    "- `read_json()` 用於從 JSON 讀取數據到 DataFrame\n",
    "- JSON 非常適合與 Web 應用和 API 集成，但對於大型數據集可能效率較低"
   ]
  },
  {
   "cell_type": "markdown",
   "id": "322066ff",
   "metadata": {},
   "source": [
    "\n",
    "### 📊 5. 基本索引操作\n",
    "\n",
    "索引是 Pandas 的重要特性，可以顯著影響數據讀寫和後續處理。"
   ]
  },
  {
   "cell_type": "code",
   "execution_count": 13,
   "id": "dfb57644",
   "metadata": {},
   "outputs": [
    {
     "name": "stdout",
     "output_type": "stream",
     "text": [
      "使用 PassengerId 作為索引的 Titanic 數據:\n",
      "             Survived  Pclass  \\\n",
      "PassengerId                     \n",
      "1                   0       3   \n",
      "2                   1       1   \n",
      "3                   1       3   \n",
      "4                   1       1   \n",
      "5                   0       3   \n",
      "\n",
      "                                                          Name     Sex   Age  \\\n",
      "PassengerId                                                                    \n",
      "1                                      Braund, Mr. Owen Harris    male  22.0   \n",
      "2            Cumings, Mrs. John Bradley (Florence Briggs Th...  female  38.0   \n",
      "3                                       Heikkinen, Miss. Laina  female  26.0   \n",
      "4                 Futrelle, Mrs. Jacques Heath (Lily May Peel)  female  35.0   \n",
      "5                                     Allen, Mr. William Henry    male  35.0   \n",
      "\n",
      "               Fare  \n",
      "PassengerId          \n",
      "1             7.250  \n",
      "2            71.283  \n",
      "3             7.925  \n",
      "4            53.100  \n",
      "5             8.050  \n",
      "\n",
      "讀取帶索引的 CSV:\n",
      "             Survived  Pclass  \\\n",
      "PassengerId                     \n",
      "1                   0       3   \n",
      "2                   1       1   \n",
      "3                   1       3   \n",
      "4                   1       1   \n",
      "5                   0       3   \n",
      "\n",
      "                                                          Name     Sex   Age  \\\n",
      "PassengerId                                                                    \n",
      "1                                      Braund, Mr. Owen Harris    male  22.0   \n",
      "2            Cumings, Mrs. John Bradley (Florence Briggs Th...  female  38.0   \n",
      "3                                       Heikkinen, Miss. Laina  female  26.0   \n",
      "4                 Futrelle, Mrs. Jacques Heath (Lily May Peel)  female  35.0   \n",
      "5                                     Allen, Mr. William Henry    male  35.0   \n",
      "\n",
      "               Fare  \n",
      "PassengerId          \n",
      "1             7.250  \n",
      "2            71.283  \n",
      "3             7.925  \n",
      "4            53.100  \n",
      "5             8.050  \n",
      "\n",
      "重設索引後的 DataFrame:\n",
      "   PassengerId  Survived  Pclass  \\\n",
      "0            1         0       3   \n",
      "1            2         1       1   \n",
      "2            3         1       3   \n",
      "3            4         1       1   \n",
      "4            5         0       3   \n",
      "\n",
      "                                                Name     Sex   Age    Fare  \n",
      "0                            Braund, Mr. Owen Harris    male  22.0   7.250  \n",
      "1  Cumings, Mrs. John Bradley (Florence Briggs Th...  female  38.0  71.283  \n",
      "2                             Heikkinen, Miss. Laina  female  26.0   7.925  \n",
      "3       Futrelle, Mrs. Jacques Heath (Lily May Peel)  female  35.0  53.100  \n",
      "4                           Allen, Mr. William Henry    male  35.0   8.050  \n"
     ]
    }
   ],
   "source": [
    "# 5.1 設置索引\n",
    "titanic_with_id_index = titanic_subset.set_index('PassengerId')\n",
    "print(\"使用 PassengerId 作為索引的 Titanic 數據:\")\n",
    "print(titanic_with_id_index.head())\n",
    "\n",
    "# 5.2 保存與加載帶索引的檔案\n",
    "titanic_with_id_index.to_csv('titanic_with_index.csv')\n",
    "loaded_df = pd.read_csv('titanic_with_index.csv', index_col=0)\n",
    "print(\"\\n讀取帶索引的 CSV:\")\n",
    "print(loaded_df.head())\n",
    "\n",
    "# 5.3 重設索引\n",
    "reset_index_df = titanic_with_id_index.reset_index()\n",
    "print(\"\\n重設索引後的 DataFrame:\")\n",
    "print(reset_index_df.head())"
   ]
  },
  {
   "cell_type": "code",
   "execution_count": 14,
   "id": "b27a1df5",
   "metadata": {},
   "outputs": [
    {
     "name": "stdout",
     "output_type": "stream",
     "text": [
      "使用多級索引的 Titanic 數據:\n",
      "               PassengerId  Survived  \\\n",
      "Pclass Sex                             \n",
      "3      male              1         0   \n",
      "1      female            2         1   \n",
      "3      female            3         1   \n",
      "1      female            4         1   \n",
      "3      male              5         0   \n",
      "\n",
      "                                                            Name   Age    Fare  \n",
      "Pclass Sex                                                                      \n",
      "3      male                              Braund, Mr. Owen Harris  22.0   7.250  \n",
      "1      female  Cumings, Mrs. John Bradley (Florence Briggs Th...  38.0  71.283  \n",
      "3      female                             Heikkinen, Miss. Laina  26.0   7.925  \n",
      "1      female       Futrelle, Mrs. Jacques Heath (Lily May Peel)  35.0  53.100  \n",
      "3      male                             Allen, Mr. William Henry  35.0   8.050  \n",
      "\n",
      "讀取帶多級索引的 CSV:\n",
      "               PassengerId  Survived  \\\n",
      "Pclass Sex                             \n",
      "3      male              1         0   \n",
      "1      female            2         1   \n",
      "3      female            3         1   \n",
      "1      female            4         1   \n",
      "3      male              5         0   \n",
      "\n",
      "                                                            Name   Age    Fare  \n",
      "Pclass Sex                                                                      \n",
      "3      male                              Braund, Mr. Owen Harris  22.0   7.250  \n",
      "1      female  Cumings, Mrs. John Bradley (Florence Briggs Th...  38.0  71.283  \n",
      "3      female                             Heikkinen, Miss. Laina  26.0   7.925  \n",
      "1      female       Futrelle, Mrs. Jacques Heath (Lily May Peel)  35.0  53.100  \n",
      "3      male                             Allen, Mr. William Henry  35.0   8.050  \n"
     ]
    }
   ],
   "source": [
    "# 5.4 設置多級索引\n",
    "# 使用 Pclass 和 Sex 作為多級索引\n",
    "multi_index_df = titanic_subset.set_index(['Pclass', 'Sex'])\n",
    "print(\"使用多級索引的 Titanic 數據:\")\n",
    "print(multi_index_df.head())\n",
    "\n",
    "# 5.5 保存與加載帶多級索引的檔案\n",
    "multi_index_df.to_csv('titanic_multi_index.csv')\n",
    "loaded_multi_index = pd.read_csv('titanic_multi_index.csv', index_col=[0, 1])\n",
    "print(\"\\n讀取帶多級索引的 CSV:\")\n",
    "print(loaded_multi_index.head())"
   ]
  },
  {
   "cell_type": "markdown",
   "id": "58bc6845",
   "metadata": {},
   "source": [
    "解說:\n",
    "- `set_index()` 方法將 DataFrame 的一列或多列設為索引\n",
    "- 使用索引可以更快速地查找和選擇數據\n",
    "- 保存檔案時，索引會默認一起保存\n",
    "- 讀取檔案時，可以使用 `index_col` 指定索引列\n",
    "- `reset_index()` 將索引轉換回普通列\n",
    "- 多級索引可以提供更靈活的數據結構，但可能增加複雜性\n",
    "- 適當的索引設置可以更容易地處理時間序列和分層數據"
   ]
  },
  {
   "cell_type": "markdown",
   "id": "9e862598",
   "metadata": {},
   "source": [
    "\n",
    "### 📋 6. 總結"
   ]
  },
  {
   "cell_type": "markdown",
   "id": "dddaac4b",
   "metadata": {},
   "source": [
    "\n",
    "#### 6.1 檔案讀寫功能概覽\n",
    "\n",
    "- **CSV 檔案**:\n",
    "  - 讀取: `pd.read_csv()`\n",
    "  - 寫入: `df.to_csv()`\n",
    "  - 優點: 簡單, 通用, 文本格式\n",
    "  - 缺點: 不支持多工作表, 不保留格式\n",
    "  \n",
    "- **Excel 檔案**:\n",
    "  - 讀取: `pd.read_excel()`\n",
    "  - 寫入: `df.to_excel()`\n",
    "  - 優點: 支持多工作表, 保留格式\n",
    "  - 缺點: 文件較大, 需要額外套件\n",
    "  \n",
    "- **JSON 檔案**:\n",
    "  - 讀取: `pd.read_json()`\n",
    "  - 寫入: `df.to_json()`\n",
    "  - 優點: Web友好, 支持嵌套結構\n",
    "  - 缺點: 可能較大, 複雜結構難處理"
   ]
  },
  {
   "cell_type": "markdown",
   "id": "5744a531",
   "metadata": {},
   "source": [
    "\n",
    "#### 6.2 檔案讀寫注意事項\n",
    "\n",
    "- 讀取前確認檔案存在並可訪問\n",
    "- 注意文件編碼 (特別是處理非英文字符)\n",
    "- 檢查是否需要保存或讀取索引\n",
    "- 選擇適合數據特性和使用場景的檔案格式\n",
    "- 處理大型檔案時考慮分批讀取"
   ]
  },
  {
   "cell_type": "markdown",
   "id": "6fc5e25b",
   "metadata": {},
   "source": [
    "\n",
    "#### 6.3 下一步學習\n",
    "\n",
    "- 學習處理更多檔案格式 (SQL, HDF5, Parquet等)\n",
    "- 探索更多讀寫參數以處理複雜情況\n",
    "- 理解如何處理缺失值和不同數據類型\n",
    "- 學習數據清洗和準備技術\n",
    "- 掌握大型檔案的高效讀寫方法"
   ]
  }
 ],
 "metadata": {
  "kernelspec": {
   "display_name": "Python 3",
   "language": "python",
   "name": "python3"
  },
  "language_info": {
   "codemirror_mode": {
    "name": "ipython",
    "version": 3
   },
   "file_extension": ".py",
   "mimetype": "text/x-python",
   "name": "python",
   "nbconvert_exporter": "python",
   "pygments_lexer": "ipython3",
   "version": "3.11.9"
  }
 },
 "nbformat": 4,
 "nbformat_minor": 5
}
