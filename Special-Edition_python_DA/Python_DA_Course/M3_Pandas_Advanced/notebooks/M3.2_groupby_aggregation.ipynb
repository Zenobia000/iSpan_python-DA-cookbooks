{
 "cells": [
  {
   "cell_type": "markdown",
   "id": "6f7ef3e5",
   "metadata": {},
   "source": [
    "\n",
    "# 📘 M3.2 Pandas 分組與聚合進階應用\n",
    "\n",
    "本教學將深入探討 Pandas 中 `groupby()` 操作的進階應用與聚合函數的多種用法。\n",
    "分組與聚合是數據分析中的核心操作，掌握這些進階技巧可以讓您更高效地從複雜數據中提取洞察。"
   ]
  },
  {
   "cell_type": "markdown",
   "id": "f854cbd8",
   "metadata": {},
   "source": [
    "\n",
    "## 🎯 教學目標\n",
    "\n",
    "- 🔍 深入理解 groupby() 操作的內部機制與優化\n",
    "- 🔄 掌握多種聚合方法與函數的綜合應用\n",
    "- 📊 學習創建與使用複雜的自定義聚合函數\n",
    "- 🧮 理解分組轉換與過濾的高級技巧\n",
    "- 🛠️ 運用分組操作解決實際業務問題"
   ]
  },
  {
   "cell_type": "markdown",
   "id": "4610e21e",
   "metadata": {},
   "source": [
    "\n",
    "## 🧰 1. 環境設置"
   ]
  },
  {
   "cell_type": "code",
   "execution_count": 52,
   "id": "0b70289e",
   "metadata": {},
   "outputs": [],
   "source": [
    "import numpy as np\n",
    "import pandas as pd\n",
    "import matplotlib.pyplot as plt\n",
    "import seaborn as sns\n",
    "from functools import partial\n",
    "\n",
    "# 設置中文字型\n",
    "plt.rcParams['font.sans-serif'] = ['Microsoft JhengHei']  # 設定微軟正黑體\n",
    "plt.rcParams['axes.unicode_minus'] = False  # 用來正常顯示負號\n",
    "\n",
    "\n",
    "# 設置顯示選項\n",
    "pd.set_option('display.max_rows', 15)\n",
    "pd.set_option('display.max_columns', 12)\n",
    "pd.set_option('display.width', 100)\n",
    "pd.set_option('display.precision', 2)"
   ]
  },
  {
   "cell_type": "code",
   "execution_count": 53,
   "id": "dc7d16f3",
   "metadata": {},
   "outputs": [],
   "source": [
    "\n",
    "## 📊 2. GroupBy 進階操作"
   ]
  },
  {
   "cell_type": "code",
   "execution_count": 54,
   "id": "9b21a7e8",
   "metadata": {},
   "outputs": [
    {
     "name": "stdout",
     "output_type": "stream",
     "text": [
      "銷售資料預覽:\n",
      "   SaleID       Date  ProductID  Quantity  CustomerID StoreID  Discount     Category   Supplier  \\\n",
      "0       1 2023-01-01         42         2          10  Store1      0.05  Electronics  SupplierC   \n",
      "1       2 2023-01-02         70         7           6  Store2      0.05        Books  SupplierA   \n",
      "2       3 2023-01-03         15         5          15  Store3      0.05        Books  SupplierD   \n",
      "3       4 2023-01-04         54         6          16  Store2      0.10         Home  SupplierA   \n",
      "4       5 2023-01-05         60         2          17  Store1      0.15     Clothing  SupplierD   \n",
      "\n",
      "    Price  Stock  TotalAmount  \n",
      "0  228.04     94       433.28  \n",
      "1  410.46     59      2729.56  \n",
      "2  156.61     63       743.90  \n",
      "3  546.03      1      2948.56  \n",
      "4  268.22     47       455.97  \n",
      "\n",
      "資料集維度: (1000, 12)\n"
     ]
    }
   ],
   "source": [
    "# 創建較複雜的示例數據集\n",
    "np.random.seed(42)\n",
    "n_rows = 1000\n",
    "\n",
    "# 產品資料\n",
    "products = pd.DataFrame({\n",
    "    'ProductID': range(1, 101),\n",
    "    'Category': np.random.choice(['Electronics', 'Clothing', 'Food', 'Books', 'Home'], 100),\n",
    "    'Supplier': np.random.choice(['SupplierA', 'SupplierB', 'SupplierC', 'SupplierD'], 100),\n",
    "    'Price': np.random.uniform(10, 1000, 100).round(2),\n",
    "    'Stock': np.random.randint(0, 100, 100)\n",
    "})\n",
    "\n",
    "# 銷售資料\n",
    "sales = pd.DataFrame({\n",
    "    'SaleID': range(1, n_rows + 1),\n",
    "    'Date': pd.date_range(start='2023-01-01', periods=n_rows),\n",
    "    'ProductID': np.random.choice(products['ProductID'], n_rows),\n",
    "    'Quantity': np.random.randint(1, 10, n_rows),\n",
    "    'CustomerID': np.random.randint(1, 21, n_rows),\n",
    "    'StoreID': np.random.choice(['Store1', 'Store2', 'Store3', 'Store4'], n_rows),\n",
    "    'Discount': np.random.choice([0, 0.05, 0.1, 0.15, 0.2], n_rows),\n",
    "})\n",
    "\n",
    "# 合併產品與銷售資料\n",
    "sales_data = pd.merge(sales, products, on='ProductID')\n",
    "\n",
    "# 計算每筆銷售的總金額\n",
    "sales_data['TotalAmount'] = sales_data['Quantity'] * sales_data['Price'] * (1 - sales_data['Discount'])\n",
    "\n",
    "print(\"銷售資料預覽:\")\n",
    "print(sales_data.head())\n",
    "print(f\"\\n資料集維度: {sales_data.shape}\")"
   ]
  },
  {
   "cell_type": "markdown",
   "id": "022076ad",
   "metadata": {},
   "source": [
    "\n",
    "### 2.1 GroupBy 對象的深入理解"
   ]
  },
  {
   "cell_type": "code",
   "execution_count": 55,
   "id": "cf084d76",
   "metadata": {},
   "outputs": [
    {
     "name": "stdout",
     "output_type": "stream",
     "text": [
      "GroupBy 對象類型: <class 'pandas.core.groupby.generic.DataFrameGroupBy'>\n",
      "GroupBy 對象包含的群組: ['Store1', 'Store2', 'Store3', 'Store4']\n",
      "第一個群組的索引: [0, 4, 5, 8, 14] ...\n",
      "\n",
      "Store1的資料 (前5行):\n",
      "    SaleID       Date  ProductID  Quantity  CustomerID StoreID  Discount     Category   Supplier  \\\n",
      "0        1 2023-01-01         42         2          10  Store1      0.05  Electronics  SupplierC   \n",
      "4        5 2023-01-05         60         2          17  Store1      0.15     Clothing  SupplierD   \n",
      "5        6 2023-01-06         97         5           8  Store1      0.10         Home  SupplierC   \n",
      "8        9 2023-01-09         60         6           2  Store1      0.05     Clothing  SupplierD   \n",
      "14      15 2023-01-15         47         7           4  Store1      0.00     Clothing  SupplierA   \n",
      "\n",
      "     Price  Stock  TotalAmount  \n",
      "0   228.04     94       433.28  \n",
      "4   268.22     47       455.97  \n",
      "5   593.97     57      2672.87  \n",
      "8   268.22     47      1528.85  \n",
      "14  941.12     23      6587.84  \n"
     ]
    }
   ],
   "source": [
    "# 創建 GroupBy 對象並查看其結構\n",
    "store_group = sales_data.groupby('StoreID')\n",
    "print(\"GroupBy 對象類型:\", type(store_group))\n",
    "print(\"GroupBy 對象包含的群組:\", list(store_group.groups.keys()))\n",
    "print(\"第一個群組的索引:\", list(store_group.groups['Store1'])[:5], \"...\")\n",
    "\n",
    "# 使用 get_group() 方法獲取特定群組\n",
    "store1_data = store_group.get_group('Store1')\n",
    "print(\"\\nStore1的資料 (前5行):\")\n",
    "print(store1_data.head())"
   ]
  },
  {
   "cell_type": "code",
   "execution_count": 56,
   "id": "8303542e",
   "metadata": {},
   "outputs": [
    {
     "name": "stdout",
     "output_type": "stream",
     "text": [
      "遍歷群組 (僅顯示每個群組的前2行):\n",
      "\n",
      "Store1 群組:\n",
      "   SaleID       Date  ProductID  Quantity  CustomerID StoreID  Discount     Category   Supplier  \\\n",
      "0       1 2023-01-01         42         2          10  Store1      0.05  Electronics  SupplierC   \n",
      "4       5 2023-01-05         60         2          17  Store1      0.15     Clothing  SupplierD   \n",
      "\n",
      "    Price  Stock  TotalAmount  \n",
      "0  228.04     94       433.28  \n",
      "4  268.22     47       455.97  \n",
      "\n",
      "Store2 群組:\n",
      "   SaleID       Date  ProductID  Quantity  CustomerID StoreID  Discount Category   Supplier  \\\n",
      "1       2 2023-01-02         70         7           6  Store2      0.05    Books  SupplierA   \n",
      "3       4 2023-01-04         54         6          16  Store2      0.10     Home  SupplierA   \n",
      "\n",
      "    Price  Stock  TotalAmount  \n",
      "1  410.46     59      2729.56  \n",
      "3  546.03      1      2948.56  \n"
     ]
    }
   ],
   "source": [
    "# 查看 GroupBy 對象的組成\n",
    "# 使用 for 循環遍歷群組\n",
    "print(\"遍歷群組 (僅顯示每個群組的前2行):\")\n",
    "for name, group in store_group:\n",
    "    print(f\"\\n{name} 群組:\")\n",
    "    print(group.head(2))\n",
    "    if name == 'Store2':  # 只顯示部分群組作為示例\n",
    "        break"
   ]
  },
  {
   "cell_type": "markdown",
   "id": "78d1d24d",
   "metadata": {},
   "source": [
    "\n",
    "### 2.2 多種聚合函數的組合應用"
   ]
  },
  {
   "cell_type": "code",
   "execution_count": 57,
   "id": "0909fc31",
   "metadata": {},
   "outputs": [
    {
     "name": "stdout",
     "output_type": "stream",
     "text": [
      "多級分組與多種聚合函數組合:\n",
      "                    TotalAmount                                  Quantity           Discount     \n",
      "                            sum     mean count   median      std      sum  mean max     mean  max\n",
      "StoreID Category                                                                                 \n",
      "Store1  Books         218542.24  2801.82    78  2013.48  2093.79      418  5.36   9     0.10  0.2\n",
      "        Clothing      172552.50  2783.10    62  2351.95  2081.05      281  4.53   9     0.11  0.2\n",
      "        Electronics    59370.34  1263.20    47   888.39  1100.98      198  4.21   9     0.09  0.2\n",
      "        Food           93795.36  2344.88    40  2269.89  1604.15      179  4.47   9     0.10  0.2\n",
      "        Home          129591.33  2879.81    45  2449.90  2154.37      225  5.00   9     0.09  0.2\n",
      "...                         ...      ...   ...      ...      ...      ...   ...  ..      ...  ...\n",
      "Store4  Books         143143.40  2426.16    59  1902.40  1910.77      305  5.17   9     0.09  0.2\n",
      "        Clothing      131445.77  3056.88    43  2843.62  1851.06      227  5.28   9     0.09  0.2\n",
      "        Electronics    73498.88  1633.31    45  1279.94  1351.47      223  4.96   9     0.12  0.2\n",
      "        Food           99095.85  2202.13    45  1800.06  1454.32      241  5.36   9     0.11  0.2\n",
      "        Home          128191.48  2248.97    57  1815.21  1642.85      256  4.49   9     0.12  0.2\n",
      "\n",
      "[20 rows x 10 columns]\n"
     ]
    }
   ],
   "source": [
    "# 基本聚合操作的進階用法\n",
    "store_category_summary = sales_data.groupby(['StoreID', 'Category']).agg({\n",
    "    'TotalAmount': ['sum', 'mean', 'count', 'median', 'std'],\n",
    "    'Quantity': ['sum', 'mean', 'max'],\n",
    "    'Discount': ['mean', 'max']\n",
    "})\n",
    "\n",
    "print(\"多級分組與多種聚合函數組合:\")\n",
    "print(store_category_summary)"
   ]
  },
  {
   "cell_type": "code",
   "execution_count": 58,
   "id": "21fa8fd8",
   "metadata": {},
   "outputs": [
    {
     "name": "stdout",
     "output_type": "stream",
     "text": [
      "展平後的多級分組結果:\n",
      "  StoreID     Category  TotalAmount_sum  TotalAmount_mean  TotalAmount_count  TotalAmount_median  \\\n",
      "0  Store1        Books        218542.24           2801.82                 78             2013.48   \n",
      "1  Store1     Clothing        172552.50           2783.10                 62             2351.95   \n",
      "2  Store1  Electronics         59370.34           1263.20                 47              888.39   \n",
      "3  Store1         Food         93795.36           2344.88                 40             2269.89   \n",
      "4  Store1         Home        129591.33           2879.81                 45             2449.90   \n",
      "\n",
      "   TotalAmount_std  Quantity_sum  Quantity_mean  Quantity_max  Discount_mean  Discount_max  \n",
      "0          2093.79           418           5.36             9           0.10           0.2  \n",
      "1          2081.05           281           4.53             9           0.11           0.2  \n",
      "2          1100.98           198           4.21             9           0.09           0.2  \n",
      "3          1604.15           179           4.47             9           0.10           0.2  \n",
      "4          2154.37           225           5.00             9           0.09           0.2  \n"
     ]
    }
   ],
   "source": [
    "# 改進結果格式，展平多級列名\n",
    "store_category_flat = store_category_summary.reset_index()\n",
    "store_category_flat.columns = ['_'.join(col).strip('_') for col in store_category_flat.columns.values]\n",
    "print(\"展平後的多級分組結果:\")\n",
    "print(store_category_flat.head())"
   ]
  },
  {
   "cell_type": "code",
   "execution_count": 59,
   "id": "2c484d55",
   "metadata": {},
   "outputs": [
    {
     "name": "stdout",
     "output_type": "stream",
     "text": [
      "使用命名聚合的結果:\n",
      "                     total_sales  avg_sales  sales_count  total_quantity  avg_quantity  \\\n",
      "StoreID Category                                                                         \n",
      "Store1  Books          218542.24    2801.82           78             418          5.36   \n",
      "        Clothing       172552.50    2783.10           62             281          4.53   \n",
      "        Electronics     59370.34    1263.20           47             198          4.21   \n",
      "        Food            93795.36    2344.88           40             179          4.47   \n",
      "        Home           129591.33    2879.81           45             225          5.00   \n",
      "\n",
      "                     avg_discount  \n",
      "StoreID Category                   \n",
      "Store1  Books                0.10  \n",
      "        Clothing             0.11  \n",
      "        Electronics          0.09  \n",
      "        Food                 0.10  \n",
      "        Home                 0.09  \n"
     ]
    }
   ],
   "source": [
    "# 使用 named aggregation (Pandas 0.25+)\n",
    "named_agg = sales_data.groupby(['StoreID', 'Category']).agg(\n",
    "    total_sales=('TotalAmount', 'sum'),\n",
    "    avg_sales=('TotalAmount', 'mean'),\n",
    "    sales_count=('TotalAmount', 'count'),\n",
    "    total_quantity=('Quantity', 'sum'),\n",
    "    avg_quantity=('Quantity', 'mean'),\n",
    "    avg_discount=('Discount', 'mean')\n",
    ")\n",
    "\n",
    "print(\"使用命名聚合的結果:\")\n",
    "print(named_agg.head())"
   ]
  },
  {
   "cell_type": "markdown",
   "id": "a4913cec",
   "metadata": {},
   "source": [
    "\n",
    "### 2.3 高級自定義聚合函數"
   ]
  },
  {
   "cell_type": "code",
   "execution_count": 60,
   "id": "7251ca6f",
   "metadata": {},
   "outputs": [
    {
     "name": "stdout",
     "output_type": "stream",
     "text": [
      "使用 apply 的加權價格結果:\n",
      "      Category  WeightedPrice  WeightedDiscount\n",
      "0        Books         544.78              0.09\n",
      "1     Clothing         662.20              0.10\n",
      "2  Electronics         404.88              0.10\n",
      "3         Food         528.00              0.10\n",
      "4         Home         570.16              0.10\n"
     ]
    },
    {
     "name": "stderr",
     "output_type": "stream",
     "text": [
      "C:\\Users\\SUNNIE.GD.WENG\\AppData\\Local\\Temp\\ipykernel_30480\\1714491148.py:11: DeprecationWarning: DataFrameGroupBy.apply operated on the grouping columns. This behavior is deprecated, and in a future version of pandas the grouping columns will be excluded from the operation. Either pass `include_groups=False` to exclude the groupings or explicitly select the grouping columns after groupby to silence this warning.\n",
      "  grouped = sales_data.groupby('Category').apply(lambda x: pd.Series({\n"
     ]
    }
   ],
   "source": [
    "# 定義複雜自定義聚合函數\n",
    "def weighted_avg(group, value_col, weight_col):\n",
    "    \"\"\"Calculate weighted average.\"\"\"\n",
    "    return (group[value_col] * group[weight_col]).sum() / group[weight_col].sum()\n",
    "\n",
    "# Create partial function for weighted price\n",
    "weighted_price = partial(weighted_avg, value_col='Price', weight_col='Quantity')\n",
    "weighted_discount = partial(weighted_avg, value_col='Discount', weight_col='TotalAmount')\n",
    "\n",
    "# Apply the custom function using groupby and apply\n",
    "grouped = sales_data.groupby('Category').apply(lambda x: pd.Series({\n",
    "    'WeightedPrice': weighted_price(x),\n",
    "    'WeightedDiscount': weighted_discount(x)\n",
    "})).reset_index()\n",
    "\n",
    "print(\"使用 apply 的加權價格結果:\")\n",
    "print(grouped)"
   ]
  },
  {
   "cell_type": "code",
   "execution_count": 61,
   "id": "eee4c483",
   "metadata": {},
   "outputs": [
    {
     "name": "stdout",
     "output_type": "stream",
     "text": [
      "DataFrame 列名:\n",
      "Index(['SaleID', 'Date', 'ProductID', 'Quantity', 'CustomerID', 'StoreID', 'Discount', 'Category',\n",
      "       'Supplier', 'Price', 'Stock', 'TotalAmount'],\n",
      "      dtype='object')\n",
      "\n",
      "DataFrame 前幾行數據:\n",
      "   SaleID       Date  ProductID  Quantity  CustomerID StoreID  Discount     Category   Supplier  \\\n",
      "0       1 2023-01-01         42         2          10  Store1      0.05  Electronics  SupplierC   \n",
      "1       2 2023-01-02         70         7           6  Store2      0.05        Books  SupplierA   \n",
      "2       3 2023-01-03         15         5          15  Store3      0.05        Books  SupplierD   \n",
      "3       4 2023-01-04         54         6          16  Store2      0.10         Home  SupplierA   \n",
      "4       5 2023-01-05         60         2          17  Store1      0.15     Clothing  SupplierD   \n",
      "\n",
      "    Price  Stock  TotalAmount  \n",
      "0  228.04     94       433.28  \n",
      "1  410.46     59      2729.56  \n",
      "2  156.61     63       743.90  \n",
      "3  546.03      1      2948.56  \n",
      "4  268.22     47       455.97  \n"
     ]
    }
   ],
   "source": [
    "# 檢查 sales_data 的列名\n",
    "print(\"DataFrame 列名:\")\n",
    "print(sales_data.columns)\n",
    "\n",
    "# 打印前幾行數據以確認數據的完整性\n",
    "print(\"\\nDataFrame 前幾行數據:\")\n",
    "print(sales_data.head())"
   ]
  },
  {
   "cell_type": "code",
   "execution_count": 62,
   "id": "b1f16c3c",
   "metadata": {},
   "outputs": [
    {
     "name": "stdout",
     "output_type": "stream",
     "text": [
      "客製化Series統計方法:\n",
      "前3個最大價格的平均值: 997.76\n",
      "排除極值後的平均價格: 548.57\n"
     ]
    },
    {
     "name": "stderr",
     "output_type": "stream",
     "text": [
      "C:\\Users\\SUNNIE.GD.WENG\\AppData\\Local\\Temp\\ipykernel_30480\\2676925532.py:4: UserWarning: registration of accessor <class '__main__.CustomStats'> under name 'custom_stats' for type <class 'pandas.core.series.Series'> is overriding a preexisting attribute with the same name.\n",
      "  @register_series_accessor(\"custom_stats\")\n"
     ]
    }
   ],
   "source": [
    "# 使用裝飾器定義自定義聚合函數 (更具可讀性的方式)\n",
    "from pandas.api.extensions import register_series_accessor\n",
    "\n",
    "@register_series_accessor(\"custom_stats\")\n",
    "class CustomStats:\n",
    "    def __init__(self, series):\n",
    "        self._series = series\n",
    "        \n",
    "    def top_n_mean(self, n=3):\n",
    "        \"\"\"計算前n個最大值的平均值\"\"\"\n",
    "        return self._series.nlargest(n).mean()\n",
    "    \n",
    "    def excludes_extremes_mean(self):\n",
    "        \"\"\"計算排除最大值和最小值後的平均值\"\"\"\n",
    "        s = self._series.sort_values()\n",
    "        return s.iloc[1:-1].mean()\n",
    "\n",
    "# 測試自定義統計方法\n",
    "print(\"客製化Series統計方法:\")\n",
    "price_series = sales_data['Price']\n",
    "print(f\"前3個最大價格的平均值: {price_series.custom_stats.top_n_mean(3):.2f}\")\n",
    "print(f\"排除極值後的平均價格: {price_series.custom_stats.excludes_extremes_mean():.2f}\")"
   ]
  },
  {
   "cell_type": "code",
   "execution_count": 63,
   "id": "7ef6bf79",
   "metadata": {},
   "outputs": [
    {
     "name": "stdout",
     "output_type": "stream",
     "text": [
      "使用 lambda 函數的進階統計結果:\n",
      "            TotalAmount                                          Price                          \\\n",
      "                    sum     mean above_avg_count pct_above_500    mean price_range price_95pct   \n",
      "Category                                                                                         \n",
      "Books         671124.99  2532.55             108         87.92  542.89      940.87      981.66   \n",
      "Clothing      582736.14  2856.55              92         92.65  671.25      907.72      997.76   \n",
      "Electronics   309812.60  1760.30              72         76.14  411.82      879.15      893.43   \n",
      "Food          397173.07  2421.79              77         90.24  529.02      659.06      816.30   \n",
      "Home          467443.10  2447.35              78         89.01  567.86      920.27      976.85   \n",
      "\n",
      "            Quantity                      \n",
      "                 sum median_qty mode_qty  \n",
      "Category                                  \n",
      "Books           1355        5.0        9  \n",
      "Clothing         981        5.0        2  \n",
      "Electronics      857        5.0        2  \n",
      "Food             840        5.0        7  \n",
      "Home             920        5.0        5  \n"
     ]
    }
   ],
   "source": [
    "# 使用 lambda 函數進行複雜聚合操作\n",
    "advanced_stats = sales_data.groupby('Category').agg({\n",
    "    'TotalAmount': [\n",
    "        'sum', \n",
    "        'mean',\n",
    "        ('above_avg_count', lambda x: (x > x.mean()).sum()),\n",
    "        ('pct_above_500', lambda x: (x > 500).mean() * 100)\n",
    "    ],\n",
    "    'Price': [\n",
    "        'mean',\n",
    "        ('price_range', lambda x: x.max() - x.min()),\n",
    "        ('price_95pct', lambda x: x.quantile(0.95))\n",
    "    ],\n",
    "    'Quantity': [\n",
    "        'sum',\n",
    "        ('median_qty', 'median'),\n",
    "        ('mode_qty', lambda x: x.mode().iloc[0] if not x.mode().empty else np.nan)\n",
    "    ]\n",
    "})\n",
    "\n",
    "print(\"使用 lambda 函數的進階統計結果:\")\n",
    "print(advanced_stats)"
   ]
  },
  {
   "cell_type": "markdown",
   "id": "fccbcd9e",
   "metadata": {},
   "source": [
    "\n",
    "### 2.4 分組轉換與應用 (Transform & Apply)"
   ]
  },
  {
   "cell_type": "code",
   "execution_count": 64,
   "id": "6d8d1f7c",
   "metadata": {},
   "outputs": [
    {
     "name": "stdout",
     "output_type": "stream",
     "text": [
      "使用 transform 進行數據轉換的結果:\n",
      "   ProductID     Category   Price  Price_ZScore StoreID  TotalAmount  SalesVsStoreAvg\n",
      "0         42  Electronics  228.04         -0.81  Store1       433.28            17.49\n",
      "1         70        Books  410.46         -0.47  Store2      2729.56           117.76\n",
      "2         15        Books  156.61         -1.38  Store3       743.90            28.61\n",
      "3         54         Home  546.03         -0.09  Store2      2948.56           127.20\n",
      "4         60     Clothing  268.22         -1.42  Store1       455.97            18.41\n",
      "5         97         Home  593.97          0.11  Store1      2672.87           107.89\n",
      "6          8         Food  562.52          0.17  Store4      1800.06            77.90\n",
      "7         53        Books  216.98         -1.16  Store3      1757.54            67.60\n",
      "8         60     Clothing  268.22         -1.42  Store1      1528.85            61.71\n",
      "9          5         Home  251.68         -1.29  Store4       503.36            21.78\n"
     ]
    }
   ],
   "source": [
    "# 使用 transform 進行組內標準化\n",
    "# 計算每個類別中產品價格的 z-score\n",
    "sales_data['Price_ZScore'] = sales_data.groupby('Category')['Price'].transform(\n",
    "    lambda x: (x - x.mean()) / x.std()\n",
    ")\n",
    "\n",
    "# 計算每個門店銷售額相對於該門店平均值的百分比\n",
    "sales_data['SalesVsStoreAvg'] = sales_data.groupby('StoreID')['TotalAmount'].transform(\n",
    "    lambda x: x / x.mean() * 100\n",
    ")\n",
    "\n",
    "print(\"使用 transform 進行數據轉換的結果:\")\n",
    "print(sales_data[['ProductID', 'Category', 'Price', 'Price_ZScore', \n",
    "                 'StoreID', 'TotalAmount', 'SalesVsStoreAvg']].head(10))"
   ]
  },
  {
   "cell_type": "code",
   "execution_count": 65,
   "id": "3069c47d",
   "metadata": {},
   "outputs": [
    {
     "name": "stdout",
     "output_type": "stream",
     "text": [
      "累計和移動統計結果:\n",
      "         Date    Month StoreID     Category  TotalAmount  CumulativeStoreSales  \\\n",
      "0  2023-01-01  2023-01  Store1  Electronics       433.28                433.28   \n",
      "4  2023-01-05  2023-01  Store1     Clothing       455.97                889.25   \n",
      "5  2023-01-06  2023-01  Store1         Home      2672.87               3562.12   \n",
      "8  2023-01-09  2023-01  Store1     Clothing      1528.85               5090.97   \n",
      "14 2023-01-15  2023-01  Store1     Clothing      6587.84              11678.81   \n",
      "15 2023-01-16  2023-01  Store1     Clothing      1967.48              13646.29   \n",
      "17 2023-01-18  2023-01  Store1     Clothing      4298.90              17945.19   \n",
      "18 2023-01-19  2023-01  Store1        Books      6640.74              24585.93   \n",
      "19 2023-01-20  2023-01  Store1     Clothing      5088.58              29674.50   \n",
      "23 2023-01-24  2023-01  Store1        Books      1370.55              31045.05   \n",
      "\n",
      "    MovingAvgCategorySales  \n",
      "0                   433.28  \n",
      "4                   455.97  \n",
      "5                  2672.87  \n",
      "8                  1528.85  \n",
      "14                 6587.84  \n",
      "15                 1967.48  \n",
      "17                 4298.90  \n",
      "18                 6640.74  \n",
      "19                 5088.58  \n",
      "23                 1370.55  \n"
     ]
    }
   ],
   "source": [
    "# 使用 transform 計算累計和移動統計量\n",
    "# 按門店和日期分組，計算每個門店的累計銷售額\n",
    "sales_data['Date'] = pd.to_datetime(sales_data['Date'])\n",
    "sales_data['Month'] = sales_data['Date'].dt.to_period('M')\n",
    "\n",
    "# 計算每個門店每月累計銷售額\n",
    "sales_data['CumulativeStoreSales'] = sales_data.sort_values('Date').groupby(['StoreID', 'Month'])['TotalAmount'].transform(\n",
    "    lambda x: x.cumsum()\n",
    ")\n",
    "\n",
    "# 計算每個產品類別的3天移動平均銷售額\n",
    "sales_data['MovingAvgCategorySales'] = sales_data.sort_values('Date').groupby(['Category', 'Date'])['TotalAmount'].transform(\n",
    "    lambda x: x.rolling(3, min_periods=1).mean()\n",
    ")\n",
    "\n",
    "print(\"累計和移動統計結果:\")\n",
    "print(sales_data[['Date', 'Month', 'StoreID', 'Category', 'TotalAmount', \n",
    "                 'CumulativeStoreSales', 'MovingAvgCategorySales']].sort_values(['StoreID', 'Date']).head(10))"
   ]
  },
  {
   "cell_type": "code",
   "execution_count": 66,
   "id": "cc6bf436",
   "metadata": {},
   "outputs": [
    {
     "name": "stdout",
     "output_type": "stream",
     "text": [
      "每個類別銷售額最高的前3個產品:\n",
      "       Category  ProductID  TotalAmount\n",
      "0         Books         79      8765.37\n",
      "1         Books         62      8691.93\n",
      "2         Books         62      8691.93\n",
      "3      Clothing         47      8470.08\n",
      "4      Clothing         61      7970.32\n",
      "5      Clothing         47      7623.07\n",
      "6   Electronics        100      8163.36\n",
      "7   Electronics         71      6800.01\n",
      "8   Electronics        100      6349.28\n",
      "9          Food         90      6384.54\n",
      "10         Food         90      6384.54\n",
      "11         Food         90      6384.54\n",
      "12         Home         84      8950.59\n",
      "13         Home         18      8791.65\n",
      "14         Home         84      8503.06\n"
     ]
    },
    {
     "name": "stderr",
     "output_type": "stream",
     "text": [
      "C:\\Users\\SUNNIE.GD.WENG\\AppData\\Local\\Temp\\ipykernel_30480\\1782940226.py:3: DeprecationWarning: DataFrameGroupBy.apply operated on the grouping columns. This behavior is deprecated, and in a future version of pandas the grouping columns will be excluded from the operation. Either pass `include_groups=False` to exclude the groupings or explicitly select the grouping columns after groupby to silence this warning.\n",
      "  top_products = sales_data.groupby('Category').apply(\n"
     ]
    }
   ],
   "source": [
    "# 使用 apply 進行更複雜的組內操作\n",
    "# 找出每個類別中銷售額最高的前3個產品\n",
    "top_products = sales_data.groupby('Category').apply(\n",
    "    lambda x: x.nlargest(3, 'TotalAmount')\n",
    ").reset_index(drop=True)\n",
    "\n",
    "print(\"每個類別銷售額最高的前3個產品:\")\n",
    "print(top_products[['Category', 'ProductID', 'TotalAmount']])"
   ]
  },
  {
   "cell_type": "code",
   "execution_count": 67,
   "id": "cf7442fc",
   "metadata": {},
   "outputs": [
    {
     "name": "stdout",
     "output_type": "stream",
     "text": [
      "各類別銷售趨勢分析:\n",
      "             SalesGrowth  QuantityGrowth  IsGrowing\n",
      "Category                                           \n",
      "Books              -5.77           19.72      False\n",
      "Clothing           -3.00           10.95      False\n",
      "Electronics       -23.10          -10.14      False\n",
      "Food              -16.52          -14.63      False\n",
      "Home              -17.18           -6.25      False\n"
     ]
    },
    {
     "name": "stderr",
     "output_type": "stream",
     "text": [
      "C:\\Users\\SUNNIE.GD.WENG\\AppData\\Local\\Temp\\ipykernel_30480\\1745862718.py:2: DeprecationWarning: DataFrameGroupBy.apply operated on the grouping columns. This behavior is deprecated, and in a future version of pandas the grouping columns will be excluded from the operation. Either pass `include_groups=False` to exclude the groupings or explicitly select the grouping columns after groupby to silence this warning.\n",
      "  category_trend = sales_data.groupby('Category').apply(\n"
     ]
    }
   ],
   "source": [
    "# 使用 apply 計算每個類別的銷售趨勢\n",
    "category_trend = sales_data.groupby('Category').apply(\n",
    "    lambda group: pd.Series({\n",
    "        'SalesGrowth': (group['TotalAmount'].iloc[-30:].mean() / \n",
    "                        group['TotalAmount'].iloc[:30].mean() - 1) * 100,\n",
    "        'QuantityGrowth': (group['Quantity'].iloc[-30:].sum() / \n",
    "                          group['Quantity'].iloc[:30].sum() - 1) * 100,\n",
    "        'IsGrowing': group['TotalAmount'].iloc[-30:].mean() > group['TotalAmount'].iloc[:30].mean()\n",
    "    })\n",
    ")\n",
    "\n",
    "print(\"各類別銷售趨勢分析:\")\n",
    "print(category_trend)"
   ]
  },
  {
   "cell_type": "markdown",
   "id": "d949cc18",
   "metadata": {},
   "source": [
    "\n",
    "### 2.5 分組過濾 (Filtering)"
   ]
  },
  {
   "cell_type": "code",
   "execution_count": 68,
   "id": "3514cc03",
   "metadata": {},
   "outputs": [
    {
     "name": "stdout",
     "output_type": "stream",
     "text": [
      "高價值類別 (平均銷售額 > 300):\n",
      "篩選後的類別: Electronics, Books, Home, Clothing, Food\n",
      "篩選前行數: 1000, 篩選後行數: 1000\n"
     ]
    }
   ],
   "source": [
    "# 使用 filter 方法進行組級過濾\n",
    "# 只保留平均銷售額超過300的類別\n",
    "high_value_categories = sales_data.groupby('Category').filter(\n",
    "    lambda x: x['TotalAmount'].mean() > 300\n",
    ")\n",
    "\n",
    "print(\"高價值類別 (平均銷售額 > 300):\")\n",
    "cat_names = high_value_categories['Category'].unique()\n",
    "print(f\"篩選後的類別: {', '.join(cat_names)}\")\n",
    "print(f\"篩選前行數: {len(sales_data)}, 篩選後行數: {len(high_value_categories)}\")"
   ]
  },
  {
   "cell_type": "code",
   "execution_count": 69,
   "id": "b9c62f43",
   "metadata": {},
   "outputs": [
    {
     "name": "stdout",
     "output_type": "stream",
     "text": [
      "符合條件的店鋪:\n",
      "篩選後的店鋪: Store1, Store2, Store3\n",
      "篩選前行數: 1000, 篩選後行數: 751\n"
     ]
    }
   ],
   "source": [
    "# 複雜過濾：保留至少有100筆銷售且平均折扣率低於10%的店鋪\n",
    "qualified_stores = sales_data.groupby('StoreID').filter(\n",
    "    lambda x: (len(x) >= 100) & (x['Discount'].mean() < 0.1)\n",
    ")\n",
    "\n",
    "print(\"符合條件的店鋪:\")\n",
    "store_names = qualified_stores['StoreID'].unique()\n",
    "print(f\"篩選後的店鋪: {', '.join(store_names)}\")\n",
    "print(f\"篩選前行數: {len(sales_data)}, 篩選後行數: {len(qualified_stores)}\")"
   ]
  },
  {
   "cell_type": "code",
   "execution_count": 70,
   "id": "80f4ec1d",
   "metadata": {},
   "outputs": [
    {
     "name": "stdout",
     "output_type": "stream",
     "text": [
      "符合條件的類別 (至少3個產品且平均價格 > 300):\n",
      "{'Food', 'Electronics', 'Home', 'Clothing', 'Books'}\n",
      "\n",
      "篩選後的資料預覽:\n",
      "      Category  ProductID   Price\n",
      "0  Electronics         42  228.04\n",
      "1        Books         70  410.46\n",
      "2        Books         15  156.61\n",
      "3         Home         54  546.03\n",
      "4     Clothing         60  268.22\n"
     ]
    }
   ],
   "source": [
    "# 組合過濾與聚合：找出產品類別中至少有3種產品且平均價格高於300的類別\n",
    "price_threshold = 300\n",
    "min_products = 3\n",
    "\n",
    "# 步驟1：計算每個類別的獨特產品數量\n",
    "product_counts = sales_data.groupby('Category')['ProductID'].nunique()\n",
    "qualified_categories = product_counts[product_counts >= min_products].index\n",
    "\n",
    "# 步驟2：計算每個類別的平均價格\n",
    "avg_prices = sales_data.groupby('Category')['Price'].mean()\n",
    "high_price_categories = avg_prices[avg_prices > price_threshold].index\n",
    "\n",
    "# 步驟3：找出同時滿足兩個條件的類別\n",
    "target_categories = set(qualified_categories) & set(high_price_categories)\n",
    "print(f\"符合條件的類別 (至少{min_products}個產品且平均價格 > {price_threshold}):\")\n",
    "print(target_categories)\n",
    "\n",
    "# 步驟4：篩選出這些類別的資料\n",
    "target_data = sales_data[sales_data['Category'].isin(target_categories)]\n",
    "print(f\"\\n篩選後的資料預覽:\")\n",
    "print(target_data[['Category', 'ProductID', 'Price']].head())"
   ]
  },
  {
   "cell_type": "markdown",
   "id": "c6abb076",
   "metadata": {},
   "source": [
    "\n",
    "## 📊 3. 實際案例：銷售數據多維度分析"
   ]
  },
  {
   "cell_type": "code",
   "execution_count": 71,
   "id": "245de7e3",
   "metadata": {},
   "outputs": [
    {
     "name": "stdout",
     "output_type": "stream",
     "text": [
      "多維度銷售分析 (季度 x 門店 x 類別):\n",
      "                                 TotalAmount                Quantity Discount\n",
      "                                         sum     mean count      sum     mean\n",
      "Year Quarter StoreID Category                                                \n",
      "2023 1       Store1  Books          14805.63  1850.70     8       25     0.11\n",
      "                     Clothing       38853.21  3885.32    10       56     0.10\n",
      "                     Electronics     5419.32   903.22     6       16     0.08\n",
      "                     Food            6649.89  1662.47     4       15     0.12\n",
      "                     Home            2884.45  1442.22     2        8     0.08\n",
      "             Store2  Books          19809.87  3301.65     6       39     0.09\n",
      "                     Clothing        9445.98  3148.66     3       15     0.10\n",
      "                     Electronics     5377.46  1792.49     3       18     0.20\n"
     ]
    }
   ],
   "source": [
    "# 創建時間維度\n",
    "sales_data['Year'] = sales_data['Date'].dt.year\n",
    "sales_data['Month'] = sales_data['Date'].dt.month\n",
    "sales_data['Quarter'] = sales_data['Date'].dt.quarter\n",
    "sales_data['Day'] = sales_data['Date'].dt.day_name()\n",
    "\n",
    "# 1. 多維度銷售分析：按季度、門店和產品類別進行分組\n",
    "multi_dim_analysis = sales_data.groupby(['Year', 'Quarter', 'StoreID', 'Category']).agg({\n",
    "    'TotalAmount': ['sum', 'mean', 'count'],\n",
    "    'Quantity': 'sum',\n",
    "    'Discount': 'mean'\n",
    "}).round(2)\n",
    "\n",
    "print(\"多維度銷售分析 (季度 x 門店 x 類別):\")\n",
    "print(multi_dim_analysis.head(8))"
   ]
  },
  {
   "cell_type": "code",
   "execution_count": 72,
   "id": "4681d940",
   "metadata": {},
   "outputs": [
    {
     "name": "stdout",
     "output_type": "stream",
     "text": [
      "月份與星期分析:\n",
      "   Month        Day  total_sales  avg_sales  transactions  avg_quantity\n",
      "0      1     Friday     34343.34    2641.80            13          5.92\n",
      "1      1     Monday     29417.61    2101.26            14          4.79\n",
      "2      1   Saturday     29923.30    2493.61            12          5.33\n",
      "3      1     Sunday     28746.33    2211.26            13          4.77\n",
      "4      1   Thursday     31151.26    2396.25            13          4.38\n",
      "5      1    Tuesday     31160.17    2225.73            14          5.14\n",
      "6      1  Wednesday     39489.72    2820.69            14          4.79\n",
      "7      2     Friday     30416.83    2534.74            12          5.00\n",
      "8      2     Monday     44501.97    3708.50            12          5.25\n",
      "9      2   Saturday     27886.63    2323.89            12          4.75\n"
     ]
    },
    {
     "name": "stderr",
     "output_type": "stream",
     "text": [
      "C:\\Users\\SUNNIE.GD.WENG\\AppData\\Local\\Temp\\ipykernel_30480\\2042079209.py:14: FutureWarning: \n",
      "\n",
      "The `ci` parameter is deprecated. Use `errorbar=None` for the same effect.\n",
      "\n",
      "  sns.barplot(x='Month', y='total_sales', data=time_analysis, estimator=sum, ci=None)\n"
     ]
    },
    {
     "data": {
      "image/png": "[encoded data removed]",
      "text/plain": [
       "<Figure size 1400x600 with 1 Axes>"
      ]
     },
     "metadata": {},
     "output_type": "display_data"
    }
   ],
   "source": [
    "# 2. 時段分析：不同時間維度的銷售趨勢\n",
    "time_analysis = sales_data.groupby(['Month', 'Day']).agg(\n",
    "    total_sales=('TotalAmount', 'sum'),\n",
    "    avg_sales=('TotalAmount', 'mean'),\n",
    "    transactions=('SaleID', 'nunique'),\n",
    "    avg_quantity=('Quantity', 'mean')\n",
    ").reset_index()\n",
    "\n",
    "print(\"月份與星期分析:\")\n",
    "print(time_analysis.head(10))\n",
    "\n",
    "# 可視化月份銷售趨勢\n",
    "plt.figure(figsize=(14, 6))\n",
    "sns.barplot(x='Month', y='total_sales', data=time_analysis, estimator=sum, ci=None)\n",
    "plt.title('每月總銷售額', fontsize=14)\n",
    "plt.xlabel('月份')\n",
    "plt.ylabel('總銷售額')\n",
    "plt.tight_layout()\n",
    "plt.show()"
   ]
  },
  {
   "cell_type": "code",
   "execution_count": 73,
   "id": "ce2f70c5",
   "metadata": {},
   "outputs": [
    {
     "name": "stdout",
     "output_type": "stream",
     "text": [
      "客戶購買行為分析:\n",
      "            total_spent  total_transactions  avg_transaction_value first_purchase last_purchase  \\\n",
      "CustomerID                                                                                        \n",
      "1              87390.78                  42                2080.73     2023-03-13    2025-09-08   \n",
      "2             120797.27                  52                2323.02     2023-01-09    2025-09-12   \n",
      "3             153779.30                  57                2746.06     2023-01-12    2025-07-21   \n",
      "4             134985.06                  55                2499.72     2023-01-14    2025-09-15   \n",
      "5             115171.82                  46                2503.74     2023-03-12    2025-09-26   \n",
      "\n",
      "           favorite_category favorite_store  product_variety  active_days  \n",
      "CustomerID                                                                 \n",
      "1                      Books         Store4               32          910  \n",
      "2                      Books         Store1               45          977  \n",
      "3                      Books         Store3               40          921  \n",
      "4                       Home         Store4               41          975  \n",
      "5                      Books         Store1               39          929  \n"
     ]
    }
   ],
   "source": [
    "# 3. 客戶購買分析：研究每個客戶的購買行為\n",
    "customer_analysis = sales_data.groupby('CustomerID').agg(\n",
    "    total_spent=('TotalAmount', 'sum'),\n",
    "    total_transactions=('SaleID', 'nunique'),\n",
    "    avg_transaction_value=('TotalAmount', lambda x: x.sum() / len(x.unique())),\n",
    "    first_purchase=('Date', 'min'),\n",
    "    last_purchase=('Date', 'max'),\n",
    "    favorite_category=('Category', lambda x: x.mode().iloc[0]),\n",
    "    favorite_store=('StoreID', lambda x: x.mode().iloc[0]),\n",
    "    product_variety=('ProductID', 'nunique')\n",
    ")\n",
    "\n",
    "# 計算客戶活躍期 (天數)\n",
    "customer_analysis['active_days'] = (customer_analysis['last_purchase'] - \n",
    "                                   customer_analysis['first_purchase']).dt.days\n",
    "\n",
    "print(\"客戶購買行為分析:\")\n",
    "print(customer_analysis.head())"
   ]
  },
  {
   "cell_type": "code",
   "execution_count": 74,
   "id": "38991db1",
   "metadata": {},
   "outputs": [
    {
     "name": "stdout",
     "output_type": "stream",
     "text": [
      "客戶RFM分析與分層:\n",
      "            recency  frequency   monetary  recency_score  frequency_score  monetary_score  \\\n",
      "CustomerID                                                                                  \n",
      "1              -617         42   87390.78              1                0               0   \n",
      "2              -621         52  120797.27              2                2               2   \n",
      "3              -568         57  153779.30              0                4               4   \n",
      "4              -624         55  134985.06              2                3               3   \n",
      "5              -635         46  115171.82              4                1               1   \n",
      "6              -631         51  133808.91              3                2               3   \n",
      "7              -572         39   98210.62              0                0               0   \n",
      "8              -611         56  122226.60              1                4               2   \n",
      "9              -620         53  136974.45              2                2               4   \n",
      "10             -581         38   94777.77              0                0               0   \n",
      "\n",
      "            rfm_score customer_segment  \n",
      "CustomerID                              \n",
      "1                   1           Bronze  \n",
      "2                   6           Silver  \n",
      "3                   8             Gold  \n",
      "4                   8             Gold  \n",
      "5                   6           Silver  \n",
      "6                   8             Gold  \n",
      "7                   0           Bronze  \n",
      "8                   7             Gold  \n",
      "9                   8             Gold  \n",
      "10                  0           Bronze  \n",
      "\n",
      "不同客戶層級的平均指標:\n",
      "                  recency  frequency   monetary\n",
      "customer_segment                               \n",
      "Bronze            -595.60      42.60  100977.53\n",
      "Silver            -622.00      47.20  117096.06\n",
      "Gold              -617.62      53.75  131072.61\n",
      "Platinum          -632.00      60.50  144670.56\n"
     ]
    },
    {
     "name": "stderr",
     "output_type": "stream",
     "text": [
      "C:\\Users\\SUNNIE.GD.WENG\\AppData\\Local\\Temp\\ipykernel_30480\\307218436.py:33: FutureWarning: The default of observed=False is deprecated and will be changed to True in a future version of pandas. Pass observed=False to retain current behavior or observed=True to adopt the future default and silence this warning.\n",
      "  segment_analysis = rfm.groupby('customer_segment').agg({\n"
     ]
    }
   ],
   "source": [
    "# 客戶價值分層 (RFM分析簡化版)\n",
    "# R(Recency) - 最近一次購買時間\n",
    "# F(Frequency) - 購買頻率\n",
    "# M(Monetary) - 購買金額\n",
    "today = pd.Timestamp('2023-12-31')\n",
    "rfm = sales_data.groupby('CustomerID').agg(\n",
    "    recency=('Date', lambda x: (today - x.max()).days),\n",
    "    frequency=('SaleID', 'nunique'),\n",
    "    monetary=('TotalAmount', 'sum')\n",
    ")\n",
    "\n",
    "# 將RFM三個維度分為5個等級\n",
    "for metric in ['recency', 'frequency', 'monetary']:\n",
    "    if metric == 'recency':\n",
    "        # 對於recency, 天數越小越好\n",
    "        rfm[f'{metric}_score'] = pd.qcut(rfm[metric], 5, labels=False, duplicates='drop')\n",
    "        rfm[f'{metric}_score'] = 4 - rfm[f'{metric}_score']  # 反轉分數\n",
    "    else:\n",
    "        # 對於frequency和monetary, 數值越大越好\n",
    "        rfm[f'{metric}_score'] = pd.qcut(rfm[metric], 5, labels=False, duplicates='drop')\n",
    "\n",
    "# 計算RFM總分\n",
    "rfm['rfm_score'] = rfm['recency_score'] + rfm['frequency_score'] + rfm['monetary_score']\n",
    "\n",
    "# 定義客戶分層\n",
    "rfm['customer_segment'] = pd.qcut(rfm['rfm_score'], 4, \n",
    "                                 labels=['Bronze', 'Silver', 'Gold', 'Platinum'])\n",
    "\n",
    "print(\"客戶RFM分析與分層:\")\n",
    "print(rfm.head(10))\n",
    "\n",
    "# 展示各客戶分層的平均指標\n",
    "segment_analysis = rfm.groupby('customer_segment').agg({\n",
    "    'recency': 'mean',\n",
    "    'frequency': 'mean',\n",
    "    'monetary': 'mean'\n",
    "}).round(2)\n",
    "\n",
    "print(\"\\n不同客戶層級的平均指標:\")\n",
    "print(segment_analysis)"
   ]
  },
  {
   "cell_type": "markdown",
   "id": "83bc5366",
   "metadata": {},
   "source": [
    "\n",
    "## 📊 4. 高級分組技巧與最佳實踐"
   ]
  },
  {
   "cell_type": "code",
   "execution_count": 75,
   "id": "531901d4",
   "metadata": {},
   "outputs": [
    {
     "name": "stdout",
     "output_type": "stream",
     "text": [
      "使用 pd.Grouper 按週分組:\n",
      "        Date     Category  TotalAmount  Quantity\n",
      "0 2023-01-01  Electronics       433.28         2\n",
      "1 2023-01-08        Books      5230.99        21\n",
      "2 2023-01-08     Clothing       455.97         2\n",
      "3 2023-01-08         Food      1800.06         4\n",
      "4 2023-01-08         Home      5621.43        11\n"
     ]
    }
   ],
   "source": [
    "# 1. 使用 pd.Grouper 進行時間序列分組\n",
    "time_grouped = sales_data.groupby([\n",
    "    pd.Grouper(key='Date', freq='W'),  # 按週分組\n",
    "    'Category'\n",
    "]).agg({\n",
    "    'TotalAmount': 'sum',\n",
    "    'Quantity': 'sum'\n",
    "}).reset_index()\n",
    "\n",
    "print(\"使用 pd.Grouper 按週分組:\")\n",
    "print(time_grouped.head())"
   ]
  },
  {
   "cell_type": "code",
   "execution_count": 76,
   "id": "0b1f266b",
   "metadata": {},
   "outputs": [
    {
     "name": "stdout",
     "output_type": "stream",
     "text": [
      "使用 .xs() 進行跨層級選擇:\n",
      "                                 TotalAmount                Quantity Discount\n",
      "                                         sum     mean count      sum     mean\n",
      "Year Quarter StoreID Category                                                \n",
      "2023 1       Store1  Electronics     5419.32   903.22     6       16     0.08\n",
      "             Store2  Electronics     5377.46  1792.49     3       18     0.20\n",
      "             Store3  Electronics     7184.95  2394.98     3       17     0.15\n",
      "             Store4  Electronics     4178.79  2089.40     2        6     0.18\n",
      "     2       Store1  Electronics      538.75   269.38     2       11     0.00\n"
     ]
    }
   ],
   "source": [
    "# 2. 使用分組索引實現高級選擇\n",
    "print(\"使用 .xs() 進行跨層級選擇:\")\n",
    "# 選擇特定類別在每個店鋪的銷售數據\n",
    "electronics_by_store = multi_dim_analysis.xs('Electronics', level='Category', drop_level=False)\n",
    "print(electronics_by_store.head())"
   ]
  },
  {
   "cell_type": "code",
   "execution_count": 77,
   "id": "33f00fe4",
   "metadata": {},
   "outputs": [
    {
     "name": "stdout",
     "output_type": "stream",
     "text": [
      "組內排名示例:\n",
      "   StoreID     Category  TotalAmount  StoreRank  CategoryRank\n",
      "0   Store1  Electronics       433.28      230.0          33.0\n",
      "1   Store2        Books      2729.56       75.0          20.0\n",
      "2   Store3        Books       743.90      194.0          48.0\n",
      "3   Store2         Home      2948.56       67.0          12.0\n",
      "4   Store1     Clothing       455.97      228.0          54.0\n",
      "5   Store1         Home      2672.87       93.0          17.0\n",
      "6   Store4         Food      1800.06      131.0          23.0\n",
      "7   Store3        Books      1757.54      134.0          32.0\n",
      "8   Store1     Clothing      1528.85      146.0          35.0\n",
      "9   Store4         Home       503.36      207.0          50.0\n",
      "10  Store3     Clothing       763.37      192.0          42.0\n",
      "11  Store2     Clothing       794.75      192.0          38.0\n",
      "12  Store3         Food      2205.56      111.0          24.0\n",
      "13  Store3         Food      3082.38       80.0          17.0\n",
      "14  Store1     Clothing      6587.84       12.0           3.0\n"
     ]
    }
   ],
   "source": [
    "# 3. 組內排名\n",
    "sales_data['StoreRank'] = sales_data.groupby('StoreID')['TotalAmount'].rank(method='dense', ascending=False)\n",
    "sales_data['CategoryRank'] = sales_data.groupby(['StoreID', 'Category'])['TotalAmount'].rank(method='dense', ascending=False)\n",
    "\n",
    "print(\"組內排名示例:\")\n",
    "print(sales_data[['StoreID', 'Category', 'TotalAmount', 'StoreRank', 'CategoryRank']].head(15))"
   ]
  },
  {
   "cell_type": "code",
   "execution_count": 78,
   "id": "45ce933d",
   "metadata": {},
   "outputs": [
    {
     "name": "stdout",
     "output_type": "stream",
     "text": [
      "分組操作性能比較 (秒):\n",
      "Standard groupby: 0.00000\n",
      "Sorted groupby: 0.00100\n",
      "Categorical groupby: 0.00200\n"
     ]
    },
    {
     "name": "stderr",
     "output_type": "stream",
     "text": [
      "C:\\Users\\SUNNIE.GD.WENG\\AppData\\Local\\Temp\\ipykernel_30480\\1772118023.py:24: FutureWarning: The default of observed=False is deprecated and will be changed to True in a future version of pandas. Pass observed=False to retain current behavior or observed=True to adopt the future default and silence this warning.\n",
      "  cat_groupby = cat_data.groupby('Category')['TotalAmount'].mean()\n"
     ]
    }
   ],
   "source": [
    "# 4. 性能優化技巧\n",
    "import time\n",
    "\n",
    "def performance_test():\n",
    "    results = {}\n",
    "    \n",
    "    # 測試1: 標準groupby\n",
    "    start = time.time()\n",
    "    std_groupby = sales_data.groupby('Category')['TotalAmount'].mean()\n",
    "    results['Standard groupby'] = time.time() - start\n",
    "    \n",
    "    # 測試2: 預先排序後groupby\n",
    "    start = time.time()\n",
    "    # 先排序數據，使用排序的數據進行分組能提高速度\n",
    "    sorted_data = sales_data.sort_values('Category')\n",
    "    sorted_groupby = sorted_data.groupby('Category')['TotalAmount'].mean()\n",
    "    results['Sorted groupby'] = time.time() - start\n",
    "    \n",
    "    # 測試3: 使用categoricals\n",
    "    start = time.time()\n",
    "    # 將分組列轉換為categorical可以提高分組速度\n",
    "    cat_data = sales_data.copy()\n",
    "    cat_data['Category'] = cat_data['Category'].astype('category')\n",
    "    cat_groupby = cat_data.groupby('Category')['TotalAmount'].mean()\n",
    "    results['Categorical groupby'] = time.time() - start\n",
    "    \n",
    "    return results\n",
    "\n",
    "# 執行性能測試\n",
    "perf_results = performance_test()\n",
    "print(\"分組操作性能比較 (秒):\")\n",
    "for method, duration in perf_results.items():\n",
    "    print(f\"{method}: {duration:.5f}\")"
   ]
  },
  {
   "cell_type": "markdown",
   "id": "86a5849f",
   "metadata": {},
   "source": [
    "\n",
    "## 📋 5. 總結"
   ]
  },
  {
   "cell_type": "markdown",
   "id": "6a4539f3",
   "metadata": {},
   "source": [
    "\n",
    "### 5.1 分組與聚合的核心概念\n",
    "\n",
    "- **GroupBy 對象**：理解其內部結構、分組鍵和數據分割方式\n",
    "- **多層次分組**：使用多個鍵實現複雜的數據分層聚合\n",
    "- **聚合函數**：靈活組合內置與自定義的聚合函數\n",
    "- **聚合方法**：掌握 agg()、transform()、apply() 和 filter() 的區別與應用場景"
   ]
  },
  {
   "cell_type": "markdown",
   "id": "589fa69a",
   "metadata": {},
   "source": [
    "\n",
    "### 5.2 進階應用技巧\n",
    "\n",
    "- **自定義聚合函數**：使用 lambda、partial 函數和裝飾器創建複雜聚合功能\n",
    "- **分組轉換**：使用 transform() 進行組內標準化、累計統計和移動窗口計算\n",
    "- **分層聚合**：在多個維度上進行數據摘要，提取業務洞察\n",
    "- **高效分組**：利用索引、排序和類別優化分組性能\n",
    "- **結果處理**：清理和重塑聚合結果，使其更易於分析和可視化"
   ]
  },
  {
   "cell_type": "markdown",
   "id": "d29fdb72",
   "metadata": {},
   "source": [
    "\n",
    "### 5.3 實務應用思考\n",
    "\n",
    "- **業務指標設計**：基於分組聚合構建KPI和業務指標\n",
    "- **客戶分層**：使用RFM等模型進行客戶價值分析\n",
    "- **時間序列分析**：在不同時間粒度上分析業務趨勢和季節性\n",
    "- **多維度分析**：結合不同維度的數據，發現隱藏的業務關聯\n",
    "- **預測建模準備**：使用分組聚合創建有效的模型特徵"
   ]
  }
 ],
 "metadata": {
  "kernelspec": {
   "display_name": "Python 3",
   "language": "python",
   "name": "python3"
  },
  "language_info": {
   "codemirror_mode": {
    "name": "ipython",
    "version": 3
   },
   "file_extension": ".py",
   "mimetype": "text/x-python",
   "name": "python",
   "nbconvert_exporter": "python",
   "pygments_lexer": "ipython3",
   "version": "3.11.9"
  }
 },
 "nbformat": 4,
 "nbformat_minor": 5
}
