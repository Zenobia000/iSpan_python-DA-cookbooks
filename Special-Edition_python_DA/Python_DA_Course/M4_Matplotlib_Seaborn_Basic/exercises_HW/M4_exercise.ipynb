{
 "cells": [
  {
   "cell_type": "markdown",
   "id": "b4e797ce",
   "metadata": {},
   "source": [
    "\n",
    "# 📊 M4 Matplotlib 與 Seaborn 練習題\n",
    "\n",
    "本練習題將幫助您鞏固對Matplotlib和Seaborn的理解，通過實際操作來應用所學的數據視覺化技術。完成這些練習題可以增強您處理各類數據視覺化任務的能力。"
   ]
  },
  {
   "cell_type": "markdown",
   "id": "25d661af",
   "metadata": {},
   "source": [
    "\n",
    "## 🎯 練習內容概述\n",
    "\n",
    "本練習集包含四個部分，對應課程的四個主要主題：\n",
    "- 基本Matplotlib操作\n",
    "- 常見統計圖表實作\n",
    "- Seaborn統計可視化\n",
    "- 圖表美化與專業呈現"
   ]
  },
  {
   "cell_type": "code",
   "execution_count": 21,
   "id": "5063c520",
   "metadata": {},
   "outputs": [],
   "source": [
    "# 環境設置\n",
    "import numpy as np\n",
    "import pandas as pd\n",
    "import matplotlib.pyplot as plt\n",
    "import matplotlib as mpl\n",
    "import seaborn as sns\n",
    "from matplotlib.ticker import MultipleLocator, FormatStrFormatter\n",
    "import warnings\n",
    "\n",
    "# 忽略警告信息\n",
    "warnings.filterwarnings('ignore')\n",
    "\n",
    "# 設置中文字體支持 (如果系統支持)\n",
    "try:\n",
    "    plt.rcParams['font.sans-serif'] = ['Microsoft JhengHei', 'SimHei', 'Arial Unicode MS']\n",
    "    plt.rcParams['axes.unicode_minus'] = False\n",
    "except:\n",
    "    pass\n",
    "\n",
    "# 設置隨機種子確保結果可重現\n",
    "np.random.seed(42)\n",
    "\n",
    "# 設置顯示選項\n",
    "pd.set_option('display.max_rows', 15)\n",
    "pd.set_option('display.max_columns', 10)\n",
    "pd.set_option('display.width', 100)"
   ]
  },
  {
   "cell_type": "code",
   "execution_count": 22,
   "id": "cae3847d",
   "metadata": {},
   "outputs": [],
   "source": [
    "import matplotlib.pyplot as plt\n",
    "import matplotlib.font_manager as fm\n",
    "\n",
    "# # 設置可視化風格\n",
    "sns.set_style('whitegrid')\n",
    "plt.rcParams['figure.figsize'] = (12, 6)\n",
    "plt.rcParams['font.size'] = 12\n",
    "\n",
    "# 微軟正黑體或思源黑體路徑 (請依你電腦為準)\n",
    "font_path = \"C:/Windows/Fonts/msjh.ttc\"  # 或 simsun.ttc, NotoSansCJK, 等\n",
    "\n",
    "# 建立 FontProperties\n",
    "font_prop = fm.FontProperties(fname=font_path)\n",
    "\n",
    "# 設定 matplotlib 全域字型（包括標題、座標軸、legend）\n",
    "plt.rcParams['font.family'] = font_prop.get_name()\n",
    "plt.rcParams['axes.unicode_minus'] = False  # 避免負號亂碼\n",
    "\n",
    "# 設置顯示選項\n",
    "pd.set_option('display.max_rows', 15)\n",
    "pd.set_option('display.max_columns', 12)\n",
    "pd.set_option('display.width', 100)\n",
    "pd.set_option('display.precision', 2)\n",
    "pd.set_option('display.float_format', '{:.2f}'.format)"
   ]
  },
  {
   "cell_type": "markdown",
   "id": "76636b0a",
   "metadata": {},
   "source": [
    "\n",
    "## 📊 練習 1: Matplotlib 基礎操作"
   ]
  },
  {
   "cell_type": "markdown",
   "id": "5c0464d7",
   "metadata": {},
   "source": [
    "\n",
    "### 練習 1.1: 創建簡單線圖\n",
    "創建一個包含三條線的圖表：\n",
    "- sin(x)，用紅色實線表示\n",
    "- cos(x)，用藍色虛線表示\n",
    "- tan(x)，用綠色點劃線表示，但限制y軸範圍在-2到2之間\n",
    "\n",
    "要求添加標題、軸標籤、圖例和網格。"
   ]
  },
  {
   "cell_type": "code",
   "execution_count": 23,
   "id": "8df42640",
   "metadata": {},
   "outputs": [],
   "source": [
    "# 請在此處編寫您的代碼\n",
    "# 提示: 使用 plt.plot() 和 plt.ylim()"
   ]
  },
  {
   "cell_type": "markdown",
   "id": "b26c3e26",
   "metadata": {},
   "source": [
    "\n",
    "### 練習 1.2: 創建子圖\n",
    "創建一個2行3列的子圖網格，在每個子圖中繪製不同類型的圖表：\n",
    "1. 正弦曲線\n",
    "2. 餘弦曲線 \n",
    "3. 指數曲線 y = 2^x\n",
    "4. 對數曲線 y = log(x)\n",
    "5. 拋物線 y = x²\n",
    "6. 立方曲線 y = x³\n",
    "\n",
    "每個子圖都應有適當的標題。"
   ]
  },
  {
   "cell_type": "code",
   "execution_count": 24,
   "id": "d8a64c44",
   "metadata": {},
   "outputs": [],
   "source": [
    "# 請在此處編寫您的代碼\n",
    "# 提示: 使用 plt.subplots() 創建子圖網格"
   ]
  },
  {
   "cell_type": "markdown",
   "id": "b28b07ea",
   "metadata": {},
   "source": [
    "\n",
    "### 練習 1.3: 面向對象風格繪圖\n",
    "使用Matplotlib的面向對象接口（使用fig和ax對象，而不是plt函數）創建一個散點圖：\n",
    "- 創建50個隨機點\n",
    "- 點的大小應該隨機變化\n",
    "- 點的顏色應該使用漸變色彩\n",
    "- 添加標題、軸標籤和網格\n",
    "- 添加一個顏色條(colorbar)"
   ]
  },
  {
   "cell_type": "code",
   "execution_count": 25,
   "id": "bac612bd",
   "metadata": {},
   "outputs": [],
   "source": [
    "# 請在此處編寫您的代碼\n",
    "# 提示: 使用 fig, ax = plt.subplots() 和 ax.scatter()"
   ]
  },
  {
   "cell_type": "markdown",
   "id": "ad6619fc",
   "metadata": {},
   "source": [
    "\n",
    "## 📊 練習 2: 常見統計圖表實作"
   ]
  },
  {
   "cell_type": "markdown",
   "id": "6896ad49",
   "metadata": {},
   "source": [
    "\n",
    "### 練習 2.1: 創建並分析數據集\n",
    "創建一個模擬的學生成績數據集，包含以下列：\n",
    "- 姓名 (隨機生成，如 'Student_1', 'Student_2'...)\n",
    "- 班級 (隨機分配，如 'Class A', 'Class B', 'Class C')\n",
    "- 數學分數 (生成0-100之間的隨機分數)\n",
    "- 科學分數 (生成0-100之間的隨機分數)\n",
    "- 語文分數 (生成0-100之間的隨機分數)\n",
    "- 通過情況 (若三科平均分≥60，則為'Pass'，否則為'Fail')\n",
    "\n",
    "創建一個包含30名學生的數據集。"
   ]
  },
  {
   "cell_type": "code",
   "execution_count": 26,
   "id": "8e5ab084",
   "metadata": {},
   "outputs": [],
   "source": [
    "# 請在此處創建學生成績數據集\n",
    "# 提示: 使用 np.random.randint() 和 pd.DataFrame()"
   ]
  },
  {
   "cell_type": "markdown",
   "id": "bc31b7e4",
   "metadata": {},
   "source": [
    "\n",
    "### 練習 2.2: 繪製長條圖比較不同班級的平均分數\n",
    "計算每個班級在三個科目上的平均分數，並創建一個分組長條圖進行比較。\n",
    "要求添加適當的標題、軸標籤和圖例。"
   ]
  },
  {
   "cell_type": "code",
   "execution_count": 27,
   "id": "65852161",
   "metadata": {},
   "outputs": [],
   "source": [
    "# 請在此處編寫您的代碼"
   ]
  },
  {
   "cell_type": "markdown",
   "id": "985ece91",
   "metadata": {},
   "source": [
    "\n",
    "### 練習 2.3: 繪製多個分佈圖\n",
    "使用您創建的數據集，在一個2x2的子圖布局中繪製四個分佈圖：\n",
    "1. 數學分數的直方圖\n",
    "2. 科學分數的直方圖\n",
    "3. 語文分數的直方圖\n",
    "4. 所有學生平均分數的直方圖"
   ]
  },
  {
   "cell_type": "code",
   "execution_count": 28,
   "id": "337ccc63",
   "metadata": {},
   "outputs": [],
   "source": [
    "# 請在此處編寫您的代碼"
   ]
  },
  {
   "cell_type": "markdown",
   "id": "7653f520",
   "metadata": {},
   "source": [
    "\n",
    "### 練習 2.4: 創建散點矩陣\n",
    "使用pandas的scatter_matrix函數，創建一個三科成績的散點矩陣圖，\n",
    "使用\"通過情況\"作為點的顏色區分。"
   ]
  },
  {
   "cell_type": "code",
   "execution_count": 29,
   "id": "7f6775f0",
   "metadata": {},
   "outputs": [],
   "source": [
    "# 請在此處編寫您的代碼\n",
    "# 提示: 使用 pd.plotting.scatter_matrix()"
   ]
  },
  {
   "cell_type": "markdown",
   "id": "217e9df3",
   "metadata": {},
   "source": [
    "\n",
    "## 📊 練習 3: Seaborn 統計可視化"
   ]
  },
  {
   "cell_type": "markdown",
   "id": "437bb4e7",
   "metadata": {},
   "source": [
    "\n",
    "### 練習 3.1: 載入並探索Titanic數據集\n",
    "使用seaborn載入Titanic數據集，並顯示前幾行數據。"
   ]
  },
  {
   "cell_type": "code",
   "execution_count": 30,
   "id": "678030f9",
   "metadata": {},
   "outputs": [],
   "source": [
    "# 請在此處編寫您的代碼\n",
    "# 提示: 使用 sns.load_dataset('titanic')"
   ]
  },
  {
   "cell_type": "markdown",
   "id": "2e949c28",
   "metadata": {},
   "source": [
    "\n",
    "### 練習 3.2: 創建箱形圖\n",
    "使用Titanic數據集，創建一個箱形圖顯示不同艙位(class)的年齡(age)分佈。\n",
    "要求使用不同的顏色標識男女乘客，並添加適當的標題和標籤。"
   ]
  },
  {
   "cell_type": "code",
   "execution_count": 31,
   "id": "27f5086b",
   "metadata": {},
   "outputs": [],
   "source": [
    "# 請在此處編寫您的代碼\n",
    "# 提示: 使用 sns.boxplot()"
   ]
  },
  {
   "cell_type": "markdown",
   "id": "4d1b8f40",
   "metadata": {},
   "source": [
    "\n",
    "### 練習 3.3: 創建小提琴圖\n",
    "使用Titanic數據集，創建一個小提琴圖比較存活(survived)與非存活乘客的年齡分佈。\n",
    "要求按性別(sex)分開展示。"
   ]
  },
  {
   "cell_type": "code",
   "execution_count": 32,
   "id": "343e981b",
   "metadata": {},
   "outputs": [],
   "source": [
    "# 請在此處編寫您的代碼\n",
    "# 提示: 使用 sns.violinplot()"
   ]
  },
  {
   "cell_type": "markdown",
   "id": "37f6be80",
   "metadata": {},
   "source": [
    "\n",
    "### 練習 3.4: 創建計數圖\n",
    "創建一個計數圖，展示不同艙位(class)、性別(sex)和存活狀態(survived)的乘客數量。"
   ]
  },
  {
   "cell_type": "code",
   "execution_count": 33,
   "id": "0430398b",
   "metadata": {},
   "outputs": [],
   "source": [
    "# 請在此處編寫您的代碼\n",
    "# 提示: 使用 sns.countplot()"
   ]
  },
  {
   "cell_type": "markdown",
   "id": "68ca9e60",
   "metadata": {},
   "source": [
    "\n",
    "### 練習 3.5: 創建配對圖\n",
    "使用Titanic數據集的數值變量（如age, fare, survived等）創建一個配對圖，\n",
    "使用性別(sex)區分顏色。"
   ]
  },
  {
   "cell_type": "code",
   "execution_count": 34,
   "id": "06c675d5",
   "metadata": {},
   "outputs": [],
   "source": [
    "# 請在此處編寫您的代碼\n",
    "# 提示: 使用 sns.pairplot()"
   ]
  },
  {
   "cell_type": "markdown",
   "id": "b26e74e5",
   "metadata": {},
   "source": [
    "\n",
    "### 練習 3.6: 創建熱圖\n",
    "計算Titanic數據集中數值變量之間的相關性，並使用熱圖展示。\n",
    "要求在熱圖上顯示相關係數值。"
   ]
  },
  {
   "cell_type": "code",
   "execution_count": 35,
   "id": "08bb0ae2",
   "metadata": {},
   "outputs": [],
   "source": [
    "# 請在此處編寫您的代碼\n",
    "# 提示: 使用 titanic.corr() 和 sns.heatmap()"
   ]
  },
  {
   "cell_type": "markdown",
   "id": "875bcb85",
   "metadata": {},
   "source": [
    "\n",
    "## 📊 練習 4: 圖表美化與專業呈現"
   ]
  },
  {
   "cell_type": "markdown",
   "id": "5bb75496",
   "metadata": {},
   "source": [
    "\n",
    "### 練習 4.1: 改進原始圖表\n",
    "以下代碼創建了一個基本折線圖。請改進這個圖表，使其具有專業的外觀，包括：\n",
    "- 更好的顏色方案\n",
    "- 適當的標題和標籤（包括字體大小和間距）\n",
    "- 自定義軸刻度和網格\n",
    "- 背景和邊框的優化\n",
    "- 添加數據點標記"
   ]
  },
  {
   "cell_type": "code",
   "execution_count": 36,
   "id": "da6eca8c",
   "metadata": {},
   "outputs": [
    {
     "data": {
      "image/png": "[encoded data removed]",
      "text/plain": [
       "<Figure size 800x500 with 1 Axes>"
      ]
     },
     "metadata": {},
     "output_type": "display_data"
    }
   ],
   "source": [
    "# 原始圖表代碼\n",
    "x = np.linspace(0, 10, 100)\n",
    "y = np.sin(x) * np.exp(-x/5)\n",
    "\n",
    "plt.figure(figsize=(8, 5))\n",
    "plt.plot(x, y)\n",
    "plt.title('Sample Plot')\n",
    "plt.xlabel('x')\n",
    "plt.ylabel('y')\n",
    "plt.grid(True)\n",
    "plt.show()"
   ]
  },
  {
   "cell_type": "code",
   "execution_count": 37,
   "id": "0abcbbae",
   "metadata": {},
   "outputs": [],
   "source": [
    "# 請在此處添加您的改進版本"
   ]
  },
  {
   "cell_type": "markdown",
   "id": "30f19093",
   "metadata": {},
   "source": [
    "\n",
    "### 練習 4.2: 創建帶有註釋的圖表\n",
    "使用與練習4.1相同的數據，創建一個帶有以下元素的圖表：\n",
    "- 在最大值和最小值處添加標註（使用箭頭和文本）\n",
    "- 添加一個說明數據趨勢的文本框\n",
    "- 使用數學公式（使用LaTeX語法）標註函數表達式\n",
    "- 添加一個自定義圖例"
   ]
  },
  {
   "cell_type": "code",
   "execution_count": 38,
   "id": "24ac2e16",
   "metadata": {},
   "outputs": [],
   "source": [
    "# 請在此處編寫您的代碼"
   ]
  },
  {
   "cell_type": "markdown",
   "id": "c0215025",
   "metadata": {},
   "source": [
    "\n",
    "### 練習 4.3: 創建多子圖布局\n",
    "創建一個複雜的圖表，包含不同類型的子圖，要求：\n",
    "- 使用GridSpec創建非均勻的佈局（至少4個子圖）\n",
    "- 每個子圖展示不同類型的圖表（如直方圖、散點圖、折線圖等）\n",
    "- 子圖之間有適當的間距\n",
    "- 添加整體標題和每個子圖的標題\n",
    "- 確保坐標軸標籤不重疊"
   ]
  },
  {
   "cell_type": "code",
   "execution_count": 39,
   "id": "6072369f",
   "metadata": {},
   "outputs": [],
   "source": [
    "# 請在此處編寫您的代碼\n",
    "# 提示: 使用 GridSpec 或 plt.subplot2grid"
   ]
  },
  {
   "cell_type": "markdown",
   "id": "d50254b8",
   "metadata": {},
   "source": [
    "\n",
    "## 📋 提交指南\n",
    "\n",
    "完成所有練習後：\n",
    "1. 檢查每個圖表是否具有適當的標題、標籤和圖例\n",
    "2. 確保代碼清晰易讀，並有必要的註釋\n",
    "3. 保存您的結果"
   ]
  }
 ],
 "metadata": {
  "kernelspec": {
   "display_name": "Python 3",
   "language": "python",
   "name": "python3"
  },
  "language_info": {
   "codemirror_mode": {
    "name": "ipython",
    "version": 3
   },
   "file_extension": ".py",
   "mimetype": "text/x-python",
   "name": "python",
   "nbconvert_exporter": "python",
   "pygments_lexer": "ipython3",
   "version": "3.11.9"
  }
 },
 "nbformat": 4,
 "nbformat_minor": 5
}
