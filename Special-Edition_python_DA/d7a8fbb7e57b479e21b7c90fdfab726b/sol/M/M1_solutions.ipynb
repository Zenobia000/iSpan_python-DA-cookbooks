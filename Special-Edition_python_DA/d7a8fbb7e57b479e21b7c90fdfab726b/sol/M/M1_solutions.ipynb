{
 "cells": [
  {
   "cell_type": "markdown",
   "id": "a56cc3c1",
   "metadata": {},
   "source": [
    "# M1 NumPy 基礎練習解答"
   ]
  },
  {
   "cell_type": "code",
   "execution_count": 39,
   "id": "acef89e1",
   "metadata": {},
   "outputs": [],
   "source": [
    "## 環境設置\n",
    "\n",
    "import numpy as np\n",
    "import matplotlib.pyplot as plt\n",
    "\n",
    "# 設定字型以支援中文\n",
    "import matplotlib\n",
    "matplotlib.rc('font', family='Microsoft JhengHei')  # 設定微軟正黑體\n",
    "matplotlib.rcParams['axes.unicode_minus'] = False  # 解決負號顯示問題\n",
    "\n",
    "# 設定顯示選項，使輸出更易讀\n",
    "np.set_printoptions(precision=3, suppress=True)"
   ]
  },
  {
   "cell_type": "markdown",
   "id": "3a806514",
   "metadata": {},
   "source": [
    "\n",
    "## 練習 1: NumPy ndarray 與 Python list 的差異"
   ]
  },
  {
   "cell_type": "code",
   "execution_count": 41,
   "id": "6c1afe0b",
   "metadata": {},
   "outputs": [
    {
     "name": "stdout",
     "output_type": "stream",
     "text": [
      "Python list: [1, 2, 3, 4, 5], 型別: <class 'list'>\n",
      "NumPy array: [1 2 3 4 5], 型別: <class 'numpy.ndarray'>\n"
     ]
    }
   ],
   "source": [
    "# 1.1 建立一個包含數字 1 到 5 的 Python 列表和 NumPy 陣列\n",
    "python_list = [1, 2, 3, 4, 5]\n",
    "numpy_array = np.array([1, 2, 3, 4, 5])\n",
    "\n",
    "print(f\"Python list: {python_list}, 型別: {type(python_list)}\")\n",
    "print(f\"NumPy array: {numpy_array}, 型別: {type(numpy_array)}\")"
   ]
  },
  {
   "cell_type": "code",
   "execution_count": 42,
   "id": "832b0abb",
   "metadata": {},
   "outputs": [
    {
     "name": "stdout",
     "output_type": "stream",
     "text": [
      "Squared list: [1, 4, 9, 16, 25]\n",
      "Squared array: [ 1  4  9 16 25]\n"
     ]
    }
   ],
   "source": [
    "## 承上題\n",
    "# 1.2 比較兩者的運算效率: 計算每個元素的平方\n",
    "\n",
    "# 使用列表推導式計算平方\n",
    "squared_list = [x**2 for x in python_list]\n",
    "\n",
    "# 使用 NumPy 向量化操作計算平方\n",
    "squared_array = numpy_array**2\n",
    "\n",
    "print(f\"Squared list: {squared_list}\")\n",
    "print(f\"Squared array: {squared_array}\")"
   ]
  },
  {
   "cell_type": "code",
   "execution_count": 43,
   "id": "65fb0cc6",
   "metadata": {},
   "outputs": [
    {
     "name": "stdout",
     "output_type": "stream",
     "text": [
      "Python list 運算時間: 0.032617 秒\n",
      "NumPy array 運算時間: 0.000999 秒\n",
      "NumPy 加速比: 32.64x\n"
     ]
    }
   ],
   "source": [
    "# 1.3 實現一個簡單的效能測試，比較兩者在大陣列下的計算速度\n",
    "\n",
    "import time\n",
    "\n",
    "# 建立大型列表和陣列 (100萬個元素)\n",
    "large_list = list(range(1000000))\n",
    "large_array = np.arange(1000000)\n",
    "\n",
    "# 測量列表計算時間\n",
    "start_time = time.time()\n",
    "list_result = [x * 2 for x in large_list]\n",
    "list_time = time.time() - start_time\n",
    "\n",
    "# 測量 NumPy 計算時間\n",
    "start_time = time.time()\n",
    "array_result = large_array * 2\n",
    "array_time = time.time() - start_time\n",
    "\n",
    "print(f\"Python list 運算時間: {list_time:.6f} 秒\")\n",
    "print(f\"NumPy array 運算時間: {array_time:.6f} 秒\")\n",
    "print(f\"NumPy 加速比: {list_time/array_time:.2f}x\")"
   ]
  },
  {
   "cell_type": "markdown",
   "id": "fe38209e",
   "metadata": {},
   "source": [
    "\n",
    "## 練習 2: 陣列的建立方式"
   ]
  },
  {
   "cell_type": "code",
   "execution_count": 45,
   "id": "62a1a06f",
   "metadata": {},
   "outputs": [
    {
     "name": "stdout",
     "output_type": "stream",
     "text": [
      "從列表建立: [1 2 3 4 5], 形狀: (5,), 維度: 1\n",
      "從元組建立: [ 6  7  8  9 10], 形狀: (5,), 維度: 1\n"
     ]
    }
   ],
   "source": [
    "# 2.1 使用 np.array() 從列表和元組建立陣列\n",
    "# array 內部元素 1, 2, 3, 4, 5\n",
    "array1 = np.array([1, 2, 3, 4, 5])\n",
    "array2 = np.array((1, 2, 3, 4, 5))\n",
    "\n",
    "print(f\"從列表建立: {array1}, 形狀: {array1.shape}, 維度: {array1.ndim}\")\n",
    "print(f\"從元組建立: {array2}, 形狀: {array2.shape}, 維度: {array2.ndim}\")"
   ]
  },
  {
   "cell_type": "code",
   "execution_count": 46,
   "id": "9e9a7113",
   "metadata": {},
   "outputs": [
    {
     "name": "stdout",
     "output_type": "stream",
     "text": [
      "arange: [ 1  3  5  7  9 11 13 15 17 19]\n",
      "linspace: [0.   0.25 0.5  0.75 1.  ]\n",
      "單位矩陣:\n",
      "[[1. 0. 0.]\n",
      " [0. 1. 0.]\n",
      " [0. 0. 1.]]\n",
      "全零陣列:\n",
      "[[0. 0. 0.]\n",
      " [0. 0. 0.]]\n",
      "全一陣列:\n",
      "[[1. 1. 1.]\n",
      " [1. 1. 1.]]\n"
     ]
    }
   ],
   "source": [
    "# 2.2 使用 numpy 內建函數建立特殊陣列\n",
    "\n",
    "# 建立一個 1 到 20 間隔為 2 的陣列\n",
    "array3 = np.arange(1, 21, 2)\n",
    "\n",
    "# 建立一個 0 到 1 之間均勻分布的 5 個點\n",
    "array4 = np.linspace(0, 1, 5)\n",
    "\n",
    "# 建立一個 3x3 的單位矩陣\n",
    "array5 = np.eye(3)\n",
    "\n",
    "# 建立一個 2x3 的全零陣列和 2x3 的全一陣列\n",
    "array6 = np.zeros((2, 3))\n",
    "array7 = np.ones((2, 3))\n",
    "\n",
    "print(f\"arange: {array3}\")\n",
    "print(f\"linspace: {array4}\")\n",
    "print(f\"單位矩陣:\\n{array5}\")\n",
    "print(f\"全零陣列:\\n{array6}\")\n",
    "print(f\"全一陣列:\\n{array7}\")"
   ]
  },
  {
   "cell_type": "code",
   "execution_count": 76,
   "id": "1c106cd5",
   "metadata": {},
   "outputs": [
    {
     "name": "stdout",
     "output_type": "stream",
     "text": [
      "均勻分布隨機數:\n",
      "[[0.375 0.951 0.732]\n",
      " [0.599 0.156 0.156]]\n",
      "常態分布隨機數:\n",
      "[[ 1.579  0.767 -0.469  0.543 -0.463 -0.466  0.242 -1.913 -1.725 -0.562\n",
      "  -1.013  0.314 -0.908 -1.412  1.466 -0.226  0.068 -1.425 -0.544  0.111\n",
      "  -1.151  0.376 -0.601 -0.292 -0.602  1.852 -0.013 -1.058  0.823 -1.221]\n",
      " [ 0.209 -1.96  -1.328  0.197  0.738  0.171 -0.116 -0.301 -1.479 -0.72\n",
      "  -0.461  1.057  0.344 -1.763  0.324 -0.385 -0.677  0.612  1.031  0.931\n",
      "  -0.839 -0.309  0.331  0.976 -0.479 -0.186 -1.106 -1.196  0.813  1.356]]\n",
      "隨機整數: [91 35 65 99 47 78  3  1  5 90]\n"
     ]
    }
   ],
   "source": [
    "# 2.3 建立隨機數陣列\n",
    "\n",
    "# 設定隨機種子以便結果可重現\n",
    "np.random.seed(42)\n",
    "\n",
    "# 建立 2x3 的 0-1 均勻分布隨機數\n",
    "random1 = np.random.rand(2, 3)\n",
    "\n",
    "# 建立 2x30 的標準常態分布隨機數\n",
    "random2 = np.random.randn(2, 30)\n",
    "\n",
    "# 建立 10 個 1 到 100 間的隨機整數\n",
    "random3 = np.random.randint(1, 101, 10)\n",
    "\n",
    "print(f\"均勻分布隨機數:\\n{random1}\")\n",
    "print(f\"常態分布隨機數:\\n{random2}\")\n",
    "print(f\"隨機整數: {random3}\")"
   ]
  },
  {
   "cell_type": "code",
   "execution_count": 48,
   "id": "9c7b704b",
   "metadata": {},
   "outputs": [
    {
     "name": "stdout",
     "output_type": "stream",
     "text": [
      "原始陣列: [ 0  1  2  3  4  5  6  7  8  9 10 11]\n",
      "重塑後的陣列:\n",
      "[[ 0  1  2  3]\n",
      " [ 4  5  6  7]\n",
      " [ 8  9 10 11]]\n",
      "轉置後的陣列:\n",
      "[[ 0  4  8]\n",
      " [ 1  5  9]\n",
      " [ 2  6 10]\n",
      " [ 3  7 11]]\n"
     ]
    }
   ],
   "source": [
    "# 2.4 改變陣列形狀\n",
    "\n",
    "arr = np.arange(12)\n",
    "print(f\"原始陣列: {arr}\")\n",
    "\n",
    "# 將陣列重塑為 3x4 矩陣\n",
    "reshaped = arr.reshape(3, 4)\n",
    "\n",
    "# 將矩陣轉置\n",
    "transposed = reshaped.T\n",
    "\n",
    "print(f\"重塑後的陣列:\\n{reshaped}\")\n",
    "print(f\"轉置後的陣列:\\n{transposed}\")"
   ]
  },
  {
   "cell_type": "markdown",
   "id": "36069d07",
   "metadata": {},
   "source": [
    "\n",
    "## 練習 3: 索引與切片"
   ]
  },
  {
   "cell_type": "code",
   "execution_count": 50,
   "id": "d834529a",
   "metadata": {},
   "outputs": [
    {
     "name": "stdout",
     "output_type": "stream",
     "text": [
      "一維陣列: [0 1 2 3 4 5 6 7 8 9]\n",
      "第一個元素: 0\n",
      "最後一個元素: 9\n",
      "倒數第二個元素: 8\n",
      "前三個元素: [0 1 2]\n",
      "每隔一個元素: [0 2 4 6 8]\n",
      "反轉陣列: [9 8 7 6 5 4 3 2 1 0]\n"
     ]
    }
   ],
   "source": [
    "# 3.1 一維陣列的索引與切片\n",
    "arr_1d = np.arange(10)\n",
    "print(f\"一維陣列: {arr_1d}\")\n",
    "\n",
    "# 選取第一個、最後一個和倒數第二個元素\n",
    "first = arr_1d[0]\n",
    "last = arr_1d[-1]\n",
    "second_last = arr_1d[-2]\n",
    "\n",
    "# 選取前三個元素\n",
    "first_three = arr_1d[:3]\n",
    "\n",
    "# 每隔一個元素選取\n",
    "every_other = arr_1d[::2]\n",
    "\n",
    "# 反轉陣列\n",
    "reversed_arr = arr_1d[::-1]\n",
    "\n",
    "print(f\"第一個元素: {first}\")\n",
    "print(f\"最後一個元素: {last}\")\n",
    "print(f\"倒數第二個元素: {second_last}\")\n",
    "print(f\"前三個元素: {first_three}\")\n",
    "print(f\"每隔一個元素: {every_other}\")\n",
    "print(f\"反轉陣列: {reversed_arr}\")"
   ]
  },
  {
   "cell_type": "code",
   "execution_count": 51,
   "id": "0e33fb21",
   "metadata": {},
   "outputs": [
    {
     "name": "stdout",
     "output_type": "stream",
     "text": [
      "二維陣列:\n",
      "[[ 0  1  2  3]\n",
      " [ 4  5  6  7]\n",
      " [ 8  9 10 11]\n",
      " [12 13 14 15]]\n",
      "元素 [0, 1]: 1\n",
      "第一列: [0 1 2 3]\n",
      "第一行: [ 0  4  8 12]\n",
      "子矩陣:\n",
      "[[0 1]\n",
      " [4 5]]\n"
     ]
    }
   ],
   "source": [
    "# 3.2 二維陣列的索引與切片\n",
    "arr_2d = np.arange(16).reshape(4, 4)\n",
    "print(f\"二維陣列:\\n{arr_2d}\")\n",
    "\n",
    "# 選取第一列第二行的元素 (索引 [0, 1])\n",
    "element = arr_2d[0, 1]\n",
    "\n",
    "# 選取第一列的所有元素\n",
    "first_row = arr_2d[0]\n",
    "\n",
    "# 選取第一行的所有元素\n",
    "first_col = arr_2d[:, 0]\n",
    "\n",
    "# 選取子矩陣: 前兩列的前兩行\n",
    "sub_matrix = arr_2d[:2, :2]\n",
    "\n",
    "print(f\"元素 [0, 1]: {element}\")\n",
    "print(f\"第一列: {first_row}\")\n",
    "print(f\"第一行: {first_col}\")\n",
    "print(f\"子矩陣:\\n{sub_matrix}\")"
   ]
  },
  {
   "cell_type": "code",
   "execution_count": 52,
   "id": "c5126c56",
   "metadata": {},
   "outputs": [
    {
     "name": "stdout",
     "output_type": "stream",
     "text": [
      "陣列: [0 1 2 3 4 5 6 7 8 9]\n",
      "大於 5 的元素: [6 7 8 9]\n",
      "偶數: [0 2 4 6 8]\n",
      "3 和 8 之間的元素: [3 4 5 6 7 8]\n"
     ]
    }
   ],
   "source": [
    "# 3.3 布林索引\n",
    "arr = np.arange(10)\n",
    "print(f\"陣列: {arr}\")\n",
    "\n",
    "# 選取所有大於 5 的元素\n",
    "greater_than_5 = arr[arr > 5]\n",
    "\n",
    "# 選取所有偶數\n",
    "even_numbers = arr[arr % 2 == 0]\n",
    "\n",
    "# 選取所有處於 3 和 8 之間的元素 (包含)\n",
    "between_3_and_8 = arr[(arr >= 3) & (arr <= 8)]\n",
    "\n",
    "print(f\"大於 5 的元素: {greater_than_5}\")\n",
    "print(f\"偶數: {even_numbers}\")\n",
    "print(f\"3 和 8 之間的元素: {between_3_and_8}\")"
   ]
  },
  {
   "cell_type": "code",
   "execution_count": 53,
   "id": "a4aa7b97",
   "metadata": {},
   "outputs": [
    {
     "name": "stdout",
     "output_type": "stream",
     "text": [
      "陣列: [ 0 10 20 30 40 50 60 70 80 90]\n",
      "選取的元素: [10 30 50 80]\n",
      "二維陣列:\n",
      "[[ 0  1  2  3]\n",
      " [ 4  5  6  7]\n",
      " [ 8  9 10 11]\n",
      " [12 13 14 15]]\n",
      "選取的列:\n",
      "[[ 0  1  2  3]\n",
      " [ 8  9 10 11]\n",
      " [12 13 14 15]]\n"
     ]
    }
   ],
   "source": [
    "# 3.4 花式索引\n",
    "arr = np.arange(10) * 10  # [0, 10, 20, ..., 90]\n",
    "print(f\"陣列: {arr}\")\n",
    "\n",
    "# 使用索引陣列獲取特定位置的元素\n",
    "indices = [1, 3, 5, 8]\n",
    "selected = arr[indices]\n",
    "\n",
    "print(f\"選取的元素: {selected}\")\n",
    "\n",
    "# 在二維陣列上使用花式索引\n",
    "arr_2d = np.arange(16).reshape(4, 4)\n",
    "print(f\"二維陣列:\\n{arr_2d}\")\n",
    "\n",
    "# 選取第 0、2 和 3 列\n",
    "row_indices = [0, 2, 3]\n",
    "selected_rows = arr_2d[row_indices]\n",
    "\n",
    "print(f\"選取的列:\\n{selected_rows}\")"
   ]
  },
  {
   "cell_type": "markdown",
   "id": "0f8684ec",
   "metadata": {},
   "source": [
    "\n",
    "## 練習 4: Broadcasting 機制"
   ]
  },
  {
   "cell_type": "code",
   "execution_count": 55,
   "id": "cbf8b0f3",
   "metadata": {},
   "outputs": [
    {
     "name": "stdout",
     "output_type": "stream",
     "text": [
      "原始陣列: [1 2 3 4 5]\n",
      "加 10 後: [11 12 13 14 15]\n",
      "乘 2 後: [ 2  4  6  8 10]\n"
     ]
    }
   ],
   "source": [
    "# 4.1 基本廣播: 標量與陣列\n",
    "arr = np.array([1, 2, 3, 4, 5])\n",
    "\n",
    "# 將陣列的每個元素加 10\n",
    "result1 = arr + 10\n",
    "\n",
    "# 將陣列的每個元素乘 2\n",
    "result2 = arr * 2\n",
    "\n",
    "print(f\"原始陣列: {arr}\")\n",
    "print(f\"加 10 後: {result1}\")\n",
    "print(f\"乘 2 後: {result2}\")"
   ]
  },
  {
   "cell_type": "code",
   "execution_count": 56,
   "id": "18934821",
   "metadata": {},
   "outputs": [
    {
     "name": "stdout",
     "output_type": "stream",
     "text": [
      "二維陣列 (3x4):\n",
      "[[1. 1. 1. 1.]\n",
      " [1. 1. 1. 1.]\n",
      " [1. 1. 1. 1.]]\n",
      "一維陣列: [1 2 3 4]\n",
      "廣播結果:\n",
      "[[2. 3. 4. 5.]\n",
      " [2. 3. 4. 5.]\n",
      " [2. 3. 4. 5.]]\n"
     ]
    }
   ],
   "source": [
    "# 4.2 一維陣列與二維陣列的廣播\n",
    "arr_2d = np.ones((3, 4))\n",
    "arr_1d = np.array([1, 2, 3, 4])\n",
    "\n",
    "print(f\"二維陣列 (3x4):\\n{arr_2d}\")\n",
    "print(f\"一維陣列: {arr_1d}\")\n",
    "\n",
    "# 將一維陣列加到二維陣列的每一列\n",
    "result3 = arr_2d + arr_1d\n",
    "\n",
    "print(f\"廣播結果:\\n{result3}\")"
   ]
  },
  {
   "cell_type": "code",
   "execution_count": 57,
   "id": "0908f753",
   "metadata": {},
   "outputs": [
    {
     "name": "stdout",
     "output_type": "stream",
     "text": [
      "陣列: [1 2 3]\n",
      "列向量:\n",
      "[[1]\n",
      " [2]\n",
      " [3]]\n",
      "行向量:\n",
      "[[1 2 3]]\n",
      "外積結果:\n",
      "[[1 2 3]\n",
      " [2 4 6]\n",
      " [3 6 9]]\n"
     ]
    }
   ],
   "source": [
    "# 4.3 使用 reshape 和 newaxis 輔助廣播\n",
    "arr = np.array([1, 2, 3])\n",
    "print(f\"陣列: {arr}\")\n",
    "\n",
    "# 將一維陣列轉為列向量 (3x1)\n",
    "col_vector = arr[:, np.newaxis]  # 或 arr.reshape(-1, 1)\n",
    "\n",
    "# 將一維陣列轉為行向量 (1x3)\n",
    "row_vector = arr[np.newaxis, :]  # 或 arr.reshape(1, -1)\n",
    "\n",
    "print(f\"列向量:\\n{col_vector}\")\n",
    "print(f\"行向量:\\n{row_vector}\")\n",
    "\n",
    "# 計算外積 (每個元素對的乘積)\n",
    "outer_product = col_vector * row_vector\n",
    "\n",
    "print(f\"外積結果:\\n{outer_product}\")"
   ]
  },
  {
   "cell_type": "code",
   "execution_count": 58,
   "id": "24ab5c1b",
   "metadata": {},
   "outputs": [
    {
     "name": "stdout",
     "output_type": "stream",
     "text": [
      "原始數據:\n",
      "[[1 2 3]\n",
      " [4 5 6]\n",
      " [7 8 9]]\n",
      "列均值: [4. 5. 6.]\n",
      "列標準差: [2.449 2.449 2.449]\n",
      "標準化後的數據:\n",
      "[[-1.225 -1.225 -1.225]\n",
      " [ 0.     0.     0.   ]\n",
      " [ 1.225  1.225  1.225]]\n"
     ]
    }
   ],
   "source": [
    "# 4.4 應用: 數據標準化\n",
    "data = np.array([[1, 2, 3], [4, 5, 6], [7, 8, 9]])\n",
    "print(f\"原始數據:\\n{data}\")\n",
    "\n",
    "# 計算每列的均值\n",
    "col_means = data.mean(axis=0)\n",
    "\n",
    "# 計算每列的標準差\n",
    "col_stds = data.std(axis=0)\n",
    "\n",
    "print(f\"列均值: {col_means}\")\n",
    "print(f\"列標準差: {col_stds}\")\n",
    "\n",
    "# 標準化數據 (減去均值並除以標準差)\n",
    "standardized = (data - col_means) / col_stds\n",
    "\n",
    "print(f\"標準化後的數據:\\n{standardized}\")"
   ]
  },
  {
   "cell_type": "markdown",
   "id": "4215b4d2",
   "metadata": {},
   "source": [
    "\n",
    "## 練習 5: NumPy 數學函數"
   ]
  },
  {
   "cell_type": "code",
   "execution_count": 60,
   "id": "5e68cee4",
   "metadata": {},
   "outputs": [
    {
     "name": "stdout",
     "output_type": "stream",
     "text": [
      "陣列: [-3 -2 -1  0  1  2  3]\n",
      "絕對值: [3 2 1 0 1 2 3]\n",
      "平方根 (忽略警告): [  nan   nan   nan 0.    1.    1.414 1.732]\n",
      "指數: [ 0.05   0.135  0.368  1.     2.718  7.389 20.086]\n",
      "自然對數 (忽略警告): [  nan   nan   nan  -inf 0.    0.693 1.099]\n"
     ]
    },
    {
     "name": "stderr",
     "output_type": "stream",
     "text": [
      "C:\\Users\\xdxd2\\AppData\\Local\\Temp\\ipykernel_2320\\3188906924.py:17: RuntimeWarning: divide by zero encountered in log\n",
      "  log_x = np.log(x)\n"
     ]
    }
   ],
   "source": [
    "# 5.1 基本數學函數\n",
    "x = np.array([-3, -2, -1, 0, 1, 2, 3])\n",
    "print(f\"陣列: {x}\")\n",
    "\n",
    "# 計算絕對值\n",
    "abs_x = np.abs(x)\n",
    "\n",
    "# 計算平方根 (忽略負數的警告)\n",
    "with np.errstate(invalid='ignore'):\n",
    "    sqrt_x = np.sqrt(x)\n",
    "\n",
    "# 計算指數 (e^x)\n",
    "exp_x = np.exp(x)\n",
    "\n",
    "# 計算自然對數 (忽略負數的警告)\n",
    "with np.errstate(invalid='ignore'):\n",
    "    log_x = np.log(x)\n",
    "\n",
    "print(f\"絕對值: {abs_x}\")\n",
    "print(f\"平方根 (忽略警告): {sqrt_x}\")\n",
    "print(f\"指數: {exp_x}\")\n",
    "print(f\"自然對數 (忽略警告): {log_x}\")"
   ]
  },
  {
   "cell_type": "code",
   "execution_count": 61,
   "id": "78e7731b",
   "metadata": {},
   "outputs": [
    {
     "name": "stdout",
     "output_type": "stream",
     "text": [
      "角度 (弧度): [0.    0.785 1.571 3.142]\n",
      "正弦值: [0.    0.707 1.    0.   ]\n",
      "餘弦值: [ 1.     0.707  0.    -1.   ]\n",
      "正切值: [ 0.000e+00  1.000e+00  1.633e+16 -1.225e-16]\n"
     ]
    }
   ],
   "source": [
    "# 5.2 三角函數\n",
    "angles = np.array([0, np.pi/4, np.pi/2, np.pi])\n",
    "print(f\"角度 (弧度): {angles}\")\n",
    "\n",
    "# 計算正弦值\n",
    "sin_values = np.sin(angles)\n",
    "\n",
    "# 計算餘弦值\n",
    "cos_values = np.cos(angles)\n",
    "\n",
    "# 計算正切值\n",
    "tan_values = np.tan(angles)\n",
    "\n",
    "print(f\"正弦值: {sin_values}\")\n",
    "print(f\"餘弦值: {cos_values}\")\n",
    "print(f\"正切值: {tan_values}\")"
   ]
  },
  {
   "cell_type": "code",
   "execution_count": 62,
   "id": "833116bf",
   "metadata": {},
   "outputs": [
    {
     "name": "stdout",
     "output_type": "stream",
     "text": [
      "數據: [ 1  2  3  4  5  6  7  8  9 10]\n",
      "均值: 5.5\n",
      "中位數: 5.5\n",
      "標準差: 2.8722813232690143\n",
      "最小值: 1\n",
      "最大值: 10\n",
      "總和: 55\n"
     ]
    }
   ],
   "source": [
    "# 5.3 統計函數\n",
    "data = np.array([1, 2, 3, 4, 5, 6, 7, 8, 9, 10])\n",
    "print(f\"數據: {data}\")\n",
    "\n",
    "# 計算均值\n",
    "mean_value = np.mean(data)\n",
    "\n",
    "# 計算中位數\n",
    "median_value = np.median(data)\n",
    "\n",
    "# 計算標準差\n",
    "std_value = np.std(data)\n",
    "\n",
    "# 計算最小值和最大值\n",
    "min_value = np.min(data)\n",
    "max_value = np.max(data)\n",
    "\n",
    "# 計算總和\n",
    "sum_value = np.sum(data)\n",
    "\n",
    "print(f\"均值: {mean_value}\")\n",
    "print(f\"中位數: {median_value}\")\n",
    "print(f\"標準差: {std_value}\")\n",
    "print(f\"最小值: {min_value}\")\n",
    "print(f\"最大值: {max_value}\")\n",
    "print(f\"總和: {sum_value}\")"
   ]
  },
  {
   "cell_type": "code",
   "execution_count": 63,
   "id": "90fcfdee",
   "metadata": {},
   "outputs": [
    {
     "name": "stdout",
     "output_type": "stream",
     "text": [
      "矩陣 A:\n",
      "[[1 2]\n",
      " [3 4]]\n",
      "矩陣 B:\n",
      "[[5 6]\n",
      " [7 8]]\n",
      "矩陣乘法 (A @ B):\n",
      "[[19 22]\n",
      " [43 50]]\n",
      "A 的行列式: -2.0000000000000004\n",
      "A 的逆矩陣:\n",
      "[[-2.   1. ]\n",
      " [ 1.5 -0.5]]\n",
      "A 的特徵值: [-0.372  5.372]\n",
      "A 的特徵向量:\n",
      "[[-0.825 -0.416]\n",
      " [ 0.566 -0.909]]\n"
     ]
    }
   ],
   "source": [
    "# 5.4 線性代數函數\n",
    "A = np.array([[1, 2], [3, 4]])\n",
    "B = np.array([[5, 6], [7, 8]])\n",
    "print(f\"矩陣 A:\\n{A}\")\n",
    "print(f\"矩陣 B:\\n{B}\")\n",
    "\n",
    "# 計算矩陣乘法\n",
    "matrix_product = A @ B  # 或 np.matmul(A, B) 或 np.dot(A, B)\n",
    "\n",
    "# 計算矩陣的行列式\n",
    "det_A = np.linalg.det(A)\n",
    "\n",
    "# 計算矩陣的逆\n",
    "inv_A = np.linalg.inv(A)\n",
    "\n",
    "# 計算特徵值和特徵向量\n",
    "eigenvalues, eigenvectors = np.linalg.eig(A)\n",
    "\n",
    "print(f\"矩陣乘法 (A @ B):\\n{matrix_product}\")\n",
    "print(f\"A 的行列式: {det_A}\")\n",
    "print(f\"A 的逆矩陣:\\n{inv_A}\")\n",
    "print(f\"A 的特徵值: {eigenvalues}\")\n",
    "print(f\"A 的特徵向量:\\n{eigenvectors}\")"
   ]
  },
  {
   "cell_type": "code",
   "execution_count": 64,
   "id": "de0d63f9",
   "metadata": {},
   "outputs": [
    {
     "name": "stdout",
     "output_type": "stream",
     "text": [
      "矩陣 A:\n",
      "[[3 1]\n",
      " [1 2]]\n",
      "向量 b: [9 8]\n",
      "解向量 x: [2. 3.]\n",
      "驗證 A @ x = [9. 8.]\n"
     ]
    }
   ],
   "source": [
    "# 5.5 求解線性方程組 Ax = b\n",
    "A = np.array([[3, 1], [1, 2]])\n",
    "b = np.array([9, 8])\n",
    "print(f\"矩陣 A:\\n{A}\")\n",
    "print(f\"向量 b: {b}\")\n",
    "\n",
    "# 求解方程 Ax = b\n",
    "x = np.linalg.solve(A, b)\n",
    "\n",
    "print(f\"解向量 x: {x}\")\n",
    "print(f\"驗證 A @ x = {A @ x}\")"
   ]
  },
  {
   "cell_type": "markdown",
   "id": "ca7d0060",
   "metadata": {},
   "source": [
    "\n",
    "## 練習 6: 小型統計分析應用"
   ]
  },
  {
   "cell_type": "code",
   "execution_count": 66,
   "id": "e144f35b",
   "metadata": {},
   "outputs": [
    {
     "name": "stdout",
     "output_type": "stream",
     "text": [
      "身高數據 (前 5 個): [173.477 169.032 174.534 180.661 168.361]\n",
      "體重數據 (前 5 個): [68.241 61.149 58.231 71.117 75.31 ]\n"
     ]
    }
   ],
   "source": [
    "# 6.1 生成模擬數據\n",
    "np.random.seed(42)\n",
    "\n",
    "# 生成兩組正態分布數據，均值和標準差不同\n",
    "# 第一組: 均值為 170，標準差為 7 的 50 個數據點 (代表身高)\n",
    "heights = np.random.normal(170, 7, 50)\n",
    "\n",
    "# 第二組: 均值為 65，標準差為 10 的 50 個數據點 (代表體重)\n",
    "weights = np.random.normal(65, 10, 50)\n",
    "\n",
    "print(f\"身高數據 (前 5 個): {heights[:5]}\")\n",
    "print(f\"體重數據 (前 5 個): {weights[:5]}\")"
   ]
  },
  {
   "cell_type": "code",
   "execution_count": 67,
   "id": "96ee9d72",
   "metadata": {},
   "outputs": [
    {
     "name": "stdout",
     "output_type": "stream",
     "text": [
      "身高統計量:\n",
      "  mean: 168.42\n",
      "  median: 168.36\n",
      "  std: 6.47\n",
      "  min: 156.28\n",
      "  max: 182.97\n",
      "\n",
      "體重統計量:\n",
      "  mean: 65.18\n",
      "  median: 65.46\n",
      "  std: 8.66\n",
      "  min: 38.80\n",
      "  max: 80.65\n"
     ]
    }
   ],
   "source": [
    "# 6.2 數據分析\n",
    "# 計算身高和體重的基本統計量\n",
    "height_stats = {\n",
    "    'mean': np.mean(heights),\n",
    "    'median': np.median(heights),\n",
    "    'std': np.std(heights),\n",
    "    'min': np.min(heights),\n",
    "    'max': np.max(heights)\n",
    "}\n",
    "\n",
    "weight_stats = {\n",
    "    'mean': np.mean(weights),\n",
    "    'median': np.median(weights),\n",
    "    'std': np.std(weights),\n",
    "    'min': np.min(weights),\n",
    "    'max': np.max(weights)\n",
    "}\n",
    "\n",
    "print(\"身高統計量:\")\n",
    "for key, value in height_stats.items():\n",
    "    print(f\"  {key}: {value:.2f}\")\n",
    "\n",
    "print(\"\\n體重統計量:\")\n",
    "for key, value in weight_stats.items():\n",
    "    print(f\"  {key}: {value:.2f}\")"
   ]
  },
  {
   "cell_type": "code",
   "execution_count": 68,
   "id": "eca784e9",
   "metadata": {},
   "outputs": [
    {
     "name": "stdout",
     "output_type": "stream",
     "text": [
      "BMI 數據 (前 5 個): [22.676 21.402 19.116 21.789 26.569]\n",
      "BMI 均值: 23.05\n",
      "BMI 標準差: 3.39\n"
     ]
    }
   ],
   "source": [
    "# 6.3 計算 BMI 指數\n",
    "# BMI = 體重(kg) / 身高(m)^2\n",
    "\n",
    "# 將身高從 cm 轉換為 m\n",
    "heights_m = heights / 100\n",
    "\n",
    "# 計算 BMI\n",
    "bmi = weights / heights_m**2\n",
    "\n",
    "print(f\"BMI 數據 (前 5 個): {bmi[:5]}\")\n",
    "print(f\"BMI 均值: {np.mean(bmi):.2f}\")\n",
    "print(f\"BMI 標準差: {np.std(bmi):.2f}\")"
   ]
  },
  {
   "cell_type": "code",
   "execution_count": 69,
   "id": "4282a952",
   "metadata": {},
   "outputs": [
    {
     "data": {
      "image/png": "[encoded data removed]",
      "text/plain": [
       "<Figure size 1200x500 with 3 Axes>"
      ]
     },
     "metadata": {},
     "output_type": "display_data"
    }
   ],
   "source": [
    "# 6.4 數據視覺化\n",
    "plt.figure(figsize=(12, 5))\n",
    "\n",
    "# 繪製身高分布\n",
    "plt.subplot(1, 3, 1)\n",
    "plt.hist(heights, bins=10, color='skyblue', edgecolor='black')\n",
    "plt.title('身高分布')\n",
    "plt.xlabel('身高 (cm)')\n",
    "plt.ylabel('頻率')\n",
    "\n",
    "# 繪製體重分布\n",
    "plt.subplot(1, 3, 2)\n",
    "plt.hist(weights, bins=10, color='lightgreen', edgecolor='black')\n",
    "plt.title('體重分布')\n",
    "plt.xlabel('體重 (kg)')\n",
    "plt.ylabel('頻率')\n",
    "\n",
    "# 繪製 BMI 分布\n",
    "plt.subplot(1, 3, 3)\n",
    "plt.hist(bmi, bins=10, color='salmon', edgecolor='black')\n",
    "plt.title('BMI 分布')\n",
    "plt.xlabel('BMI')\n",
    "plt.ylabel('頻率')\n",
    "\n",
    "plt.tight_layout()"
   ]
  },
  {
   "cell_type": "code",
   "execution_count": 70,
   "id": "81526196",
   "metadata": {},
   "outputs": [
    {
     "name": "stdout",
     "output_type": "stream",
     "text": [
      "BMI 分類統計:\n",
      "過輕: 5 人 (10.0%)\n",
      "正常: 26 人 (52.0%)\n",
      "過重: 15 人 (30.0%)\n",
      "肥胖: 4 人 (8.0%)\n"
     ]
    }
   ],
   "source": [
    "# 6.5 數據分類與布林索引\n",
    "# 根據 BMI 將數據分為不同類別\n",
    "# BMI < 18.5: 過輕\n",
    "# 18.5 <= BMI < 24: 正常\n",
    "# 24 <= BMI < 28: 過重\n",
    "# BMI >= 28: 肥胖\n",
    "\n",
    "# 使用布林索引分類\n",
    "underweight = bmi < 18.5\n",
    "normal = (bmi >= 18.5) & (bmi < 24)\n",
    "overweight = (bmi >= 24) & (bmi < 28)\n",
    "obese = bmi >= 28\n",
    "\n",
    "# 計算各類別人數與佔比\n",
    "total = len(bmi)\n",
    "underweight_count = np.sum(underweight)\n",
    "normal_count = np.sum(normal)\n",
    "overweight_count = np.sum(overweight)\n",
    "obese_count = np.sum(obese)\n",
    "\n",
    "print(\"BMI 分類統計:\")\n",
    "print(f\"過輕: {underweight_count} 人 ({underweight_count/total*100:.1f}%)\")\n",
    "print(f\"正常: {normal_count} 人 ({normal_count/total*100:.1f}%)\")\n",
    "print(f\"過重: {overweight_count} 人 ({overweight_count/total*100:.1f}%)\")\n",
    "print(f\"肥胖: {obese_count} 人 ({obese_count/total*100:.1f}%)\")"
   ]
  },
  {
   "cell_type": "code",
   "execution_count": 71,
   "id": "42c249c8",
   "metadata": {},
   "outputs": [
    {
     "name": "stdout",
     "output_type": "stream",
     "text": [
      "身高與體重的相關係數: 0.1101\n",
      "線性回歸結果: 體重 = 0.1473 × 身高 + 40.3776\n"
     ]
    },
    {
     "data": {
      "text/plain": [
       "<matplotlib.legend.Legend at 0x1e7ca7f2bd0>"
      ]
     },
     "execution_count": 71,
     "metadata": {},
     "output_type": "execute_result"
    },
    {
     "data": {
      "image/png": "[encoded data removed]",
      "text/plain": [
       "<Figure size 800x600 with 1 Axes>"
      ]
     },
     "metadata": {},
     "output_type": "display_data"
    }
   ],
   "source": [
    "# 6.6 高級分析: 身高體重相關性\n",
    "# 計算身高與體重的相關係數\n",
    "correlation = np.corrcoef(heights, weights)[0, 1]\n",
    "print(f\"身高與體重的相關係數: {correlation:.4f}\")\n",
    "\n",
    "# 使用 NumPy 的 polyfit 進行線性回歸\n",
    "slope, intercept = np.polyfit(heights, weights, 1)\n",
    "print(f\"線性回歸結果: 體重 = {slope:.4f} × 身高 + {intercept:.4f}\")\n",
    "\n",
    "# 繪製散點圖與回歸線\n",
    "plt.figure(figsize=(8, 6))\n",
    "plt.scatter(heights, weights, alpha=0.7)\n",
    "plt.plot(heights, slope * heights + intercept, 'r-', label='回歸線')\n",
    "plt.title(f'身高與體重的關係 (相關係數: {correlation:.4f})')\n",
    "plt.xlabel('身高 (cm)')\n",
    "plt.ylabel('體重 (kg)')\n",
    "plt.grid(True, alpha=0.3)\n",
    "plt.legend()"
   ]
  },
  {
   "cell_type": "markdown",
   "id": "c60d61b9",
   "metadata": {},
   "source": [
    "\n",
    "## 挑戰題 (選做)"
   ]
  },
  {
   "cell_type": "code",
   "execution_count": 73,
   "id": "b4f540b1",
   "metadata": {},
   "outputs": [
    {
     "name": "stdout",
     "output_type": "stream",
     "text": [
      "原始圖像:\n",
      "[[102 179  92  14 106  71 188  20 102 121]\n",
      " [210 214  74 202  87 116  99 103 151 130]\n",
      " [149  52   1  87 235 157  37 129 191 187]\n",
      " [ 20 160 203  57  21 252 235  88  48 218]\n",
      " [ 58 254 169 255 219 187 207  14 189 189]\n",
      " [174 189  50 107  54 243  63 248 130 228]\n",
      " [ 50 134  20  72 166  17 131  88  59  13]\n",
      " [241 249   8  89  52 129  83  91 110 187]\n",
      " [198 171 252   7 174  34 205  80 163  49]\n",
      " [103 131   1 253 133  53 105   3  53 220]]\n",
      "\n",
      "旋轉 90 度後的圖像:\n",
      "[[121 130 187 218 189 228  13 187  49 220]\n",
      " [102 151 191  48 189 130  59 110 163  53]\n",
      " [ 20 103 129  88  14 248  88  91  80   3]\n",
      " [188  99  37 235 207  63 131  83 205 105]\n",
      " [ 71 116 157 252 187 243  17 129  34  53]\n",
      " [106  87 235  21 219  54 166  52 174 133]\n",
      " [ 14 202  87  57 255 107  72  89   7 253]\n",
      " [ 92  74   1 203 169  50  20   8 252   1]\n",
      " [179 214  52 160 254 189 134 249 171 131]\n",
      " [102 210 149  20  58 174  50 241 198 103]]\n",
      "\n",
      "水平翻轉後的圖像:\n",
      "[[121 102  20 188  71 106  14  92 179 102]\n",
      " [130 151 103  99 116  87 202  74 214 210]\n",
      " [187 191 129  37 157 235  87   1  52 149]\n",
      " [218  48  88 235 252  21  57 203 160  20]\n",
      " [189 189  14 207 187 219 255 169 254  58]\n",
      " [228 130 248  63 243  54 107  50 189 174]\n",
      " [ 13  59  88 131  17 166  72  20 134  50]\n",
      " [187 110  91  83 129  52  89   8 249 241]\n",
      " [ 49 163  80 205  34 174   7 252 171 198]\n",
      " [220  53   3 105  53 133 253   1 131 103]]\n",
      "\n",
      "中心 4x4 區域:\n",
      "[[ 57  21 252 235]\n",
      " [255 219 187 207]\n",
      " [107  54 243  63]\n",
      " [ 72 166  17 131]]\n",
      "\n",
      "提高亮度後的圖像:\n",
      "[[152 229 142  64 156 121 238  70 152 171]\n",
      " [255 255 124 252 137 166 149 153 201 180]\n",
      " [199 102  51 137 255 207  87 179 241 237]\n",
      " [ 70 210 253 107  71 255 255 138  98 255]\n",
      " [108 255 219 255 255 237 255  64 239 239]\n",
      " [224 239 100 157 104 255 113 255 180 255]\n",
      " [100 184  70 122 216  67 181 138 109  63]\n",
      " [255 255  58 139 102 179 133 141 160 237]\n",
      " [248 221 255  57 224  84 255 130 213  99]\n",
      " [153 181  51 255 183 103 155  53 103 255]]\n"
     ]
    }
   ],
   "source": [
    "# 挑戰 1: 使用 NumPy 實現簡單的圖像操作\n",
    "# 創建一個模擬的灰度圖像 (10x10 的矩陣)\n",
    "np.random.seed(42)\n",
    "image = np.random.randint(0, 256, size=(10, 10))\n",
    "print(\"原始圖像:\")\n",
    "print(image)\n",
    "\n",
    "# 將圖像旋轉 90 度\n",
    "rotated = np.rot90(image)\n",
    "print(\"\\n旋轉 90 度後的圖像:\")\n",
    "print(rotated)\n",
    "\n",
    "# 將圖像沿著水平方向翻轉\n",
    "flipped = np.fliplr(image)\n",
    "print(\"\\n水平翻轉後的圖像:\")\n",
    "print(flipped)\n",
    "\n",
    "# 提取圖像的中心 4x4 區域\n",
    "center = image[3:7, 3:7]\n",
    "print(\"\\n中心 4x4 區域:\")\n",
    "print(center)\n",
    "\n",
    "# 將圖像的亮度提高 (所有像素值加 50，但不超過 255)\n",
    "brightened = np.clip(image + 50, 0, 255)\n",
    "print(\"\\n提高亮度後的圖像:\")\n",
    "print(brightened)"
   ]
  },
  {
   "cell_type": "code",
   "execution_count": 74,
   "id": "710d57db",
   "metadata": {},
   "outputs": [
    {
     "name": "stdout",
     "output_type": "stream",
     "text": [
      "蒙地卡羅方法估算的圓周率: 3.1544\n",
      "實際圓周率 (np.pi): 3.141592653589793\n",
      "誤差: 0.012807346410206755\n"
     ]
    },
    {
     "data": {
      "image/png": "[encoded data removed]",
      "text/plain": [
       "<Figure size 600x600 with 1 Axes>"
      ]
     },
     "metadata": {},
     "output_type": "display_data"
    }
   ],
   "source": [
    "# 挑戰 2: 實現蒙地卡羅模擬估算圓周率\n",
    "# 提示: 在單位正方形內隨機生成點，計算落在單位圓內的點的比例\n",
    "np.random.seed(42)\n",
    "\n",
    "# 生成大量隨機點 (x, y)，其中 x, y 均勻分布在 [-1, 1] 之間\n",
    "n_points = 10000\n",
    "points = np.random.uniform(-1, 1, (n_points, 2))\n",
    "\n",
    "# 計算每個點到原點的距離\n",
    "distances = np.sqrt(points[:, 0]**2 + points[:, 1]**2)\n",
    "\n",
    "# 計算落在單位圓內的點的數量 (距離 <= 1)\n",
    "in_circle = distances <= 1\n",
    "\n",
    "# 估算圓周率 (圓內點數 / 總點數 * 4)\n",
    "pi_estimate = np.sum(in_circle) / n_points * 4\n",
    "\n",
    "print(f\"蒙地卡羅方法估算的圓周率: {pi_estimate}\")\n",
    "print(f\"實際圓周率 (np.pi): {np.pi}\")\n",
    "print(f\"誤差: {abs(pi_estimate - np.pi)}\")\n",
    "\n",
    "# 視覺化\n",
    "plt.figure(figsize=(6, 6))\n",
    "in_circle_points = points[in_circle]\n",
    "out_circle_points = points[~in_circle]\n",
    "plt.scatter(in_circle_points[:, 0], in_circle_points[:, 1], s=1, c='blue', alpha=0.5, label='圓內')\n",
    "plt.scatter(out_circle_points[:, 0], out_circle_points[:, 1], s=1, c='red', alpha=0.5, label='圓外')\n",
    "plt.axis('equal')\n",
    "plt.title(f'蒙地卡羅估算圓周率: {pi_estimate:.6f}')\n",
    "plt.legend()\n",
    "plt.grid(True, alpha=0.3)"
   ]
  }
 ],
 "metadata": {
  "kernelspec": {
   "display_name": "Python 3",
   "language": "python",
   "name": "python3"
  },
  "language_info": {
   "codemirror_mode": {
    "name": "ipython",
    "version": 3
   },
   "file_extension": ".py",
   "mimetype": "text/x-python",
   "name": "python",
   "nbconvert_exporter": "python",
   "pygments_lexer": "ipython3",
   "version": "3.11.9"
  }
 },
 "nbformat": 4,
 "nbformat_minor": 5
}
