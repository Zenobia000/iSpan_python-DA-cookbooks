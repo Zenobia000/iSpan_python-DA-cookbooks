{
 "cells": [
  {
   "cell_type": "markdown",
   "metadata": {},
   "source": [
    "# 統計製程管制（SPC）\n",
    "\n",
    "## 課程目標\n",
    "本課程旨在使同仁掌握統計製程管制（SPC）的基本概念、工具和實施方法，能夠應用於實際生產中，以提高製程品質和穩定性。\n",
    "\n",
    "## 課程結構\n",
    "- 課程總時數：16 小時\n",
    "- 教學方式：講授、案例分析、小組討論、實驗操作\n",
    "- 評估方式：期末考試（40%）、案例分析報告（30%）、課堂參與（20%）、小組專題報告（10%）\n",
    "\n",
    "## 課程大綱\n",
    "\n",
    "| 週次 | 課程主題                  | 教學內容                                                                                                                                               | 教學方法                | 學習目標                                                                 |\n",
    "| ---- | ------------------------- | ------------------------------------------------------------------------------------------------------------------------------------------------------ | ----------------------- | ------------------------------------------------------------------------ |\n",
    "| 第1週 | SPC 概述                  | 1. 統計製程管制的定義和重要性<br>2. SPC 的歷史發展<br>3. SPC 在現代品質管理中的角色                                                                    | 講授、案例分享          | 理解 SPC 的基本概念和歷史背景<br>認識 SPC 在品質管理中的作用               |\n",
    "| 第2週 | 變異的類型與來源          | 1. 普通原因變異與特殊原因變異<br>2. 變異來源的分析方法                                                                                                | 講授、小組討論          | 區分並辨識製程中的變異類型<br>分析製程變異的來源                           |\n",
    "| 第3週 | 控制圖的基本概念          | 1. 控制圖的定義和用途<br>2. 控制圖的基本結構<br>3. 常見控制圖類型（X-bar and R Chart, P Chart 等）                                                    | 講授、實際案例分析      | 理解控制圖的基本概念和用途<br>識別和繪製常見的控制圖                       |\n",
    "| 第4週 | X-bar 和 R 圖的應用       | 1. X-bar 和 R 圖的繪製方法<br>2. 實際案例分析                                                                                                          | 講授、小組實驗操作      | 正確繪製並解讀 X-bar 和 R 圖<br>通過實驗操作鞏固理論知識                   |\n",
    "| 第5週 | 個別值和移動範圍圖（I-MR 圖） | 1. I-MR 圖的應用場景<br>2. I-MR 圖的繪製與分析                                                                                                        | 講授、案例分析          | 理解 I-MR 圖的應用和繪製方法<br>通過案例分析解讀 I-MR 圖                  |\n",
    "| 第6週 | 層數比例圖（P Chart）     | 1. P Chart 的應用場景<br>2. P Chart 的繪製與分析                                                                                                      | 講授、小組討論          | 理解 P Chart 的應用和繪製方法<br>解讀 P Chart 的數據                       |\n",
    "| 第7週 | 製程能力分析              | 1. 製程能力指數（Cp, Cpk）<br>2. 製程能力分析方法                                                                                                      | 講授、實際案例分析      | 理解製程能力指數的計算和應用<br>進行製程能力分析                           |\n",
    "| 第8週 | 綜合應用與實踐            | 1. 綜合案例分析<br>2. 小組專題報告                                                                                                                    | 小組討論、專題報告展示  | 綜合運用 SPC 工具進行實際問題解決<br>提升團隊合作和專題研究能力           |\n",
    "\n",
    "## 教學資源\n",
    "- 指定教科書：《統計製程管制與品質改進》\n",
    "- 參考資料：案例研究報告、相關學術論文\n",
    "- 教學工具：SPC 軟體（如 Minitab）\n",
    "\n",
    "## 評估方式\n",
    "- **期末考試**：測試學生對 SPC 基本概念和工具的理解與應用（40%）\n",
    "- **案例分析報告**：學生針對指定案例進行分析並提交報告（30%）\n",
    "- **課堂參與**：評估學生在課堂討論和小組活動中的參與度（20%）\n",
    "- **小組專題報告**：學生組成小組進行專題研究並展示成果（10%）\n"
   ]
  },
  {
   "cell_type": "code",
   "execution_count": 12,
   "metadata": {},
   "outputs": [],
   "source": [
    "import pandas as pd\n",
    "import openpyxl\n",
    "# Correcting the data to ensure all lists are of the same length\n",
    "\n",
    "# Correcting the data to ensure all lists are of the same length\n",
    "corrected_course_data = {\n",
    "    \"課程部分\": [\"數據分析基礎工具\", \"數據分析基礎工具\", \"數據分析基礎工具\", \n",
    "               \"進階物件導向程式設計\", \"進階物件導向程式設計\",\n",
    "               \"互動式圖表應用\", \"互動式圖表應用\",\n",
    "               \"數據分析心法與框架\", \"數據分析心法與框架\",\n",
    "               \"資料庫整合串接應用\", \"資料庫整合串接應用\", \n",
    "               \"資料庫整合串接應用\", \"資料庫整合串接應用\",\n",
    "               \"特徵工程實務處理技巧\", \"特徵工程實務處理技巧\", \n",
    "               \"特徵工程實務處理技巧\", \"特徵工程實務處理技巧\", \n",
    "               \"統計相關實務處理\"],\n",
    "    \"主題\": [\"Numpy\", \"Pandas\", \"Matplotlib\",\n",
    "           \"OOP 基礎\", \"OOP 在數據分析中的應用\",\n",
    "           \"Streamlit 簡介與安裝\", \"創建互動式圖表\",\n",
    "           \"數據分析心法\", \"數據分析框架\",\n",
    "           \"SQL 資料庫\", \"SQL 資料庫\",\n",
    "           \"noSQL 資料庫\", \"noSQL 資料庫\",\n",
    "           \"特徵選擇\", \"特徵轉換\",\n",
    "           \"結構化數據特徵工程技巧\", \"時序型資料特徵工程技巧\", \n",
    "           \"A/B Testing\"],\n",
    "    \"教學目標\": [\n",
    "        \"了解並掌握 Numpy 的基本概念與應用；熟悉 Numpy 的資料結構與基本運算操作；能夠使用 Numpy 進行進階陣列運算與數據處理。\",\n",
    "        \"掌握 Pandas 的資料結構：Series 與 DataFrame；能夠使用 Pandas 進行數據讀取、寫入、清洗與處理；熟悉 Pandas 的數據篩選、排序、聚合與合併操作。\",\n",
    "        \"掌握 Matplotlib 的基本圖表繪製技巧；能夠創建並美化各類圖表；了解進階圖表繪製技巧，能夠繪製複雜圖表。\",\n",
    "        \"理解並應用物件導向程式設計的基本概念與原則；掌握繼承、多型等進階 OOP 技術；能夠在數據分析中應用 OOP 設計模式，提升程式的可維護性與擴展性。\",\n",
    "        \"設計數據處理類別；封裝數據處理流程；擴展與重用性設計。\",\n",
    "        \"了解並掌握 Streamlit 的基本使用方法；能夠使用 Streamlit 創建互動式圖表與應用；掌握動態數據更新與展示技巧，提升數據分析報告的互動性。\",\n",
    "        \"創建互動式圖表；增強互動性；動態數據展示。\",\n",
    "        \"掌握數據分析的全流程方法與心法；熟悉數據分析常用的框架與流程（如 CRISP-DM、KDD、TDSP）；能夠獨立完成數據分析專案，並有效解決實際問題。\",\n",
    "        \"數據分析框架介紹與應用；掌握各階段流程。\",\n",
    "        \"掌握 SQL 資料庫的基本概念與操作；能夠進行基本的 SQL 查詢與資料庫操作；理解並應用資料庫連接技術，實現數據的讀取與寫入。\",\n",
    "        \"SQL 基本語法與操作；資料庫連接。\",\n",
    "        \"了解 noSQL 資料庫的基本概念與應用場景；掌握基本的 noSQL 資料庫操作技巧；能夠使用 noSQL 資料庫進行數據的存儲與查詢。\",\n",
    "        \"noSQL 操作與應用。\",\n",
    "        \"掌握特徵選擇、特徵轉換與特徵構建的基本方法與技巧；能夠有效地進行數據的標準化、正規化與編碼處理；熟悉各類特徵工程技術，提升模型的性能與效果。\",\n",
    "        \"數據轉換與構建技巧。\",\n",
    "        \"掌握處理結構化數據的各類技巧；熟悉 Kaggle 上常見的數據處理方法；能夠應用這些技巧提升模型表現。\",\n",
    "        \"理解時序資料的特性；掌握處理時序資料的特徵工程技術；能夠從時序資料中提取有用的特徵。\",\n",
    "        \"掌握 A/B Testing 的基本概念與應用；能夠設計、執行並分析 A/B 測試結果；理解統計檢驗在 A/B 測試中的應用。\"\n",
    "    ],\n",
    "    \"技術工具\": [\n",
    "        \"Numpy\", \"Pandas\", \"Matplotlib\",\n",
    "        \"Python OOP 基本語法\", \"自訂數據處理類別\",\n",
    "        \"Streamlit\", \"Streamlit\",\n",
    "        \"數據分析心法與框架介紹資料\", \"數據分析心法與框架介紹資料\",\n",
    "        \"MySQL 或 PostgreSQL\", \"SQLAlchemy 或其他資料庫連接工具\",\n",
    "        \"MongoDB\", \"PyMongo\",\n",
    "        \"Scikit-learn\", \"Pandas, Numpy\",\n",
    "        \"Pandas, Numpy\", \"Pandas, Numpy, statsmodels\",\n",
    "        \"Scikit-learn, Pandas, Numpy\"\n",
    "    ],\n",
    "    \"預估時間佔比 (%)\": [\n",
    "        5, 10, 5, \n",
    "        5, 5, \n",
    "        5, 5, \n",
    "        10, 5, \n",
    "        5, 5, \n",
    "        5, 5, \n",
    "        10, 10, \n",
    "        5, 5, 5\n",
    "    ]\n",
    "}\n",
    "\n",
    "# Create a DataFrame with the corrected data\n",
    "corrected_df = pd.DataFrame(corrected_course_data)\n",
    "\n",
    "# Save the corrected DataFrame to an Excel file\n",
    "corrected_file_path = './python_data_analysis_course_outline_corrected.xlsx'\n",
    "corrected_df.to_excel(corrected_file_path, index=False)\n",
    "\n",
    "\n"
   ]
  },
  {
   "cell_type": "code",
   "execution_count": 8,
   "metadata": {},
   "outputs": [
    {
     "name": "stdout",
     "output_type": "stream",
     "text": [
      "18\n",
      "18\n",
      "18\n",
      "18\n",
      "17\n"
     ]
    }
   ],
   "source": [
    "for i in corrected_course_data.values():\n",
    "    print(len(i))"
   ]
  },
  {
   "cell_type": "code",
   "execution_count": null,
   "metadata": {},
   "outputs": [],
   "source": []
  },
  {
   "cell_type": "code",
   "execution_count": null,
   "metadata": {},
   "outputs": [],
   "source": []
  },
  {
   "cell_type": "code",
   "execution_count": null,
   "metadata": {},
   "outputs": [],
   "source": []
  },
  {
   "cell_type": "code",
   "execution_count": null,
   "metadata": {},
   "outputs": [],
   "source": []
  },
  {
   "cell_type": "code",
   "execution_count": null,
   "metadata": {},
   "outputs": [],
   "source": []
  },
  {
   "cell_type": "code",
   "execution_count": null,
   "metadata": {},
   "outputs": [],
   "source": []
  }
 ],
 "metadata": {
  "kernelspec": {
   "display_name": "Python 3",
   "language": "python",
   "name": "python3"
  },
  "language_info": {
   "codemirror_mode": {
    "name": "ipython",
    "version": 3
   },
   "file_extension": ".py",
   "mimetype": "text/x-python",
   "name": "python",
   "nbconvert_exporter": "python",
   "pygments_lexer": "ipython3",
   "version": "3.11.9"
  }
 },
 "nbformat": 4,
 "nbformat_minor": 2
}
