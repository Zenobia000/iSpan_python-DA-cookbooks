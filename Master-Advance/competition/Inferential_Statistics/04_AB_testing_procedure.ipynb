{
 "cells": [
  {
   "cell_type": "markdown",
   "metadata": {},
   "source": [
    "**情境描述**：\n",
    "\n",
    "*公司背景*：XYZ 電商是一家線上零售公司，銷售各種商品。他們關注提高用戶註冊率，以便將更多訪問者轉化為註冊用戶。\n",
    "\n",
    "*問題*：公司懷疑當前的註冊流程可能存在一些問題，導致用戶放棄註冊。他們希望測試一個新的註冊流程，以確定是否可以提高註冊率。\n",
    "\n",
    "**AB 測試步驟**：\n",
    "\n",
    "**1. 定義目標和假設**：\n",
    "   - **目標**：提高用戶註冊率。\n",
    "   - **虛無假設（H0）**：新註冊流程不會顯著改善註冊率（註冊率相同或更低）。\n",
    "   - **對立假設（Ha）**：新註冊流程會顯著提高註冊率（註冊率更高）。\n",
    "\n",
    "**2. 確定樣本大小**：\n",
    "   - 為了檢測 5% 的相對增加，以 95% 的置信度和 80% 的檢定力，需要每組 1000 名參與者。\n",
    "\n",
    "**3. 隨機分組**：\n",
    "   - 將來訪者隨機分為兩組：控制組（組 A）和實驗組（組 B）。\n",
    "\n",
    "**4. 數據收集和實施實驗**：\n",
    "   - 在一個月的時間內，監測控制組和實驗組用戶的註冊行為。\n",
    "\n",
    "**5. 數據預處理**：\n",
    "   - 清理和驗證數據，處理缺失值。\n",
    "\n",
    "**6. 假設檢驗的注意事項**：\n",
    "   - 在進行假設檢驗時，注意確保數據滿足正態性假設和方差齊性假設。\n",
    "\n",
    "**7. 計算 P 值**：\n",
    "   - 使用適當的統計檢驗方法（如 z 檢驗或 t 檢驗），計算新註冊流程對註冊率的影響。計算觀察到的 P 值。\n",
    "\n",
    "**8. 判斷顯著性**：\n",
    "   - 如果 P 值小於 0.05（顯著性水平），則拒絕虛無假設，認為新註冊流程對註冊率有顯著影響。\n",
    "\n",
    "**9. 結果解釋**：\n",
    "   - 解釋 AB 測試的結果，包括效應大小、信心區間。如果 P 值小於 0.05，可以說明新註冊流程對註冊率有積極影響。\n",
    "\n",
    "**10. 做出決策**：\n",
    "    - 基於 AB 測試的結果，公司可以決定是否採納新的註冊流程。\n",
    "\n",
    "**11. 報告和文檔**：\n",
    "    - 撰寫 AB 測試的報告，詳細說明實驗設計、數據分析方法、結果和結論。\n",
    "\n",
    "**12. 迭代和優化**：\n",
    "    - 如果新註冊流程被採納，公司可以繼續監測註冊率"
   ]
  },
  {
   "cell_type": "markdown",
   "metadata": {},
   "source": [
    "**目標**：提高用戶註冊率。\n",
    "   - **虛無假設（H0）**：新註冊流程不會顯著改善註冊率（註冊率相同或更低）。\n",
    "   - **對立假設（Ha）**：新註冊流程會顯著提高註冊率（註冊率更高）。"
   ]
  },
  {
   "cell_type": "markdown",
   "metadata": {},
   "source": [
    "## 確定樣本大小"
   ]
  },
  {
   "cell_type": "code",
   "execution_count": 97,
   "metadata": {},
   "outputs": [
    {
     "name": "stdout",
     "output_type": "stream",
     "text": [
      "所需样本大小： 6279\n"
     ]
    }
   ],
   "source": [
    "import statsmodels.stats.api as sms\n",
    "\n",
    "# 定义参数\n",
    "effect_size = 0.05  # 预期效应大小\n",
    "alpha = 0.05       # 显著性水平\n",
    "power = 0.80       # 检定力\n",
    "ratio = 1          # 样本量比例（实验组和对照组）\n",
    "\n",
    "# 计算样本大小\n",
    "sample_size = sms.NormalIndPower().solve_power(effect_size, power=power, alpha=alpha, ratio=ratio)\n",
    "\n",
    "# 输出结果\n",
    "print(\"所需样本大小：\", int(sample_size))\n"
   ]
  },
  {
   "cell_type": "code",
   "execution_count": 98,
   "metadata": {},
   "outputs": [
    {
     "name": "stdout",
     "output_type": "stream",
     "text": [
      "所需样本大小： 393\n"
     ]
    }
   ],
   "source": [
    "import statsmodels.stats.power as power\n",
    "\n",
    "effect_size = 0.2  # 预期效应大小\n",
    "alpha = 0.05  # 显著性水平\n",
    "power_value = 0.8  # 检定力\n",
    "\n",
    "sample_size = power.tt_ind_solve_power(effect_size=effect_size, alpha=alpha, power=power_value)\n",
    "print(\"所需样本大小：\", int(sample_size))\n"
   ]
  },
  {
   "cell_type": "markdown",
   "metadata": {},
   "source": [
    "## 隨機分組"
   ]
  },
  {
   "cell_type": "code",
   "execution_count": 99,
   "metadata": {},
   "outputs": [
    {
     "name": "stdout",
     "output_type": "stream",
     "text": [
      "控制组（组A）： [10504  7931  8488 ...  1350  3263  8398]\n",
      "实验组（组B）： [1530 4356 3540 ...  525 5831 2328]\n"
     ]
    }
   ],
   "source": [
    "import random\n",
    "import pandas as pd\n",
    "import numpy as np\n",
    "\n",
    "sample_size = 6279\n",
    "# 生成一组模拟用户数据\n",
    "user_ids = np.arange(1, sample_size*2)  \n",
    "random.shuffle(user_ids)\n",
    "\n",
    "# 将用户分为两组\n",
    "group_a = user_ids[:sample_size]\n",
    "group_b = user_ids[sample_size:]\n",
    "\n",
    "print(\"控制组（组A）：\", group_a)\n",
    "print(\"实验组（组B）：\", group_b)\n"
   ]
  },
  {
   "cell_type": "markdown",
   "metadata": {},
   "source": [
    "## 數據預處理"
   ]
  },
  {
   "cell_type": "code",
   "execution_count": 100,
   "metadata": {},
   "outputs": [],
   "source": [
    "# 假设您已经收集到了实验数据，将其存储在一个数据框中\n",
    "data = pd.DataFrame({\n",
    "    'user_id': user_ids,\n",
    "    'group': ['A' if user_id in group_a else 'B' for user_id in user_ids],\n",
    "    'registration_completed': [1 if random.random() < 0.6 else 0 for _ in user_ids]\n",
    "})\n",
    "\n",
    "# 清理数据，处理缺失值等\n",
    "data.dropna(inplace=True)\n"
   ]
  },
  {
   "cell_type": "code",
   "execution_count": 101,
   "metadata": {},
   "outputs": [
    {
     "data": {
      "text/html": [
       "<div>\n",
       "<style scoped>\n",
       "    .dataframe tbody tr th:only-of-type {\n",
       "        vertical-align: middle;\n",
       "    }\n",
       "\n",
       "    .dataframe tbody tr th {\n",
       "        vertical-align: top;\n",
       "    }\n",
       "\n",
       "    .dataframe thead th {\n",
       "        text-align: right;\n",
       "    }\n",
       "</style>\n",
       "<table border=\"1\" class=\"dataframe\">\n",
       "  <thead>\n",
       "    <tr style=\"text-align: right;\">\n",
       "      <th></th>\n",
       "      <th>user_id</th>\n",
       "      <th>group</th>\n",
       "      <th>registration_completed</th>\n",
       "    </tr>\n",
       "  </thead>\n",
       "  <tbody>\n",
       "    <tr>\n",
       "      <th>0</th>\n",
       "      <td>10504</td>\n",
       "      <td>A</td>\n",
       "      <td>1</td>\n",
       "    </tr>\n",
       "    <tr>\n",
       "      <th>1</th>\n",
       "      <td>7931</td>\n",
       "      <td>A</td>\n",
       "      <td>1</td>\n",
       "    </tr>\n",
       "    <tr>\n",
       "      <th>2</th>\n",
       "      <td>8488</td>\n",
       "      <td>A</td>\n",
       "      <td>1</td>\n",
       "    </tr>\n",
       "    <tr>\n",
       "      <th>3</th>\n",
       "      <td>10481</td>\n",
       "      <td>A</td>\n",
       "      <td>0</td>\n",
       "    </tr>\n",
       "    <tr>\n",
       "      <th>4</th>\n",
       "      <td>5504</td>\n",
       "      <td>A</td>\n",
       "      <td>1</td>\n",
       "    </tr>\n",
       "    <tr>\n",
       "      <th>...</th>\n",
       "      <td>...</td>\n",
       "      <td>...</td>\n",
       "      <td>...</td>\n",
       "    </tr>\n",
       "    <tr>\n",
       "      <th>12552</th>\n",
       "      <td>154</td>\n",
       "      <td>B</td>\n",
       "      <td>1</td>\n",
       "    </tr>\n",
       "    <tr>\n",
       "      <th>12553</th>\n",
       "      <td>3348</td>\n",
       "      <td>B</td>\n",
       "      <td>0</td>\n",
       "    </tr>\n",
       "    <tr>\n",
       "      <th>12554</th>\n",
       "      <td>525</td>\n",
       "      <td>B</td>\n",
       "      <td>1</td>\n",
       "    </tr>\n",
       "    <tr>\n",
       "      <th>12555</th>\n",
       "      <td>5831</td>\n",
       "      <td>B</td>\n",
       "      <td>0</td>\n",
       "    </tr>\n",
       "    <tr>\n",
       "      <th>12556</th>\n",
       "      <td>2328</td>\n",
       "      <td>B</td>\n",
       "      <td>0</td>\n",
       "    </tr>\n",
       "  </tbody>\n",
       "</table>\n",
       "<p>12557 rows × 3 columns</p>\n",
       "</div>"
      ],
      "text/plain": [
       "       user_id group  registration_completed\n",
       "0        10504     A                       1\n",
       "1         7931     A                       1\n",
       "2         8488     A                       1\n",
       "3        10481     A                       0\n",
       "4         5504     A                       1\n",
       "...        ...   ...                     ...\n",
       "12552      154     B                       1\n",
       "12553     3348     B                       0\n",
       "12554      525     B                       1\n",
       "12555     5831     B                       0\n",
       "12556     2328     B                       0\n",
       "\n",
       "[12557 rows x 3 columns]"
      ]
     },
     "execution_count": 101,
     "metadata": {},
     "output_type": "execute_result"
    }
   ],
   "source": [
    "data"
   ]
  },
  {
   "cell_type": "markdown",
   "metadata": {},
   "source": [
    "## 假设检验的注意事项：\n",
    "- 在进行假设检验时要注意以下事项：\n",
    "- 检验方法的选择：根据您的实验设计和数据类型选择适当的假设检验方法。\n",
    "- 正态性假设：如果使用基于正态分布的检验方法，检查数据是否满足正态性假设。\n",
    "- 方差齐性：如果适用，检查不同组的方差是否相等。\n",
    "- 显著性水平：选择适当的显著性水平（通常为0.05）。\n",
    "- 检定力：确保样本大小足够大以获得高檢定力。\n",
    "- 多重比较问题：如果进行多个比较，考虑使用多重比较校正方法。"
   ]
  },
  {
   "cell_type": "code",
   "execution_count": 102,
   "metadata": {},
   "outputs": [],
   "source": [
    "# 1. 检验方法的选择：\n",
    "# 根据您的实验设计和数据类型选择适当的假设检验方法。Python提供了各种统计检验方法，如t检验、z检验、ANOVA、卡方检验等，具体选择取决于您的数据和问题。"
   ]
  },
  {
   "cell_type": "markdown",
   "metadata": {},
   "source": [
    "#### 常態分布驗證"
   ]
  },
  {
   "cell_type": "code",
   "execution_count": 103,
   "metadata": {},
   "outputs": [
    {
     "name": "stderr",
     "output_type": "stream",
     "text": [
      "C:\\Users\\xdxd2\\AppData\\Roaming\\Python\\Python310\\site-packages\\scipy\\stats\\_morestats.py:1882: UserWarning: p-value may not be accurate for N > 5000.\n",
      "  warnings.warn(\"p-value may not be accurate for N > 5000.\")\n"
     ]
    },
    {
     "name": "stdout",
     "output_type": "stream",
     "text": [
      "Shapiro-Wilk Test: ShapiroResult(statistic=0.6232224702835083, pvalue=0.0)\n",
      "D'Agostino's K^2 Test: NormaltestResult(statistic=47877.64644243326, pvalue=0.0)\n"
     ]
    },
    {
     "data": {
      "image/png": "[encoded data removed]",
      "text/plain": [
       "<Figure size 640x480 with 1 Axes>"
      ]
     },
     "metadata": {},
     "output_type": "display_data"
    },
    {
     "data": {
      "image/png": "[encoded data removed]",
      "text/plain": [
       "<Figure size 640x480 with 1 Axes>"
      ]
     },
     "metadata": {},
     "output_type": "display_data"
    }
   ],
   "source": [
    "import random\n",
    "import pandas as pd\n",
    "import numpy as np\n",
    "import scipy.stats as stats\n",
    "import matplotlib.pyplot as plt\n",
    "\n",
    "# 进行正态分布检验\n",
    "# Shapiro-Wilk Test\n",
    "shapiro_test = stats.shapiro(data['registration_completed'])\n",
    "print(\"Shapiro-Wilk Test:\", shapiro_test)\n",
    "\n",
    "# D'Agostino's K^2 Test\n",
    "k2_test = stats.normaltest(data['registration_completed'])\n",
    "print(\"D'Agostino's K^2 Test:\", k2_test)\n",
    "\n",
    "# 可视化分析\n",
    "# Histogram\n",
    "plt.hist(data['registration_completed'], bins=30, edgecolor='black')\n",
    "plt.title('Histogram of Registration Completed')\n",
    "plt.xlabel('Value')\n",
    "plt.ylabel('Frequency')\n",
    "plt.show()\n",
    "\n",
    "# QQ Plot\n",
    "stats.probplot(data['registration_completed'], dist=\"norm\", plot=plt)\n",
    "plt.title('Q-Q Plot of Registration Completed')\n",
    "plt.show()\n",
    "\n"
   ]
  },
  {
   "cell_type": "markdown",
   "metadata": {},
   "source": [
    "## 方差驗證"
   ]
  },
  {
   "cell_type": "code",
   "execution_count": 104,
   "metadata": {},
   "outputs": [
    {
     "name": "stdout",
     "output_type": "stream",
     "text": [
      "不同组的方差相等\n"
     ]
    }
   ],
   "source": [
    "import scipy.stats as stats\n",
    "\n",
    "# 假设有两组数据：group_a_data和group_b_data\n",
    "statistic, p_value = stats.levene(group_a, group_b)\n",
    "\n",
    "if p_value < 0.05:\n",
    "    print(\"不同组的方差不相等\")\n",
    "else:\n",
    "    print(\"不同组的方差相等\")\n"
   ]
  },
  {
   "cell_type": "markdown",
   "metadata": {},
   "source": [
    "## 計算p值 - 卡方檢定"
   ]
  },
  {
   "cell_type": "code",
   "execution_count": 105,
   "metadata": {},
   "outputs": [
    {
     "name": "stdout",
     "output_type": "stream",
     "text": [
      "registration_completed     0     1\n",
      "group                             \n",
      "A                       2556  3723\n",
      "B                       2520  3758\n",
      "Chi-Squared Test:\n",
      "Chi-squared Statistic: 0.3957769190935355\n",
      "P-value: 0.5292783308012237\n"
     ]
    }
   ],
   "source": [
    "from scipy.stats import chi2_contingency\n",
    "\n",
    "# 创建列联表\n",
    "contingency_table = pd.crosstab(data['group'], data['registration_completed'])\n",
    "\n",
    "print(contingency_table)\n",
    "# 进行卡方检验\n",
    "chi2, p, dof, expected = chi2_contingency(contingency_table)\n",
    "\n",
    "print(\"Chi-Squared Test:\")\n",
    "print(\"Chi-squared Statistic:\", chi2)\n",
    "print(\"P-value:\", p)"
   ]
  },
  {
   "cell_type": "code",
   "execution_count": 106,
   "metadata": {},
   "outputs": [
    {
     "data": {
      "text/html": [
       "<div>\n",
       "<style scoped>\n",
       "    .dataframe tbody tr th:only-of-type {\n",
       "        vertical-align: middle;\n",
       "    }\n",
       "\n",
       "    .dataframe tbody tr th {\n",
       "        vertical-align: top;\n",
       "    }\n",
       "\n",
       "    .dataframe thead th {\n",
       "        text-align: right;\n",
       "    }\n",
       "</style>\n",
       "<table border=\"1\" class=\"dataframe\">\n",
       "  <thead>\n",
       "    <tr style=\"text-align: right;\">\n",
       "      <th>registration_completed</th>\n",
       "      <th>0</th>\n",
       "      <th>1</th>\n",
       "    </tr>\n",
       "    <tr>\n",
       "      <th>group</th>\n",
       "      <th></th>\n",
       "      <th></th>\n",
       "    </tr>\n",
       "  </thead>\n",
       "  <tbody>\n",
       "    <tr>\n",
       "      <th>A</th>\n",
       "      <td>2556</td>\n",
       "      <td>3723</td>\n",
       "    </tr>\n",
       "    <tr>\n",
       "      <th>B</th>\n",
       "      <td>2520</td>\n",
       "      <td>3758</td>\n",
       "    </tr>\n",
       "  </tbody>\n",
       "</table>\n",
       "</div>"
      ],
      "text/plain": [
       "registration_completed     0     1\n",
       "group                             \n",
       "A                       2556  3723\n",
       "B                       2520  3758"
      ]
     },
     "execution_count": 106,
     "metadata": {},
     "output_type": "execute_result"
    }
   ],
   "source": [
    "contingency_table"
   ]
  },
  {
   "cell_type": "markdown",
   "metadata": {},
   "source": [
    "## 多重檢定問題(補充)"
   ]
  },
  {
   "cell_type": "code",
   "execution_count": 107,
   "metadata": {},
   "outputs": [
    {
     "name": "stdout",
     "output_type": "stream",
     "text": [
      "显著性校正后的比较： [3]\n"
     ]
    }
   ],
   "source": [
    "from statsmodels.stats.multitest import multipletests\n",
    "\n",
    "# 假设有多个比较，p_values包含多个p值\n",
    "p_values = [0.02, 0.03, 0.07, 0.004, 0.08]  # 示例中使用的p值列表\n",
    "\n",
    "# 进行多重比较校正，使用Bonferroni方法\n",
    "reject, corrected_p_values, _, _ = multipletests(p_values, alpha=0.05, method='bonferroni')\n",
    "\n",
    "# 检查哪些比较显著\n",
    "significant_comparisons = [i for i, rej in enumerate(reject) if rej]\n",
    "print(\"显著性校正后的比较：\", significant_comparisons)\n"
   ]
  },
  {
   "cell_type": "markdown",
   "metadata": {},
   "source": [
    "## 計算P值 - T test"
   ]
  },
  {
   "cell_type": "code",
   "execution_count": 108,
   "metadata": {},
   "outputs": [
    {
     "name": "stdout",
     "output_type": "stream",
     "text": [
      "P值： 0.5174808103993596\n"
     ]
    }
   ],
   "source": [
    "import scipy.stats as stats\n",
    "\n",
    "# 分组数据\n",
    "group_a_data = data[data['group'] == 'A']['registration_completed']\n",
    "group_b_data = data[data['group'] == 'B']['registration_completed']\n",
    "\n",
    "# 执行t检验，计算P值\n",
    "t_statistic, p_value = stats.ttest_ind(group_a_data, group_b_data)\n",
    "print(\"P值：\", p_value)\n"
   ]
  },
  {
   "cell_type": "markdown",
   "metadata": {},
   "source": [
    "## 顯著性判斷"
   ]
  },
  {
   "cell_type": "code",
   "execution_count": 109,
   "metadata": {},
   "outputs": [
    {
     "name": "stdout",
     "output_type": "stream",
     "text": [
      "无法拒绝虚无假设，结果不具有统计显著性\n"
     ]
    }
   ],
   "source": [
    "alpha = 0.05\n",
    "\n",
    "if p_value < alpha:\n",
    "    print(\"拒绝虚无假设，结果具有统计显著性\")\n",
    "else:\n",
    "    print(\"无法拒绝虚无假设，结果不具有统计显著性\")"
   ]
  },
  {
   "cell_type": "markdown",
   "metadata": {},
   "source": [
    "## AA test"
   ]
  },
  {
   "cell_type": "code",
   "execution_count": 120,
   "metadata": {},
   "outputs": [
    {
     "name": "stdout",
     "output_type": "stream",
     "text": [
      "A/A测试结果表明两组数据没有显著差异，实验设置正常。\n",
      "t统计量： -0.9579319437618484\n",
      "P值： 0.33926528653615373\n"
     ]
    }
   ],
   "source": [
    "import numpy as np\n",
    "import scipy.stats as stats\n",
    "\n",
    "# 随机生成两个相同的A/A测试组的示例数据\n",
    "np.random.seed(42)\n",
    "group_a = np.random.normal(loc=100, scale=10, size=100)  # A/A测试组 A\n",
    "group_b = np.random.normal(loc=100, scale=10, size=100)  # A/A测试组 B\n",
    "\n",
    "# 执行独立样本t检验来比较两组数据\n",
    "t_statistic, p_value = stats.ttest_ind(group_a, group_b)\n",
    "\n",
    "# 判断显著性\n",
    "alpha = 0.05\n",
    "if p_value < alpha:\n",
    "    print(\"在A/A测试中发现显著差异，可能需要检查实验设置。\")\n",
    "else:\n",
    "    print(\"A/A测试结果表明两组数据没有显著差异，实验设置正常。\")\n",
    "\n",
    "# 输出t统计量和P值\n",
    "print(\"t统计量：\", t_statistic)\n",
    "print(\"P值：\", p_value)\n"
   ]
  },
  {
   "cell_type": "code",
   "execution_count": null,
   "metadata": {},
   "outputs": [],
   "source": []
  }
 ],
 "metadata": {
  "kernelspec": {
   "display_name": "Python 3",
   "language": "python",
   "name": "python3"
  },
  "language_info": {
   "codemirror_mode": {
    "name": "ipython",
    "version": 3
   },
   "file_extension": ".py",
   "mimetype": "text/x-python",
   "name": "python",
   "nbconvert_exporter": "python",
   "pygments_lexer": "ipython3",
   "version": "3.10.7"
  }
 },
 "nbformat": 4,
 "nbformat_minor": 2
}
