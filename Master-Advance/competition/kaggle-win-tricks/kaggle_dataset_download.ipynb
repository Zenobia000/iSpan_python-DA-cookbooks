{
 "cells": [
  {
   "cell_type": "markdown",
   "metadata": {},
   "source": [
    "## 如何下載 kaggle 數據到本地\n",
    "https://www.kaggle.com/competitions/titanic/data"
   ]
  },
  {
   "cell_type": "code",
   "execution_count": 47,
   "metadata": {},
   "outputs": [],
   "source": [
    "# pip install 以下工具包\n",
    "import kaggle\n",
    "import zipfile"
   ]
  },
  {
   "cell_type": "code",
   "execution_count": 49,
   "metadata": {},
   "outputs": [
    {
     "name": "stdout",
     "output_type": "stream",
     "text": [
      "Downloading covid19-global-forecasting-week-5.zip to c:\\Users\\xdxd2\\Sunny_VS_worksapce\\Sunny_python\\數據分析教材\\sunny_ispan_data_analysis\\kaggle\n",
      "\n"
     ]
    },
    {
     "name": "stderr",
     "output_type": "stream",
     "text": [
      "\n",
      "  0%|          | 0.00/8.85M [00:00<?, ?B/s]\n",
      " 11%|█▏        | 1.00M/8.85M [00:00<00:03, 2.59MB/s]\n",
      " 23%|██▎       | 2.00M/8.85M [00:00<00:01, 4.19MB/s]\n",
      " 34%|███▍      | 3.00M/8.85M [00:00<00:01, 3.82MB/s]\n",
      " 45%|████▌     | 4.00M/8.85M [00:01<00:01, 3.98MB/s]\n",
      " 56%|█████▋    | 5.00M/8.85M [00:01<00:00, 4.78MB/s]\n",
      " 68%|██████▊   | 6.00M/8.85M [00:01<00:00, 5.47MB/s]\n",
      " 79%|███████▉  | 7.00M/8.85M [00:01<00:00, 5.83MB/s]\n",
      " 90%|█████████ | 8.00M/8.85M [00:01<00:00, 6.16MB/s]\n",
      "100%|██████████| 8.85M/8.85M [00:01<00:00, 6.57MB/s]\n",
      "100%|██████████| 8.85M/8.85M [00:01<00:00, 5.17MB/s]\n"
     ]
    }
   ],
   "source": [
    "# 執行 linux 指令\n",
    "# -c 競賽名稱\n",
    "# -p 指定下載目標資料夾\n",
    "!kaggle competitions download -c covid19-global-forecasting-week-5"
   ]
  },
  {
   "cell_type": "code",
   "execution_count": 50,
   "metadata": {},
   "outputs": [],
   "source": [
    "# 指定zip檔案的路徑\n",
    "zip_file_path = \"./covid/covid19-global-forecasting-week-5.zip\"\n",
    "\n",
    "# 指定要解壓縮到的目錄\n",
    "extract_to_directory = \"./covid/extracted_data\"\n",
    "\n",
    "# 建立ZipFile實例，並解壓縮到指定目錄\n",
    "with zipfile.ZipFile(zip_file_path, \"r\") as zipref:\n",
    "    zipref.extractall(extract_to_directory)"
   ]
  },
  {
   "cell_type": "code",
   "execution_count": 51,
   "metadata": {},
   "outputs": [],
   "source": [
    "# 讀取資料\n",
    "import pandas as pd\n",
    "import numpy as np"
   ]
  },
  {
   "cell_type": "code",
   "execution_count": 57,
   "metadata": {},
   "outputs": [
    {
     "name": "stderr",
     "output_type": "stream",
     "text": [
      "C:\\Users\\xdxd2\\AppData\\Local\\Temp\\ipykernel_17348\\1522520781.py:1: DtypeWarning: Columns (1) have mixed types. Specify dtype option on import or set low_memory=False.\n",
      "  train_data = pd.read_csv(r\".\\covid\\extracted_data\\train.csv\", encoding = \"utf-8-sig\")\n"
     ]
    }
   ],
   "source": [
    "train_data = pd.read_csv(r\".\\covid\\extracted_data\\train.csv\", encoding = \"utf-8-sig\")\n",
    "test_data = pd.read_csv(r\".\\covid\\extracted_data\\test.csv\", encoding = \"utf-8-sig\")"
   ]
  },
  {
   "cell_type": "code",
   "execution_count": 56,
   "metadata": {},
   "outputs": [
    {
     "data": {
      "text/plain": [
       "(969640, 9)"
      ]
     },
     "execution_count": 56,
     "metadata": {},
     "output_type": "execute_result"
    }
   ],
   "source": [
    "train_data.shape"
   ]
  },
  {
   "cell_type": "code",
   "execution_count": 58,
   "metadata": {},
   "outputs": [
    {
     "data": {
      "text/html": [
       "<div>\n",
       "<style scoped>\n",
       "    .dataframe tbody tr th:only-of-type {\n",
       "        vertical-align: middle;\n",
       "    }\n",
       "\n",
       "    .dataframe tbody tr th {\n",
       "        vertical-align: top;\n",
       "    }\n",
       "\n",
       "    .dataframe thead th {\n",
       "        text-align: right;\n",
       "    }\n",
       "</style>\n",
       "<table border=\"1\" class=\"dataframe\">\n",
       "  <thead>\n",
       "    <tr style=\"text-align: right;\">\n",
       "      <th></th>\n",
       "      <th>ForecastId</th>\n",
       "      <th>County</th>\n",
       "      <th>Province_State</th>\n",
       "      <th>Country_Region</th>\n",
       "      <th>Population</th>\n",
       "      <th>Weight</th>\n",
       "      <th>Date</th>\n",
       "      <th>Target</th>\n",
       "    </tr>\n",
       "  </thead>\n",
       "  <tbody>\n",
       "    <tr>\n",
       "      <th>0</th>\n",
       "      <td>1</td>\n",
       "      <td>NaN</td>\n",
       "      <td>NaN</td>\n",
       "      <td>Afghanistan</td>\n",
       "      <td>27657145</td>\n",
       "      <td>0.058359</td>\n",
       "      <td>2020-04-27</td>\n",
       "      <td>ConfirmedCases</td>\n",
       "    </tr>\n",
       "    <tr>\n",
       "      <th>1</th>\n",
       "      <td>2</td>\n",
       "      <td>NaN</td>\n",
       "      <td>NaN</td>\n",
       "      <td>Afghanistan</td>\n",
       "      <td>27657145</td>\n",
       "      <td>0.583587</td>\n",
       "      <td>2020-04-27</td>\n",
       "      <td>Fatalities</td>\n",
       "    </tr>\n",
       "    <tr>\n",
       "      <th>2</th>\n",
       "      <td>3</td>\n",
       "      <td>NaN</td>\n",
       "      <td>NaN</td>\n",
       "      <td>Afghanistan</td>\n",
       "      <td>27657145</td>\n",
       "      <td>0.058359</td>\n",
       "      <td>2020-04-28</td>\n",
       "      <td>ConfirmedCases</td>\n",
       "    </tr>\n",
       "    <tr>\n",
       "      <th>3</th>\n",
       "      <td>4</td>\n",
       "      <td>NaN</td>\n",
       "      <td>NaN</td>\n",
       "      <td>Afghanistan</td>\n",
       "      <td>27657145</td>\n",
       "      <td>0.583587</td>\n",
       "      <td>2020-04-28</td>\n",
       "      <td>Fatalities</td>\n",
       "    </tr>\n",
       "    <tr>\n",
       "      <th>4</th>\n",
       "      <td>5</td>\n",
       "      <td>NaN</td>\n",
       "      <td>NaN</td>\n",
       "      <td>Afghanistan</td>\n",
       "      <td>27657145</td>\n",
       "      <td>0.058359</td>\n",
       "      <td>2020-04-29</td>\n",
       "      <td>ConfirmedCases</td>\n",
       "    </tr>\n",
       "  </tbody>\n",
       "</table>\n",
       "</div>"
      ],
      "text/plain": [
       "   ForecastId County Province_State Country_Region  Population    Weight  \\\n",
       "0           1    NaN            NaN    Afghanistan    27657145  0.058359   \n",
       "1           2    NaN            NaN    Afghanistan    27657145  0.583587   \n",
       "2           3    NaN            NaN    Afghanistan    27657145  0.058359   \n",
       "3           4    NaN            NaN    Afghanistan    27657145  0.583587   \n",
       "4           5    NaN            NaN    Afghanistan    27657145  0.058359   \n",
       "\n",
       "         Date          Target  \n",
       "0  2020-04-27  ConfirmedCases  \n",
       "1  2020-04-27      Fatalities  \n",
       "2  2020-04-28  ConfirmedCases  \n",
       "3  2020-04-28      Fatalities  \n",
       "4  2020-04-29  ConfirmedCases  "
      ]
     },
     "execution_count": 58,
     "metadata": {},
     "output_type": "execute_result"
    }
   ],
   "source": [
    "test_data.head()"
   ]
  }
 ],
 "metadata": {
  "kernelspec": {
   "display_name": "Python 3",
   "language": "python",
   "name": "python3"
  },
  "language_info": {
   "codemirror_mode": {
    "name": "ipython",
    "version": 3
   },
   "file_extension": ".py",
   "mimetype": "text/x-python",
   "name": "python",
   "nbconvert_exporter": "python",
   "pygments_lexer": "ipython3",
   "version": "3.10.7"
  },
  "orig_nbformat": 4
 },
 "nbformat": 4,
 "nbformat_minor": 2
}
