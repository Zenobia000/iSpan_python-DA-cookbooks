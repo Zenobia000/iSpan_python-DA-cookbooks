{
 "cells": [
  {
   "cell_type": "markdown",
   "metadata": {},
   "source": [
    "# 情境假設\n",
    "你正在開發一個電商平台的應用程式，該應用需要處理用戶請求、數據庫操作及安全監控。以下是日誌系統如何應用在這個情境中的幾個例子："
   ]
  },
  {
   "cell_type": "code",
   "execution_count": 9,
   "metadata": {},
   "outputs": [],
   "source": [
    "import logging\n",
    "import logging.config\n",
    "\n",
    "# 載入 logging.conf 配置文件\n",
    "logging.config.fileConfig('logging.conf')"
   ]
  },
  {
   "cell_type": "markdown",
   "metadata": {},
   "source": [
    "### 案例 1 : 記錄應用程式一般運行狀況"
   ]
  },
  {
   "cell_type": "code",
   "execution_count": 10,
   "metadata": {},
   "outputs": [
    {
     "name": "stdout",
     "output_type": "stream",
     "text": [
      "DEBUG: Starting the application\n",
      "INFO: User has logged in\n",
      "WARNING: Low disk space warning\n",
      "ERROR: Failed to connect to payment gateway\n"
     ]
    }
   ],
   "source": [
    "\n",
    "logger = logging.getLogger('application')\n",
    "\n",
    "logger.debug(\"Starting the application\")\n",
    "logger.info(\"User has logged in\")\n",
    "logger.warning(\"Low disk space warning\")\n",
    "logger.error(\"Failed to connect to payment gateway\")\n"
   ]
  },
  {
   "cell_type": "markdown",
   "metadata": {},
   "source": [
    "### 案例 2：記錄數據庫操作"
   ]
  },
  {
   "cell_type": "code",
   "execution_count": 11,
   "metadata": {},
   "outputs": [],
   "source": [
    "\n",
    "db_logger = logging.getLogger('database')\n",
    "\n",
    "db_logger.info(\"Connected to the database\")\n",
    "db_logger.warning(\"Slow query detected\")\n",
    "db_logger.error(\"Database connection lost\")\n"
   ]
  },
  {
   "cell_type": "markdown",
   "metadata": {},
   "source": [
    "### 案例 3：記錄安全事件"
   ]
  },
  {
   "cell_type": "code",
   "execution_count": 12,
   "metadata": {},
   "outputs": [],
   "source": [
    "\n",
    "security_logger = logging.getLogger('security')\n",
    "\n",
    "security_logger.warning(\"Multiple failed login attempts detected\")\n",
    "security_logger.error(\"Unauthorized access attempt detected\")\n"
   ]
  },
  {
   "cell_type": "markdown",
   "metadata": {},
   "source": [
    "## Logger 部分：\n",
    "- appLogger：主要應用程式的記錄器，記錄所有應用程式的日誌，等級為 DEBUG 並使用控制台與文件輸出。\n",
    "- dbLogger：專門用於數據庫操作的記錄器，日誌級別為 INFO，並寫入 database.log 文件。\n",
    "- securityLogger：處理安全相關事件的記錄器，日誌級別為 WARNING，並寫入 security.log 文件。\n",
    "\n",
    "## Handler 部分：\n",
    "- consoleHandler：用於將所有 DEBUG 級別以上的日誌輸出到控制台。\n",
    "- fileHandler：用於將 INFO 級別以上的應用程式日誌寫入 app.log 文件。\n",
    "- errorFileHandler：專門用於記錄 ERROR 級別的錯誤日誌到 errors.log 文件。\n",
    "- dbFileHandler：專門用於記錄數據庫相關的日誌到 database.log 文件。\n",
    "- securityFileHandler：專門用於記錄安全相關的日誌到 security.log 文件。\n",
    "\n",
    "## Formatter 部分：\n",
    "- briefFormatter：簡潔格式，用於控制台輸出。\n",
    "- detailedFormatter：詳細格式，用於文件輸出，包括時間、名稱、級別和訊息。\n",
    "- errorFormatter：更詳細的格式，用於錯誤日誌，包含錯誤發生的文件名和行號。"
   ]
  }
 ],
 "metadata": {
  "kernelspec": {
   "display_name": "Python 3",
   "language": "python",
   "name": "python3"
  },
  "language_info": {
   "codemirror_mode": {
    "name": "ipython",
    "version": 3
   },
   "file_extension": ".py",
   "mimetype": "text/x-python",
   "name": "python",
   "nbconvert_exporter": "python",
   "pygments_lexer": "ipython3",
   "version": "3.11.9"
  }
 },
 "nbformat": 4,
 "nbformat_minor": 2
}
