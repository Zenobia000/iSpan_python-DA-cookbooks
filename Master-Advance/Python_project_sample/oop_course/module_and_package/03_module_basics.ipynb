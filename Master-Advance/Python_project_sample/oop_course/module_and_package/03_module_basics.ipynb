{
  "cells": [
    {
      "cell_type": "markdown",
      "metadata": {},
      "source": [
        "# 模組基礎\n",
        "\n",
        "本節將介紹Python模組的基本概念、使用方法以及常見陷阱。\n",
        "\n"
      ]
    },
    {
      "cell_type": "markdown",
      "metadata": {},
      "source": [
        "## 1. 什麼是模組？\n",
        "\n",
        "在Python中，模組是包含Python定義和語句的文件。模組名稱就是文件名（不含`.py`後綴）。\n",
        "\n",
        "模組的主要優點:\n",
        "\n",
        "    1. \"代碼重用 - 一次編寫，多處使用\",\n",
        "    2. \"命名空間管理 - 避免命名衝突\",\n",
        "    3. \"可維護性 - 將相關功能分組在一起\",\n",
        "    4. \"邏輯分離 - 將代碼分散到多個文件中\"\n",
        "\n"
      ]
    },
    {
      "cell_type": "markdown",
      "metadata": {},
      "source": [
        "## 2. 創建自己的模組\n",
        "\n",
        "任何Python文件都可以作為模組被導入。讓我們創建一個簡單的模組來說明。\n",
        "\n"
      ]
    },
    {
      "cell_type": "code",
      "execution_count": 2,
      "metadata": {},
      "outputs": [
        {
          "name": "stdout",
          "output_type": "stream",
          "text": [
            "自定義模組示例:\n",
            "\n",
            "# 文件: my_math.py\n",
            "\n",
            "# 模組層級變數\n",
            "PI = 3.14159\n",
            "\n",
            "# 模組函數\n",
            "def add(a, b):\n",
            "    return a + b\n",
            "\n",
            "def subtract(a, b):\n",
            "    return a - b\n",
            "\n",
            "def multiply(a, b):\n",
            "    return a * b\n",
            "\n",
            "def divide(a, b):\n",
            "    if b == 0:\n",
            "        raise ValueError(\"除數不能為零\")\n",
            "    return a / b\n",
            "\n",
            "# 模組類\n",
            "class Calculator:\n",
            "    def __init__(self, initial_value=0):\n",
            "        self.value = initial_value\n",
            "    \n",
            "    def add(self, x):\n",
            "        self.value += x\n",
            "        return self.value\n",
            "    \n",
            "    def subtract(self, x):\n",
            "        self.value -= x\n",
            "        return self.value\n",
            "        \n",
            "    def reset(self):\n",
            "        self.value = 0\n",
            "        return self.value\n",
            "\n"
          ]
        }
      ],
      "source": [
        "# 這段代碼展示如何創建一個模組文件\n",
        "module_code = \"\"\"\n",
        "# 文件: my_math.py\n",
        "\n",
        "# 模組層級變數\n",
        "PI = 3.14159\n",
        "\n",
        "# 模組函數\n",
        "def add(a, b):\n",
        "    return a + b\n",
        "\n",
        "def subtract(a, b):\n",
        "    return a - b\n",
        "\n",
        "def multiply(a, b):\n",
        "    return a * b\n",
        "\n",
        "def divide(a, b):\n",
        "    if b == 0:\n",
        "        raise ValueError(\"除數不能為零\")\n",
        "    return a / b\n",
        "\n",
        "# 模組類\n",
        "class Calculator:\n",
        "    def __init__(self, initial_value=0):\n",
        "        self.value = initial_value\n",
        "    \n",
        "    def add(self, x):\n",
        "        self.value += x\n",
        "        return self.value\n",
        "    \n",
        "    def subtract(self, x):\n",
        "        self.value -= x\n",
        "        return self.value\n",
        "        \n",
        "    def reset(self):\n",
        "        self.value = 0\n",
        "        return self.value\n",
        "\"\"\"\n",
        "\n",
        "print(\"自定義模組示例:\")\n",
        "print(module_code)\n",
        "\n"
      ]
    },
    {
      "cell_type": "markdown",
      "metadata": {},
      "source": [
        "## 3. 導入模組的方式\n",
        "\n"
      ]
    },
    {
      "cell_type": "code",
      "execution_count": 3,
      "metadata": {},
      "outputs": [
        {
          "name": "stdout",
          "output_type": "stream",
          "text": [
            "模組導入方式:\n",
            "# 導入整個模組\n",
            "import my_math\n",
            "result = my_math.add(5, 3)  # 使用模組名稱作為前綴\n",
            "\n",
            "# 導入特定函數或變數\n",
            "from my_math import add, subtract, PI\n",
            "result = add(5, 3)  # 直接使用函數名\n",
            "\n",
            "# 導入所有內容（通常不推薦）\n",
            "from my_math import *\n",
            "result = multiply(5, 3)  # 直接使用，但可能導致命名衝突\n",
            "\n",
            "# 使用別名\n",
            "import my_math as mm\n",
            "result = mm.add(5, 3)  # 使用較短的別名\n",
            "from my_math import Calculator as Calc\n",
            "my_calc = Calc(10)  # 使用類的別名\n"
          ]
        }
      ],
      "source": [
        "# 展示不同的導入方式\n",
        "import_examples = [\n",
        "    \"# 導入整個模組\",\n",
        "    \"import my_math\",\n",
        "    \"result = my_math.add(5, 3)  # 使用模組名稱作為前綴\",\n",
        "    \n",
        "    \"\\n# 導入特定函數或變數\",\n",
        "    \"from my_math import add, subtract, PI\",\n",
        "    \"result = add(5, 3)  # 直接使用函數名\",\n",
        "    \n",
        "    \"\\n# 導入所有內容（通常不推薦）\",\n",
        "    \"from my_math import *\",\n",
        "    \"result = multiply(5, 3)  # 直接使用，但可能導致命名衝突\",\n",
        "    \n",
        "    \"\\n# 使用別名\",\n",
        "    \"import my_math as mm\",\n",
        "    \"result = mm.add(5, 3)  # 使用較短的別名\",\n",
        "    \n",
        "    \"from my_math import Calculator as Calc\",\n",
        "    \"my_calc = Calc(10)  # 使用類的別名\"\n",
        "]\n",
        "\n",
        "print(\"模組導入方式:\")\n",
        "for example in import_examples:\n",
        "    print(example)\n",
        "\n",
        "\n"
      ]
    },
    {
      "cell_type": "markdown",
      "metadata": {},
      "source": [
        "## 4. 模組搜索路徑\n",
        "\n",
        "Python如何找到要導入的模組？\n",
        "\n"
      ]
    },
    {
      "cell_type": "code",
      "execution_count": 5,
      "id": "b3b8f440",
      "metadata": {},
      "outputs": [
        {
          "data": {
            "text/plain": [
              "['c:\\\\Users\\\\xdxd2\\\\AppData\\\\Local\\\\Programs\\\\Python\\\\Python311\\\\python311.zip',\n",
              " 'c:\\\\Users\\\\xdxd2\\\\AppData\\\\Local\\\\Programs\\\\Python\\\\Python311\\\\DLLs',\n",
              " 'c:\\\\Users\\\\xdxd2\\\\AppData\\\\Local\\\\Programs\\\\Python\\\\Python311\\\\Lib',\n",
              " 'c:\\\\Users\\\\xdxd2\\\\AppData\\\\Local\\\\Programs\\\\Python\\\\Python311',\n",
              " '',\n",
              " 'C:\\\\Users\\\\xdxd2\\\\AppData\\\\Roaming\\\\Python\\\\Python311\\\\site-packages',\n",
              " 'C:\\\\Users\\\\xdxd2\\\\AppData\\\\Roaming\\\\Python\\\\Python311\\\\site-packages\\\\win32',\n",
              " 'C:\\\\Users\\\\xdxd2\\\\AppData\\\\Roaming\\\\Python\\\\Python311\\\\site-packages\\\\win32\\\\lib',\n",
              " 'C:\\\\Users\\\\xdxd2\\\\AppData\\\\Roaming\\\\Python\\\\Python311\\\\site-packages\\\\Pythonwin',\n",
              " 'c:\\\\Users\\\\xdxd2\\\\AppData\\\\Local\\\\Programs\\\\Python\\\\Python311\\\\Lib\\\\site-packages']"
            ]
          },
          "execution_count": 5,
          "metadata": {},
          "output_type": "execute_result"
        }
      ],
      "source": [
        "import sys\n",
        "\n",
        "sys.path"
      ]
    },
    {
      "cell_type": "code",
      "execution_count": 4,
      "metadata": {},
      "outputs": [
        {
          "name": "stdout",
          "output_type": "stream",
          "text": [
            "Python 搜索模組的路徑:\n",
            "1. c:\\Users\\xdxd2\\AppData\\Local\\Programs\\Python\\Python311\\python311.zip\n",
            "2. c:\\Users\\xdxd2\\AppData\\Local\\Programs\\Python\\Python311\\DLLs\n",
            "3. c:\\Users\\xdxd2\\AppData\\Local\\Programs\\Python\\Python311\\Lib\n",
            "4. c:\\Users\\xdxd2\\AppData\\Local\\Programs\\Python\\Python311\n",
            "5. \n",
            "6. C:\\Users\\xdxd2\\AppData\\Roaming\\Python\\Python311\\site-packages\n",
            "7. C:\\Users\\xdxd2\\AppData\\Roaming\\Python\\Python311\\site-packages\\win32\n",
            "8. C:\\Users\\xdxd2\\AppData\\Roaming\\Python\\Python311\\site-packages\\win32\\lib\n",
            "9. C:\\Users\\xdxd2\\AppData\\Roaming\\Python\\Python311\\site-packages\\Pythonwin\n",
            "10. c:\\Users\\xdxd2\\AppData\\Local\\Programs\\Python\\Python311\\Lib\\site-packages\n",
            "\n",
            "模組搜索順序:\n",
            "1. 當前目錄\n",
            "2. PYTHONPATH 環境變數中的目錄\n",
            "3. 標準庫目錄\n",
            "4. site-packages 目錄（第三方庫）\n"
          ]
        }
      ],
      "source": [
        "import sys\n",
        "\n",
        "print(\"Python 搜索模組的路徑:\")\n",
        "for i, path in enumerate(sys.path, 1):\n",
        "    print(f\"{i}. {path}\")\n",
        "\n",
        "print(\"\\n模組搜索順序:\")\n",
        "search_order = [\n",
        "    \"當前目錄\",\n",
        "    \"PYTHONPATH 環境變數中的目錄\",\n",
        "    \"標準庫目錄\",\n",
        "    \"site-packages 目錄（第三方庫）\"\n",
        "]\n",
        "for i, location in enumerate(search_order, 1):\n",
        "    print(f\"{i}. {location}\")\n",
        "\n"
      ]
    },
    {
      "cell_type": "markdown",
      "metadata": {},
      "source": [
        "## 5. `if __name__ == \"__main__\"` 的用途\n",
        "\n",
        "if __name__ == \"__main__\" 是 Python 世界裡給你的「小測試空間」，保護你的模組在被引用時不亂跑。\n",
        "\n",
        "- 開發時：可以自己快速測試，確保功能正常\n",
        "- 上線時：別人導入，不會亂執行，專心提供服務\n",
        "- 一份程式碼兩種用途，符合乾淨模組設計原則\n",
        "\n",
        "\n",
        "    \"語法層級 | __name__ 是一個內建變數（builtin variable）。每個 Python 檔案（模組）都有這個變數。\",\n",
        "\n",
        "    \"本質 | 是一個字串（str），告訴 Python：「這個檔案現在是怎麼被執行的？」\",\n",
        "    \n",
        "    \"作用 | 區分「自己跑自己」還是「被別人當模組引用」。\","
      ]
    },
    {
      "cell_type": "code",
      "execution_count": 16,
      "metadata": {},
      "outputs": [
        {
          "name": "stdout",
          "output_type": "stream",
          "text": [
            "__name__ 變數使用示例:\n",
            "\n",
            "# 文件: example.py\n",
            "\n",
            "def say_hello(name):\n",
            "    return f\"Hello, {name}!\"\n",
            "\n",
            "# 當作為主程序運行時執行的代碼\n",
            "if __name__ == \"__main__\":\n",
            "    print(\"這個模組正作為主程序運行\")\n",
            "    print(say_hello(\"Python\"))\n",
            "else:\n",
            "    print(\"這個模組已被導入到另一個模組\")\n",
            "\n",
            "\n",
            "執行方式的區別:\n",
            "1. 作為主程序運行: python example.py\n",
            "   此時 __name__ 的值為 \"__main__\"\n",
            "2. 作為模組導入: import example\n",
            "   此時 __name__ 的值為 \"example\"\n"
          ]
        }
      ],
      "source": [
        "# 說明 __name__ 變數和它的用途\n",
        "name_example = \"\"\"\n",
        "# 文件: example.py\n",
        "\n",
        "def say_hello(name):\n",
        "    return f\"Hello, {name}!\"\n",
        "\n",
        "# 當作為主程序運行時執行的代碼\n",
        "if __name__ == \"__main__\":\n",
        "    print(\"這個模組正作為主程序運行\")\n",
        "    print(say_hello(\"Python\"))\n",
        "else:\n",
        "    print(\"這個模組已被導入到另一個模組\")\n",
        "\"\"\"\n",
        "\n",
        "print(\"__name__ 變數使用示例:\")\n",
        "print(name_example)\n",
        "\n",
        "print(\"\\n執行方式的區別:\")\n",
        "\n",
        "# 直接跑 math_tools.py | 自動進行功能測試\n",
        "print(\"1. 作為主程序運行: python example.py\")\n",
        "print(\"   此時 __name__ 的值為 \\\"__main__\\\"\")\n",
        "\n",
        "\n",
        "\n",
        "# 別人 import math_tools | 只拿到函數，不會亂跑測試\n",
        "print(\"2. 作為模組導入: import example\")\n",
        "print(\"   此時 __name__ 的值為 \\\"example\\\"\")\n",
        "\n",
        "\n",
        "\n"
      ]
    },
    {
      "cell_type": "code",
      "execution_count": 17,
      "id": "fa8e97e9",
      "metadata": {},
      "outputs": [
        {
          "name": "stdout",
          "output_type": "stream",
          "text": [
            "Hello, sunny!\n",
            "example\n"
          ]
        }
      ],
      "source": [
        "import example\n",
        "print(example.say_hello(\"sunny\"))\n",
        "print(example.__name__)"
      ]
    },
    {
      "cell_type": "markdown",
      "metadata": {},
      "source": [
        "## 6. 模組的重載\n",
        "\n"
      ]
    },
    {
      "cell_type": "code",
      "execution_count": 11,
      "metadata": {},
      "outputs": [
        {
          "name": "stdout",
          "output_type": "stream",
          "text": [
            "重載模組示例:\n",
            "\n",
            "# 已導入模組後，如果模組文件發生了變化：\n",
            "import my_module\n",
            "\n",
            "# ...模組文件被編輯...\n",
            "\n",
            "# 重新載入更新後的模組\n",
            "import importlib\n",
            "importlib.reload(my_module)\n",
            "\n"
          ]
        }
      ],
      "source": [
        "import importlib\n",
        "\n",
        "reload_example = \"\"\"\n",
        "# 已導入模組後，如果模組文件發生了變化：\n",
        "import my_module\n",
        "\n",
        "# ...模組文件被編輯...\n",
        "\n",
        "# 重新載入更新後的模組\n",
        "import importlib\n",
        "importlib.reload(my_module)\n",
        "\"\"\"\n",
        "\n",
        "print(\"重載模組示例:\")\n",
        "print(reload_example)\n",
        "\n"
      ]
    },
    {
      "cell_type": "code",
      "execution_count": 21,
      "id": "34800375",
      "metadata": {},
      "outputs": [
        {
          "data": {
            "text/plain": [
              "'Hello, sunny!'"
            ]
          },
          "execution_count": 21,
          "metadata": {},
          "output_type": "execute_result"
        }
      ],
      "source": [
        "import example\n",
        "example.say_hello(\"sunny\")"
      ]
    },
    {
      "cell_type": "code",
      "execution_count": 23,
      "id": "eaefd775",
      "metadata": {},
      "outputs": [
        {
          "name": "stdout",
          "output_type": "stream",
          "text": [
            "這個模組已被導入到另一個模組\n"
          ]
        },
        {
          "data": {
            "text/plain": [
              "'goodbye, sunny!'"
            ]
          },
          "execution_count": 23,
          "metadata": {},
          "output_type": "execute_result"
        }
      ],
      "source": [
        "import importlib\n",
        "importlib.reload(example)\n",
        "example.say_goodbye(\"sunny\")"
      ]
    },
    {
      "cell_type": "markdown",
      "metadata": {},
      "source": [
        "## 7. 常見陷阱和最佳實踐\n",
        "\n"
      ]
    },
    {
      "cell_type": "code",
      "execution_count": 24,
      "metadata": {},
      "outputs": [
        {
          "name": "stdout",
          "output_type": "stream",
          "text": [
            "常見陷阱:\n",
            "- 循環導入 - 當兩個模組互相導入對方時\n",
            "- 遮蔽內置名稱 - 例如命名文件為 'sys.py' 或 'os.py'\n",
            "- 使用全局變數 - 可能導致難以跟踪的狀態問題\n",
            "- 過度使用 'from module import *' - 可能導致命名空間污染\n",
            "\n",
            "最佳實踐:\n",
            "- 使用有描述性的模組名稱\n",
            "- 保持模組功能聚焦且單一\n",
            "- 提供清晰的文檔字符串\n",
            "- 遵循 PEP 8 命名約定\n",
            "- 使用相對導入處理包內模組關係\n"
          ]
        }
      ],
      "source": [
        "\n",
        "pitfalls = [\n",
        "    \"循環導入 - 當兩個模組互相導入對方時\",\n",
        "    \"遮蔽內置名稱 - 例如命名文件為 'sys.py' 或 'os.py'\",\n",
        "    \"使用全局變數 - 可能導致難以跟踪的狀態問題\",\n",
        "    \"過度使用 'from module import *' - 可能導致命名空間污染\"\n",
        "]\n",
        "\n",
        "best_practices = [\n",
        "    \"使用有描述性的模組名稱\",\n",
        "    \"保持模組功能聚焦且單一\",\n",
        "    \"提供清晰的文檔字符串\",\n",
        "    \"遵循 PEP 8 命名約定\",\n",
        "    \"使用相對導入處理包內模組關係\"\n",
        "]\n",
        "\n",
        "print(\"常見陷阱:\")\n",
        "for pitfall in pitfalls:\n",
        "    print(f\"- {pitfall}\")\n",
        "\n",
        "print(\"\\n最佳實踐:\")\n",
        "for practice in best_practices:\n",
        "    print(f\"- {practice}\")\n",
        "\n"
      ]
    },
    {
      "cell_type": "code",
      "execution_count": 27,
      "id": "5b536fde",
      "metadata": {},
      "outputs": [
        {
          "name": "stdout",
          "output_type": "stream",
          "text": [
            "循環導入示例:\n",
            "\n",
            "# file1.py\n",
            "from file2 import func2\n",
            "\n",
            "def func1():\n",
            "    return func2()\n",
            "\n",
            "# file2.py \n",
            "from file1 import func1\n",
            "\n",
            "def func2():\n",
            "    return func1()\n",
            "\n"
          ]
        }
      ],
      "source": [
        "# 循環導入示例\n",
        "circular_import_example = \"\"\"\n",
        "# file1.py\n",
        "from file2 import func2\n",
        "\n",
        "def func1():\n",
        "    return func2()\n",
        "\n",
        "# file2.py \n",
        "from file1 import func1\n",
        "\n",
        "def func2():\n",
        "    return func1()\n",
        "\"\"\"\n",
        "\n",
        "print(\"循環導入示例:\")\n",
        "print(circular_import_example)"
      ]
    },
    {
      "cell_type": "code",
      "execution_count": 28,
      "id": "907d04c1",
      "metadata": {},
      "outputs": [
        {
          "name": "stdout",
          "output_type": "stream",
          "text": [
            "\n",
            "遮蔽內置名稱示例:\n",
            "\n",
            "# 不好的做法 - 文件名: list.py\n",
            "def process_items(items):\n",
            "    return len(items)\n",
            "\n",
            "# 這可能會與 Python 內置的 list 產生衝突\n",
            "\n"
          ]
        }
      ],
      "source": [
        "# 遮蔽內置名稱示例\n",
        "shadowing_example = \"\"\"\n",
        "# 不好的做法 - 文件名: list.py\n",
        "def process_items(items):\n",
        "    return len(items)\n",
        "\n",
        "# 這可能會與 Python 內置的 list 產生衝突\n",
        "\"\"\"\n",
        "\n",
        "print(\"\\n遮蔽內置名稱示例:\")\n",
        "print(shadowing_example)"
      ]
    },
    {
      "cell_type": "code",
      "execution_count": 31,
      "id": "fa7a410f",
      "metadata": {},
      "outputs": [
        {
          "name": "stdout",
          "output_type": "stream",
          "text": [
            "\n",
            "命名空間污染示例:\n",
            "\n",
            "# 不推薦的做法\n",
            "from math import *  # 導入所有內容，可能造成命名衝突\n",
            "\n",
            "# 推薦的做法\n",
            "import math\n",
            "result = math.sqrt(16)  # 更清晰的來源\n",
            "\n"
          ]
        }
      ],
      "source": [
        "# 命名空間污染示例\n",
        "namespace_example = \"\"\"\n",
        "# 不推薦的做法\n",
        "from math import *  # 導入所有內容，可能造成命名衝突\n",
        "\n",
        "# 推薦的做法\n",
        "import math\n",
        "result = math.sqrt(16)  # 更清晰的來源\n",
        "\"\"\"\n",
        "\n",
        "print(\"\\n命名空間污染示例:\")\n",
        "print(namespace_example)"
      ]
    },
    {
      "cell_type": "markdown",
      "metadata": {},
      "source": [
        "## 8. 實作練習\n",
        "\n",
        "1. 創建一個名為 `geometry.py` 的模組，包含計算各種形狀面積和體積的函數\n",
        "2. 創建另一個名為 `use_geometry.py` 的文件，導入並使用 `geometry` 模組\n",
        "3. 擴展 `geometry` 模組，添加新的形狀和計算，然後重載模組以獲取更新 "
      ]
    }
  ],
  "metadata": {
    "kernelspec": {
      "display_name": "Python 3",
      "language": "python",
      "name": "python3"
    },
    "language_info": {
      "codemirror_mode": {
        "name": "ipython",
        "version": 3
      },
      "file_extension": ".py",
      "mimetype": "text/x-python",
      "name": "python",
      "nbconvert_exporter": "python",
      "pygments_lexer": "ipython3",
      "version": "3.11.9"
    }
  },
  "nbformat": 4,
  "nbformat_minor": 5
}
