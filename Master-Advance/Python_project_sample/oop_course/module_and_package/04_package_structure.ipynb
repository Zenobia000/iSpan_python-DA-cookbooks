{
  "cells": [
    {
      "cell_type": "markdown",
      "metadata": {},
      "source": [
        "# 套件結構\n",
        "\n",
        "本節將介紹Python套件的概念、結構和使用方法，幫助您組織更複雜的代碼庫。\n",
        "\n"
      ]
    },
    {
      "cell_type": "markdown",
      "metadata": {},
      "source": [
        "## 1. 什麼是套件？\n",
        "\n",
        "套件是包含多個模組的目錄，能夠提供更高級別的組織結構。套件必須包含一個特殊的 `__init__.py` 文件（在Python 3.3+中可選但建議保留）。\n",
        "\n",
        "\n",
        "    \"模組: 單一的 .py 文件\",\n",
        "    \"套件: 包含多個模組的目錄 (必須包含 __init__.py)\"\n",
        "\n"
      ]
    },
    {
      "cell_type": "markdown",
      "metadata": {},
      "source": [
        "## 2. 套件結構示例\n",
        "\n"
      ]
    },
    {
      "cell_type": "code",
      "execution_count": 4,
      "metadata": {},
      "outputs": [
        {
          "name": "stdout",
          "output_type": "stream",
          "text": [
            "典型的套件目錄結構:\n",
            "\n",
            "my_package/                 # 頂層套件\n",
            "    __init__.py             # 初始化頂層套件\n",
            "    \n",
            "    module_a.py             # 子模組 A\n",
            "    module_b.py             # 子模組 B\n",
            "    \n",
            "    subpackage_1/           # 子套件 1\n",
            "        __init__.py         # 初始化子套件 1\n",
            "        module_c.py\n",
            "        module_d.py\n",
            "        \n",
            "    subpackage_2/           # 子套件 2\n",
            "        __init__.py         # 初始化子套件 2\n",
            "        module_e.py\n",
            "        module_f.py\n",
            "\n"
          ]
        }
      ],
      "source": [
        "# 展示典型的套件結構\n",
        "package_structure = \"\"\"\n",
        "my_package/                 # 頂層套件\n",
        "    __init__.py             # 初始化頂層套件\n",
        "    \n",
        "    module_a.py             # 子模組 A\n",
        "    module_b.py             # 子模組 B\n",
        "    \n",
        "    subpackage_1/           # 子套件 1\n",
        "        __init__.py         # 初始化子套件 1\n",
        "        module_c.py\n",
        "        module_d.py\n",
        "        \n",
        "    subpackage_2/           # 子套件 2\n",
        "        __init__.py         # 初始化子套件 2\n",
        "        module_e.py\n",
        "        module_f.py\n",
        "\"\"\"\n",
        "\n",
        "print(\"典型的套件目錄結構:\")\n",
        "print(package_structure)\n",
        "\n"
      ]
    },
    {
      "cell_type": "markdown",
      "metadata": {},
      "source": [
        "## 3. `__init__.py` 文件的作用\n",
        "\n"
      ]
    },
    {
      "cell_type": "code",
      "execution_count": 5,
      "metadata": {},
      "outputs": [
        {
          "name": "stdout",
          "output_type": "stream",
          "text": [
            "__init__.py 文件的不同用途:\n",
            "# 1. 最簡單的 __init__.py - 空文件\n",
            "# 僅標記目錄作為Python套件\n",
            "\n",
            "\n",
            "# 2. 導入特定模組或函數，以便在導入套件時可用\n",
            "# 文件: my_package/__init__.py\n",
            "from .module_a import function1, function2\n",
            "from .module_b import ClassX, ClassY\n",
            "\n",
            "\n",
            "# 3. 控制 * 運算符導入的內容\n",
            "# 文件: my_package/__init__.py\n",
            "__all__ = ['function1', 'function2', 'ClassX', 'ClassY']\n",
            "\n",
            "\n",
            "# 4. 定義套件版本信息\n",
            "# 文件: my_package/__init__.py\n",
            "__version__ = '0.1.0'\n",
            "__author__ = 'Your Name'\n",
            "\n",
            "\n",
            "# 5. 執行套件初始化代碼\n",
            "# 文件: my_package/__init__.py\n",
            "print('Initializing my_package...')\n",
            "# 配置日誌、設置預設值等\n"
          ]
        }
      ],
      "source": [
        "# 展示 __init__.py 文件的不同用途\n",
        "init_examples = [\n",
        "    \"# 1. 最簡單的 __init__.py - 空文件\",\n",
        "    \"# 僅標記目錄作為Python套件\",\n",
        "    \"\\n\",\n",
        "    \"# 2. 導入特定模組或函數，以便在導入套件時可用\",\n",
        "    \"# 文件: my_package/__init__.py\",\n",
        "    \"from .module_a import function1, function2\",\n",
        "    \"from .module_b import ClassX, ClassY\",\n",
        "    \"\\n\",\n",
        "    \"# 3. 控制 * 運算符導入的內容\",\n",
        "    \"# 文件: my_package/__init__.py\",\n",
        "    \"__all__ = ['function1', 'function2', 'ClassX', 'ClassY']\",\n",
        "    \"\\n\",\n",
        "    \"# 4. 定義套件版本信息\",\n",
        "    \"# 文件: my_package/__init__.py\",\n",
        "    \"__version__ = '0.1.0'\",\n",
        "    \"__author__ = 'Your Name'\",\n",
        "    \"\\n\",\n",
        "    \"# 5. 執行套件初始化代碼\",\n",
        "    \"# 文件: my_package/__init__.py\",\n",
        "    \"print('Initializing my_package...')\",\n",
        "    \"# 配置日誌、設置預設值等\"\n",
        "]\n",
        "\n",
        "print(\"__init__.py 文件的不同用途:\")\n",
        "for line in init_examples:\n",
        "    print(line)\n",
        "\n"
      ]
    },
    {
      "cell_type": "markdown",
      "metadata": {},
      "source": [
        "## 4. 導入套件和模組\n",
        "\n"
      ]
    },
    {
      "cell_type": "code",
      "execution_count": 11,
      "metadata": {},
      "outputs": [
        {
          "name": "stdout",
          "output_type": "stream",
          "text": [
            "套件結構已建立完成!\n",
            "套件導入方式:\n",
            "# 導入整個套件\n",
            "import my_package\n",
            "\n",
            "\n",
            "# 導入套件中的特定模組\n",
            "import my_package.module_a\n",
            "import my_package.subpackage_1.module_c\n",
            "\n",
            "\n",
            "# 導入模組中的特定項目\n",
            "from my_package.module_a import function1, function2\n",
            "from my_package.subpackage_1.module_c import ClassZ\n",
            "\n",
            "\n",
            "# 使用別名\n",
            "import my_package as mp\n",
            "from my_package.module_a import function1 as f1\n",
            "\n",
            "\n",
            "# 導入套件中的所有可用項目 (如果在 __init__.py 中定義了 __all__)\n",
            "from my_package import *\n"
          ]
        }
      ],
      "source": [
        "# 建立一個範例套件結構\n",
        "import os\n",
        "\n",
        "def create_package_structure():\n",
        "    # 定義套件結構\n",
        "    structure = {\n",
        "        'my_package': {\n",
        "            '__init__.py': '# Package initialization',\n",
        "            'module_a.py': '# Module A content',\n",
        "            'module_b.py': '# Module B content',\n",
        "            'subpackage_1': {\n",
        "                '__init__.py': '# Subpackage 1 initialization',\n",
        "                'module_c.py': '# Module C content',\n",
        "                'module_d.py': '# Module D content'\n",
        "            },\n",
        "            'subpackage_2': {\n",
        "                '__init__.py': '# Subpackage 2 initialization', \n",
        "                'module_e.py': '# Module E content'\n",
        "            }\n",
        "        }\n",
        "    }\n",
        "    \n",
        "    def create_structure(base_path, struct):\n",
        "        for name, content in struct.items():\n",
        "            path = os.path.join(base_path, name)\n",
        "            if isinstance(content, dict):\n",
        "                # 如果是目錄，則建立目錄並遞迴處理\n",
        "                os.makedirs(path, exist_ok=True)\n",
        "                create_structure(path, content)\n",
        "            else:\n",
        "                # 如果是檔案，則建立檔案並寫入內容\n",
        "                with open(path, 'w', encoding='utf-8') as f:\n",
        "                    f.write(content)\n",
        "\n",
        "    # 在當前目錄建立套件結構\n",
        "    create_structure('.', structure)\n",
        "    print(\"套件結構已建立完成!\")\n",
        "\n",
        "# 執行建立套件結構\n",
        "create_package_structure()\n",
        "\n",
        "\n",
        "# 展示不同的套件導入方式\n",
        "import_examples = [\n",
        "    \"# 導入整個套件\",\n",
        "    \"import my_package\",\n",
        "    \"\\n\",\n",
        "    \"# 導入套件中的特定模組\",\n",
        "    \"import my_package.module_a\",\n",
        "    \"import my_package.subpackage_1.module_c\",\n",
        "    \"\\n\",\n",
        "    \"# 導入模組中的特定項目\",\n",
        "    \"from my_package.module_a import function1, function2\",\n",
        "    \"from my_package.subpackage_1.module_c import ClassZ\",\n",
        "    \"\\n\",\n",
        "    \"# 使用別名\",\n",
        "    \"import my_package as mp\",\n",
        "    \"from my_package.module_a import function1 as f1\",\n",
        "    \"\\n\",\n",
        "    \"# 導入套件中的所有可用項目 (如果在 __init__.py 中定義了 __all__)\",\n",
        "    \"from my_package import *\"\n",
        "]\n",
        "\n",
        "print(\"套件導入方式:\")\n",
        "for example in import_examples:\n",
        "    print(example)\n",
        "\n"
      ]
    },
    {
      "cell_type": "markdown",
      "metadata": {},
      "source": [
        "## 5. 相對導入與絕對導入\n",
        "\n"
      ]
    },
    {
      "cell_type": "code",
      "execution_count": 12,
      "metadata": {},
      "outputs": [
        {
          "name": "stdout",
          "output_type": "stream",
          "text": [
            "絕對導入與相對導入:\n",
            "# 絕對導入 (從項目根目錄開始)\n",
            "from my_package.subpackage_1 import module_c\n",
            "from my_package.module_a import function1\n",
            "\n",
            "\n",
            "# 相對導入 (從當前模組位置開始)\n",
            "# 在 my_package/subpackage_1/module_c.py 中:\n",
            "from . import module_d        # 導入同級目錄的模組\n",
            "from .. import module_a       # 導入上一級目錄的模組\n",
            "from ..module_b import ClassY # 導入上一級目錄特定模組中的類\n",
            "from ..subpackage_2 import module_e  # 導入平行子套件中的模組\n",
            "\n",
            "注意事項:\n",
            "- 相對導入只能在套件內部使用，不能在頂層模組中使用\n",
            "- 相對導入可能在不同執行方式下表現不同 (作為腳本運行 vs 作為模組導入)\n"
          ]
        }
      ],
      "source": [
        "import_types = [\n",
        "    \"# 絕對導入 (從項目根目錄開始)\",\n",
        "    \"from my_package.subpackage_1 import module_c\",\n",
        "    \"from my_package.module_a import function1\",\n",
        "    \"\\n\",\n",
        "    \"# 相對導入 (從當前模組位置開始)\",\n",
        "    \"# 在 my_package/subpackage_1/module_c.py 中:\",\n",
        "    \"from . import module_d        # 導入同級目錄的模組\",\n",
        "    \"from .. import module_a       # 導入上一級目錄的模組\",\n",
        "    \"from ..module_b import ClassY # 導入上一級目錄特定模組中的類\",\n",
        "    \"from ..subpackage_2 import module_e  # 導入平行子套件中的模組\"\n",
        "]\n",
        "\n",
        "print(\"絕對導入與相對導入:\")\n",
        "for line in import_types:\n",
        "    print(line)\n",
        "\n",
        "print(\"\\n注意事項:\")\n",
        "print(\"- 相對導入只能在套件內部使用，不能在頂層模組中使用\")\n",
        "print(\"- 相對導入可能在不同執行方式下表現不同 (作為腳本運行 vs 作為模組導入)\")\n",
        "\n"
      ]
    },
    {
      "cell_type": "markdown",
      "metadata": {},
      "source": [
        "## 6. 命名空間套件 (Python 3.3+)\n",
        "#\n",
        "命名空間套件是橫跨多個目錄的套件，不需要 `__init__.py` 文件。\n",
        "\n",
        "一、傳統套件（Normal Package）是什麼？\n",
        "在早期（Python 3.3以前），**一個套件（package）**必須：\n",
        "\n",
        "是一個資料夾\n",
        "\n",
        "資料夾裡必須有一個 __init__.py 檔案（哪怕是空的）\n",
        "\n",
        "這樣 Python 才知道：「喔，這個目錄是一個 package，可以被 import。」\n",
        "\n",
        "二、命名空間套件（Namespace Package）是什麼？\n",
        "到了 Python 3.3 以後，Python 引入了命名空間套件的新機制：\n",
        "\n",
        "定義：\n",
        "命名空間套件允許同一個 package 名稱，分散在多個不同目錄中，\n",
        "Python 會自動把它們合併成一個虛擬的套件，而且不需要 __init__.py。\n",
        "\n",
        "\n",
        "# 🔥 為什麼要有命名空間套件？\n",
        "痛點： 以前你必須把整個套件「塞在同一個資料夾」，\n",
        "如果團隊 A 做 module_a，團隊 B 做 module_b，又想要同時 import，就很難做到分開開發。\n",
        "\n",
        "解法： 用「命名空間套件」，讓不同人、不同模組，可以獨立發行自己的一塊， 但最終都歸在同一個統一的 namespace之下。"
      ]
    },
    {
      "cell_type": "code",
      "execution_count": 8,
      "metadata": {},
      "outputs": [
        {
          "name": "stdout",
          "output_type": "stream",
          "text": [
            "命名空間套件示例:\n",
            "\n",
            "# 目錄結構:\n",
            "path1/\n",
            "    my_namespace/\n",
            "        module_a.py\n",
            "        \n",
            "path2/\n",
            "    my_namespace/\n",
            "        module_b.py\n",
            "\n",
            "# 將兩個路徑都添加到 Python 路徑中後:\n",
            "import sys\n",
            "sys.path.extend(['path1', 'path2'])\n",
            "\n",
            "# 可以這樣導入:\n",
            "import my_namespace.module_a\n",
            "import my_namespace.module_b\n",
            "\n",
            "# Python會自動將同名目錄組合成一個命名空間套件\n",
            "\n"
          ]
        }
      ],
      "source": [
        "namespace_example = \"\"\"\n",
        "# 目錄結構:\n",
        "path1/\n",
        "    my_namespace/\n",
        "        module_a.py\n",
        "        \n",
        "path2/\n",
        "    my_namespace/\n",
        "        module_b.py\n",
        "\n",
        "# 將兩個路徑都添加到 Python 路徑中後:\n",
        "import sys\n",
        "sys.path.extend(['path1', 'path2'])\n",
        "\n",
        "# 可以這樣導入:\n",
        "import my_namespace.module_a\n",
        "import my_namespace.module_b\n",
        "\n",
        "# Python會自動將同名目錄組合成一個命名空間套件\n",
        "\"\"\"\n",
        "\n",
        "print(\"命名空間套件示例:\")\n",
        "print(namespace_example)\n",
        "\n"
      ]
    },
    {
      "cell_type": "markdown",
      "metadata": {},
      "source": [
        "## 8. 套件設計最佳實踐\n",
        "\n"
      ]
    },
    {
      "cell_type": "code",
      "execution_count": 14,
      "metadata": {},
      "outputs": [
        {
          "name": "stdout",
          "output_type": "stream",
          "text": [
            "套件設計最佳實踐:\n",
            "1. 遵循標準目錄結構 - 使用常見的組織方式\n",
            "2. 避免過深的嵌套 - 保持套件結構相對扁平\n",
            "3. 謹慎使用 __init__.py - 避免複雜的初始化邏輯\n",
            "4. 使用明確的導入方式 - 優先使用顯式導入而非 *\n",
            "5. 遵循明確的版本控制 - 使用語義化版本號\n",
            "6. 包含完善的文檔 - 添加清晰的使用說明\n",
            "7. 提供測試用例 - 確保套件功能正常\n",
            "8. 關注向下兼容性 - 避免輕易破壞用戶代碼\n"
          ]
        }
      ],
      "source": [
        "best_practices = [\n",
        "    \"遵循標準目錄結構 - 使用常見的組織方式\",\n",
        "    \"避免過深的嵌套 - 保持套件結構相對扁平\",\n",
        "    \"謹慎使用 __init__.py - 避免複雜的初始化邏輯\",\n",
        "    \"使用明確的導入方式 - 優先使用顯式導入而非 *\",\n",
        "    \"遵循明確的版本控制 - 使用語義化版本號\",\n",
        "    \"包含完善的文檔 - 添加清晰的使用說明\",\n",
        "    \"提供測試用例 - 確保套件功能正常\",\n",
        "    \"關注向下兼容性 - 避免輕易破壞用戶代碼\"\n",
        "]\n",
        "\n",
        "print(\"套件設計最佳實踐:\")\n",
        "for i, practice in enumerate(best_practices, 1):\n",
        "    print(f\"{i}. {practice}\")\n",
        "\n"
      ]
    },
    {
      "cell_type": "markdown",
      "metadata": {},
      "source": [
        "## 9. 實作練習\n",
        "\n",
        "1. 創建一個名為 `data_analysis` 的套件，包含以下子模組:\n",
        "   - `readers.py` - 用於讀取不同格式的資料\n",
        "   - `processors.py` - 用於處理和轉換資料\n",
        "   - `visualizers.py` - 用於視覺化資料\n",
        "\n",
        "2. 設計合適的 `__init__.py` 文件，讓使用者能夠方便地存取主要功能\n",
        "\n",
        "3. 創建一個使用該套件的範例腳本 "
      ]
    }
  ],
  "metadata": {
    "kernelspec": {
      "display_name": "Python 3",
      "language": "python",
      "name": "python3"
    },
    "language_info": {
      "codemirror_mode": {
        "name": "ipython",
        "version": 3
      },
      "file_extension": ".py",
      "mimetype": "text/x-python",
      "name": "python",
      "nbconvert_exporter": "python",
      "pygments_lexer": "ipython3",
      "version": "3.11.9"
    }
  },
  "nbformat": 4,
  "nbformat_minor": 5
}
