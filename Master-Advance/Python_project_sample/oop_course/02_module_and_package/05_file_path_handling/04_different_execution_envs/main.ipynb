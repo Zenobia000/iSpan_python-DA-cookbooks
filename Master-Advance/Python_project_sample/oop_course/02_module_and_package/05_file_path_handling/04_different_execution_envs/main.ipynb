{
 "cells": [
  {
   "cell_type": "markdown",
   "metadata": {},
   "source": [
    "| 問題 | 說明 |\n",
    "|:---|:---|\n",
    "| `__file__` 是什麼？ | 表示當前 `.py` 檔案的完整路徑 |\n",
    "| 哪裡會自動有 `__file__`？ | 用 `python some_script.py` 執行 `.py` 時 |\n",
    "| 為什麼 Jupyter 沒有？ | Jupyter 是互動式 kernel，不屬於特定「腳本檔案」 |\n",
    "| 如何取得 notebook 真正位置？ | 用 `Path().resolve()` 或 `notebook.__file__` 替代策略（需自定義） |\n",
    "\n",
    "\n",
    "✅ 如果是在純粹的 .py 腳本環境（用 python main.py），執行程式入口最靠近的資料夾即為根目錄。\n",
    "（因為 python main.py 會以當前 main.py 所在層開始推導路徑）\n",
    "\n",
    "⚠️ 在 Jupyter Notebook，不是以每個 notebook 作為新的入口，而是\n",
    "以啟動 Jupyter Server 的地方為整個 Kernel 的 cwd！"
   ]
  },
  {
   "cell_type": "code",
   "execution_count": 21,
   "metadata": {},
   "outputs": [
    {
     "name": "stdout",
     "output_type": "stream",
     "text": [
      "__file__ 不存在\n",
      "腳本目錄: d:\\python_workspace\\Sunny_DA_Learning\\demo_module_and_package\\file_path_handling\n"
     ]
    }
   ],
   "source": [
    "# 主題：腳本執行位置與工作目錄可能不同\n",
    "\n",
    "import os\n",
    "from pathlib import Path\n",
    "\n",
    "def get_script_dir():\n",
    "    if '__file__' in globals():\n",
    "        return os.path.dirname(os.path.abspath(__file__))\n",
    "    else:\n",
    "        print(\"__file__ 不存在\")\n",
    "        return os.getcwd()\n",
    "\n",
    "print(\"腳本目錄:\", get_script_dir())"
   ]
  }
 ],
 "metadata": {
  "kernelspec": {
   "display_name": "Python 3",
   "language": "python",
   "name": "python3"
  },
  "language_info": {
   "codemirror_mode": {
    "name": "ipython",
    "version": 3
   },
   "file_extension": ".py",
   "mimetype": "text/x-python",
   "name": "python",
   "nbconvert_exporter": "python",
   "pygments_lexer": "ipython3",
   "version": "3.11.9"
  }
 },
 "nbformat": 4,
 "nbformat_minor": 2
}
