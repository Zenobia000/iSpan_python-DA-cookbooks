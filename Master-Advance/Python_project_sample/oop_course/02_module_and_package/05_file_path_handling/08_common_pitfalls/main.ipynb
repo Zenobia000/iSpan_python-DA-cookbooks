{
 "cells": [
  {
   "cell_type": "code",
   "execution_count": 4,
   "metadata": {},
   "outputs": [
    {
     "name": "stdout",
     "output_type": "stream",
     "text": [
      "data\\input.csv\n",
      "data\\input.csv\n",
      "d:\\python_workspace\\Sunny_DA_Learning\\demo_module_and_package\\file_path_handling\\08_common_pitfalls\\data\\input.csv\n",
      "- 手動接 '/' 錯誤，應使用 os.path.join 或 Path / 運算符\n",
      "- 假設工作目錄固定錯誤，應動態偵測 __file__ 或 cwd()\n"
     ]
    }
   ],
   "source": [
    "# 主題：常見路徑處理錯誤總結\n",
    "# 1. 手動接 '/' 的錯誤示範\n",
    "wrong_path = \"data\" + \"/\" + \"input.csv\"  # 不要這樣做!\n",
    "\n",
    "# ------------------------------------------------------------------------\n",
    "# 正確做法\n",
    "import os\n",
    "from pathlib import Path\n",
    "\n",
    "# 使用 os.path.join\n",
    "correct_path1 = os.path.join(\"data\", \"input.csv\")\n",
    "\n",
    "# 使用 Path 的 / 運算符\n",
    "correct_path2 = Path(\"data\") / \"input.csv\"\n",
    "\n",
    "# 2. 假設工作目錄固定的錯誤示範\n",
    "wrong_file = open(\"data/input.csv\")  # 不要這樣做!\n",
    "\n",
    "\n",
    "# 正確做法：動態取得檔案位置\n",
    "def get_file_dir():\n",
    "    try:\n",
    "        return Path(__file__).parent  # .py 檔案\n",
    "    except NameError:\n",
    "        return Path.cwd()  # Jupyter notebook\n",
    "\n",
    "# 使用動態路徑\n",
    "file_path = get_file_dir() / \"data\" / \"input.csv\"\n",
    "\n",
    "print(correct_path1)\n",
    "print(correct_path2)\n",
    "print(file_path)\n",
    "\n",
    "\n",
    "print(\"- 手動接 '/' 錯誤，應使用 os.path.join 或 Path / 運算符\")\n",
    "print(\"- 假設工作目錄固定錯誤，應動態偵測 __file__ 或 cwd()\")\n"
   ]
  }
 ],
 "metadata": {
  "kernelspec": {
   "display_name": "Python 3",
   "language": "python",
   "name": "python3"
  },
  "language_info": {
   "codemirror_mode": {
    "name": "ipython",
    "version": 3
   },
   "file_extension": ".py",
   "mimetype": "text/x-python",
   "name": "python",
   "nbconvert_exporter": "python",
   "pygments_lexer": "ipython3",
   "version": "3.11.9"
  }
 },
 "nbformat": 4,
 "nbformat_minor": 2
}
