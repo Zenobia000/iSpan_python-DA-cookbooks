{
 "cells": [
  {
   "cell_type": "code",
   "execution_count": 3,
   "metadata": {},
   "outputs": [
    {
     "name": "stdout",
     "output_type": "stream",
     "text": [
      "d:\\python_workspace\\Sunny_DA_Learning\\demo_module_and_package\\file_path_handling\\07_special_cases\\path_demo_project\n",
      "Hello, Jupyter Notebook!\n"
     ]
    }
   ],
   "source": [
    "# 主題：Jupyter Notebook 套件導入路徑示範\n",
    "\n",
    "import sys\n",
    "from pathlib import Path\n",
    "import os\n",
    "\n",
    "# 因為 Notebook 沒有 __file__，用 cwd() 推測 project root\n",
    "notebook_dir = Path(os.getcwd())\n",
    "# 加入 notebooks 的父層目錄，假設專案根目錄\n",
    "print(notebook_dir)\n",
    "sys.path.append(str(notebook_dir))\n",
    "\n",
    "from mypackage import module_a\n",
    "\n",
    "print(module_a.greet(\"Jupyter Notebook\"))\n",
    "\n",
    "\n",
    "\n"
   ]
  }
 ],
 "metadata": {
  "kernelspec": {
   "display_name": "Python 3",
   "language": "python",
   "name": "python3"
  },
  "language_info": {
   "codemirror_mode": {
    "name": "ipython",
    "version": 3
   },
   "file_extension": ".py",
   "mimetype": "text/x-python",
   "name": "python",
   "nbconvert_exporter": "python",
   "pygments_lexer": "ipython3",
   "version": "3.11.9"
  }
 },
 "nbformat": 4,
 "nbformat_minor": 2
}
