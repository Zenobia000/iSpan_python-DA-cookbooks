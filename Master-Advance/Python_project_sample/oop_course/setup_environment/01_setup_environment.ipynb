{
  "cells": [
    {
      "cell_type": "markdown",
      "id": "ad6cb598",
      "metadata": {},
      "source": [
        "# Python OOP 課程 - 環境設置\n",
        "\n",
        "本節將介紹如何使用 **Poetry** 來建立和管理 Python 開發環境，確保每個專案有獨立的依賴與配置。\n",
        "\n"
      ]
    },
    {
      "cell_type": "markdown",
      "id": "2153f838",
      "metadata": {},
      "source": [
        "## 1. 虛擬環境與套件管理的重要性\n",
        "\n",
        "在現代Python開發中，良好的環境隔離與依賴管理至關重要。**Poetry** 是一個流行且現代化的工具，提供一站式的專案初始化、依賴管理與發佈流程。\n",
        "\n"
      ]
    },
    {
      "cell_type": "markdown",
      "id": "f422df37",
      "metadata": {},
      "source": [
        "## 2. 安裝 Poetry\n",
        "\n",
        "### 官方推薦安裝指令\n",
        "\n",
        "請在終端機執行以下指令安裝 Poetry：\n",
        "\n"
      ]
    },
    {
      "cell_type": "markdown",
      "id": "56cd24f8",
      "metadata": {},
      "source": [
        "以下是安裝 Poetry 的 SOP：\n",
        "\n",
        "### 安裝 Poetry\n",
        "\n",
        "#### 1. 選擇安裝方式\n",
        "Poetry 提供兩種主要的安裝方式：\n",
        "- 使用 `pipx` 安裝。\n",
        "- 使用官方安裝程式（official installer）安裝。\n",
        "\n",
        "#### 2. 使用官方安裝程式\n",
        "\n",
        "##### macOS / Linux / WSL（Windows Subsystem for Linux）\n",
        "在命令列輸入以下指令：\n",
        "\n",
        "```bash\n",
        "curl -sSL https://install.python-poetry.org | python3 -\n",
        "```\n",
        "\n",
        "##### Windows\n",
        "在命令列輸入以下指令：\n",
        "\n",
        "```powershell\n",
        "(Invoke-WebRequest -Uri https://install.python-poetry.org -UseBasicParsing).Content | python -\n",
        "```\n",
        "\n",
        "#### 3. 設定 PATH 環境變數\n",
        "若使用官方安裝程式，需手動設定 PATH。\n",
        "\n",
        "##### macOS / Linux\n",
        "在 `.zshrc` 或 `.bashrc` 或 `.bash_profile` 中新增以下內容：\n",
        "\n",
        "```bash\n",
        "export PATH=$PATH:$HOME/.local/bin\n",
        "```\n",
        "\n",
        "存檔後重啟 shell。\n",
        "\n",
        "##### Windows\n",
        "可參考 JetBrains 的 [Poetry 設定教學](https://www.jetbrains.com/help/dataspell/poetry.html)，替換成自己的使用者路徑：\n",
        "\n",
        "```powershell\n",
        "$Env:Path += \";C:\\\\Users\\\\你的使用者名稱\\\\AppData\\\\Roaming\\\\Python\\\\Scripts\"; setx PATH \"$Env:Path\"\n",
        "```\n",
        "\n",
        "重啟 shell。\n",
        "\n",
        "#### 4. 設定 alias（選擇性）\n",
        "可設定 alias 以方便使用：\n",
        "if os = mac and linux\n",
        "```bash\n",
        "alias p='poetry'\n",
        "```\n",
        "\n",
        "if os = windows\n",
        "```powershell\n",
        "Set-Alias p poetry\n",
        "```\n",
        "\n",
        "----\n",
        "\n",
        "\n",
        "如果想要讓 alias 在每次啟動 PowerShell 時自動生效，可以將這行指令加入 PowerShell 的配置檔案中：\n",
        "\n",
        "打開你的 PowerShell 配置檔案（如果沒有，會自動創建）：\n",
        "\n",
        "```powershell\n",
        "if (!(Test-Path -Path $PROFILE)) { New-Item -Type File -Path $PROFILE -Force }\n",
        "notepad $PROFILE\n",
        "```\n",
        "\n",
        "在打開的檔案中加入以下行：\n",
        "\n",
        "```powershell\n",
        "Set-Alias p poetry\n",
        "```\n",
        "存檔並關閉。\n",
        "\n",
        "以上就是安裝 Poetry 的 SOP。安裝完成後，可以使用 `poetry` 指令來管理 Python 套件。"
      ]
    },
    {
      "cell_type": "markdown",
      "id": "368c5e80",
      "metadata": {},
      "source": [
        "### 驗證安裝\n",
        "\n"
      ]
    },
    {
      "cell_type": "code",
      "execution_count": 7,
      "id": "ff1abecc",
      "metadata": {},
      "outputs": [
        {
          "name": "stdout",
          "output_type": "stream",
          "text": [
            "# 驗證 Poetry 是否安裝成功\n",
            "poetry --version\n"
          ]
        }
      ],
      "source": [
        "print(\"# 驗證 Poetry 是否安裝成功\")\n",
        "print(\"poetry --version\")\n"
      ]
    },
    {
      "cell_type": "markdown",
      "id": "a4afe255",
      "metadata": {},
      "source": [
        "## 3. 使用 Poetry 初始化專案\n",
        "\n"
      ]
    },
    {
      "cell_type": "code",
      "execution_count": 9,
      "id": "aa5bdf36",
      "metadata": {},
      "outputs": [
        {
          "name": "stdout",
          "output_type": "stream",
          "text": [
            "# 建立新的專案資料夾\n",
            "mkdir python_oop_course\n",
            "cd python_oop_course\n",
            "\n",
            "# 使用 Poetry 初始化\n",
            "poetry my_project(你可以自己取名喜歡的專案名稱)\n"
          ]
        }
      ],
      "source": [
        "print(\"# 建立新的專案資料夾\")\n",
        "print(\"mkdir python_oop_course\")\n",
        "print(\"cd python_oop_course\")\n",
        "\n",
        "print(\"\\n# 使用 Poetry 初始化\")\n",
        "print(\"poetry my_project(你可以自己取名喜歡的專案名稱)\")\n",
        "\n",
        "\n"
      ]
    },
    {
      "cell_type": "markdown",
      "id": "e3ab664b",
      "metadata": {},
      "source": [
        "## 4. 依賴套件管理\n",
        "\n",
        "使用 Poetry 管理套件相當直覺，下面是常見的操作方法：\n",
        "\n"
      ]
    },
    {
      "cell_type": "markdown",
      "id": "8a1e0e96",
      "metadata": {},
      "source": [
        "### 4.1 安裝套件\n",
        "\n"
      ]
    },
    {
      "cell_type": "code",
      "execution_count": 11,
      "id": "527e9cb6",
      "metadata": {},
      "outputs": [
        {
          "name": "stdout",
          "output_type": "stream",
          "text": [
            "# 安裝本課程所需套件\n",
            "poetry add jupyter\n",
            "poetry add matplotlib\n",
            "poetry add pandas\n",
            "poetry add pytest\n",
            "# 觀看那些套件已安裝\n",
            "poetry show\n"
          ]
        }
      ],
      "source": [
        "required_packages = [\n",
        "    \"jupyter\",\n",
        "    \"matplotlib\",\n",
        "    \"pandas\",\n",
        "    \"pytest\",\n",
        "]\n",
        "\n",
        "print(\"# 安裝本課程所需套件\")\n",
        "for pkg in required_packages:\n",
        "    print(f\"poetry add {pkg}\")\n",
        "\n",
        "print(\"# 觀看那些套件已安裝\")\n",
        "print(\"poetry show\")"
      ]
    },
    {
      "cell_type": "markdown",
      "id": "2897c5cc",
      "metadata": {},
      "source": [
        "### 4.2 更新套件\n",
        "\n"
      ]
    },
    {
      "cell_type": "code",
      "execution_count": 10,
      "id": "c81ca486",
      "metadata": {},
      "outputs": [
        {
          "name": "stdout",
          "output_type": "stream",
          "text": [
            "# 更新單一套件\n",
            "poetry update 套件名稱\n",
            "\n",
            "# 更新所有套件\n",
            "poetry update\n"
          ]
        }
      ],
      "source": [
        "print(\"# 更新單一套件\")\n",
        "print(\"poetry update 套件名稱\")\n",
        "\n",
        "print(\"\\n# 更新所有套件\")\n",
        "print(\"poetry update\")\n",
        "\n"
      ]
    },
    {
      "cell_type": "markdown",
      "id": "8a7e8a99",
      "metadata": {},
      "source": [
        "### 4.3 移除套件\n",
        "\n"
      ]
    },
    {
      "cell_type": "code",
      "execution_count": 12,
      "id": "7d11266e",
      "metadata": {},
      "outputs": [
        {
          "name": "stdout",
          "output_type": "stream",
          "text": [
            "# 移除單一套件\n",
            "poetry remove 套件名稱\n"
          ]
        }
      ],
      "source": [
        "print(\"# 移除單一套件\")\n",
        "print(\"poetry remove 套件名稱\")\n"
      ]
    },
    {
      "cell_type": "markdown",
      "id": "373c714a",
      "metadata": {},
      "source": [
        "## 5. 進入虛擬環境\n",
        "\n"
      ]
    },
    {
      "cell_type": "code",
      "execution_count": 13,
      "id": "d9afcdbf",
      "metadata": {},
      "outputs": [
        {
          "name": "stdout",
          "output_type": "stream",
          "text": [
            "# 啟動 Poetry 虛擬環境的 Shell\n",
            "poetry env activate\n"
          ]
        }
      ],
      "source": [
        "print(\"# 啟動 Poetry 虛擬環境的 Shell\")\n",
        "print(\"poetry env activate\")"
      ]
    },
    {
      "cell_type": "markdown",
      "id": "2992503d",
      "metadata": {},
      "source": [
        "## 6. 執行 Python 腳本或 Notebook\n",
        "\n"
      ]
    },
    {
      "cell_type": "code",
      "execution_count": 14,
      "id": "a8cb1eea",
      "metadata": {},
      "outputs": [
        {
          "name": "stdout",
          "output_type": "stream",
          "text": [
            "# 在 Poetry 環境中執行 Python\n",
            "poetry run python your_script.py\n",
            "\n",
            "# 或啟動 Jupyter Notebook\n",
            "poetry run jupyter notebook\n"
          ]
        }
      ],
      "source": [
        "print(\"# 在 Poetry 環境中執行 Python\")\n",
        "print(\"poetry run python your_script.py\")\n",
        "\n",
        "print(\"\\n# 或啟動 Jupyter Notebook\")\n",
        "print(\"poetry run jupyter notebook\")\n",
        "\n"
      ]
    },
    {
      "cell_type": "markdown",
      "id": "8f75253a",
      "metadata": {},
      "source": [
        "## 7. Poetry常見檔案說明\n",
        "\n",
        "- `pyproject.toml`：記錄專案名稱、描述、作者與套件依賴\n",
        "- `poetry.lock`：鎖定具體的套件版本，確保環境一致性\n",
        "- `.venv/`：(可選)儲存 Poetry 建立的虛擬環境，視設定而定\n",
        "\n"
      ]
    },
    {
      "cell_type": "markdown",
      "id": "2de7f4e7",
      "metadata": {},
      "source": [
        "## 8. 本課程需要的套件\n",
        "\n"
      ]
    },
    {
      "cell_type": "code",
      "execution_count": 15,
      "id": "8a2b8f51",
      "metadata": {},
      "outputs": [
        {
          "name": "stdout",
          "output_type": "stream",
          "text": [
            "課程推薦安裝以下套件：\n",
            "- jupyter\n",
            "- matplotlib\n",
            "- pandas\n",
            "- pytest\n",
            "\n",
            "建議安裝指令:\n",
            "poetry add jupyter matplotlib pandas pytest\n"
          ]
        }
      ],
      "source": [
        "print(\"課程推薦安裝以下套件：\")\n",
        "for pkg in required_packages:\n",
        "    print(f\"- {pkg}\")\n",
        "    \n",
        "print(\"\\n建議安裝指令:\")\n",
        "print(f\"poetry add {' '.join(required_packages)}\")\n"
      ]
    },
    {
      "cell_type": "markdown",
      "id": "34cc46a0",
      "metadata": {},
      "source": [
        "## 9. 驗證套件安裝狀態\n",
        "\n"
      ]
    },
    {
      "cell_type": "code",
      "execution_count": 16,
      "id": "4558f972",
      "metadata": {},
      "outputs": [
        {
          "name": "stdout",
          "output_type": "stream",
          "text": [
            "jupyter: 已安裝\n",
            "matplotlib: 已安裝\n",
            "pandas: 已安裝\n",
            "pytest: 未安裝\n"
          ]
        }
      ],
      "source": [
        "def check_package_installed(package_name):\n",
        "    try:\n",
        "        __import__(package_name)\n",
        "        return True\n",
        "    except ImportError:\n",
        "        return False\n",
        "\n",
        "for package in required_packages:\n",
        "    status = \"已安裝\" if check_package_installed(package) else \"未安裝\"\n",
        "    print(f\"{package}: {status}\")\n",
        "\n"
      ]
    },
    {
      "cell_type": "markdown",
      "id": "93164138",
      "metadata": {},
      "source": [
        "## 10. IDE 推薦\n",
        "\n",
        "以下是適合 Python 開發且支援 Poetry 的 IDE 和編輯器:\n",
        "\n",
        "1. **VS Code** + Python Extension (推薦！原生支援 Poetry)\n",
        "2. **PyCharm Professional** (內建 Poetry 整合)\n",
        "3. **Jupyter Lab** (資料分析友善，可搭配 `poetry run jupyter lab` 啟動)\n",
        "4. **Vim + coc.nvim** (進階用戶適用)\n",
        "\n"
      ]
    },
    {
      "cell_type": "markdown",
      "id": "a3610665",
      "metadata": {},
      "source": [
        "## 11. 實作練習\n",
        "\n",
        "1. 使用 Poetry 建立一個名為 `oop_course_env` 的專案\n",
        "2. 安裝課程所需套件\n",
        "3. 進入 Poetry 環境並驗證所有套件是否正確安裝\n",
        "\n",
        "---\n",
        "\n",
        "✅ 重點整理\n",
        "\n",
        "| 項目                  | 指令範例                              |\n",
        "|:-----------------------|:--------------------------------------|\n",
        "| 安裝 Poetry            | `curl -sSL https://install.python-poetry.org | python3` |\n",
        "| 初始化專案             | `poetry init`                         |\n",
        "| 新增套件(不需要進入環境, 只需要和 toml 同層下指令即可)               | `poetry add pandas`                   |\n",
        "| 移除套件               | `poetry remove pandas`                |\n",
        "| 更新套件               | `poetry update`                       |\n",
        "| 啟動虛擬環境           | `poetry shell`                        |\n",
        "| 執行 Python 指令       | `poetry run python xxx.py`             |\n",
        "\n",
        "---\n",
        "\n",
        "要不要順便也一起規劃**pyproject.toml**的標準範本？  \n",
        "（讓學生直接copy一份最快上手！）  \n",
        "要的話我可以補一版！要繼續嗎？🚀  \n",
        "要繼續的話也可以順便問你要不要預設 Python 版本（例如 3.11 or 3.12）？"
      ]
    },
    {
      "cell_type": "markdown",
      "id": "292aacfb",
      "metadata": {},
      "source": [
        "### 宇宙重要 !!!! 要讓 Jupyter Notebook 使用 Poetry 建立的虛擬環境，可以按照以下步驟進行設定：\n",
        "\n",
        "### 步驟\n",
        "\n",
        "1. **啟動 Poetry 虛擬環境**\n",
        "\n",
        "   首先，進入你的專案目錄，並啟動 Poetry 虛擬環境：\n",
        "\n",
        "   ```bash\n",
        "   poetry shell\n",
        "   ```\n",
        "\n",
        "2. **在虛擬環境中安裝 ipykernel**\n",
        "\n",
        "   安裝 `ipykernel` 以便 Jupyter 使用這個虛擬環境：\n",
        "\n",
        "   ```bash\n",
        "   poetry add ipykernel\n",
        "   ```\n",
        "\n",
        "3. **建立 Jupyter Kernel**\n",
        "\n",
        "   使用以下指令將虛擬環境添加到 Jupyter 的 kernel 列表中：\n",
        "\n",
        "   ```bash\n",
        "   python -m ipykernel install --user --name=my_poetry_env --display-name=\"My Poetry Environment\"\n",
        "   ```\n",
        "\n",
        "   這會在 Jupyter Notebook 中創建一個名為 \"My Poetry Environment\" 的 kernel。\n",
        "\n",
        "4. **啟動 Jupyter Notebook**\n",
        "\n",
        "   在同一個虛擬環境中啟動 Jupyter Notebook：\n",
        "\n",
        "   ```bash\n",
        "   jupyter notebook\n",
        "   ```\n",
        "\n",
        "5. **選擇 Kernel**\n",
        "\n",
        "   在 Jupyter Notebook 中，選擇 \"Kernel\" -> \"Change kernel\" -> \"My Poetry Environment\"。\n",
        "\n",
        "這樣，你就可以在 Jupyter Notebook 中使用 Poetry 建立的虛擬環境了。"
      ]
    },
    {
      "cell_type": "markdown",
      "id": "94f58435",
      "metadata": {},
      "source": [
        "## poetry 資料夾初始化結構"
      ]
    },
    {
      "cell_type": "markdown",
      "id": "4b518cb6",
      "metadata": {},
      "source": [
        "\n",
        "\n",
        "### 資料夾結構\n",
        "\n",
        "- **.venv**: 這是虛擬環境的根目錄，包含所有虛擬環境相關的檔案和資料夾。\n",
        "\n",
        "  - **etc**: 通常用於存放配置文件和設定檔案。\n",
        "\n",
        "  - **Lib**: 包含 Python 標準庫和安裝的第三方套件。\n",
        "\n",
        "  - **Scripts**: 包含可執行檔案和腳本，像是 `python.exe` 和 `pip.exe` 等。\n",
        "\n",
        "  - **share**: 一般用來存放共用的資源文件。\n",
        "\n",
        "- **.gitignore**: 指定哪些檔案或資料夾應該被 Git 忽略，不會被提交到版本控制系統中。\n",
        "\n",
        "- **pyvenv.cfg**: 虛擬環境的配置檔案，包含虛擬環境的基本設定。\n",
        "\n",
        "- **poetry.lock**: 鎖定檔案，記錄專案中所有套件的確切版本，確保在不同環境中安裝的套件版本一致。\n",
        "\n",
        "- **pyproject.toml**: 專案的配置檔案，定義專案的依賴關係和其他設定。\n",
        "\n",
        "這些資料夾和檔案共同構成了一個完整的 Poetry 虛擬環境，方便管理專案的依賴和環境。"
      ]
    },
    {
      "cell_type": "markdown",
      "id": "605fa0cd",
      "metadata": {},
      "source": [
        "## 快速搭建開發環境與當前套件版本一樣和 python 版本一樣的環境\n",
        "\n",
        "### 移植步驟\n",
        "\n",
        "1. **確保安裝 Poetry**\n",
        "\n",
        "   在新電腦上，首先確保已安裝 Poetry。可以使用以下指令安裝：\n",
        "\n",
        "   ##### macOS / Linux / WSL（Windows Subsystem for Linux）\n",
        "   在命令列輸入以下指令：\n",
        "\n",
        "   ```bash\n",
        "   curl -sSL https://install.python-poetry.org | python3 -\n",
        "   ```\n",
        "\n",
        "   ##### Windows\n",
        "   在命令列輸入以下指令：\n",
        "\n",
        "   ```powershell\n",
        "   (Invoke-WebRequest -Uri https://install.python-poetry.org -UseBasicParsing).Content | python -\n",
        "   ```\n",
        "\n",
        "2. **複製專案目錄**\n",
        "\n",
        "   將整個專案目錄（包括 `pyproject.toml` 和 `poetry.lock`）複製到新電腦上。\n",
        "\n",
        "3. **安裝依賴**\n",
        "\n",
        "   在新電腦上，進入專案目錄，然後運行以下指令來安裝所有依賴：\n",
        "\n",
        "   ```bash\n",
        "   poetry install\n",
        "   ```\n",
        "\n",
        "   這會根據 `poetry.lock` 檔案確保所有套件的版本一致。\n",
        "\n",
        "4. **啟動虛擬環境**\n",
        "\n",
        "   使用以下指令啟動虛擬環境：\n",
        "\n",
        "   ```bash\n",
        "   poetry shell\n",
        "   ```\n",
        "\n",
        "5. **驗證環境**\n",
        "\n",
        "   確保所有必要的套件已正確安裝，並測試專案是否能正常運行。\n",
        "\n"
      ]
    }
  ],
  "metadata": {
    "kernelspec": {
      "display_name": "Python 3",
      "language": "python",
      "name": "python3"
    },
    "language_info": {
      "codemirror_mode": {
        "name": "ipython",
        "version": 3
      },
      "file_extension": ".py",
      "mimetype": "text/x-python",
      "name": "python",
      "nbconvert_exporter": "python",
      "pygments_lexer": "ipython3",
      "version": "3.11.9"
    }
  },
  "nbformat": 4,
  "nbformat_minor": 5
}
