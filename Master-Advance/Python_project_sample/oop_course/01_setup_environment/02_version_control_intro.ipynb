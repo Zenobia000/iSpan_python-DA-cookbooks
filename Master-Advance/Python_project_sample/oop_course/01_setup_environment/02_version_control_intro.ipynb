{
  "cells": [
    {
      "cell_type": "markdown",
      "metadata": {},
      "source": [
        "# 版本控制基礎 - Git 入門\n",
        "\n",
        "本節介紹版本控制系統Git的基本概念和使用方法，這對於任何軟體開發項目都至關重要。\n",
        "\n"
      ]
    },
    {
      "cell_type": "markdown",
      "metadata": {},
      "source": [
        "## 1. 什麼是版本控制？\n",
        "\n",
        "版本控制是一種跟蹤文件或代碼更改的系統，它允許多人協作並保存更改的歷史記錄。\n",
        "\n"
      ]
    },
    {
      "cell_type": "markdown",
      "metadata": {},
      "source": [
        "## 2. Git 基本概念\n",
        "\n"
      ]
    },
    {
      "cell_type": "code",
      "execution_count": 2,
      "metadata": {},
      "outputs": [
        {
          "name": "stdout",
          "output_type": "stream",
          "text": [
            "Git 的核心概念:\n",
            "1. 倉庫(Repository) - 包含所有項目文件和歷史記錄的容器\n",
            "2. 提交(Commit) - 代碼更改的快照\n",
            "3. 分支(Branch) - 開發線的獨立版本\n",
            "4. 合併(Merge) - 將一個分支的更改整合到另一個分支\n",
            "5. 遠程(Remote) - 託管在網絡上的倉庫副本\n"
          ]
        }
      ],
      "source": [
        "print(\"Git 的核心概念:\")\n",
        "core_concepts = [\n",
        "    \"倉庫(Repository) - 包含所有項目文件和歷史記錄的容器\",\n",
        "    \"提交(Commit) - 代碼更改的快照\",\n",
        "    \"分支(Branch) - 開發線的獨立版本\",\n",
        "    \"合併(Merge) - 將一個分支的更改整合到另一個分支\",\n",
        "    \"遠程(Remote) - 託管在網絡上的倉庫副本\"\n",
        "]\n",
        "\n",
        "for i, concept in enumerate(core_concepts, 1):\n",
        "    print(f\"{i}. {concept}\")\n",
        "\n"
      ]
    },
    {
      "cell_type": "markdown",
      "metadata": {},
      "source": [
        "## 3. 安裝與配置 Git\n",
        "\n"
      ]
    },
    {
      "cell_type": "code",
      "execution_count": 3,
      "metadata": {},
      "outputs": [
        {
          "name": "stdout",
          "output_type": "stream",
          "text": [
            "# 檢查 Git 是否已安裝\n",
            "git --version\n",
            "\n",
            "# 配置用戶信息\n",
            "git config --global user.name \"Your Name\"\n",
            "git config --global user.email \"your.email@example.com\"\n",
            "\n",
            "# 檢查當前配置\n",
            "git config --list\n"
          ]
        }
      ],
      "source": [
        "# 這些是示例命令，請在實際的終端或命令提示符中執行\n",
        "print(\"# 檢查 Git 是否已安裝\")\n",
        "print(\"git --version\")\n",
        "\n",
        "print(\"\\n# 配置用戶信息\")\n",
        "print(\"git config --global user.name \\\"Your Name\\\"\")\n",
        "print(\"git config --global user.email \\\"your.email@example.com\\\"\")\n",
        "\n",
        "print(\"\\n# 檢查當前配置\")\n",
        "print(\"git config --list\")\n",
        "\n"
      ]
    },
    {
      "cell_type": "markdown",
      "metadata": {},
      "source": [
        "## 4. 創建和管理 Git 倉庫\n",
        "\n"
      ]
    },
    {
      "cell_type": "code",
      "execution_count": 4,
      "metadata": {},
      "outputs": [
        {
          "name": "stdout",
          "output_type": "stream",
          "text": [
            "基本 Git 操作:\n",
            "# 初始化新的 Git 倉庫\n",
            "git init\n",
            "# 查看倉庫狀態\n",
            "git status\n",
            "# 添加文件到暫存區\n",
            "git add filename.py\n",
            "git add .\n",
            "# 提交更改\n",
            "git commit -m \"描述性的提交信息\"\n",
            "# 查看提交歷史\n",
            "git log\n",
            "git log --oneline\n"
          ]
        }
      ],
      "source": [
        "# Git 倉庫創建和基本操作示例\n",
        "git_commands = [\n",
        "    \"# 初始化新的 Git 倉庫\",\n",
        "    \"git init\",\n",
        "    \n",
        "    \"# 查看倉庫狀態\",\n",
        "    \"git status\",\n",
        "    \n",
        "    \"# 添加文件到暫存區\",\n",
        "    \"git add filename.py\",\n",
        "    \"git add .\",  # 添加所有文件\n",
        "    \n",
        "    \"# 提交更改\",\n",
        "    \"git commit -m \\\"描述性的提交信息\\\"\",\n",
        "    \n",
        "    \"# 查看提交歷史\",\n",
        "    \"git log\",\n",
        "    \"git log --oneline\",  # 簡潔格式\n",
        "]\n",
        "\n",
        "print(\"基本 Git 操作:\")\n",
        "for cmd in git_commands:\n",
        "    print(cmd)\n",
        "\n"
      ]
    },
    {
      "cell_type": "markdown",
      "metadata": {},
      "source": [
        "## 5. 分支操作\n",
        "\n"
      ]
    },
    {
      "cell_type": "code",
      "execution_count": 5,
      "metadata": {},
      "outputs": [
        {
          "name": "stdout",
          "output_type": "stream",
          "text": [
            "分支操作命令:\n",
            "# 查看所有分支\n",
            "git branch\n",
            "# 創建新分支\n",
            "git branch feature-x\n",
            "# 切換到某個分支\n",
            "git checkout feature-x\n",
            "# 創建並切換到新分支 (簡便方法)\n",
            "git checkout -b feature-y\n",
            "# 合併分支\n",
            "git checkout main\n",
            "git merge feature-x\n",
            "# 刪除分支\n",
            "git branch -d feature-x\n"
          ]
        }
      ],
      "source": [
        "branch_commands = [\n",
        "    \"# 查看所有分支\",\n",
        "    \"git branch\",\n",
        "    \n",
        "    \"# 創建新分支\",\n",
        "    \"git branch feature-x\",\n",
        "    \n",
        "    \"# 切換到某個分支\",\n",
        "    \"git checkout feature-x\",\n",
        "    \n",
        "    \"# 創建並切換到新分支 (簡便方法)\",\n",
        "    \"git checkout -b feature-y\",\n",
        "    \n",
        "    \"# 合併分支\",\n",
        "    \"git checkout main\",  # 先切換到目標分支\n",
        "    \"git merge feature-x\",  # 將feature-x合併到當前分支\n",
        "    \n",
        "    \"# 刪除分支\",\n",
        "    \"git branch -d feature-x\"  # 刪除已合併的分支\n",
        "]\n",
        "\n",
        "print(\"分支操作命令:\")\n",
        "for cmd in branch_commands:\n",
        "    print(cmd)\n",
        "\n"
      ]
    },
    {
      "cell_type": "markdown",
      "metadata": {},
      "source": [
        "## 6. 遠程倉庫操作\n",
        "\n"
      ]
    },
    {
      "cell_type": "code",
      "execution_count": 6,
      "metadata": {},
      "outputs": [
        {
          "name": "stdout",
          "output_type": "stream",
          "text": [
            "遠程倉庫操作:\n",
            "# 添加遠程倉庫\n",
            "git remote add origin https://github.com/username/repository.git\n",
            "# 查看遠程倉庫\n",
            "git remote -v\n",
            "# 從遠程倉庫獲取更新\n",
            "git fetch origin\n",
            "# 推送到遠程倉庫\n",
            "git push -u origin main\n",
            "git push\n",
            "# 從遠程倉庫克隆\n",
            "git clone https://github.com/username/repository.git\n",
            "# 拉取遠程更新並合併\n",
            "git pull origin main\n"
          ]
        }
      ],
      "source": [
        "remote_commands = [\n",
        "    \"# 添加遠程倉庫\",\n",
        "    \"git remote add origin https://github.com/username/repository.git\",\n",
        "    \n",
        "    \"# 查看遠程倉庫\",\n",
        "    \"git remote -v\",\n",
        "    \n",
        "    \"# 從遠程倉庫獲取更新\",\n",
        "    \"git fetch origin\",\n",
        "    \n",
        "    \"# 推送到遠程倉庫\",\n",
        "    \"git push -u origin main\",  # 第一次推送設置上游分支\n",
        "    \"git push\",  # 後續推送可簡化\n",
        "    \n",
        "    \"# 從遠程倉庫克隆\",\n",
        "    \"git clone https://github.com/username/repository.git\",\n",
        "    \n",
        "    \"# 拉取遠程更新並合併\",\n",
        "    \"git pull origin main\"\n",
        "]\n",
        "\n",
        "print(\"遠程倉庫操作:\")\n",
        "for cmd in remote_commands:\n",
        "    print(cmd)\n",
        "\n"
      ]
    },
    {
      "cell_type": "markdown",
      "metadata": {},
      "source": [
        "## 7. Git 工作流程示例\n",
        "\n"
      ]
    },
    {
      "cell_type": "code",
      "execution_count": 7,
      "metadata": {},
      "outputs": [
        {
          "name": "stdout",
          "output_type": "stream",
          "text": [
            "\n",
            "LOCAL                                      REMOTE\n",
            "----------------                           ----------------\n",
            "Working Directory                          GitHub/GitLab/Bitbucket\n",
            "    |                                          |\n",
            "    v                                          |\n",
            "Staging Area                                   |\n",
            "    |                                          |\n",
            "    v                                          |\n",
            "Local Repository ----(git push)-------------> Remote Repository\n",
            "    ^                                          |\n",
            "    |                                          |\n",
            "    ----(git pull)------------------------------|\n",
            "\n"
          ]
        }
      ],
      "source": [
        "import matplotlib.pyplot as plt\n",
        "import numpy as np\n",
        "from io import BytesIO\n",
        "\n",
        "# 簡單的 Git 工作流程圖 (使用 ASCII 藝術)\n",
        "git_workflow = \"\"\"\n",
        "LOCAL                                      REMOTE\n",
        "----------------                           ----------------\n",
        "Working Directory                          GitHub/GitLab/Bitbucket\n",
        "    |                                          |\n",
        "    v                                          |\n",
        "Staging Area                                   |\n",
        "    |                                          |\n",
        "    v                                          |\n",
        "Local Repository ----(git push)-------------> Remote Repository\n",
        "    ^                                          |\n",
        "    |                                          |\n",
        "    ----(git pull)------------------------------|\n",
        "\"\"\"\n",
        "\n",
        "print(git_workflow)\n",
        "\n"
      ]
    },
    {
      "cell_type": "markdown",
      "metadata": {},
      "source": [
        "## 8. 使用 .gitignore 文件\n",
        "\n",
        "`.gitignore` 文件用於指定 Git 應該忽略的文件或目錄。\n",
        "\n"
      ]
    },
    {
      "cell_type": "code",
      "execution_count": 8,
      "metadata": {},
      "outputs": [
        {
          "name": "stdout",
          "output_type": "stream",
          "text": [
            "典型的 Python 項目 .gitignore 文件示例:\n",
            "\n",
            "# Python 特定\n",
            "__pycache__/\n",
            "*.py[cod]\n",
            "*$py.class\n",
            "*.so\n",
            ".Python\n",
            "env/\n",
            "build/\n",
            "develop-eggs/\n",
            "dist/\n",
            "downloads/\n",
            "eggs/\n",
            ".eggs/\n",
            "lib/\n",
            "lib64/\n",
            "parts/\n",
            "sdist/\n",
            "var/\n",
            "*.egg-info/\n",
            ".installed.cfg\n",
            "*.egg\n",
            "\n",
            "# 虛擬環境\n",
            "venv/\n",
            "ENV/\n",
            "env/\n",
            "\n",
            "# Jupyter Notebook\n",
            ".ipynb_checkpoints\n",
            "\n",
            "# IDE 特定\n",
            ".idea/\n",
            ".vscode/\n",
            "*.swp\n",
            "*.swo\n",
            "\n",
            "# 操作系統特定\n",
            ".DS_Store\n",
            "Thumbs.db\n",
            "\n"
          ]
        }
      ],
      "source": [
        "gitignore_example = \"\"\"\n",
        "# Python 特定\n",
        "__pycache__/\n",
        "*.py[cod]\n",
        "*$py.class\n",
        "*.so\n",
        ".Python\n",
        "env/\n",
        "build/\n",
        "develop-eggs/\n",
        "dist/\n",
        "downloads/\n",
        "eggs/\n",
        ".eggs/\n",
        "lib/\n",
        "lib64/\n",
        "parts/\n",
        "sdist/\n",
        "var/\n",
        "*.egg-info/\n",
        ".installed.cfg\n",
        "*.egg\n",
        "\n",
        "# 虛擬環境\n",
        "venv/\n",
        "ENV/\n",
        "env/\n",
        "\n",
        "# Jupyter Notebook\n",
        ".ipynb_checkpoints\n",
        "\n",
        "# IDE 特定\n",
        ".idea/\n",
        ".vscode/\n",
        "*.swp\n",
        "*.swo\n",
        "\n",
        "# 操作系統特定\n",
        ".DS_Store\n",
        "Thumbs.db\n",
        "\"\"\"\n",
        "\n",
        "print(\"典型的 Python 項目 .gitignore 文件示例:\")\n",
        "print(gitignore_example)\n",
        "\n"
      ]
    },
    {
      "cell_type": "markdown",
      "metadata": {},
      "source": [
        "## 9. 實作練習\n",
        "\n",
        "1. 為本 OOP 課程項目初始化一個 Git 倉庫\n",
        "2. 創建並配置適當的 `.gitignore` 文件\n",
        "3. 提交初始代碼\n",
        "4. 創建一個新的開發分支並在分支上添加新功能\n",
        "5. 將更改合併回主分支 "
      ]
    }
  ],
  "metadata": {
    "kernelspec": {
      "display_name": "Python 3",
      "language": "python",
      "name": "python3"
    },
    "language_info": {
      "codemirror_mode": {
        "name": "ipython",
        "version": 3
      },
      "file_extension": ".py",
      "mimetype": "text/x-python",
      "name": "python",
      "nbconvert_exporter": "python",
      "pygments_lexer": "ipython3",
      "version": "3.11.9"
    }
  },
  "nbformat": 4,
  "nbformat_minor": 5
}
