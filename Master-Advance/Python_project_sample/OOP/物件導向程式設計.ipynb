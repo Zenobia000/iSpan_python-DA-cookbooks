{
 "cells": [
  {
   "cell_type": "markdown",
   "metadata": {},
   "source": [
    "## What is Object-Oriented programming?"
   ]
  },
  {
   "cell_type": "markdown",
   "metadata": {},
   "source": [
    "\n",
    "物件導向程式設計（Object-Oriented Programming，簡稱OOP）是一種程式設計範式，其核心概念圍繞著「物件」這一概念進行。\n",
    "在OOP中，物件是構成程式的基礎元素，它們包含了數據和能夠操作這些數據的方法。\n",
    "這種設計典範通過封裝（將數據和方法包裹在一起）、繼承（創建和使用已存在的類的擴展版本）和多態性（以統一的接口使用不同的物件）等概念，\n",
    "旨在提升軟體的可重用性、可維護性和擴展性。\n",
    "\n",
    "白話文: 物件就是一種設計稿，裡面紀錄著各種描述物體特性的屬性和方法"
   ]
  },
  {
   "cell_type": "markdown",
   "metadata": {},
   "source": [
    "## Class and Instance in Python"
   ]
  },
  {
   "cell_type": "markdown",
   "metadata": {},
   "source": [
    "在物件導向程式設計中，\"類別\"（Class）和\"實例\"（Instance）是兩個基礎概念。以一個簡單的校園生活場景為例，我們可以將\"學生\"看作是一個類別。這個類別擁有多個屬性（Attributes），比如學生的\"姓名\"、\"年齡\"、\"性別\"和\"身高\"。這些屬性幫助我們描述學生的基本信息。除了屬性，\"學生\"類別還定義了一些行為（Methods）或功能，如\"上課\"、\"翹課\"和\"睡覺\"，這些都是學生可能進行的活動。\n",
    "\n",
    "在Python中，當我們定義一個類別，比如Student，我們實際上是在創建一個藍圖，指明了學生應該擁有的屬性和可以執行的行為。當我們根據這個類別創建一個具體的學生時，例如一個名叫\"Alice\"的學生，我們則創建了一個類別的實例。這個實例是\"學生\"這個類別的具體體現，擁有類別中定義的所有屬性和方法，但每個實例的屬性值可以根據具體的學生而有所不同。\n",
    "\n",
    "\n",
    "`class` -> 設計稿 <br>\n",
    "`instance` -> 具體範例"
   ]
  },
  {
   "cell_type": "markdown",
   "metadata": {},
   "source": [
    "## 定義類別\n",
    "\n",
    "在宣告類別的時候，我們使用__init__先給予物件屬性，這樣之後再建立學生這個物件的時候，可以重複使用\n",
    "### self 的主要用途:\n",
    "- 存取實例屬性：使用 self 來區分實例屬性和局部變數，使方法可以存取和修改物件的狀態。\n",
    "- 呼叫其他的實例方法：self 也用於呼叫物件自身的其他方法。\n",
    "\n"
   ]
  },
  {
   "cell_type": "code",
   "execution_count": 7,
   "metadata": {},
   "outputs": [
    {
     "name": "stdout",
     "output_type": "stream",
     "text": [
      "vovo\n",
      "xc60\n",
      "vovo xc60\n",
      "1000\n",
      "1000\n",
      "0.4\n"
     ]
    }
   ],
   "source": [
    "# 屬性定義方式\n",
    "# 定義一個汽車類別\n",
    "class Car:\n",
    "    \n",
    "    '''\n",
    "    self 就是記憶體位置，也就是物件本身\n",
    "        \n",
    "    '''\n",
    "     \n",
    "    carPrice = 1000 # 類別變數（Class Variables）\n",
    "    \n",
    "    # 初始化方法，用於創建汽車的實例並設置初始屬性\n",
    "    def __init__(self, make, model, year):\n",
    "        self.make = make # 實例變數（Instance Variables）\n",
    "        self.model = model # 實例變數（Instance Variables）\n",
    "        self.year = year # 實例變數（Instance Variables）\n",
    "        self.speed = 0 # 實例變數（Instance Variables）\n",
    "        self.getNamefrom_init = self.make + \" \" + self.model # 實例變數（Instance Variables）\n",
    "\n",
    "    # 成員方法，用於減速汽車\n",
    "    def brake(self, decrement):\n",
    "        self.speed -= decrement\n",
    "        print(f\"減速到速度 {self.speed} km/h。\")\n",
    "\n",
    "\n",
    "car = Car(\"vovo\", \"xc60\", \"2023\")\n",
    "\n",
    "# 方法一 從 init 內取值\n",
    "print(car.make)\n",
    "print(car.model)\n",
    "print(car.getNamefrom_init)\n",
    "\n",
    "# 方法二 從 init 外取值\n",
    "print(car.carPrice)\n",
    "\n",
    "# 方法三 強制定義\n",
    "car.priceOff = 0.4\n",
    "print(car.priceOff)\n",
    "\n",
    "        \n",
    "    "
   ]
  },
  {
   "cell_type": "markdown",
   "metadata": {},
   "source": [
    "## 範例\n",
    "\n",
    "以下是一個汽車類別的範例，包含了類別變數、實例變數、初始化方法和成員方法。\n",
    "\n",
    "屬性: <br>\n",
    "    make -> 廠商 <br>\n",
    "    model -> 型號 <br>\n",
    "    year -> 年分 <br>\n",
    "    speed -> 初始速度 <br>\n",
    "\n",
    "方法: <br>\n",
    "    start -> 發動 <br>\n",
    "    accelerate -> 加速 <br>\n",
    "    brake -> 煞車 <br>\n",
    "    stop -> 停止 <br>\n"
   ]
  },
  {
   "cell_type": "code",
   "execution_count": 51,
   "metadata": {},
   "outputs": [
    {
     "name": "stdout",
     "output_type": "stream",
     "text": [
      "2022 Toyota Camry 發動了。\n",
      "加速到速度 40 km/h。\n",
      "減速到速度 30 km/h。\n",
      "2022 Toyota Camry 停止了。\n",
      "----------------\n",
      "2022 BMW X6 發動了。\n",
      "加速到速度 40 km/h。\n",
      "減速到速度 30 km/h。\n",
      "2022 BMW X6 停止了。\n"
     ]
    }
   ],
   "source": [
    "# 定義一個汽車類別\n",
    "class Car:\n",
    "\n",
    "    # 初始化方法，用於創建汽車的實例並設置初始屬性\n",
    "    def __init__(self, make, model, year):\n",
    "        self.make = make\n",
    "        self.model = model\n",
    "        self.year = year\n",
    "        self.speed = 0\n",
    "\n",
    "    # 成員方法，用於啟動汽車\n",
    "    def start(self):\n",
    "        print(f\"{self.year} {self.make} {self.model} 發動了。\")\n",
    "\n",
    "    # 成員方法，用於加速汽車\n",
    "    def accelerate(self, increment):\n",
    "        self.speed += increment\n",
    "        print(f\"加速到速度 {self.speed} km/h。\")\n",
    "\n",
    "    # 成員方法，用於減速汽車\n",
    "    def brake(self, decrement):\n",
    "        self.speed -= decrement\n",
    "        print(f\"減速到速度 {self.speed} km/h。\")\n",
    "\n",
    "    # 成員方法，用於停止汽車\n",
    "    def stop(self):\n",
    "        self.speed = 0\n",
    "        print(f\"{self.year} {self.make} {self.model} 停止了。\")\n",
    "\n",
    "\n",
    "# 創建汽車的實例\n",
    "my_car = Car(\"Toyota\", \"Camry\", 2022)\n",
    "\n",
    "# 操作汽車\n",
    "my_car.start()          # 發動了。\n",
    "my_car.accelerate(40)   # 加速到速度 40 km/h。\n",
    "my_car.brake(10)        # 減速到速度 30 km/h。\n",
    "my_car.stop()           # 停止了。\n",
    "\n",
    "print(\"----------------\")\n",
    "\n",
    "# 創建汽車的實例\n",
    "my_car = Car(\"BMW\", \"X6\", 2022)\n",
    "\n",
    "# 操作汽車\n",
    "my_car.start()          # 發動了。\n",
    "my_car.accelerate(40)   # 加速到速度 40 km/h。\n",
    "my_car.brake(10)        # 減速到速度 30 km/h。\n",
    "my_car.stop()           # 停止了。"
   ]
  },
  {
   "cell_type": "code",
   "execution_count": 52,
   "metadata": {},
   "outputs": [
    {
     "data": {
      "text/plain": [
       "['__class__',\n",
       " '__delattr__',\n",
       " '__dict__',\n",
       " '__dir__',\n",
       " '__doc__',\n",
       " '__eq__',\n",
       " '__format__',\n",
       " '__ge__',\n",
       " '__getattribute__',\n",
       " '__gt__',\n",
       " '__hash__',\n",
       " '__init__',\n",
       " '__init_subclass__',\n",
       " '__le__',\n",
       " '__lt__',\n",
       " '__module__',\n",
       " '__ne__',\n",
       " '__new__',\n",
       " '__reduce__',\n",
       " '__reduce_ex__',\n",
       " '__repr__',\n",
       " '__setattr__',\n",
       " '__sizeof__',\n",
       " '__str__',\n",
       " '__subclasshook__',\n",
       " '__weakref__',\n",
       " 'accelerate',\n",
       " 'brake',\n",
       " 'start',\n",
       " 'stop']"
      ]
     },
     "execution_count": 52,
     "metadata": {},
     "output_type": "execute_result"
    }
   ],
   "source": [
    "# 確認類別內的屬性和方法\n",
    "\n",
    "dir(Car)"
   ]
  },
  {
   "attachments": {
    "image.png": {
     "image/png": "[encoded data removed]"
    }
   },
   "cell_type": "markdown",
   "metadata": {},
   "source": [
    "\n",
    "在這個範例中，__init__ 方法接受一個名為 age, sex, name 的參數和一個名為 self 的隱含參數，這個 self 就是指向剛剛建立的對象的參考。這樣，當你從外部呼叫 stu_1.fullname() 方法時，Python 自動將 stu_1 作為 self 參數傳入 fullname 方法。\n",
    "\n",
    "\n",
    "## Class variable and Instance variable\n",
    "![image.png](attachment:image.png)\n",
    "### 類別變數（Class Variables）\n",
    "- 定義：類別變數是在整個類別中共享的變數。它們不是在任何方法（函數）內定義的，包括 __init__ 方法。這意味著，類別變數對於類別的所有實例來說都是共享的，如果某個實例修改了類別變數，這個改動對所有其他實例都是可見的。\n",
    "- 用途：類別變數常用於定義該類別的所有實例共有的屬性或配置參數。\n",
    "\n",
    "### 實例變數（Instance Variables）\n",
    "\n",
    "- 定義：實例變數是在類別的方法中定義的，通常是在 __init__ 方法（建構子）中。這意味著每個實例都有自己的一套實例變數，互不干擾。\n",
    "- 用途：實例變數用於存儲每個實例特有的數據，使得每個對象可以擁有不同的屬性值。"
   ]
  },
  {
   "cell_type": "code",
   "execution_count": 3,
   "metadata": {},
   "outputs": [
    {
     "name": "stdout",
     "output_type": "stream",
     "text": [
      "Programming - python\n",
      "Programming - python\n",
      "Programming - python\n",
      "Benny\n",
      "Lily\n",
      "Programming - java\n",
      "Programming - java\n"
     ]
    }
   ],
   "source": [
    "class Student:\n",
    "    \n",
    "    course = 'Programming - python' # class variable shared by all instances  成員變數\n",
    "    \n",
    "    def __init__(self, age, sex, name):\n",
    "        self.age = age # instance variable unique to each instance \n",
    "        self.sex = sex # instance variable unique to each instance \n",
    "        self.name = name # instance variable unique to each instance \n",
    "      \n",
    "\n",
    "# 創建兩個 Student 的實例\n",
    "stu_1 = Student(26, 'man', 'Benny')\n",
    "stu_2 = Student(25, 'girl', 'Lily')\n",
    "\n",
    "\n",
    "# 訪問類別變數\n",
    "print(Student.course)  # 輸出: I am a class variable, shared across all instances.\n",
    "print(stu_1.course)  # 同上，實例也可以訪問類別變數\n",
    "print(stu_2.course)  # 同上\n",
    "\n",
    "# 訪問實例變數\n",
    "print(stu_1.name)  # 輸出: Instance 1\n",
    "print(stu_2.name)  # 輸出: Instance 2\n",
    "\n",
    "# 修改類別變數，觀察影響\n",
    "Student.course = \"Programming - java\"\n",
    "print(stu_1.course)  # 輸出: Changed value\n",
    "print(stu_2.course)  # 輸出: Changed value\n",
    "\n"
   ]
  },
  {
   "cell_type": "markdown",
   "metadata": {},
   "source": [
    "## Classmethod and Staticmethod"
   ]
  },
  {
   "cell_type": "markdown",
   "metadata": {},
   "source": [
    "### @classmethod\n",
    "- 用途：當你需要執行與整個類別相關的函式時，而不是類別的某個實例，你可以使用 @classmethod。這允許你訪問和修改類別狀態。\n",
    "- 參數：第一個參數必須是類別本身，慣例上命名為 cls。\n",
    "- 示例：如果你想修改之前提到的類別變數或者根據類別層級的信息來創建實例。\n",
    "\n",
    "\n",
    "### @staticmethod\n",
    "- 用途：當你的函數邏輯上屬於類別的一部分，但是它既不需要訪問類別也不需要訪問實例的任何屬性或方法時，你可以使用 @staticmethod。\n",
    "- 參數：靜態方法不接受類或實例的引用作為第一個參數（它沒有 self 或 cls 參數）。\n",
    "- 示例：這適用於一些輔助函數，其操作不依賴於類別或實例的狀態。"
   ]
  },
  {
   "cell_type": "code",
   "execution_count": 9,
   "metadata": {},
   "outputs": [
    {
     "name": "stdout",
     "output_type": "stream",
     "text": [
      "Math\n",
      "===============\n",
      "True\n",
      "False\n"
     ]
    }
   ],
   "source": [
    "class Student:\n",
    "    course = \"Programming\"  # 類別變數\n",
    "\n",
    "    def __init__(self, name):\n",
    "        self.name = name\n",
    "\n",
    "    @classmethod\n",
    "    def change_course(cls, new_course):\n",
    "        cls.course = new_course\n",
    "\n",
    "    @staticmethod\n",
    "    def is_weekend(day):\n",
    "        # 假設 day 是星期幾，0 表示星期日，6 表示星期六\n",
    "        return day in (5, 6)\n",
    "\n",
    "# 修改課程類別變數\n",
    "Student.change_course(\"Math\")\n",
    "\n",
    "print(Student.course)  # 輸出: Math\n",
    "print(\"===============\")\n",
    "# 檢查是否為假日\n",
    "print(Student.is_weekend(5))  # 輸出: True\n",
    "print(Student.is_weekend(2))  # 輸出: False\n"
   ]
  },
  {
   "cell_type": "markdown",
   "metadata": {},
   "source": [
    "## 繼承 (inheritance)\n",
    "\n",
    "\n",
    "繼承是物件導向的四大原則之一，這邊只會著重在 Python 中是如何去時作來說明。繼承是讓我們能夠有效率的重複使用、易擴充及修改的方法，並且她能夠讓我們的 Code 寫起來更貼近現實。在 Python 中繼承的寫法是在 class 後面加個括號，把要繼承的對象寫在裡面class Leader(student)。並且如果子類別要繼承父類別的__init__項目，是使用super().__init__()的方式去做繼承"
   ]
  },
  {
   "cell_type": "markdown",
   "metadata": {},
   "source": [
    "## 範例1"
   ]
  },
  {
   "cell_type": "code",
   "execution_count": 11,
   "metadata": {},
   "outputs": [
    {
     "name": "stdout",
     "output_type": "stream",
     "text": [
      "2022 Tesla Model S 電動車已啟動。\n",
      "加速到速度 50 km/h。\n",
      "充電中... 目前電池容量為 100 kWh。\n",
      "2022 Tesla Model S 停止了。\n"
     ]
    }
   ],
   "source": [
    "# 簡單來說：繼承就像是生活中，子女繼承父母的財產一樣。\n",
    "\n",
    "# 定義一個汽車類別\n",
    "class Car:\n",
    "\n",
    "    # 初始化方法，用於創建汽車的實例並設置初始屬性\n",
    "    def __init__(self, make, model, year):\n",
    "        self.make = make\n",
    "        self.model = model\n",
    "        self.year = year\n",
    "        self.speed = 0\n",
    "\n",
    "    # 成員方法，用於啟動汽車\n",
    "    def start(self):\n",
    "        print(f\"{self.year} {self.make} {self.model} 發動了。\")\n",
    "\n",
    "    # 成員方法，用於加速汽車\n",
    "    def accelerate(self, increment):\n",
    "        self.speed += increment\n",
    "        print(f\"加速到速度 {self.speed} km/h。\")\n",
    "\n",
    "    # 成員方法，用於減速汽車\n",
    "    def brake(self, decrement):\n",
    "        self.speed -= decrement\n",
    "        print(f\"減速到速度 {self.speed} km/h。\")\n",
    "\n",
    "    # 成員方法，用於停止汽車\n",
    "    def stop(self):\n",
    "        self.speed = 0\n",
    "        print(f\"{self.year} {self.make} {self.model} 停止了。\")\n",
    "\n",
    "# 定義一個繼承自 Car 的子類別\n",
    "class ElectricCar(Car):\n",
    "    # 子類別可以擁有自己的屬性和方法\n",
    "    def __init__(self, make, model, year, battery_capacity):\n",
    "        # 使用 super() 調用父類別的初始化方法\n",
    "        super().__init__(make, model, year)\n",
    "        self.battery_capacity = battery_capacity\n",
    "\n",
    "    # 子類別可以覆寫父類別的方法，以實現不同的行為 override\n",
    "    def start(self):\n",
    "        print(f\"{self.year} {self.make} {self.model} 電動車已啟動。\")\n",
    "\n",
    "    # 子類別可以添加自己的方法\n",
    "    def charge(self):\n",
    "        print(f\"充電中... 目前電池容量為 {self.battery_capacity} kWh。\")\n",
    "\n",
    "\n",
    "# 創建一輛電動車的實例\n",
    "electric_car = ElectricCar(\"Tesla\", \"Model S\", 2022, 100)\n",
    "\n",
    "# 使用父類別的方法\n",
    "electric_car.start()          # 電動車已啟動。\n",
    "electric_car.accelerate(50)   # 加速到速度 50 km/h。\n",
    "\n",
    "# 使用子類別的方法\n",
    "electric_car.charge()         # 充電中... 目前電池容量為 100 kWh。\n",
    "\n",
    "# 使用父類別的方法\n",
    "electric_car.stop()           # 2022 Tesla Model S 停止了。\n",
    "\n"
   ]
  },
  {
   "cell_type": "markdown",
   "metadata": {},
   "source": [
    "## 範例2"
   ]
  },
  {
   "cell_type": "code",
   "execution_count": null,
   "metadata": {},
   "outputs": [],
   "source": [
    "# 類別父類別 子類別\n",
    "# 定義一個基本的動物類別\n",
    "class Animal:\n",
    "    def __init__(self, name):\n",
    "        self.name = name\n",
    "\n",
    "    def speak(self):\n",
    "        pass\n",
    "\n",
    "# 定義一個子類別 Dog，它繼承自 Animal\n",
    "class Dog(Animal):\n",
    "    def speak(self):\n",
    "        return f\"{self.name} 汪汪汪！\"\n",
    "\n",
    "# 定義另一個子類別 Cat，也繼承自 Animal\n",
    "class Cat(Animal):\n",
    "    def speak(self):\n",
    "        return f\"{self.name} 喵喵喵！\"\n",
    "\n",
    "# 創建動物的實例\n",
    "dog = Dog(\"小狗\")\n",
    "cat = Cat(\"小貓\")\n",
    "\n",
    "# 調用子類別的方法\n",
    "print(dog.speak())  # 輸出：小狗 汪汪汪！\n",
    "print(cat.speak())  # 輸出：小貓 喵喵喵！\n"
   ]
  },
  {
   "cell_type": "markdown",
   "metadata": {},
   "source": [
    "## magic methods and dunder (double underscores) methods\n",
    "在 Python 中，「魔術方法」和「雙下劃線（dunder）方法」是同一概念的兩種稱呼。這些特殊方法允許你模仿內建類型的行為或實現運算符重載。術語「dunder」源於這些方法名稱的雙下劃線（例如，__init__、__str__等）。關於魔術/dunder 方法的一些關鍵點如下：\n",
    "\n",
    "## Common Magic/Dunder Methods\n",
    "- __init__(self, [...]):<br>\n",
    "The constructor method called when a new instance of a class is created. It can take arguments to initialize the instance attributes.\n",
    "\n",
    "- __str__(self): <br>\n",
    "Called by the str() built-in function and by the print statement to obtain a readable string representation of an object.\n",
    "\n",
    "- __repr__(self):<br>\n",
    "Called by the repr() built-in function and in the interactive interpreter to get a string representation of the object for debugging.\n",
    "\n",
    "- __del__(self):<br>\n",
    "The destructor method that is called when an instance is about to be destroyed.\n",
    "\n",
    "- __call__(self, [...]):<br>\n",
    "Allows an instance of a class to be called as a function.\n",
    "\n",
    "- __getattr__(self, name), __setattr__(self, name, value), __delattr__(self, name): <br>\n",
    "These methods are called to implement attribute access for instances of the class.\n",
    "\n",
    "- __getitem__(self, key), __setitem__(self, key, value), __delitem__(self, key): <br>\n",
    "Allow instances of a class to behave like containers (e.g., lists or dictionaries).\n",
    "\n",
    "- __iter__(self) and __next__(self): <br>\n",
    "Make an instance of a class iterable.\n",
    "\n",
    "- Arithmetic Dunders: <br>\n",
    "Such as __add__(self, other), __sub__(self, other), __mul__(self, other), etc., allow objects of the class to participate in arithmetic operations."
   ]
  },
  {
   "cell_type": "code",
   "execution_count": 17,
   "metadata": {},
   "outputs": [
    {
     "name": "stdout",
     "output_type": "stream",
     "text": [
      "Circle with radius 10\n",
      "Circle with radius 30\n",
      "Circle with radius 30\n"
     ]
    }
   ],
   "source": [
    "class Circle:\n",
    "    def __init__(self, radius):\n",
    "        self.radius = radius\n",
    "\n",
    "    def __str__(self):\n",
    "        return f\"Circle with radius {self.radius}\"\n",
    "\n",
    "    def __repr__(self):\n",
    "        return f\"Circle({self.radius})\"\n",
    "\n",
    "    def __add__(self, other):\n",
    "        return Circle(self.radius + other.radius)\n",
    "\n",
    "    def __mul__(self, factor):\n",
    "        return Circle(self.radius * factor)\n",
    "\n",
    "# Creating instances of Circle\n",
    "c1 = Circle(10)\n",
    "c2 = Circle(20)\n",
    "\n",
    "# Using the __str__ method\n",
    "print(c1)  # Output: Circle with radius 10\n",
    "\n",
    "# Using the __repr__ method\n",
    "c1  # Output in interactive mode: Circle(10)\n",
    "\n",
    "# Using the __add__ method\n",
    "c3 = c1 + c2\n",
    "print(c3)  # Output: Circle with radius 30\n",
    "\n",
    "# Using the __mul__ method\n",
    "c4 = c1 * 3\n",
    "print(c4)  # Output: Circle with radius 30\n"
   ]
  },
  {
   "cell_type": "markdown",
   "metadata": {},
   "source": [
    "## 封裝 (encapsulation)"
   ]
  },
  {
   "cell_type": "markdown",
   "metadata": {},
   "source": [
    "在 Python 中，@property 裝飾器是一個非常實用的特性，它允許你將類中的方法表現得像是屬性，這有助於實現封裝——這是面向對象編程中的一個核心概念。@property 裝飾器可以讓你控制屬性的訪問，並提供一個機制來進行有效的數據校驗，從而防止對象獲取無效狀態。\n",
    "\n",
    "當你將 @property 裝飾器應用於方法上時，你可以將該方法作為屬性來訪問，而不是作為一個方法。這意味著你可以不需要括號就能調用該方法。\n",
    "\n",
    "\n",
    "### 公開（public）：\n",
    "- 成員方法和屬性在預設情況下都是公開的，這意味著它們可以從類別的外部訪問。\n",
    "\n",
    "### 受保護（protected）：\n",
    "- 在成員方法或屬性的名稱前面加上一個單一 _ 表示受保護的，這意味著它們在類別的外部不能被直接訪問，但可以在子類別中訪問。\n",
    "\n",
    "### 私有（private）：\n",
    "- 在成員方法或屬性的名稱前面加上兩個底線 __ 表示私有的，這意味著它們在類別的外部不能被直接訪問，且無法在子類別中訪問。"
   ]
  },
  {
   "cell_type": "code",
   "execution_count": 15,
   "metadata": {},
   "outputs": [
    {
     "name": "stdout",
     "output_type": "stream",
     "text": [
      "Toyota\n",
      "Corolla\n",
      "2020\n",
      "0\n",
      "60\n",
      "速度不能為負數。\n",
      "60\n"
     ]
    }
   ],
   "source": [
    "# 定義一個汽車類別\n",
    "class Car:\n",
    "    # 初始化方法，用於創建汽車的實例並設置初始屬性\n",
    "    def __init__(self, make, model, year):\n",
    "        self.__make = make  # 使用單一底線前綴表示屬性為受保護的\n",
    "        self.__model = model\n",
    "        self.__year = year\n",
    "        self.__speed = 0\n",
    "\n",
    "    # 使用屬性（property）來訪問屬性的值\n",
    "    @property # getter方法\n",
    "    def make(self):\n",
    "        return self.__make\n",
    "\n",
    "    @property # getter方法\n",
    "    def model(self):\n",
    "        return self.__model\n",
    "\n",
    "    @property # getter方法\n",
    "    def year(self):\n",
    "        return self.__year\n",
    "\n",
    "    @property # getter方法\n",
    "    def speed(self):\n",
    "        return self.__speed\n",
    "\n",
    "    # 使用屬性的setter方法來設置屬性的值\n",
    "    @speed.setter # setter\n",
    "    def speed(self, value):\n",
    "        if value >= 0:\n",
    "            self.__speed = value\n",
    "        else:\n",
    "            print(\"速度不能為負數。\")\n",
    "\n",
    "\n",
    "\n",
    "my_car = Car(\"Toyota\", \"Corolla\", 2020)\n",
    "\n",
    "# 訪問屬性\n",
    "print(my_car.make)  # 輸出: Toyota\n",
    "print(my_car.model) # 輸出: Corolla\n",
    "print(my_car.year)  # 輸出: 2020\n",
    "print(my_car.speed) # 輸出: 0\n",
    "\n",
    "# 設置speed屬性的值\n",
    "my_car.speed = 60\n",
    "print(my_car.speed) # 輸出: 60\n",
    "\n",
    "# 設置一个負數值到speed屬性\n",
    "my_car.speed = -10  # 輸出: 速度不能為負數。\n",
    "print(my_car.speed) # 輸出: 60（直沒有改變）\n"
   ]
  },
  {
   "cell_type": "markdown",
   "metadata": {},
   "source": [
    "## 多型（Polymorphism）"
   ]
  },
  {
   "cell_type": "code",
   "execution_count": 16,
   "metadata": {},
   "outputs": [
    {
     "name": "stdout",
     "output_type": "stream",
     "text": [
      "2022 Toyota Camry 的聲音：噗噗噗！\n",
      "2022 Tesla Model S 的聲音：嗡嗡嗡！\n"
     ]
    }
   ],
   "source": [
    "# 定義一個基本的汽車類別\n",
    "class Car:\n",
    "    def __init__(self, make, model, year):\n",
    "        self.make = make\n",
    "        self.model = model\n",
    "        self.year = year\n",
    "\n",
    "    def start(self):\n",
    "        print(f\"{self.year} {self.make} {self.model} 發動了。\")\n",
    "\n",
    "    def sound(self):\n",
    "        pass\n",
    "\n",
    "# 定義子類別，繼承自 Car，表示燃油車\n",
    "class GasolineCar(Car):\n",
    "    def sound(self):\n",
    "        return \"噗噗噗！\"\n",
    "\n",
    "# 定義子類別，繼承自 Car，表示電動車\n",
    "class ElectricCar(Car):\n",
    "    def sound(self):\n",
    "        return \"嗡嗡嗡！\"\n",
    "\n",
    "# 定義一個函數，接受任何汽車對象，並播放它們的聲音\n",
    "def play_car_sound(car):\n",
    "    print(f\"{car.year} {car.make} {car.model} 的聲音：{car.sound()}\")\n",
    "\n",
    "# 創建不同類型的汽車實例\n",
    "gasoline_car = GasolineCar(\"Toyota\", \"Camry\", 2022)\n",
    "electric_car = ElectricCar(\"Tesla\", \"Model S\", 2022)\n",
    "\n",
    "# 使用統一的界面調用 play_car_sound 函數，播放不同類型汽車的聲音\n",
    "play_car_sound(gasoline_car)  # 輸出：2022 Toyota Camry 的聲音：噗噗噗！\n",
    "play_car_sound(electric_car)  # 輸出：2022 Tesla Model S 的聲音：嗡嗡嗡！\n",
    "\n",
    "\n"
   ]
  },
  {
   "cell_type": "code",
   "execution_count": null,
   "metadata": {},
   "outputs": [],
   "source": []
  }
 ],
 "metadata": {
  "kernelspec": {
   "display_name": "Python 3",
   "language": "python",
   "name": "python3"
  },
  "language_info": {
   "codemirror_mode": {
    "name": "ipython",
    "version": 3
   },
   "file_extension": ".py",
   "mimetype": "text/x-python",
   "name": "python",
   "nbconvert_exporter": "python",
   "pygments_lexer": "ipython3",
   "version": "3.11.8"
  },
  "orig_nbformat": 4
 },
 "nbformat": 4,
 "nbformat_minor": 2
}
