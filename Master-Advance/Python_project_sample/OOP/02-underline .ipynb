{
 "cells": [
  {
   "cell_type": "markdown",
   "metadata": {},
   "source": [
    "\n",
    "## 底線的意涵與用法\n",
    "在 Python 程式設計中，底線（underscore _）是一種命名慣例，用來表示變數或方法的特定用途或特性。雖然底線的使用不會直接改變變數或方法的功能，但它能夠提高程式碼的可讀性和維護性\n",
    "### 1. _\n",
    "### 2. _name\n",
    "### 3. name_\n",
    "### 4. __name\n",
    "### 5. \\_\\_name\\_\\_\n",
    "\n",
    "---"
   ]
  },
  {
   "cell_type": "markdown",
   "metadata": {},
   "source": [
    "### 單個下劃線 (_) (約定俗成，沒有實質功能)\n",
    "用法：在一些情況下，單個下劃線也可以用作臨時變數的名稱，特別是在不需要使用的值的情況下。"
   ]
  },
  {
   "cell_type": "code",
   "execution_count": 1,
   "metadata": {},
   "outputs": [
    {
     "name": "stdout",
     "output_type": "stream",
     "text": [
      "Hello, World!\n",
      "Hello, World!\n",
      "Hello, World!\n",
      "Hello, World!\n",
      "Hello, World!\n"
     ]
    }
   ],
   "source": [
    "for _ in range(5):\n",
    "    print(\"Hello, World!\")\n"
   ]
  },
  {
   "cell_type": "markdown",
   "metadata": {},
   "source": [
    "### 單個下劃線 (_) => protected (約定俗成，沒有實質功能)\n",
    "用法：在變數或方法名稱前加一個下劃線表示這個變數或方法是保護的，應該只在類或模塊的內部使用，而不應在外部使用。"
   ]
  },
  {
   "cell_type": "code",
   "execution_count": 2,
   "metadata": {},
   "outputs": [
    {
     "name": "stdout",
     "output_type": "stream",
     "text": [
      "This is a protected method 42\n"
     ]
    }
   ],
   "source": [
    "class MyClass:\n",
    "    def __init__(self):\n",
    "        self._protected_variable = 42\n",
    "        \n",
    "    def _protected_method(self):\n",
    "        print(f\"This is a protected method {self._protected_variable}\")\n",
    "\n",
    "\n",
    "cls = MyClass()\n",
    "\n",
    "\n",
    "cls._protected_method()\n",
    "\n"
   ]
  },
  {
   "cell_type": "markdown",
   "metadata": {},
   "source": [
    "## only import * from a module that _name have private features"
   ]
  },
  {
   "cell_type": "code",
   "execution_count": 8,
   "metadata": {},
   "outputs": [
    {
     "name": "stdout",
     "output_type": "stream",
     "text": [
      "This is a normal function\n"
     ]
    },
    {
     "ename": "NameError",
     "evalue": "name '_protected_function' is not defined",
     "output_type": "error",
     "traceback": [
      "\u001b[1;31m---------------------------------------------------------------------------\u001b[0m",
      "\u001b[1;31mNameError\u001b[0m                                 Traceback (most recent call last)",
      "Cell \u001b[1;32mIn[8], line 6\u001b[0m\n\u001b[0;32m      1\u001b[0m \u001b[38;5;28;01mfrom\u001b[39;00m \u001b[38;5;21;01mmodule\u001b[39;00m \u001b[38;5;28;01mimport\u001b[39;00m \u001b[38;5;241m*\u001b[39m\n\u001b[0;32m      4\u001b[0m function()\n\u001b[1;32m----> 6\u001b[0m \u001b[43m_protected_function\u001b[49m()\n",
      "\u001b[1;31mNameError\u001b[0m: name '_protected_function' is not defined"
     ]
    }
   ],
   "source": [
    "from module import *\n",
    "\n",
    "\n",
    "function()\n",
    "\n",
    "_protected_function()\n"
   ]
  },
  {
   "cell_type": "markdown",
   "metadata": {},
   "source": [
    "### 單個下劃線後綴 (name_) (約定俗成，沒有實質功能)\n",
    "用法：當變數名稱與 Python 關鍵字衝突時，可以在變數名稱後加一個下劃線以區分。"
   ]
  },
  {
   "cell_type": "code",
   "execution_count": 4,
   "metadata": {},
   "outputs": [],
   "source": [
    "class MyClass:\n",
    "    def __init__(self):\n",
    "        self.class_ = \"This avoids conflict with the 'class' keyword\"\n"
   ]
  },
  {
   "cell_type": "markdown",
   "metadata": {},
   "source": [
    "### 雙下劃線前綴 (__name) (有實質功能)\n",
    "用法：在變數或方法名稱前加兩個下劃線表示這個變數或方法是私有的，Python 會對其名稱進行名稱改寫（名稱修飾），使其在子類中不會輕易被覆蓋。\n",
    "\n",
    "**為了避免撞名，python 編譯器看到兩個底線會自動改寫變數名稱**"
   ]
  },
  {
   "cell_type": "code",
   "execution_count": 12,
   "metadata": {},
   "outputs": [
    {
     "name": "stdout",
     "output_type": "stream",
     "text": [
      "variable 42\n",
      "_variable 42\n"
     ]
    },
    {
     "ename": "AttributeError",
     "evalue": "'MyClass' object has no attribute '__private_variable'",
     "output_type": "error",
     "traceback": [
      "\u001b[1;31m---------------------------------------------------------------------------\u001b[0m",
      "\u001b[1;31mAttributeError\u001b[0m                            Traceback (most recent call last)",
      "Cell \u001b[1;32mIn[12], line 14\u001b[0m\n\u001b[0;32m     12\u001b[0m \u001b[38;5;28mprint\u001b[39m(\u001b[38;5;124m\"\u001b[39m\u001b[38;5;124mvariable\u001b[39m\u001b[38;5;124m\"\u001b[39m, instance\u001b[38;5;241m.\u001b[39mvariable)  \u001b[38;5;66;03m# 42\u001b[39;00m\n\u001b[0;32m     13\u001b[0m \u001b[38;5;28mprint\u001b[39m(\u001b[38;5;124m\"\u001b[39m\u001b[38;5;124m_variable\u001b[39m\u001b[38;5;124m\"\u001b[39m, instance\u001b[38;5;241m.\u001b[39m_variable)  \u001b[38;5;66;03m# 42\u001b[39;00m\n\u001b[1;32m---> 14\u001b[0m \u001b[38;5;28mprint\u001b[39m(\u001b[38;5;124m\"\u001b[39m\u001b[38;5;124m__private_variable\u001b[39m\u001b[38;5;124m\"\u001b[39m,\u001b[43minstance\u001b[49m\u001b[38;5;241;43m.\u001b[39;49m\u001b[43m__private_variable\u001b[49m)  \u001b[38;5;66;03m# 42\u001b[39;00m\n\u001b[0;32m     15\u001b[0m \u001b[38;5;28mprint\u001b[39m(\u001b[38;5;124m\"\u001b[39m\u001b[38;5;124m__private_method\u001b[39m\u001b[38;5;124m\"\u001b[39m, instance\u001b[38;5;241m.\u001b[39m__private_method)\n",
      "\u001b[1;31mAttributeError\u001b[0m: 'MyClass' object has no attribute '__private_variable'"
     ]
    }
   ],
   "source": [
    "class MyClass:\n",
    "    def __init__(self):\n",
    "        self.variable = 42\n",
    "        self._variable = 42   \n",
    "        self.__private_variable = 42\n",
    "        \n",
    "    def __private_method(self):\n",
    "        print(\"This is a private method\")\n",
    "\n",
    "# 名稱修飾使得外部訪問變數時需要用 _ClassName__name\n",
    "instance = MyClass()\n",
    "print(\"variable\", instance.variable)  # 42\n",
    "print(\"_variable\", instance._variable)  # 42\n",
    "print(\"__private_variable\",instance.__private_variable)  # 42\n",
    "print(\"__private_method\", instance.__private_method)  # This is a private method\n"
   ]
  },
  {
   "cell_type": "code",
   "execution_count": 13,
   "metadata": {},
   "outputs": [
    {
     "data": {
      "text/plain": [
       "['_MyClass__private_method',\n",
       " '_MyClass__private_variable',\n",
       " '__class__',\n",
       " '__delattr__',\n",
       " '__dict__',\n",
       " '__dir__',\n",
       " '__doc__',\n",
       " '__eq__',\n",
       " '__format__',\n",
       " '__ge__',\n",
       " '__getattribute__',\n",
       " '__gt__',\n",
       " '__hash__',\n",
       " '__init__',\n",
       " '__init_subclass__',\n",
       " '__le__',\n",
       " '__lt__',\n",
       " '__module__',\n",
       " '__ne__',\n",
       " '__new__',\n",
       " '__reduce__',\n",
       " '__reduce_ex__',\n",
       " '__repr__',\n",
       " '__setattr__',\n",
       " '__sizeof__',\n",
       " '__str__',\n",
       " '__subclasshook__',\n",
       " '__weakref__',\n",
       " '_variable',\n",
       " 'variable']"
      ]
     },
     "execution_count": 13,
     "metadata": {},
     "output_type": "execute_result"
    }
   ],
   "source": [
    "dir(instance)"
   ]
  },
  {
   "cell_type": "markdown",
   "metadata": {},
   "source": [
    "### 雙下劃線前後綴 (\\_\\_name\\_\\_) (有實質功能) \n",
    "\n",
    "一般在 class 內的 function 稱作 **dunder methods** or **magic methods**\n",
    "\n",
    "用法：這種命名方式通常用於 Python 內部的特殊方法或屬性，如魔術方法（magic methods），例如 __init__, __str__ 等。用戶應避免創建這類名稱的變數或方法。"
   ]
  },
  {
   "cell_type": "code",
   "execution_count": 6,
   "metadata": {},
   "outputs": [
    {
     "name": "stdout",
     "output_type": "stream",
     "text": [
      "This is a special method\n",
      "7\n"
     ]
    }
   ],
   "source": [
    "class MyClass:\n",
    "    def __init__(self):\n",
    "        self.special_variable = \"Special\"\n",
    "        \n",
    "    def __str__(self):\n",
    "        return \"This is a special method\"\n",
    "    \n",
    "    def __len__(self):\n",
    "        return len(self.special_variable)\n",
    "\n",
    "instance = MyClass()\n",
    "\n",
    "\n",
    "print(str(instance))  # \"This is a special method\"\n",
    "print(len(instance))  # 42"
   ]
  },
  {
   "cell_type": "markdown",
   "metadata": {},
   "source": [
    "## Dunder Methods 的用法和細節\n",
    "\n",
    "Dunder methods（\"dunder\" 是 \"double underscore\" 的縮寫），也被稱為魔術方法（magic methods），是 Python 中具有特殊意圖的內建方法，這些方法的名稱前後各有兩個下劃線，\n",
    "\n",
    "例如 \\_\\_init\\_\\_。Dunder methods 允許我們定義或重載類別的行為，使對象可以與 Python 語言中的語法結構和內建函數交互。"
   ]
  },
  {
   "cell_type": "markdown",
   "metadata": {},
   "source": [
    "## 1. \\_\\_init\\_\\_ 方法\n",
    "\n",
    "\\_\\_init\\_\\_ 方法是類別的構造函數，當對象被創建時自動調用。它通常用於初始化對象的屬性。\n",
    "\n"
   ]
  },
  {
   "cell_type": "code",
   "execution_count": 21,
   "metadata": {},
   "outputs": [
    {
     "name": "stdout",
     "output_type": "stream",
     "text": [
      "<__main__.MyClass object at 0x0000016716CB3820>\n",
      "10\n"
     ]
    }
   ],
   "source": [
    "class MyClass:\n",
    "    def __init__(self, value, number):\n",
    "        self.value = value # property\n",
    "        self.number = number # property\n",
    "\n",
    "ins = MyClass(10, 100) # instance， MyClass(10, 100) 是一個 instance\n",
    "\n",
    "print(ins)\n",
    "\n",
    "print(ins.value)  # 10\n",
    "\n"
   ]
  },
  {
   "cell_type": "markdown",
   "metadata": {},
   "source": [
    "## 2. \\_\\_str\\_\\_ 和 \\_\\_repr\\_\\_ 方法\n",
    "\n",
    "\\_\\_str\\_\\_ 方法定義了對象的字符串表示，當使用 print() 函數或 str() 函數時調用。 簡易版\n",
    "\n",
    "\\_\\_repr\\_\\_ 方法返回對象的正式字符串表示，通常用於調試和開發。詳細版"
   ]
  },
  {
   "cell_type": "code",
   "execution_count": 24,
   "metadata": {},
   "outputs": [
    {
     "name": "stdout",
     "output_type": "stream",
     "text": [
      "10\n",
      "<MyClass(10)>\n"
     ]
    }
   ],
   "source": [
    "class MyClass:\n",
    "    def __init__(self, value):\n",
    "        self.value = value\n",
    "        \n",
    "    def __str__(self):\n",
    "        return f'{self.value}'\n",
    "        \n",
    "    # representation of the object\n",
    "    def __repr__(self):\n",
    "        return f'<MyClass({self.value})>'\n",
    "\n",
    "instance = MyClass(10)\n",
    "print(str(instance))  # MyClass with value 10\n",
    "print(repr(instance))  # MyClass(10)\n"
   ]
  },
  {
   "cell_type": "markdown",
   "metadata": {},
   "source": [
    "## 3. \\_\\_len\\_\\_ 方法\n",
    "\\_\\_len\\_\\_ 方法允許對象與內建的 len() 函數交互，用於返回對象的長度。"
   ]
  },
  {
   "cell_type": "code",
   "execution_count": 16,
   "metadata": {},
   "outputs": [
    {
     "name": "stdout",
     "output_type": "stream",
     "text": [
      "5\n"
     ]
    }
   ],
   "source": [
    "class MyClass:\n",
    "    def __init__(self, items):\n",
    "        self.items = items\n",
    "        \n",
    "    def __len__(self):\n",
    "        return len(self.items)\n",
    "\n",
    "instance = MyClass([1, 2, 3, 4, 5])\n",
    "print(len(instance))  # 5\n"
   ]
  },
  {
   "cell_type": "markdown",
   "metadata": {},
   "source": [
    "## 4. \\_\\_getitem\\_\\_ 和 \\_\\_setitem\\_\\_ 方法\n",
    "\\_\\_getitem\\_\\_ 方法允許對象使用索引操作符 \\[ \\] 訪問元素，\\_\\_setitem\\_\\_ 方法允許對象使用索引操作符設置元素。"
   ]
  },
  {
   "cell_type": "code",
   "execution_count": 17,
   "metadata": {},
   "outputs": [
    {
     "name": "stdout",
     "output_type": "stream",
     "text": [
      "3\n",
      "10\n"
     ]
    }
   ],
   "source": [
    "class MyClass:\n",
    "    def __init__(self, items):\n",
    "        self.items = items\n",
    "        \n",
    "    def __getitem__(self, index):\n",
    "        return self.items[index]\n",
    "        \n",
    "    def __setitem__(self, index, value):\n",
    "        self.items[index] = value\n",
    "\n",
    "instance = MyClass([1, 2, 3, 4, 5])\n",
    "print(instance[2])  # 3\n",
    "instance[2] = 10\n",
    "print(instance[2])  # 10\n"
   ]
  },
  {
   "cell_type": "markdown",
   "metadata": {},
   "source": [
    "## 5. \\_\\_iter\\_\\_ 和 \\_\\_next\\_\\_ 方法\n",
    "\n",
    "\\_\\_iter\\_\\_ 方法使對象成為可迭代的，\\_\\_next\\_\\_ 方法定義了迭代的行為。"
   ]
  },
  {
   "cell_type": "code",
   "execution_count": 34,
   "metadata": {},
   "outputs": [
    {
     "name": "stdout",
     "output_type": "stream",
     "text": [
      "1\n",
      "11\n",
      "21\n",
      "31\n",
      "41\n",
      "51\n",
      "61\n",
      "71\n",
      "81\n",
      "91\n"
     ]
    }
   ],
   "source": [
    "class MyClass:\n",
    "    def __init__(self, items):\n",
    "        self.items = items\n",
    "        self.index = 0\n",
    "        \n",
    "    def __iter__(self):\n",
    "        return self\n",
    "        \n",
    "    # 可被迭代還不夠，還需要定義 __next__ 行為\n",
    "    def __next__(self):\n",
    "        if self.index < len(self.items):\n",
    "            item = self.items[self.index]\n",
    "            self.index += 10\n",
    "            return item\n",
    "        else:\n",
    "            raise StopIteration\n",
    "\n",
    "\n",
    "lst = list(range(1, 100))\n",
    "instance = MyClass(lst)\n",
    "for item in instance:\n",
    "    print(item)  # 1, 2, 3\n"
   ]
  },
  {
   "cell_type": "markdown",
   "metadata": {},
   "source": [
    "## 6. \\_\\_add\\_\\_ 等算術運算符方法\n",
    "\n",
    "這些方法允許我們重載內建的算術運算符，例如 +、-、* 等。"
   ]
  },
  {
   "cell_type": "code",
   "execution_count": 67,
   "metadata": {},
   "outputs": [
    {
     "name": "stdout",
     "output_type": "stream",
     "text": [
      "珍珠白玉\n",
      "'珍珠奶茶'\n"
     ]
    }
   ],
   "source": [
    "class MyClass:\n",
    "    def __init__(self, value):\n",
    "        self.value = value\n",
    "    \n",
    "    def __add__(self, other):\n",
    "        if isinstance(other, MyClass):\n",
    "            return MyClass(self.value + other.value)\n",
    "        elif isinstance(other, str):\n",
    " \n",
    "            self.value += other\n",
    "            \n",
    "            return self.value\n",
    "\n",
    "instance1 = MyClass(\"珍珠\")\n",
    "instance2 = MyClass(\"白玉\")\n",
    "\n",
    "result = instance1 + instance2\n",
    "print(result.value)  # 30\n",
    "\n",
    "result2 = instance1 + \"奶茶\"\n",
    "print(result2) \n"
   ]
  },
  {
   "cell_type": "code",
   "execution_count": 77,
   "metadata": {},
   "outputs": [
    {
     "name": "stdout",
     "output_type": "stream",
     "text": [
      "<MyClass(珍珠鮮奶茶)!!!!>\n"
     ]
    }
   ],
   "source": [
    "class MyClass:\n",
    "    def __init__(self, value):\n",
    "        self.value = value\n",
    "    \n",
    "    # representation of the object\n",
    "    def __repr__(self):\n",
    "        return f'<MyClass({self.value})!!!!>'\n",
    "\n",
    "    def __add__(self, other):\n",
    "        if isinstance(other, MyClass):\n",
    "            return MyClass(self.value + other.value)\n",
    "        elif isinstance(other, str):\n",
    "\n",
    "            self.value += other\n",
    "\n",
    "            return [self.value, other]\n",
    "\n",
    "instance1 = MyClass(\"珍珠\")\n",
    "instance2 = MyClass(\"鮮奶茶\")\n",
    "\n",
    "result = instance1 + instance2\n",
    "\n",
    "print(result)\n"
   ]
  },
  {
   "cell_type": "markdown",
   "metadata": {},
   "source": [
    "## 7. \\_\\_mul\\_\\_ "
   ]
  },
  {
   "cell_type": "code",
   "execution_count": 80,
   "metadata": {},
   "outputs": [
    {
     "name": "stdout",
     "output_type": "stream",
     "text": [
      "['珍珠', '珍珠', '珍珠', '珍珠', '珍珠']\n"
     ]
    }
   ],
   "source": [
    "class MyClass:\n",
    "    def __init__(self, value):\n",
    "        self.value = value\n",
    "\n",
    "\n",
    "    def __mul__(self, other):\n",
    "\n",
    "        lst_re = []\n",
    "\n",
    "        if isinstance(other, int):\n",
    "            for i in range(other):\n",
    "                lst_re.append(self.value)\n",
    "\n",
    "            return lst_re\n",
    "\n",
    "instance = MyClass(\"珍珠\")\n",
    "\n",
    "result = instance * 5  \n",
    "\n",
    "print(result)\n"
   ]
  },
  {
   "cell_type": "markdown",
   "metadata": {},
   "source": [
    "更多內容請參考：\n",
    "\n",
    "# Data Model\n",
    "\n",
    "https://davidbpython.com/advanced_python/slides/handout-71-3.html"
   ]
  },
  {
   "cell_type": "code",
   "execution_count": null,
   "metadata": {},
   "outputs": [],
   "source": []
  }
 ],
 "metadata": {
  "kernelspec": {
   "display_name": "Python 3",
   "language": "python",
   "name": "python3"
  },
  "language_info": {
   "codemirror_mode": {
    "name": "ipython",
    "version": 3
   },
   "file_extension": ".py",
   "mimetype": "text/x-python",
   "name": "python",
   "nbconvert_exporter": "python",
   "pygments_lexer": "ipython3",
   "version": "3.10.7"
  }
 },
 "nbformat": 4,
 "nbformat_minor": 2
}
