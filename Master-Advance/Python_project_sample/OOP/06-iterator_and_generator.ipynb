{
 "cells": [
  {
   "cell_type": "markdown",
   "metadata": {},
   "source": [
    "## 迭代器 (Iterator)\n",
    "\n",
    "迭代器是一個實現了迭代協議的對象。迭代協議包括兩個方法：\n",
    "\n",
    "\\_\\_iter\\_\\_()：返回迭代器自身。<br>\n",
    "\\_\\_next\\_\\_()：返回序列的下一個值。如果沒有更多的數據可供返回，應該拋出 StopIteration 異常。<br>"
   ]
  },
  {
   "cell_type": "code",
   "execution_count": 1,
   "metadata": {},
   "outputs": [
    {
     "name": "stdout",
     "output_type": "stream",
     "text": [
      "1\n",
      "2\n",
      "3\n",
      "4\n"
     ]
    }
   ],
   "source": [
    "class MyIterator:\n",
    "    def __init__(self, data):\n",
    "        self.data = data\n",
    "        self.index = 0\n",
    "    \n",
    "    def __iter__(self):\n",
    "        return self\n",
    "    \n",
    "    def __next__(self):\n",
    "        if self.index < len(self.data):\n",
    "            result = self.data[self.index]\n",
    "            self.index += 1\n",
    "            return result\n",
    "        else:\n",
    "            raise StopIteration\n",
    "\n",
    "# 使用迭代器\n",
    "my_iter = MyIterator([1, 2, 3, 4])\n",
    "for item in my_iter:\n",
    "    print(item)\n"
   ]
  },
  {
   "cell_type": "markdown",
   "metadata": {},
   "source": [
    "\\_\\_next\\_\\_ 只容許迭代一次，把他理解為夾娃娃機"
   ]
  },
  {
   "cell_type": "code",
   "execution_count": 9,
   "metadata": {},
   "outputs": [],
   "source": [
    "for i in my_iter:\n",
    "    print(i)"
   ]
  },
  {
   "cell_type": "code",
   "execution_count": 2,
   "metadata": {},
   "outputs": [
    {
     "name": "stdout",
     "output_type": "stream",
     "text": [
      "1\n",
      "2\n",
      "3\n",
      "4\n"
     ]
    }
   ],
   "source": [
    "for i in [1,2,3,4]:\n",
    "    print(i)"
   ]
  },
  {
   "cell_type": "code",
   "execution_count": 7,
   "metadata": {},
   "outputs": [
    {
     "data": {
      "text/plain": [
       "['__add__',\n",
       " '__class__',\n",
       " '__class_getitem__',\n",
       " '__contains__',\n",
       " '__delattr__',\n",
       " '__delitem__',\n",
       " '__dir__',\n",
       " '__doc__',\n",
       " '__eq__',\n",
       " '__format__',\n",
       " '__ge__',\n",
       " '__getattribute__',\n",
       " '__getitem__',\n",
       " '__gt__',\n",
       " '__hash__',\n",
       " '__iadd__',\n",
       " '__imul__',\n",
       " '__init__',\n",
       " '__init_subclass__',\n",
       " '__iter__',\n",
       " '__le__',\n",
       " '__len__',\n",
       " '__lt__',\n",
       " '__mul__',\n",
       " '__ne__',\n",
       " '__new__',\n",
       " '__reduce__',\n",
       " '__reduce_ex__',\n",
       " '__repr__',\n",
       " '__reversed__',\n",
       " '__rmul__',\n",
       " '__setattr__',\n",
       " '__setitem__',\n",
       " '__sizeof__',\n",
       " '__str__',\n",
       " '__subclasshook__',\n",
       " 'append',\n",
       " 'clear',\n",
       " 'copy',\n",
       " 'count',\n",
       " 'extend',\n",
       " 'index',\n",
       " 'insert',\n",
       " 'pop',\n",
       " 'remove',\n",
       " 'reverse',\n",
       " 'sort']"
      ]
     },
     "execution_count": 7,
     "metadata": {},
     "output_type": "execute_result"
    }
   ],
   "source": [
    "dir([1,2,3,4])"
   ]
  },
  {
   "cell_type": "markdown",
   "metadata": {},
   "source": [
    "## 生成器 (Generator)\n",
    "\n",
    "生成器是一種特殊類型的迭代器，通過函數語法構建，使用 yield 關鍵字返回值。生成器在每次調用時會凍結其狀態，並在下一次調用時繼續執行。"
   ]
  },
  {
   "cell_type": "code",
   "execution_count": 31,
   "metadata": {},
   "outputs": [],
   "source": [
    "def count_up_to(max_value):\n",
    "    count = 1\n",
    "    while count <= max_value:\n",
    "        print(f\"Yielding {count}\")\n",
    "        yield count\n",
    "        count += 1\n",
    "        print(f\"Resuming, next count will be {count}\")\n",
    "\n",
    "# 創建生成器對象\n",
    "counter = count_up_to(3)\n",
    "\n"
   ]
  },
  {
   "cell_type": "code",
   "execution_count": 33,
   "metadata": {},
   "outputs": [
    {
     "name": "stdout",
     "output_type": "stream",
     "text": [
      "Resuming, next count will be 2\n",
      "Yielding 2\n",
      "2\n",
      "Resuming, next count will be 3\n",
      "Yielding 3\n",
      "3\n",
      "Resuming, next count will be 4\n"
     ]
    },
    {
     "ename": "StopIteration",
     "evalue": "",
     "output_type": "error",
     "traceback": [
      "\u001b[1;31m---------------------------------------------------------------------------\u001b[0m",
      "\u001b[1;31mStopIteration\u001b[0m                             Traceback (most recent call last)",
      "Cell \u001b[1;32mIn[33], line 8\u001b[0m\n\u001b[0;32m      5\u001b[0m \u001b[38;5;28mprint\u001b[39m(\u001b[38;5;28mnext\u001b[39m(counter))  \u001b[38;5;66;03m# 輸出: Resuming, next count will be 2 -> Yielding 2 -> 2\u001b[39;00m\n\u001b[0;32m      7\u001b[0m \u001b[38;5;66;03m# 第三次調用 next()，生成器再次從上次凍結的地方繼續執行\u001b[39;00m\n\u001b[1;32m----> 8\u001b[0m \u001b[38;5;28mprint\u001b[39m(\u001b[38;5;28;43mnext\u001b[39;49m\u001b[43m(\u001b[49m\u001b[43mcounter\u001b[49m\u001b[43m)\u001b[49m)  \u001b[38;5;66;03m# 輸出: Resuming, next count will be 3 -> Yielding 3 -> 3\u001b[39;00m\n\u001b[0;32m     10\u001b[0m \u001b[38;5;66;03m# 第四次調用 next()，超出範圍，拋出 StopIteration\u001b[39;00m\n\u001b[0;32m     11\u001b[0m \u001b[38;5;28;01mtry\u001b[39;00m:\n",
      "\u001b[1;31mStopIteration\u001b[0m: "
     ]
    }
   ],
   "source": [
    "# 第一次調用 next()，生成器開始執行，並凍結在 yield 處\n",
    "print(next(counter))  # 輸出: Yielding 1 -> 1\n",
    "\n",
    "# 第二次調用 next()，生成器從上次凍結的地方繼續執行\n",
    "print(next(counter))  # 輸出: Resuming, next count will be 2 -> Yielding 2 -> 2\n",
    "\n",
    "# 第三次調用 next()，生成器再次從上次凍結的地方繼續執行\n",
    "print(next(counter))  # 輸出: Resuming, next count will be 3 -> Yielding 3 -> 3\n",
    "\n",
    "# 第四次調用 next()，超出範圍，拋出 StopIteration\n",
    "try:\n",
    "    print(next(counter))  # 無輸出，因為生成器結束\n",
    "except StopIteration:\n",
    "    print(\"Generator reached the end.\")"
   ]
  },
  {
   "cell_type": "markdown",
   "metadata": {},
   "source": [
    "# 生成器狀態凍結的執行步驟\n",
    "\n",
    "### 第一次調用 `next(counter)`：\n",
    "\n",
    "1. 生成器從開始執行，`count` 為 1。\n",
    "2. 執行 `print(f\"Yielding {count}\")`，輸出 `Yielding 1`。\n",
    "3. 遇到 `yield count`，返回 `count` 的值 1 並凍結狀態。\n",
    "\n",
    "### 第二次調用 `next(counter)`：\n",
    "\n",
    "1. 生成器從凍結的地方繼續執行。\n",
    "2. 執行 `print(f\"Resuming, next count will be {count}\")`，輸出 `Resuming, next count will be 2`。\n",
    "3. 更新 `count` 為 2。\n",
    "4. 執行 `print(f\"Yielding {count}\")`，輸出 `Yielding 2`。\n",
    "5. 遇到 `yield count`，返回 `count` 的值 2 並凍結狀態。\n",
    "\n",
    "### 第三次調用 `next(counter)`：\n",
    "\n",
    "1. 生成器再次從凍結的地方繼續執行。\n",
    "2. 執行 `print(f\"Resuming, next count will be {count}\")`，輸出 `Resuming, next count will be 3`。\n",
    "3. 更新 `count` 為 3。\n",
    "4. 執行 `print(f\"Yielding {count}\")`，輸出 `Yielding 3`。\n",
    "5. 遇到 `yield count`，返回 `count` 的值 3 並凍結狀態。\n",
    "\n",
    "### 第四次調用 `next(counter)`：\n",
    "\n",
    "1. 生成器繼續執行，但此時 `count` 超過了 `max_value`，`while` 循環結束。\n",
    "2. 生成器結束，拋出 `StopIteration` 異常。\n"
   ]
  },
  {
   "cell_type": "markdown",
   "metadata": {},
   "source": [
    "## 注意: 生成器只能遍歷一次，遍歷完畢後，再次遍歷需要重新創建生成器對象"
   ]
  },
  {
   "cell_type": "code",
   "execution_count": 50,
   "metadata": {},
   "outputs": [
    {
     "name": "stdout",
     "output_type": "stream",
     "text": [
      "第一次迭代:\n",
      "Start generator\n",
      "1\n",
      "Yielded 1\n",
      "2\n",
      "Yielded 2\n",
      "3\n",
      "Yielded 3\n",
      "\n",
      "再次嘗試迭代:\n"
     ]
    }
   ],
   "source": [
    "def simple_generator():\n",
    "    print(\"Start generator\")\n",
    "    yield 1\n",
    "    print(\"Yielded 1\")\n",
    "    yield 2\n",
    "    print(\"Yielded 2\")\n",
    "    yield 3\n",
    "    print(\"Yielded 3\")\n",
    "\n",
    "# 創建生成器對象\n",
    "gen = simple_generator()\n",
    "\n",
    "# 第一次迭代\n",
    "print(\"第一次迭代:\")\n",
    "for value in gen:\n",
    "    print(value)\n",
    "\n",
    "# 再次嘗試迭代\n",
    "print(\"\\n再次嘗試迭代:\")\n",
    "for value in gen:\n",
    "    print(value)\n"
   ]
  },
  {
   "cell_type": "markdown",
   "metadata": {},
   "source": [
    "## 生成器表達式 + for 迴圈"
   ]
  },
  {
   "cell_type": "code",
   "execution_count": 17,
   "metadata": {},
   "outputs": [
    {
     "name": "stdout",
     "output_type": "stream",
     "text": [
      "0\n",
      "2\n",
      "4\n",
      "6\n",
      "8\n",
      "10\n"
     ]
    }
   ],
   "source": [
    "def even_numbers(max_value):\n",
    "    num = 0\n",
    "    while num <= max_value:\n",
    "        yield num\n",
    "        num += 2\n",
    "\n",
    "# 使用生成器\n",
    "for even in even_numbers(10):\n",
    "    print(even)\n",
    "\n",
    "\n"
   ]
  },
  {
   "cell_type": "markdown",
   "metadata": {},
   "source": [
    "## 使用生成器的優點\n",
    "生成器的主要優點是它們可以在需要時生成數據，而不是一次性生成所有數據。這對於處理大型數據\n",
    "\n",
    "因為每次迭代都會透過 yield 產生結果，直到下一次迭代，因此資料不用預存一大堆，可以節省記憶體空間"
   ]
  },
  {
   "cell_type": "code",
   "execution_count": 49,
   "metadata": {},
   "outputs": [
    {
     "name": "stdout",
     "output_type": "stream",
     "text": [
      "0\n",
      "2\n",
      "4\n",
      "6\n",
      "8\n",
      "10\n",
      "12\n",
      "14\n",
      "16\n",
      "18\n",
      "20\n"
     ]
    }
   ],
   "source": [
    "# 生成一個範圍內的偶數，最大值為 1000000\n",
    "for even in even_numbers(1000000):\n",
    "    if even > 20:\n",
    "        break\n",
    "    print(even)\n"
   ]
  }
 ],
 "metadata": {
  "kernelspec": {
   "display_name": "Python 3",
   "language": "python",
   "name": "python3"
  },
  "language_info": {
   "codemirror_mode": {
    "name": "ipython",
    "version": 3
   },
   "file_extension": ".py",
   "mimetype": "text/x-python",
   "name": "python",
   "nbconvert_exporter": "python",
   "pygments_lexer": "ipython3",
   "version": "3.10.7"
  }
 },
 "nbformat": 4,
 "nbformat_minor": 2
}
