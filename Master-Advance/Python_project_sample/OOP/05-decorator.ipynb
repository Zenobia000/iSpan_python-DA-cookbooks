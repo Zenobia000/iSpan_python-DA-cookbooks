{
 "cells": [
  {
   "cell_type": "markdown",
   "metadata": {},
   "source": [
    "## 裝飾器 (Decorator)：讓程式更強大的魔法工具"
   ]
  },
  {
   "cell_type": "markdown",
   "metadata": {},
   "source": [
    "在 Python 程式設計中，裝飾器 (Decorator) 是一個非常強大且靈活的工具，讓你能夠在不改變原有函數的情況下，動態地修改或擴展其功能。本筆記將介紹什麼是裝飾器，如何使用它們，以及一些常見的應用場景。"
   ]
  },
  {
   "cell_type": "markdown",
   "metadata": {},
   "source": [
    "什麼是裝飾器？\n",
    "裝飾器本質上是一個函數，它接收另一個函數作為參數，並返回一個新的函數。這個新函數通常會在執行原有函數之前或之後添加一些額外的操作。簡單來說，裝飾器就像是包裝紙，把原有的函數包裹起來，使其在執行時能夠完成更多的事情。"
   ]
  },
  {
   "cell_type": "code",
   "execution_count": 2,
   "metadata": {},
   "outputs": [
    {
     "name": "stdout",
     "output_type": "stream",
     "text": [
      "hey.\n",
      "sunny!\n",
      "how are you today\n"
     ]
    }
   ],
   "source": [
    "def my_decorator(func):\n",
    "    def wrapper():\n",
    "        print(\"hey.\")\n",
    "        func()\n",
    "        print(\"how are you today\")\n",
    "    return wrapper\n",
    "\n",
    "def say_my_name():\n",
    "    print(\"sunny!\")\n",
    "\n",
    "say_hello = my_decorator(say_my_name)\n",
    "say_hello()\n",
    "\n"
   ]
  },
  {
   "cell_type": "markdown",
   "metadata": {},
   "source": [
    "## 使用 @ 語法糖"
   ]
  },
  {
   "cell_type": "code",
   "execution_count": 3,
   "metadata": {},
   "outputs": [
    {
     "name": "stdout",
     "output_type": "stream",
     "text": [
      "hey.\n",
      "sunny!\n",
      "how are you today\n"
     ]
    }
   ],
   "source": [
    "def my_decorator(func):\n",
    "    def wrapper():\n",
    "        print(\"hey.\")\n",
    "        func()\n",
    "        print(\"how are you today\")\n",
    "    return wrapper\n",
    "\n",
    "@my_decorator\n",
    "def say_my_name():\n",
    "    print(\"sunny!\")\n",
    "\n",
    "say_my_name()\n"
   ]
  },
  {
   "cell_type": "markdown",
   "metadata": {},
   "source": [
    "## 裝飾帶參數的函數"
   ]
  },
  {
   "cell_type": "code",
   "execution_count": 4,
   "metadata": {},
   "outputs": [
    {
     "name": "stdout",
     "output_type": "stream",
     "text": [
      "Hello, Alice!\n",
      "Hello, Bob!\n",
      "Hello, Charlie!\n"
     ]
    }
   ],
   "source": [
    "# *args\n",
    "# *args 用來將多個位置參數打包成一個 tuple。當你不確定函數會接收到多少個位置參數時，可以使用 *args。例如：\n",
    "\n",
    "def greet(*args):\n",
    "    for name in args:\n",
    "        print(f\"Hello, {name}!\")\n",
    "\n",
    "greet(\"Alice\", \"Bob\", \"Charlie\")\n",
    "\n"
   ]
  },
  {
   "cell_type": "code",
   "execution_count": 16,
   "metadata": {},
   "outputs": [
    {
     "name": "stdout",
     "output_type": "stream",
     "text": [
      "name: Alice\n",
      "age: 30\n",
      "job: Engineer\n"
     ]
    }
   ],
   "source": [
    "# **kwargs\n",
    "# **kwargs 用來將多個關鍵字參數打包成一個字典。當你不確定函數會接收到多少個關鍵字參數時，可以使用 **kwargs。例如：\n",
    "\n",
    "def display_info(**kwargs):\n",
    "    for key, value in kwargs.items():\n",
    "        print(f\"{key}: {value}\")\n",
    "\n",
    "display_info(name=\"Alice\", age=30, job=\"Engineer\")\n",
    "\n",
    "\n"
   ]
  },
  {
   "cell_type": "code",
   "execution_count": 5,
   "metadata": {},
   "outputs": [
    {
     "name": "stdout",
     "output_type": "stream",
     "text": [
      "hey.\n",
      "Hello, Alice!\n",
      "Hello, Bob!\n",
      "Hello, Charlie!\n",
      "how are you today\n"
     ]
    }
   ],
   "source": [
    "def my_decorator(func):\n",
    "\n",
    "    def wrapper(*args, **kwargs):\n",
    "        print(\"hey.\")\n",
    "        result = func(*args, **kwargs)\n",
    "        print(\"how are you today\")\n",
    "        return result\n",
    "    \n",
    "    return wrapper\n",
    "\n",
    "@my_decorator\n",
    "def greet(*args, **kwargs):\n",
    "    for name in args:\n",
    "        print(f\"Hello, {name}!\")\n",
    "\n",
    "greet(\"Alice\", \"Bob\", \"Charlie\")\n"
   ]
  },
  {
   "cell_type": "markdown",
   "metadata": {},
   "source": [
    "## 常見的裝飾器應用場景\n",
    "## 記錄 (Logging)"
   ]
  },
  {
   "cell_type": "code",
   "execution_count": 1,
   "metadata": {},
   "outputs": [
    {
     "name": "stdout",
     "output_type": "stream",
     "text": [
      "Calling function add with arguments (3, 5) and {}\n",
      "Function add returned 8\n"
     ]
    },
    {
     "data": {
      "text/plain": [
       "8"
      ]
     },
     "execution_count": 1,
     "metadata": {},
     "output_type": "execute_result"
    }
   ],
   "source": [
    "def log_decorator(func):\n",
    "    def wrapper(*args, **kwargs):\n",
    "        print(f\"Calling function {func.__name__} with arguments {args} and {kwargs}\")\n",
    "        result = func(*args, **kwargs)\n",
    "        print(f\"Function {func.__name__} returned {result}\")\n",
    "        return result\n",
    "    return wrapper\n",
    "\n",
    "@log_decorator\n",
    "def add(a, b):\n",
    "    return a + b\n",
    "\n",
    "add(3, 5)\n",
    "\n"
   ]
  },
  {
   "cell_type": "markdown",
   "metadata": {},
   "source": [
    "## 驗證 (Validation)"
   ]
  },
  {
   "cell_type": "code",
   "execution_count": 3,
   "metadata": {},
   "outputs": [
    {
     "ename": "ValueError",
     "evalue": "Arguments must be integers",
     "output_type": "error",
     "traceback": [
      "\u001b[1;31m---------------------------------------------------------------------------\u001b[0m",
      "\u001b[1;31mValueError\u001b[0m                                Traceback (most recent call last)",
      "Cell \u001b[1;32mIn[3], line 12\u001b[0m\n\u001b[0;32m      8\u001b[0m \u001b[38;5;129m@validate_decorator\u001b[39m\n\u001b[0;32m      9\u001b[0m \u001b[38;5;28;01mdef\u001b[39;00m \u001b[38;5;21madd\u001b[39m(a, b):\n\u001b[0;32m     10\u001b[0m     \u001b[38;5;28;01mreturn\u001b[39;00m a \u001b[38;5;241m+\u001b[39m b\n\u001b[1;32m---> 12\u001b[0m \u001b[38;5;28mprint\u001b[39m(\u001b[43madd\u001b[49m\u001b[43m(\u001b[49m\u001b[38;5;124;43m\"\u001b[39;49m\u001b[38;5;124;43mleo\u001b[39;49m\u001b[38;5;124;43m\"\u001b[39;49m\u001b[43m,\u001b[49m\u001b[43m \u001b[49m\u001b[38;5;241;43m5\u001b[39;49m\u001b[43m)\u001b[49m)\n",
      "Cell \u001b[1;32mIn[3], line 4\u001b[0m, in \u001b[0;36mvalidate_decorator.<locals>.wrapper\u001b[1;34m(a, b)\u001b[0m\n\u001b[0;32m      2\u001b[0m \u001b[38;5;28;01mdef\u001b[39;00m \u001b[38;5;21mwrapper\u001b[39m(a, b):\n\u001b[0;32m      3\u001b[0m     \u001b[38;5;28;01mif\u001b[39;00m \u001b[38;5;129;01mnot\u001b[39;00m \u001b[38;5;28misinstance\u001b[39m(a, \u001b[38;5;28mint\u001b[39m) \u001b[38;5;129;01mor\u001b[39;00m \u001b[38;5;129;01mnot\u001b[39;00m \u001b[38;5;28misinstance\u001b[39m(b, \u001b[38;5;28mint\u001b[39m):\n\u001b[1;32m----> 4\u001b[0m         \u001b[38;5;28;01mraise\u001b[39;00m \u001b[38;5;167;01mValueError\u001b[39;00m(\u001b[38;5;124m\"\u001b[39m\u001b[38;5;124mArguments must be integers\u001b[39m\u001b[38;5;124m\"\u001b[39m)\n\u001b[0;32m      5\u001b[0m     \u001b[38;5;28;01mreturn\u001b[39;00m func(a, b)\n",
      "\u001b[1;31mValueError\u001b[0m: Arguments must be integers"
     ]
    }
   ],
   "source": [
    "def validate_decorator(func):\n",
    "    def wrapper(a, b):\n",
    "        if not isinstance(a, int) or not isinstance(b, int):\n",
    "            raise ValueError(\"Arguments must be integers\")\n",
    "        return func(a, b)\n",
    "    return wrapper\n",
    "\n",
    "@validate_decorator\n",
    "def add(a, b):\n",
    "    return a + b\n",
    "\n",
    "print(add(\"leo\", 5))\n",
    "# print(add(3, \"five\")) # 這行會引發 ValueError\n",
    "\n",
    "\n",
    "\n"
   ]
  },
  {
   "cell_type": "markdown",
   "metadata": {},
   "source": [
    "## 緩存 (Caching)"
   ]
  },
  {
   "cell_type": "code",
   "execution_count": 22,
   "metadata": {},
   "outputs": [
    {
     "name": "stdout",
     "output_type": "stream",
     "text": [
      "16\n",
      "16\n"
     ]
    }
   ],
   "source": [
    "def cache_decorator(func):\n",
    "    cache = {}\n",
    "    def wrapper(*args):\n",
    "        if args in cache:\n",
    "            return cache[args]\n",
    "        result = func(*args)\n",
    "        cache[args] = result\n",
    "        return result\n",
    "    return wrapper\n",
    "\n",
    "@cache_decorator\n",
    "def slow_function(x):\n",
    "    from time import sleep\n",
    "    sleep(2)  # 模擬耗時操作\n",
    "    return x * x\n",
    "\n",
    "print(slow_function(4))  # 第一次調用，會等待 2 秒\n",
    "print(slow_function(4))  # 第二次調用，直接返回結果\n"
   ]
  },
  {
   "cell_type": "markdown",
   "metadata": {},
   "source": [
    "## 時間運行消耗"
   ]
  },
  {
   "cell_type": "code",
   "execution_count": 5,
   "metadata": {},
   "outputs": [
    {
     "name": "stdout",
     "output_type": "stream",
     "text": [
      "Execution time for slow_function: 4.0019 seconds\n",
      "4000\n",
      "Execution time for slow_function: 4.0058 seconds\n",
      "4000\n"
     ]
    }
   ],
   "source": [
    "import time\n",
    "\n",
    "def time_decorator(func):\n",
    "    def wrapper(*args, **kwargs):\n",
    "        start_time = time.time()\n",
    "        result = func(*args, **kwargs)\n",
    "        end_time = time.time()\n",
    "        print(f\"Execution time for {func.__name__}: {end_time - start_time:.4f} seconds\")\n",
    "        return result\n",
    "    return wrapper\n",
    "\n",
    "@time_decorator\n",
    "def slow_function(x):\n",
    "    from time import sleep\n",
    "    sleep(4)  # 模擬耗時操作\n",
    "    return x * 1000\n",
    "\n",
    "print(slow_function(4))  # 第一次調用，會等待 2 秒，並顯示執行時間\n",
    "print(slow_function(4))  # 第二次調用，會等待 2 秒，並顯示執行時間\n"
   ]
  },
  {
   "cell_type": "code",
   "execution_count": null,
   "metadata": {},
   "outputs": [],
   "source": []
  }
 ],
 "metadata": {
  "kernelspec": {
   "display_name": "Python 3",
   "language": "python",
   "name": "python3"
  },
  "language_info": {
   "codemirror_mode": {
    "name": "ipython",
    "version": 3
   },
   "file_extension": ".py",
   "mimetype": "text/x-python",
   "name": "python",
   "nbconvert_exporter": "python",
   "pygments_lexer": "ipython3",
   "version": "3.10.7"
  }
 },
 "nbformat": 4,
 "nbformat_minor": 2
}
