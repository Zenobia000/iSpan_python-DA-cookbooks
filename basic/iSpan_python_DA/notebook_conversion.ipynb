{
 "cells": [
  {
   "cell_type": "code",
   "execution_count": 1,
   "metadata": {},
   "outputs": [],
   "source": [
    "import os\n",
    "import nbformat\n",
    "from nbformat.v4 import new_notebook, new_code_cell\n",
    "\n",
    "# 指定要轉換的目錄\n",
    "source_dir = r\"D:\\github\\iSpan_python_DA\\Python_DA_Course\\M3_Pandas_Advanced\\exercises\"\n",
    "\n",
    "# 遍歷目錄中的所有 .py 檔案\n",
    "for filename in os.listdir(source_dir):\n",
    "    if filename.endswith(\".py\"):\n",
    "        py_file_path = os.path.join(source_dir, filename)\n",
    "        \n",
    "        # 讀取 py 檔案\n",
    "        with open(py_file_path, \"r\", encoding=\"utf-8\") as f:\n",
    "            code = f.read()\n",
    "\n",
    "        # 根據 `# %%` 進行區隔\n",
    "        cells_raw = code.split(\"# %%\")\n",
    "        cells = [new_code_cell(cell.strip()) for cell in cells_raw if cell.strip()]\n",
    "\n",
    "        # 建立 notebook\n",
    "        nb = new_notebook(cells=cells)\n",
    "\n",
    "        # 儲存為 ipynb\n",
    "        ipynb_file_path = py_file_path.replace(\".py\", \".ipynb\")\n",
    "        with open(ipynb_file_path, \"w\", encoding=\"utf-8\") as f:\n",
    "            nbformat.write(nb, f)"
   ]
  }
 ],
 "metadata": {
  "kernelspec": {
   "display_name": "Python 3",
   "language": "python",
   "name": "python3"
  },
  "language_info": {
   "codemirror_mode": {
    "name": "ipython",
    "version": 3
   },
   "file_extension": ".py",
   "mimetype": "text/x-python",
   "name": "python",
   "nbconvert_exporter": "python",
   "pygments_lexer": "ipython3",
   "version": "3.11.9"
  }
 },
 "nbformat": 4,
 "nbformat_minor": 2
}
