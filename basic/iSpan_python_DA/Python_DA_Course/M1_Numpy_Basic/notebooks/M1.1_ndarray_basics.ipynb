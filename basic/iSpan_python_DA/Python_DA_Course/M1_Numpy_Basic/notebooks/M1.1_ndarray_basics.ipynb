{
 "cells": [
  {
   "cell_type": "markdown",
   "id": "810effa0",
   "metadata": {},
   "source": [
    "## 📘 M1.1 NumPy ndarray 與 Python list 的差異\n",
    "\n",
    "本教學將介紹 NumPy 的核心數據結構 `ndarray` 與 Python 內建 `list` 的關鍵差異，\n",
    "並說明為何在數據分析和科學計算中，NumPy 的 `ndarray` 是更好的選擇。\n",
    "\n",
    "### 🎯 教學目標\n",
    "\n",
    "- 🔍 了解 NumPy `ndarray` 與 Python `list` 的差異\n",
    "- 📌 學會選擇適當的資料結構\n",
    "- 🚀 掌握 `ndarray` 在效能與功能上的優勢"
   ]
  },
  {
   "cell_type": "markdown",
   "id": "2aa5deba",
   "metadata": {},
   "source": [
    "### 🧰 1. 環境設置與導入必要的套件"
   ]
  },
  {
   "cell_type": "markdown",
   "id": "9ef377f3",
   "metadata": {},
   "source": [
    "**學習要點**：\n",
    "- 掌握 NumPy 基本套件導入方式\n",
    "- 熟悉設定輸出格式的常見選項\n",
    "\n",
    "**應用場域**：\n",
    "- 資料前處理時需要控制輸出精度（如財務分析、物理實驗）"
   ]
  },
  {
   "cell_type": "code",
   "execution_count": 1,
   "id": "9d34753a",
   "metadata": {},
   "outputs": [],
   "source": [
    "import numpy as np\n",
    "import time\n",
    "import sys\n",
    "np.set_printoptions(precision=3, suppress=True)"
   ]
  },
  {
   "cell_type": "markdown",
   "id": "af91031f",
   "metadata": {},
   "source": [
    "### 🔎 2. 基本比較：ndarray vs list"
   ]
  },
  {
   "cell_type": "markdown",
   "id": "9a1f7ba1",
   "metadata": {},
   "source": [
    "**學習要點**：\n",
    "- 理解兩者在資料結構與語法上的基本差異\n",
    "- 認識 `type()` 對型別的判定\n",
    "\n",
    "**應用場域**：\n",
    "- 教學與原型設計中釐清結構差異\n",
    "- 作為後續選擇適合資料結構的基礎"
   ]
  },
  {
   "cell_type": "code",
   "execution_count": 2,
   "id": "5756cd35",
   "metadata": {},
   "outputs": [
    {
     "name": "stdout",
     "output_type": "stream",
     "text": [
      "Python list: [1, 2, 3, 4, 5], 類型: <class 'list'>\n",
      "NumPy array: [1 2 3 4 5], 類型: <class 'numpy.ndarray'>\n"
     ]
    }
   ],
   "source": [
    "py_list = [1, 2, 3, 4, 5]\n",
    "np_array = np.array([1, 2, 3, 4, 5])\n",
    "\n",
    "print(f\"Python list: {py_list}, 類型: {type(py_list)}\")\n",
    "print(f\"NumPy array: {np_array}, 類型: {type(np_array)}\")"
   ]
  },
  {
   "cell_type": "markdown",
   "id": "5021a407",
   "metadata": {},
   "source": [
    "**解說**：\n",
    "- Python `list` 是通用容器，可儲存各種資料型別\n",
    "- NumPy `ndarray` 為同質資料陣列，適合數值計算"
   ]
  },
  {
   "cell_type": "markdown",
   "id": "51b7c605",
   "metadata": {},
   "source": [
    "### 💾 3. 記憶體佔用比較"
   ]
  },
  {
   "cell_type": "markdown",
   "id": "c146bd2d",
   "metadata": {},
   "source": [
    "**學習要點**：\n",
    "- 使用 `sys.getsizeof` 分析記憶體用量\n",
    "- 掌握 `ndarray` 在大資料處理上的記憶體優勢\n",
    "\n",
    "**應用場域**：\n",
    "- 大數據分析、嵌入式系統需嚴格管理記憶體資源的場景"
   ]
  },
  {
   "cell_type": "code",
   "execution_count": 3,
   "id": "6798149f",
   "metadata": {},
   "outputs": [
    {
     "name": "stdout",
     "output_type": "stream",
     "text": [
      "小型數據 (100 元素):\n",
      "Python list: 856 bytes\n",
      "NumPy array: 512 bytes\n"
     ]
    }
   ],
   "source": [
    "def get_size(obj):\n",
    "    return sys.getsizeof(obj)\n",
    "\n",
    "small_list = list(range(100))\n",
    "small_array = np.arange(100)\n",
    "medium_list = list(range(10000))\n",
    "medium_array = np.arange(10000)\n",
    "large_list = list(range(1000000))\n",
    "large_array = np.arange(1000000)\n",
    "\n",
    "print(\"小型數據 (100 元素):\")\n",
    "print(f\"Python list: {get_size(small_list)} bytes\")\n",
    "print(f\"NumPy array: {get_size(small_array)} bytes\")"
   ]
  },
  {
   "cell_type": "markdown",
   "id": "9c61e32d",
   "metadata": {},
   "source": [
    "**解說**：\n",
    "- Python `list` 每個元素有額外物件封裝開銷\n",
    "- `ndarray` 使用連續記憶體塊，效率更高"
   ]
  },
  {
   "cell_type": "markdown",
   "id": "4d8a144a",
   "metadata": {},
   "source": [
    "### ⏱️ 4. 運算速度比較"
   ]
  },
  {
   "cell_type": "markdown",
   "id": "3b7c8d59",
   "metadata": {},
   "source": [
    "**學習要點**：\n",
    "- 比較 `list comprehension` 與 NumPy 向量化速度差異\n",
    "- 學習計算執行時間的方式\n",
    "\n",
    "**應用場域**：\n",
    "- 機器學習資料預處理、即時分析服務需強調效率的工作流"
   ]
  },
  {
   "cell_type": "code",
   "execution_count": 4,
   "id": "c991dd3f",
   "metadata": {},
   "outputs": [
    {
     "name": "stdout",
     "output_type": "stream",
     "text": [
      "Python list 運算時間: 0.029510 秒\n",
      "NumPy 運算時間: 0.000000 秒\n"
     ]
    }
   ],
   "source": [
    "n = 1000000\n",
    "py_list = list(range(n))\n",
    "np_array = np.arange(n)\n",
    "\n",
    "start_time = time.time()\n",
    "result_list = [x * 2 for x in py_list]\n",
    "list_time = time.time() - start_time\n",
    "\n",
    "start_time = time.time()\n",
    "result_array = np_array * 2\n",
    "array_time = time.time() - start_time\n",
    "\n",
    "print(f\"Python list 運算時間: {list_time:.6f} 秒\")\n",
    "print(f\"NumPy 運算時間: {array_time:.6f} 秒\")"
   ]
  },
  {
   "cell_type": "markdown",
   "id": "7e016998",
   "metadata": {},
   "source": [
    "**解說**：\n",
    "- Python `list` 使用迴圈\n",
    "- NumPy 使用 C 實作的向量化運算，大幅加速"
   ]
  },
  {
   "cell_type": "markdown",
   "id": "b396f2cb",
   "metadata": {},
   "source": [
    "### 📐 5. 多維數據處理比較"
   ]
  },
  {
   "cell_type": "markdown",
   "id": "e4b5e29d",
   "metadata": {},
   "source": [
    "**學習要點**：\n",
    "- 建立與操作 2D 陣列的基礎能力\n",
    "- 理解 `.shape`, `.ndim` 等常見屬性\n",
    "\n",
    "**應用場域**：\n",
    "- 影像處理、矩陣演算（如線性代數、CNN）"
   ]
  },
  {
   "cell_type": "code",
   "execution_count": 5,
   "id": "e2457c06",
   "metadata": {},
   "outputs": [
    {
     "name": "stdout",
     "output_type": "stream",
     "text": [
      "[[1 2 3]\n",
      " [4 5 6]\n",
      " [7 8 9]]\n",
      "(3, 3)\n",
      "2\n"
     ]
    }
   ],
   "source": [
    "list_2d = [[1, 2, 3], [4, 5, 6], [7, 8, 9]]\n",
    "array_2d = np.array(list_2d)\n",
    "\n",
    "print(array_2d)\n",
    "print(array_2d.shape)\n",
    "print(array_2d.ndim)"
   ]
  },
  {
   "cell_type": "markdown",
   "id": "50686a54",
   "metadata": {},
   "source": [
    "**解說**：\n",
    "- Python 巢狀 `list` 缺乏統一維度結構\n",
    "- NumPy 陣列具備明確維度與形狀，有助於數據操作"
   ]
  },
  {
   "cell_type": "markdown",
   "id": "a8cfb7a8",
   "metadata": {},
   "source": [
    "### ➕ 6. 數學運算比較"
   ]
  },
  {
   "cell_type": "markdown",
   "id": "638e715e",
   "metadata": {},
   "source": [
    "**學習要點**：\n",
    "- 熟悉向量化運算與 dot product 的基礎\n",
    "- 掌握基本數學操作與語法\n",
    "\n",
    "**應用場域**：\n",
    "- 財務模型、機器學習特徵轉換、科學計算"
   ]
  },
  {
   "cell_type": "code",
   "execution_count": 6,
   "id": "0e5e82d7",
   "metadata": {},
   "outputs": [
    {
     "name": "stdout",
     "output_type": "stream",
     "text": [
      "[ 6  8 10 12]\n",
      "[ 5 12 21 32]\n",
      "[ 1  4  9 16]\n",
      "70\n"
     ]
    }
   ],
   "source": [
    "list_a = [1, 2, 3, 4]\n",
    "list_b = [5, 6, 7, 8]\n",
    "list_sum = [a + b for a, b in zip(list_a, list_b)]\n",
    "\n",
    "array_a = np.array(list_a)\n",
    "array_b = np.array(list_b)\n",
    "array_sum = array_a + array_b\n",
    "\n",
    "print(array_sum)\n",
    "print(array_a * array_b)\n",
    "print(array_a ** 2)\n",
    "print(np.dot(array_a, array_b))"
   ]
  },
  {
   "cell_type": "markdown",
   "id": "3848028e",
   "metadata": {},
   "source": [
    "**解說**：\n",
    "- Python `list` 運算需搭配 zip 與 comprehension\n",
    "- NumPy 支援向量化與矩陣乘法"
   ]
  },
  {
   "cell_type": "markdown",
   "id": "8022baae",
   "metadata": {},
   "source": [
    "### 🧬 7. 資料類型一致性比較"
   ]
  },
  {
   "cell_type": "markdown",
   "id": "60f55f2f",
   "metadata": {},
   "source": [
    "**學習要點**：\n",
    "- 觀察 Python `list` 與 NumPy 陣列的型別管理方式\n",
    "- 認識 NumPy 的型別自動提升機制（type promotion）\n",
    "\n",
    "**應用場域**：\n",
    "- 結構化數據處理、避免資料類型錯誤導致的模型失效"
   ]
  },
  {
   "cell_type": "code",
   "execution_count": 7,
   "id": "f24cb2a5",
   "metadata": {},
   "outputs": [
    {
     "name": "stdout",
     "output_type": "stream",
     "text": [
      "['1' 'hello' '3.14' 'True']\n",
      "<U32\n",
      "[1.  2.5 3.  4.8]\n",
      "float64\n"
     ]
    }
   ],
   "source": [
    "mixed_list = [1, 'hello', 3.14, True]\n",
    "mixed_array = np.array(mixed_list)\n",
    "\n",
    "print(mixed_array)\n",
    "print(mixed_array.dtype)\n",
    "\n",
    "num_array = np.array([1, 2.5, 3, 4.8])\n",
    "print(num_array)\n",
    "print(num_array.dtype)"
   ]
  },
  {
   "cell_type": "markdown",
   "id": "e1e77b89",
   "metadata": {},
   "source": [
    "**解說**：\n",
    "- `list` 可混合類型，彈性高但效率低\n",
    "- `ndarray` 強制同型別，提升計算一致性與效率"
   ]
  },
  {
   "cell_type": "markdown",
   "id": "022c909c",
   "metadata": {},
   "source": [
    "### 🛠️ 8. 功能方法比較"
   ]
  },
  {
   "cell_type": "markdown",
   "id": "c3368fca",
   "metadata": {},
   "source": [
    "**學習要點**：\n",
    "- 熟悉 NumPy 提供的統計與排序方法\n",
    "- 理解原地操作與非原地操作的差異\n",
    "\n",
    "**應用場域**：\n",
    "- 資料探索性分析（EDA）、特徵工程前的摘要統計"
   ]
  },
  {
   "cell_type": "code",
   "execution_count": 8,
   "id": "0d4afc56",
   "metadata": {},
   "outputs": [
    {
     "name": "stdout",
     "output_type": "stream",
     "text": [
      "8\n",
      "9\n",
      "31\n",
      "3.5\n",
      "[1 1 2 3 4 5 6 9]\n"
     ]
    }
   ],
   "source": [
    "py_list = [3, 1, 4, 1, 5, 9, 2, 6]\n",
    "np_array = np.array(py_list)\n",
    "\n",
    "print(len(np_array))\n",
    "print(np_array.max())\n",
    "print(np_array.sum())\n",
    "print(np.median(np_array))\n",
    "print(np.sort(np_array))"
   ]
  },
  {
   "cell_type": "markdown",
   "id": "14be2642",
   "metadata": {},
   "source": [
    "**解說**：\n",
    "- NumPy 提供大量內建方法，支援統計、排序、矩陣操作\n",
    "- 相較之下，Python `list` 需要外部函數或手動處理"
   ]
  },
  {
   "cell_type": "markdown",
   "id": "5f775b2f",
   "metadata": {},
   "source": [
    "### 🧾 9. 總結：NumPy ndarray vs Python list"
   ]
  },
  {
   "cell_type": "markdown",
   "id": "77effd7b",
   "metadata": {},
   "source": [
    "**學習要點**：\n",
    "- 總結適用場景與設計選擇的依據\n",
    "- 養成根據任務目標選用適當資料結構的能力\n",
    "\n",
    "**應用場域**：\n",
    "- 建立處理流程時的資料架構選型\n",
    "- 作為跨模組團隊共用資料時的規格依據\n",
    "\n",
    "#### ✅ NumPy `ndarray` 優點：\n",
    "- 高效能與記憶體使用\n",
    "- 支援向量化、矩陣操作、科學函數\n",
    "- 適合大型資料與多維運算\n",
    "\n",
    "#### ☑️ 適用場景：\n",
    "- 機器學習、資料分析、數值模擬\n",
    "- 科學計算、工程模擬\n",
    "\n",
    "#### 🔁 使用 `list` 的情境：\n",
    "- 當資料型別不一致\n",
    "- 須動態增減元素\n",
    "- 小型、非數值導向的資料處理"
   ]
  }
 ],
 "metadata": {
  "kernelspec": {
   "display_name": "Python 3",
   "language": "python",
   "name": "python3"
  },
  "language_info": {
   "codemirror_mode": {
    "name": "ipython",
    "version": 3
   },
   "file_extension": ".py",
   "mimetype": "text/x-python",
   "name": "python",
   "nbconvert_exporter": "python",
   "pygments_lexer": "ipython3",
   "version": "3.11.9"
  }
 },
 "nbformat": 4,
 "nbformat_minor": 5
}
