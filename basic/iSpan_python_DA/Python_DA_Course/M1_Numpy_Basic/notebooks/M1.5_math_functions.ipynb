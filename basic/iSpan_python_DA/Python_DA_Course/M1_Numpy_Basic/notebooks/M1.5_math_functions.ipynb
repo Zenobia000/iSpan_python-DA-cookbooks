{
 "cells": [
  {
   "cell_type": "markdown",
   "id": "b11e555b",
   "metadata": {},
   "source": [
    "# M1.5 NumPy 常用數學函數\n",
    "\n",
    "本教學將介紹 NumPy 中最常用的數學函數，包括基本數學運算、統計函數、線性代數函數等。\n",
    "這些函數是科學計算、資料分析和機器學習的基礎。"
   ]
  },
  {
   "cell_type": "markdown",
   "id": "68575ce9",
   "metadata": {},
   "source": [
    "## 教學目標\n",
    "\n",
    "- 掌握 NumPy 的基本數學運算函數\n",
    "- 學習常用的統計函數與應用\n",
    "- 了解線性代數相關函數及其用途\n",
    "- 實踐這些函數在資料分析中的應用"
   ]
  },
  {
   "cell_type": "markdown",
   "id": "cc227b3f",
   "metadata": {},
   "source": [
    "## 1. 環境設置與導入必要的套件"
   ]
  },
  {
   "cell_type": "code",
   "execution_count": 27,
   "id": "6d278f16",
   "metadata": {},
   "outputs": [],
   "source": [
    "import numpy as np\n",
    "import matplotlib.pyplot as plt\n",
    "\n",
    "# 設定字型以支援中文\n",
    "import matplotlib\n",
    "matplotlib.rc('font', family='Microsoft JhengHei')  # 設定微軟正黑體\n",
    "matplotlib.rcParams['axes.unicode_minus'] = False  # 解決負號顯示問題\n",
    "\n",
    "# 設定顯示選項，使輸出更易讀\n",
    "np.set_printoptions(precision=3, suppress=True)"
   ]
  },
  {
   "cell_type": "markdown",
   "id": "f1890f83",
   "metadata": {},
   "source": [
    "## 2. 基本數學運算\n",
    "\n",
    "**學習要點**：\n",
    "- 熟悉 NumPy 中的基本算術運算子及其矢量化特性\n",
    "- 掌握 NumPy 通用函數(ufuncs)的使用方法與優勢\n",
    "- 了解如何使用函數參數來優化計算和控制輸出\n",
    "- 學習條件運算和邏輯運算的使用技巧\n",
    "\n",
    "**應用場域**：\n",
    "- 科學計算和工程分析中的大規模數據處理\n",
    "- 物理、金融、生物等領域的模型計算\n",
    "- 數據預處理和特徵工程\n",
    "- 圖像處理和信號分析的基礎計算"
   ]
  },
  {
   "cell_type": "markdown",
   "id": "012ffff4",
   "metadata": {},
   "source": [
    "### 2.1 常見的數學運算子"
   ]
  },
  {
   "cell_type": "code",
   "execution_count": 28,
   "id": "52ea4a49",
   "metadata": {},
   "outputs": [
    {
     "name": "stdout",
     "output_type": "stream",
     "text": [
      "加法 (a + b): [ 6  8 10 12]\n",
      "減法 (a - b): [-4 -4 -4 -4]\n",
      "乘法 (a * b): [ 5 12 21 32]\n",
      "除法 (a / b): [0.2   0.333 0.429 0.5  ]\n",
      "冪次 (a ** 2): [ 1  4  9 16]\n",
      "模數 (a % 2): [1 0 1 0]\n",
      "\n",
      "等於 (a == 2): [False  True False False]\n",
      "不等於 (a != 2): [ True False  True  True]\n",
      "大於 (a > 2): [False False  True  True]\n",
      "小於等於 (a <= 2): [ True  True False False]\n",
      "\n",
      "AND (mask1 & mask2): [False False  True False]\n",
      "OR (mask1 | mask2): [ True  True  True  True]\n",
      "NOT (~mask1): [ True  True False False]\n"
     ]
    }
   ],
   "source": [
    "# 建立範例陣列\n",
    "a = np.array([1, 2, 3, 4])\n",
    "b = np.array([5, 6, 7, 8])\n",
    "\n",
    "# 基本算術運算\n",
    "print(f\"加法 (a + b): {a + b}\")\n",
    "print(f\"減法 (a - b): {a - b}\")\n",
    "print(f\"乘法 (a * b): {a * b}\")  # 元素對元素相乘\n",
    "print(f\"除法 (a / b): {a / b}\")\n",
    "print(f\"冪次 (a ** 2): {a ** 2}\")\n",
    "print(f\"模數 (a % 2): {a % 2}\")\n",
    "\n",
    "# 比較運算\n",
    "print(f\"\\n等於 (a == 2): {a == 2}\")\n",
    "print(f\"不等於 (a != 2): {a != 2}\")\n",
    "print(f\"大於 (a > 2): {a > 2}\")\n",
    "print(f\"小於等於 (a <= 2): {a <= 2}\")\n",
    "\n",
    "# 邏輯運算\n",
    "mask1 = a > 2\n",
    "mask2 = a < 4\n",
    "print(f\"\\nAND (mask1 & mask2): {mask1 & mask2}\")  # 只有 a[2] (值為3) 滿足\n",
    "print(f\"OR (mask1 | mask2): {mask1 | mask2}\")  # a[0,1,2] 滿足 (1,2,3)\n",
    "print(f\"NOT (~mask1): {~mask1}\")  # 反轉條件"
   ]
  },
  {
   "cell_type": "markdown",
   "id": "7dfd9d4e",
   "metadata": {},
   "source": [
    "**解說**：\n",
    "- NumPy 的運算子是元素級的(element-wise)，會自動應用於陣列中的每個元素\n",
    "- 比較運算符返回布爾陣列，表示每個位置上的比較結果\n",
    "- 邏輯運算符(`&`, `|`, `~`)用於組合多個布爾條件，注意使用時的括號以避免運算優先級問題\n",
    "- 與 Python 原生列表相比，NumPy 的矢量化操作更高效，尤其是處理大型數據時\n",
    "- 這些基本運算是更複雜數學操作的基礎，掌握它們對提高數據處理效率至關重要"
   ]
  },
  {
   "cell_type": "markdown",
   "id": "9dbd59db",
   "metadata": {},
   "source": [
    "### 2.2 通用函數 (ufuncs)"
   ]
  },
  {
   "cell_type": "code",
   "execution_count": 29,
   "id": "bfa8a3c6",
   "metadata": {},
   "outputs": [
    {
     "name": "stdout",
     "output_type": "stream",
     "text": [
      "x: [0.    0.785 1.571 3.142]\n",
      "sin(x): [0.    0.707 1.    0.   ]\n",
      "cos(x): [ 1.     0.707  0.    -1.   ]\n",
      "tan(x): [ 0.000e+00  1.000e+00  1.633e+16 -1.225e-16]\n",
      "\n",
      "y: [-1.7 -1.5 -0.2  0.2  1.5  1.7  2. ]\n",
      "向下取整 floor(y): [-2. -2. -1.  0.  1.  1.  2.]\n",
      "向上取整 ceil(y): [-1. -1. -0.  1.  2.  2.  2.]\n",
      "四捨五入 round(y): [-2. -2. -0.  0.  2.  2.  2.]\n",
      "去除小數部分 trunc(y): [-1. -1. -0.  0.  1.  1.  2.]\n",
      "\n",
      "z: [-2.5 -1.   0.   1.   2.5]\n",
      "絕對值 abs(z): [2.5 1.  0.  1.  2.5]\n",
      "符號 sign(z): [-1. -1.  0.  1.  1.]\n",
      "\n",
      "p: [1 2 3]\n",
      "指數 exp(p): [ 2.718  7.389 20.086]\n",
      "自然對數 log(p): [0.    0.693 1.099]\n",
      "以10為底對數 log10(p): [0.    0.301 0.477]\n",
      "以2為底對數 log2(p): [0.    1.    1.585]\n",
      "平方根 sqrt(p): [1.    1.414 1.732]\n",
      "立方根 cbrt(p): [1.    1.26  1.442]\n"
     ]
    }
   ],
   "source": [
    "# 數學函數\n",
    "x = np.array([0, np.pi/4, np.pi/2, np.pi])  # 0, 45, 90, 180 度（弧度）\n",
    "print(f\"x: {x}\")\n",
    "print(f\"sin(x): {np.sin(x)}\")\n",
    "print(f\"cos(x): {np.cos(x)}\")\n",
    "print(f\"tan(x): {np.tan(x)}\")\n",
    "\n",
    "# 取整函數\n",
    "y = np.array([-1.7, -1.5, -0.2, 0.2, 1.5, 1.7, 2.0])\n",
    "print(f\"\\ny: {y}\")\n",
    "print(f\"向下取整 floor(y): {np.floor(y)}\")\n",
    "print(f\"向上取整 ceil(y): {np.ceil(y)}\")\n",
    "print(f\"四捨五入 round(y): {np.round(y)}\")\n",
    "print(f\"去除小數部分 trunc(y): {np.trunc(y)}\")\n",
    "\n",
    "# 絕對值與符號\n",
    "z = np.array([-2.5, -1.0, 0, 1.0, 2.5])\n",
    "print(f\"\\nz: {z}\")\n",
    "print(f\"絕對值 abs(z): {np.abs(z)}\")\n",
    "print(f\"符號 sign(z): {np.sign(z)}\")  # -1 (負), 0, 1 (正)\n",
    "\n",
    "# 指數與對數\n",
    "p = np.array([1, 2, 3])\n",
    "print(f\"\\np: {p}\")\n",
    "print(f\"指數 exp(p): {np.exp(p)}\")  # e^p\n",
    "print(f\"自然對數 log(p): {np.log(p)}\")  # ln(p)\n",
    "print(f\"以10為底對數 log10(p): {np.log10(p)}\")\n",
    "print(f\"以2為底對數 log2(p): {np.log2(p)}\")\n",
    "print(f\"平方根 sqrt(p): {np.sqrt(p)}\")\n",
    "print(f\"立方根 cbrt(p): {np.cbrt(p)}\")"
   ]
  },
  {
   "cell_type": "markdown",
   "id": "e1d497d5",
   "metadata": {},
   "source": [
    "**解說**：\n",
    "- 通用函數(ufuncs)是 NumPy 的核心功能，提供高效的元素級數學運算\n",
    "- 三角函數(sin, cos, tan)在科學計算、信號處理和圖形渲染中廣泛應用\n",
    "- 取整函數(floor, ceil, round, trunc)在不同情境下有不同用途，例如:\n",
    "  - floor: 向下取整，適用於需要取最小整數的情況\n",
    "  - ceil: 向上取整，適用於需要取最大整數的情況\n",
    "  - round: 四捨五入，常用於數據呈現\n",
    "  - trunc: 截斷小數部分，僅保留整數部分\n",
    "- 指數和對數函數在統計學、機器學習(特別是優化算法)和金融建模中極為重要\n",
    "- 平方根和立方根函數在幾何計算、統計學中的標準差計算等方面常用"
   ]
  },
  {
   "cell_type": "markdown",
   "id": "c4be1b0b",
   "metadata": {},
   "source": [
    "### 2.3 函數參數及其使用"
   ]
  },
  {
   "cell_type": "markdown",
   "id": "5ee1ffe5",
   "metadata": {},
   "source": [
    "# 許多 NumPy 函數支持 out 參數，允許將結果存儲到預先分配的陣列中\n",
    "out_array = np.empty_like(a)\n",
    "np.multiply(a, 2, out=out_array)\n",
    "print(f\"a: {a}\")\n",
    "print(f\"out_array 結果 (a * 2): {out_array}\")\n",
    "\n",
    "# where 參數用於條件運算\n",
    "result = np.power(a, 2, where=(a > 2))  # 只計算 a > 2 的元素的平方\n",
    "print(f\"\\npower(a, 2, where=(a > 2)): {result}\")"
   ]
  },
  {
   "cell_type": "markdown",
   "id": "c25bd492",
   "metadata": {},
   "source": [
    "**解說**：\n",
    "- `out` 參數允許將計算結果直接寫入預先分配的陣列，這可以提高性能並減少記憶體使用：\n",
    "  - 避免創建新的臨時陣列\n",
    "  - 在處理大型數據時特別有用\n",
    "  - 可以用於原地(in-place)操作，減少記憶體碎片\n",
    "- `where` 參數實現條件計算，只在指定條件為真的元素上執行操作：\n",
    "  - 可以替代複雜的索引操作\n",
    "  - 結合了條件邏輯和數學運算，使代碼更簡潔\n",
    "  - 未滿足條件的位置將保持原值或設為未定義\n",
    "- 這些參數在數據處理管道(pipelines)中非常有用，可以構建高效的數據轉換流程"
   ]
  },
  {
   "cell_type": "markdown",
   "id": "085fbb31",
   "metadata": {},
   "source": [
    "## 3. 統計函數\n",
    "\n",
    "**學習要點**：\n",
    "- 掌握 NumPy 中常用的統計描述性函數\n",
    "- 學習在多維陣列上進行統計計算的方法\n",
    "- 理解加權平均和累積函數的用途與使用方法\n",
    "- 探討統計描述函數在資料分析中的應用\n",
    "\n",
    "**應用場域**：\n",
    "- 數據集的探索性分析\n",
    "- 科學實驗數據的統計特徵提取\n",
    "- 金融數據的風險與收益分析\n",
    "- 機器學習模型的數據預處理與特徵工程"
   ]
  },
  {
   "cell_type": "markdown",
   "id": "1af71dc6",
   "metadata": {},
   "source": [
    "### 3.1 基本統計函數"
   ]
  },
  {
   "cell_type": "code",
   "execution_count": 30,
   "id": "f8b6a3ac",
   "metadata": {},
   "outputs": [
    {
     "name": "stdout",
     "output_type": "stream",
     "text": [
      "數據: [ 1  2  3  4  5  6  7  8  9 10]\n",
      "總和 sum: 55\n",
      "最小值 min: 1\n",
      "最大值 max: 10\n",
      "範圍 ptp (peak to peak): 9\n",
      "平均值 mean: 5.5\n",
      "中位數 median: 5.5\n",
      "25% 分位數: 3.25\n",
      "50% 分位數 (中位數): 5.5\n",
      "75% 分位數: 7.75\n",
      "\n",
      "方差 var: 8.25\n",
      "標準差 std: 2.8722813232690143\n"
     ]
    }
   ],
   "source": [
    "# 建立示例數據\n",
    "data = np.array([1, 2, 3, 4, 5, 6, 7, 8, 9, 10])\n",
    "print(f\"數據: {data}\")\n",
    "\n",
    "# 基本統計量\n",
    "print(f\"總和 sum: {np.sum(data)}\")\n",
    "print(f\"最小值 min: {np.min(data)}\")\n",
    "print(f\"最大值 max: {np.max(data)}\")\n",
    "print(f\"範圍 ptp (peak to peak): {np.ptp(data)}\")  # max - min\n",
    "print(f\"平均值 mean: {np.mean(data)}\")\n",
    "print(f\"中位數 median: {np.median(data)}\")\n",
    "\n",
    "# 分位數\n",
    "print(f\"25% 分位數: {np.percentile(data, 25)}\")\n",
    "print(f\"50% 分位數 (中位數): {np.percentile(data, 50)}\")\n",
    "print(f\"75% 分位數: {np.percentile(data, 75)}\")\n",
    "\n",
    "# 變異性\n",
    "print(f\"\\n方差 var: {np.var(data)}\")\n",
    "print(f\"標準差 std: {np.std(data)}\")"
   ]
  },
  {
   "cell_type": "markdown",
   "id": "5aa4d046",
   "metadata": {},
   "source": [
    "**解說**：\n",
    "- `sum`, `min`, `max` 等基本統計函數提供了數據集的整體概況\n",
    "- `ptp` (peak to peak) 計算數據範圍（最大值減最小值），顯示數據的跨度\n",
    "- `mean` 和 `median` 提供了中心趨勢的不同度量：\n",
    "  - 平均值受極端值影響較大，中位數對異常值更穩健\n",
    "  - 比較兩者可以初步判斷數據分布的偏斜程度\n",
    "- 分位數提供了數據分布的更完整圖景：\n",
    "  - 25%和75%分位數（即第一和第三四分位數）反映了數據的散布情況\n",
    "  - 分位數差(IQR)常用於識別異常值\n",
    "- 方差和標準差量化了數據的離散程度：\n",
    "  - 標準差是方差的平方根，與原數據單位相同，便於解釋\n",
    "  - 兩者都是衡量數據穩定性和一致性的重要指標"
   ]
  },
  {
   "cell_type": "markdown",
   "id": "34d66707",
   "metadata": {},
   "source": [
    "### 3.2 多維陣列的統計"
   ]
  },
  {
   "cell_type": "code",
   "execution_count": 31,
   "id": "f67fcb50",
   "metadata": {},
   "outputs": [
    {
     "name": "stdout",
     "output_type": "stream",
     "text": [
      "2D 數據:\n",
      "[[ 1  2  3  4]\n",
      " [ 5  6  7  8]\n",
      " [ 9 10 11 12]]\n",
      "\n",
      "沿著 axis=0 (列) 的總和:\n",
      "[15 18 21 24]\n",
      "沿著 axis=1 (行) 的總和:\n",
      "[10 26 42]\n",
      "\n",
      "沿著 axis=0 (列) 的平均值:\n",
      "[5. 6. 7. 8.]\n",
      "沿著 axis=1 (行) 的平均值:\n",
      "[ 2.5  6.5 10.5]\n",
      "\n",
      "沿著 axis=0 (列) 的最大值:\n",
      "[ 9 10 11 12]\n",
      "沿著 axis=1 (行) 的最大值:\n",
      "[ 4  8 12]\n"
     ]
    }
   ],
   "source": [
    "# 建立多維示例數據\n",
    "data_2d = np.array([[1, 2, 3, 4], [5, 6, 7, 8], [9, 10, 11, 12]])\n",
    "print(f\"2D 數據:\\n{data_2d}\")\n",
    "\n",
    "# 沿著不同軸計算統計量\n",
    "print(f\"\\n沿著 axis=0 (列) 的總和:\\n{np.sum(data_2d, axis=0)}\")\n",
    "print(f\"沿著 axis=1 (行) 的總和:\\n{np.sum(data_2d, axis=1)}\")\n",
    "\n",
    "print(f\"\\n沿著 axis=0 (列) 的平均值:\\n{np.mean(data_2d, axis=0)}\")\n",
    "print(f\"沿著 axis=1 (行) 的平均值:\\n{np.mean(data_2d, axis=1)}\")\n",
    "\n",
    "print(f\"\\n沿著 axis=0 (列) 的最大值:\\n{np.max(data_2d, axis=0)}\")\n",
    "print(f\"沿著 axis=1 (行) 的最大值:\\n{np.max(data_2d, axis=1)}\")"
   ]
  },
  {
   "cell_type": "markdown",
   "id": "53130ab9",
   "metadata": {},
   "source": [
    "**解說**：\n",
    "- 多維陣列的統計計算使用 `axis` 參數控制計算方向：\n",
    "  - `axis=0` 沿著列方向（垂直方向），對每列進行計算\n",
    "  - `axis=1` 沿著行方向（水平方向），對每行進行計算\n",
    "  - 不指定 `axis` 則對整個陣列所有元素計算\n",
    "- 這種靈活性使得數據分析能夠從不同維度探索數據特性：\n",
    "  - 在表格數據中，行通常代表樣本，列代表特徵\n",
    "  - `axis=0` 的計算可以得到每個特徵的統計屬性\n",
    "  - `axis=1` 的計算可以得到每個樣本的綜合指標\n",
    "- 在圖像處理中，多維統計應用廣泛：\n",
    "  - 可用於計算每個顏色通道的特性\n",
    "  - 在卷積神經網絡中用於計算特徵圖的統計屬性"
   ]
  },
  {
   "cell_type": "markdown",
   "id": "d58fa284",
   "metadata": {},
   "source": [
    "### 3.3 加權平均與累積函數"
   ]
  },
  {
   "cell_type": "code",
   "execution_count": 32,
   "id": "2d74cc3c",
   "metadata": {},
   "outputs": [
    {
     "name": "stdout",
     "output_type": "stream",
     "text": [
      "值: [1 2 3 4]\n",
      "權重: [0.1 0.2 0.3 0.4]\n",
      "加權平均: 3.0\n",
      "\n",
      "累積總和 cumsum: [ 1  3  6 10]\n",
      "累積乘積 cumprod: [ 1  2  6 24]\n",
      "\n",
      "2D 數據:\n",
      "[[ 1  2  3  4]\n",
      " [ 5  6  7  8]\n",
      " [ 9 10 11 12]]\n",
      "沿著 axis=0 (列) 的累積總和:\n",
      "[[ 1  2  3  4]\n",
      " [ 6  8 10 12]\n",
      " [15 18 21 24]]\n",
      "沿著 axis=1 (行) 的累積總和:\n",
      "[[ 1  3  6 10]\n",
      " [ 5 11 18 26]\n",
      " [ 9 19 30 42]]\n"
     ]
    }
   ],
   "source": [
    "# 加權平均\n",
    "values = np.array([1, 2, 3, 4])\n",
    "weights = np.array([0.1, 0.2, 0.3, 0.4])  # 權重總和為 1\n",
    "weighted_avg = np.average(values, weights=weights)\n",
    "print(f\"值: {values}\")\n",
    "print(f\"權重: {weights}\")\n",
    "print(f\"加權平均: {weighted_avg}\")\n",
    "\n",
    "# 累積函數\n",
    "print(f\"\\n累積總和 cumsum: {np.cumsum(values)}\")\n",
    "print(f\"累積乘積 cumprod: {np.cumprod(values)}\")\n",
    "\n",
    "# 在多維陣列上的累積函數\n",
    "print(f\"\\n2D 數據:\\n{data_2d}\")\n",
    "print(f\"沿著 axis=0 (列) 的累積總和:\\n{np.cumsum(data_2d, axis=0)}\")\n",
    "print(f\"沿著 axis=1 (行) 的累積總和:\\n{np.cumsum(data_2d, axis=1)}\")"
   ]
  },
  {
   "cell_type": "markdown",
   "id": "988c3699",
   "metadata": {},
   "source": [
    "**解說**：\n",
    "- 加權平均(`average`)在許多應用中比簡單平均更有用：\n",
    "  - 允許對不同數據點賦予不同的重要性\n",
    "  - 在時間序列分析中可給予最新數據更高權重\n",
    "  - 在機器學習中用於集成模型的投票權重\n",
    "- 累積函數計算累加或累乘的數列：\n",
    "  - `cumsum` 返回累積和，每個位置的值是到該位置所有元素的總和\n",
    "  - `cumprod` 返回累積乘積，每個位置的值是到該位置所有元素的乘積\n",
    "  - 這些函數保留原始陣列的形狀，便於與原數據對比\n",
    "- 在金融分析中，累積函數應用廣泛：\n",
    "  - 用於計算累積收益率\n",
    "  - 繪製資金曲線\n",
    "  - 分析投資組合的歷史表現"
   ]
  },
  {
   "cell_type": "markdown",
   "id": "ca39ae24",
   "metadata": {},
   "source": [
    "### 3.4 統計描述函數"
   ]
  },
  {
   "cell_type": "code",
   "execution_count": 33,
   "id": "1b1b09dc",
   "metadata": {},
   "outputs": [
    {
     "name": "stdout",
     "output_type": "stream",
     "text": [
      "均值: 0.0381\n",
      "中位數: 0.0347\n",
      "標準差: 0.9985\n",
      "偏度 (skewness): 0.0325\n",
      "峰度 (kurtosis): -0.1302\n"
     ]
    },
    {
     "data": {
      "image/png": "[encoded data removed]",
      "text/plain": [
       "<Figure size 1000x600 with 1 Axes>"
      ]
     },
     "metadata": {},
     "output_type": "display_data"
    }
   ],
   "source": [
    "# 隨機生成一組正態分布的數據\n",
    "normal_data = np.random.normal(loc=0, scale=1, size=1000)  # 均值=0, 標準差=1\n",
    "\n",
    "# 使用 matplotlib 繪製直方圖\n",
    "plt.figure(figsize=(10, 6))\n",
    "plt.hist(normal_data, bins=30, alpha=0.7, color='skyblue', edgecolor='black')\n",
    "plt.axvline(np.mean(normal_data), color='red', linestyle='dashed', linewidth=1, label=f'Mean: {np.mean(normal_data):.2f}')\n",
    "plt.axvline(np.median(normal_data), color='green', linestyle='dashed', linewidth=1, label=f'Median: {np.median(normal_data):.2f}')\n",
    "plt.axvline(np.mean(normal_data) + np.std(normal_data), color='orange', linestyle='dotted', linewidth=1, label=f'Mean+Std: {np.mean(normal_data)+np.std(normal_data):.2f}')\n",
    "plt.axvline(np.mean(normal_data) - np.std(normal_data), color='orange', linestyle='dotted', linewidth=1)\n",
    "plt.title('Normal Distribution')\n",
    "plt.xlabel('Value')\n",
    "plt.ylabel('Frequency')\n",
    "plt.legend()\n",
    "plt.grid(alpha=0.3)\n",
    "\n",
    "# 統計摘要\n",
    "print(f\"均值: {np.mean(normal_data):.4f}\")\n",
    "print(f\"中位數: {np.median(normal_data):.4f}\")\n",
    "print(f\"標準差: {np.std(normal_data):.4f}\")\n",
    "print(f\"偏度 (skewness): {np.mean(((normal_data - np.mean(normal_data)) / np.std(normal_data)) ** 3):.4f}\")\n",
    "print(f\"峰度 (kurtosis): {np.mean(((normal_data - np.mean(normal_data)) / np.std(normal_data)) ** 4) - 3:.4f}\")"
   ]
  },
  {
   "cell_type": "markdown",
   "id": "f5369545",
   "metadata": {},
   "source": [
    "**解說**：\n",
    "- 統計描述函數提供了數據分布的全面了解：\n",
    "  - 直方圖可視化數據的頻率分布\n",
    "  - 均值和中位數顯示中心趨勢\n",
    "  - 標準差表示數據的離散程度\n",
    "- 在正態分布中：\n",
    "  - 約68%的數據落在均值±標準差範圍內\n",
    "  - 約95%的數據落在均值±2標準差範圍內\n",
    "  - 約99.7%的數據落在均值±3標準差範圍內\n",
    "- 偏度(skewness)衡量分布的不對稱性：\n",
    "  - 正偏度表示分布右側拖尾(右偏)\n",
    "  - 負偏度表示分布左側拖尾(左偏)\n",
    "  - 偏度為0表示完全對稱(如正態分布)\n",
    "- 峰度(kurtosis)衡量分布的\"尖峰度\"：\n",
    "  - 正峰度表示比正態分布更尖銳(瘦高)\n",
    "  - 負峰度表示比正態分布更平坦(矮胖)\n",
    "  - 通常減去3以使正態分布的峰度為0"
   ]
  },
  {
   "cell_type": "markdown",
   "id": "07a83733",
   "metadata": {},
   "source": [
    "## 4. 線性代數函數\n",
    "\n",
    "**學習要點**：\n",
    "- 掌握 NumPy 中基本矩陣運算的方法\n",
    "- 理解矩陣分解技術及其數學原理\n",
    "- 學習如何計算並應用特徵值和特徵向量\n",
    "- 熟悉使用 NumPy 求解線性方程組的方法\n",
    "\n",
    "**應用場域**：\n",
    "- 機器學習算法中的矩陣運算\n",
    "- 圖像處理和計算機視覺中的轉換\n",
    "- 物理模擬和工程計算\n",
    "- 數據降維和特徵提取"
   ]
  },
  {
   "cell_type": "markdown",
   "id": "af80beff",
   "metadata": {},
   "source": [
    "### 4.1 基本矩陣運算"
   ]
  },
  {
   "cell_type": "code",
   "execution_count": 34,
   "id": "00368684",
   "metadata": {},
   "outputs": [
    {
     "name": "stdout",
     "output_type": "stream",
     "text": [
      "矩陣 A:\n",
      "[[1 2]\n",
      " [3 4]]\n",
      "矩陣 B:\n",
      "[[5 6]\n",
      " [7 8]]\n",
      "\n",
      "矩陣乘法 (A @ B):\n",
      "[[19 22]\n",
      " [43 50]]\n",
      "\n",
      "矩陣轉置 (A.T):\n",
      "[[1 3]\n",
      " [2 4]]\n",
      "\n",
      "矩陣行列式 det(A): -2.0000000000000004\n",
      "矩陣的跡 trace(A): 5\n",
      "\n",
      "矩陣求逆 inv(A):\n",
      "[[-2.   1. ]\n",
      " [ 1.5 -0.5]]\n",
      "A @ inv(A) (應接近單位矩陣):\n",
      "[[1. 0.]\n",
      " [0. 1.]]\n"
     ]
    }
   ],
   "source": [
    "# 建立示例矩陣\n",
    "A = np.array([[1, 2], [3, 4]])\n",
    "B = np.array([[5, 6], [7, 8]])\n",
    "print(f\"矩陣 A:\\n{A}\")\n",
    "print(f\"矩陣 B:\\n{B}\")\n",
    "\n",
    "# 矩陣乘法\n",
    "C = np.dot(A, B)  # 或者使用 A @ B (Python 3.5+)\n",
    "print(f\"\\n矩陣乘法 (A @ B):\\n{C}\")\n",
    "\n",
    "# 矩陣轉置\n",
    "A_T = A.T\n",
    "print(f\"\\n矩陣轉置 (A.T):\\n{A_T}\")\n",
    "\n",
    "# 矩陣行列式\n",
    "det_A = np.linalg.det(A)\n",
    "print(f\"\\n矩陣行列式 det(A): {det_A}\")\n",
    "\n",
    "# 矩陣的跡 (對角線元素和)\n",
    "trace_A = np.trace(A)\n",
    "print(f\"矩陣的跡 trace(A): {trace_A}\")\n",
    "\n",
    "# 矩陣求逆\n",
    "inv_A = np.linalg.inv(A)\n",
    "print(f\"\\n矩陣求逆 inv(A):\\n{inv_A}\")\n",
    "\n",
    "# 驗證 A*A^(-1) = I\n",
    "I = np.dot(A, inv_A)\n",
    "print(f\"A @ inv(A) (應接近單位矩陣):\\n{I}\")"
   ]
  },
  {
   "cell_type": "markdown",
   "id": "83a68b07",
   "metadata": {},
   "source": [
    "**解說**：\n",
    "- 矩陣乘法(`np.dot`或`@`運算符)是線性代數中最基本和重要的運算：\n",
    "  - 不同於元素級乘法(`*`)，矩陣乘法考慮了矩陣間的內積關係\n",
    "  - 要求第一個矩陣的列數等於第二個矩陣的行數\n",
    "  - 結果矩陣大小為(第一個矩陣的行數 × 第二個矩陣的列數)\n",
    "- 矩陣轉置(`.T`)交換行與列：\n",
    "  - 在數據分析中常用於特徵與樣本維度的轉換\n",
    "  - 在計算中可以優化某些運算的效率\n",
    "- 行列式(`np.linalg.det`)表示矩陣的「體積縮放因子」：\n",
    "  - 若為0，表示矩陣是奇異的（不可逆）\n",
    "  - 在空間變換中代表體積的縮放比例\n",
    "- 矩陣的跡(`np.trace`)是對角線元素之和：\n",
    "  - 在物理學中與系統的能量相關\n",
    "  - 矩陣的特徵值之和等於矩陣的跡\n",
    "- 矩陣求逆(`np.linalg.inv`)計算矩陣的逆：\n",
    "  - 僅適用於非奇異方陣\n",
    "  - 在數值計算中，直接使用逆矩陣可能導致數值不穩定性\n",
    "  - 實際應用中，通常優先考慮使用`np.linalg.solve`解線性方程組"
   ]
  },
  {
   "cell_type": "markdown",
   "id": "07a5f095",
   "metadata": {},
   "source": [
    "### 4.2 矩陣分解"
   ]
  },
  {
   "cell_type": "code",
   "execution_count": 35,
   "id": "7a63632b",
   "metadata": {},
   "outputs": [
    {
     "name": "stdout",
     "output_type": "stream",
     "text": [
      "矩陣 X:\n",
      "[[1 2 3]\n",
      " [4 5 6]\n",
      " [7 8 9]]\n",
      "\n",
      "SVD 分解:\n",
      "U (左奇異向量):\n",
      "[[-0.215  0.887  0.408]\n",
      " [-0.521  0.25  -0.816]\n",
      " [-0.826 -0.388  0.408]]\n",
      "sigma (奇異值): [16.848  1.068  0.   ]\n",
      "V (右奇異向量):\n",
      "[[-0.48  -0.572 -0.665]\n",
      " [-0.777 -0.076  0.625]\n",
      " [-0.408  0.816 -0.408]]\n",
      "\n",
      "重構的矩陣:\n",
      "[[1. 2. 3.]\n",
      " [4. 5. 6.]\n",
      " [7. 8. 9.]]\n",
      "原始矩陣與重構矩陣是否相等: True\n",
      "\n",
      "QR 分解:\n",
      "Q (正交矩陣):\n",
      "[[-0.123  0.905  0.408]\n",
      " [-0.492  0.302 -0.816]\n",
      " [-0.862 -0.302  0.408]]\n",
      "R (上三角矩陣):\n",
      "[[ -8.124  -9.601 -11.078]\n",
      " [  0.      0.905   1.809]\n",
      " [  0.      0.     -0.   ]]\n",
      "Q @ R:\n",
      "[[1. 2. 3.]\n",
      " [4. 5. 6.]\n",
      " [7. 8. 9.]]\n"
     ]
    }
   ],
   "source": [
    "# 建立一個示例矩陣\n",
    "X = np.array([[1, 2, 3], [4, 5, 6], [7, 8, 9]])\n",
    "print(f\"矩陣 X:\\n{X}\")\n",
    "\n",
    "# 奇異值分解 (SVD)\n",
    "U, sigma, V = np.linalg.svd(X)\n",
    "print(f\"\\nSVD 分解:\")\n",
    "print(f\"U (左奇異向量):\\n{U}\")\n",
    "print(f\"sigma (奇異值): {sigma}\")\n",
    "print(f\"V (右奇異向量):\\n{V}\")\n",
    "\n",
    "# 重構原始矩陣\n",
    "sigma_mat = np.zeros_like(X, dtype=float)\n",
    "np.fill_diagonal(sigma_mat, sigma)\n",
    "X_reconstructed = U @ sigma_mat @ V\n",
    "print(f\"\\n重構的矩陣:\\n{X_reconstructed}\")\n",
    "print(f\"原始矩陣與重構矩陣是否相等: {np.allclose(X, X_reconstructed)}\")\n",
    "\n",
    "# LU 分解\n",
    "P, L, U = scipy.linalg.lu(X) if 'scipy' in globals() else (None, None, None)\n",
    "if P is not None:\n",
    "    print(f\"\\nLU 分解:\")\n",
    "    print(f\"P (置換矩陣):\\n{P}\")\n",
    "    print(f\"L (下三角矩陣):\\n{L}\")\n",
    "    print(f\"U (上三角矩陣):\\n{U}\")\n",
    "    print(f\"P @ L @ U:\\n{P @ L @ U}\")\n",
    "\n",
    "# QR 分解\n",
    "Q, R = np.linalg.qr(X)\n",
    "print(f\"\\nQR 分解:\")\n",
    "print(f\"Q (正交矩陣):\\n{Q}\")\n",
    "print(f\"R (上三角矩陣):\\n{R}\")\n",
    "print(f\"Q @ R:\\n{Q @ R}\")"
   ]
  },
  {
   "cell_type": "markdown",
   "id": "f2d1c5b0",
   "metadata": {},
   "source": [
    "**解說**：\n",
    "- 奇異值分解(SVD)是最強大的矩陣分解方法之一：\n",
    "  - 將任意矩陣分解為三個矩陣的乘積：U×Σ×V^T\n",
    "  - U和V包含正交向量，Σ是對角線上的奇異值\n",
    "  - 廣泛應用於數據壓縮、降維(如PCA)、噪聲濾除、推薦系統等\n",
    "  - 可以用來求解最小二乘問題、計算矩陣的偽逆以及圖像處理\n",
    "- LU分解將矩陣分解為下三角矩陣L和上三角矩陣U的乘積：\n",
    "  - 通常包含置換矩陣P，即P×A=L×U\n",
    "  - 主要用於有效求解線性方程組\n",
    "  - 只需分解一次，然後可以高效求解多個右側向量\n",
    "- QR分解將矩陣分解為正交矩陣Q和上三角矩陣R的乘積：\n",
    "  - Q的列向量形成正交基\n",
    "  - 廣泛用於最小二乘問題、特徵值計算和QR算法\n",
    "  - 在機器學習中用於矩陣正交化過程"
   ]
  },
  {
   "cell_type": "markdown",
   "id": "1067bda3",
   "metadata": {},
   "source": [
    "### 4.3 特徵值與特徵向量"
   ]
  },
  {
   "cell_type": "code",
   "execution_count": 36,
   "id": "2947c345",
   "metadata": {},
   "outputs": [
    {
     "name": "stdout",
     "output_type": "stream",
     "text": [
      "矩陣 M:\n",
      "[[ 2 -1]\n",
      " [-1  2]]\n",
      "\n",
      "特徵值: [3. 1.]\n",
      "特徵向量 (每列是一個特徵向量):\n",
      "[[ 0.707  0.707]\n",
      " [-0.707  0.707]]\n",
      "\n",
      "特徵值 1 (λ = 3.00):\n",
      "特徵向量 v1: [ 0.707 -0.707]\n",
      "M @ v1: [ 2.121 -2.121]\n",
      "λ * v1: [ 2.121 -2.121]\n",
      "M @ v1 ≈ λ * v1: True\n",
      "\n",
      "特徵值 2 (λ = 1.00):\n",
      "特徵向量 v2: [0.707 0.707]\n",
      "M @ v2: [0.707 0.707]\n",
      "λ * v2: [0.707 0.707]\n",
      "M @ v2 ≈ λ * v2: True\n"
     ]
    }
   ],
   "source": [
    "# 建立對稱矩陣\n",
    "M = np.array([[2, -1], [-1, 2]])\n",
    "print(f\"矩陣 M:\\n{M}\")\n",
    "\n",
    "# 計算特徵值和特徵向量\n",
    "eigenvalues, eigenvectors = np.linalg.eig(M)\n",
    "print(f\"\\n特徵值: {eigenvalues}\")\n",
    "print(f\"特徵向量 (每列是一個特徵向量):\\n{eigenvectors}\")\n",
    "\n",
    "# 驗證 M @ v = λ * v\n",
    "for i in range(len(eigenvalues)):\n",
    "    v = eigenvectors[:, i]\n",
    "    lambda_v = eigenvalues[i] * v\n",
    "    m_v = M @ v\n",
    "    print(f\"\\n特徵值 {i+1} (λ = {eigenvalues[i]:.2f}):\")\n",
    "    print(f\"特徵向量 v{i+1}: {v}\")\n",
    "    print(f\"M @ v{i+1}: {m_v}\")\n",
    "    print(f\"λ * v{i+1}: {lambda_v}\")\n",
    "    print(f\"M @ v{i+1} ≈ λ * v{i+1}: {np.allclose(m_v, lambda_v)}\")"
   ]
  },
  {
   "cell_type": "markdown",
   "id": "a73cdb9f",
   "metadata": {},
   "source": [
    "**解說**：\n",
    "- 特徵值和特徵向量是理解矩陣作為線性變換的關鍵：\n",
    "  - 特徵向量是經過矩陣變換後方向保持不變的向量\n",
    "  - 特徵值表示沿特徵向量方向的縮放係數\n",
    "  - 方程 Av = λv 中，v是特徵向量，λ是對應的特徵值\n",
    "- 應用範圍廣泛：\n",
    "  - 主成分分析(PCA)中用於降維\n",
    "  - 在振動分析中表示自然振動模式和頻率\n",
    "  - 量子力學中的能量本徵態\n",
    "  - 網頁排名算法(如PageRank)中用於找到重要節點\n",
    "- 對稱矩陣的特殊性質：\n",
    "  - 所有特徵值都是實數\n",
    "  - 特徵向量相互正交\n",
    "  - 可以通過特徵分解被對角化：M = QΛQ^T\n",
    "- NumPy的`linalg.eig`返回特徵值和特徵向量，每列是一個特徵向量"
   ]
  },
  {
   "cell_type": "markdown",
   "id": "e80cb68b",
   "metadata": {},
   "source": [
    "### 4.4 求解線性方程組"
   ]
  },
  {
   "cell_type": "code",
   "execution_count": 37,
   "id": "694db3e9",
   "metadata": {},
   "outputs": [
    {
     "name": "stdout",
     "output_type": "stream",
     "text": [
      "A:\n",
      "[[3 1]\n",
      " [1 2]]\n",
      "b: [9 8]\n",
      "\n",
      "x 解: [2. 3.]\n",
      "A @ x: [9. 8.]\n",
      "A @ x ≈ b: True\n",
      "\n",
      "使用矩陣求逆求得的 x: [2. 3.]\n",
      "兩種方法結果是否相等: True\n"
     ]
    }
   ],
   "source": [
    "# 線性方程組: Ax = b\n",
    "A = np.array([[3, 1], [1, 2]])\n",
    "b = np.array([9, 8])\n",
    "print(f\"A:\\n{A}\")\n",
    "print(f\"b: {b}\")\n",
    "\n",
    "# 求解 x\n",
    "x = np.linalg.solve(A, b)\n",
    "print(f\"\\nx 解: {x}\")\n",
    "\n",
    "# 驗證解\n",
    "print(f\"A @ x: {A @ x}\")\n",
    "print(f\"A @ x ≈ b: {np.allclose(A @ x, b)}\")\n",
    "\n",
    "# 使用矩陣求逆求解\n",
    "x_inv = np.linalg.inv(A) @ b\n",
    "print(f\"\\n使用矩陣求逆求得的 x: {x_inv}\")\n",
    "print(f\"兩種方法結果是否相等: {np.allclose(x, x_inv)}\")"
   ]
  },
  {
   "cell_type": "markdown",
   "id": "503b6c29",
   "metadata": {},
   "source": [
    "**解說**：\n",
    "- 線性方程組是許多科學和工程問題的數學模型：\n",
    "  - 表示為形式 Ax = b，其中 A 是係數矩陣，b 是常數向量，x 是未知數\n",
    "- NumPy提供兩種主要解法：\n",
    "  - `np.linalg.solve`直接求解線性方程組\n",
    "  - 使用矩陣求逆方法：x = A^(-1)b\n",
    "- 從數值計算角度，`solve`方法通常優於矩陣求逆：\n",
    "  - 計算效率更高，特別是對大型系統\n",
    "  - 數值穩定性更好，減少舍入誤差\n",
    "  - 內部使用更高效的算法(如LU分解)而非顯式計算逆矩陣\n",
    "- 線性方程組求解的應用廣泛：\n",
    "  - 最小二乘擬合\n",
    "  - 有限元分析\n",
    "  - 平衡方程求解\n",
    "  - 電路分析和網絡流"
   ]
  },
  {
   "cell_type": "markdown",
   "id": "8df1e601",
   "metadata": {},
   "source": [
    "## 5. 實際應用：數據分析案例\n",
    "\n",
    "**學習要點**：\n",
    "- 運用 NumPy 數學函數解決實際問題\n",
    "- 學習結合多種函數實現複雜計算\n",
    "- 透過視覺化理解數據特性和關聯性\n",
    "- 掌握數據計算與資料轉換的技巧\n",
    "\n",
    "**應用場域**：\n",
    "- 健康與醫療數據分析\n",
    "- 多變量數據的相關性研究\n",
    "- 人口統計數據分析\n",
    "- 生物統計學和臨床研究"
   ]
  },
  {
   "cell_type": "markdown",
   "id": "f1b7a6bf",
   "metadata": {},
   "source": [
    "\n",
    "### 5.1 計算 BMI 指數"
   ]
  },
  {
   "cell_type": "code",
   "execution_count": 38,
   "id": "1a6437a5",
   "metadata": {},
   "outputs": [
    {
     "name": "stdout",
     "output_type": "stream",
     "text": [
      "身高 (cm): [175 168 182 177 165 190]\n",
      "體重 (kg): [75 68 85 80 60 95]\n",
      "BMI 指數: [24.49  24.093 25.661 25.535 22.039 26.316]\n",
      "身高: 175 cm, 體重: 75 kg, BMI: 24.49, 分類: 過重\n",
      "身高: 168 cm, 體重: 68 kg, BMI: 24.09, 分類: 過重\n",
      "身高: 182 cm, 體重: 85 kg, BMI: 25.66, 分類: 過重\n",
      "身高: 177 cm, 體重: 80 kg, BMI: 25.54, 分類: 過重\n",
      "身高: 165 cm, 體重: 60 kg, BMI: 22.04, 分類: 正常\n",
      "身高: 190 cm, 體重: 95 kg, BMI: 26.32, 分類: 過重\n"
     ]
    },
    {
     "data": {
      "image/png": "[encoded data removed]",
      "text/plain": [
       "<Figure size 1000x600 with 1 Axes>"
      ]
     },
     "metadata": {},
     "output_type": "display_data"
    }
   ],
   "source": [
    "# 建立身高(cm)和體重(kg)數據\n",
    "heights = np.array([175, 168, 182, 177, 165, 190])\n",
    "weights = np.array([75, 68, 85, 80, 60, 95])\n",
    "\n",
    "# 將身高從 cm 轉換為 m\n",
    "heights_m = heights / 100\n",
    "\n",
    "# 計算 BMI (體重/身高^2)\n",
    "bmi = weights / heights_m**2\n",
    "\n",
    "print(f\"身高 (cm): {heights}\")\n",
    "print(f\"體重 (kg): {weights}\")\n",
    "print(f\"BMI 指數: {bmi}\")\n",
    "\n",
    "# BMI 分類\n",
    "categories = ['過輕', '正常', '過重', '輕度肥胖', '中度肥胖', '重度肥胖']\n",
    "thresholds = [0, 18.5, 24, 27, 30, 35, 100]\n",
    "\n",
    "# 為每個 BMI 值分配類別\n",
    "bmi_categories = []\n",
    "for b in bmi:\n",
    "    for i in range(len(thresholds) - 1):\n",
    "        if thresholds[i] <= b < thresholds[i+1]:\n",
    "            bmi_categories.append(categories[i])\n",
    "            break\n",
    "\n",
    "# 顯示結果\n",
    "for h, w, b, c in zip(heights, weights, bmi, bmi_categories):\n",
    "    print(f\"身高: {h} cm, 體重: {w} kg, BMI: {b:.2f}, 分類: {c}\")\n",
    "\n",
    "# 繪製 BMI 分布\n",
    "plt.figure(figsize=(10, 6))\n",
    "plt.bar(range(len(bmi)), bmi, color='skyblue')\n",
    "plt.axhline(y=18.5, color='green', linestyle='-', alpha=0.7, label='過輕/正常')\n",
    "plt.axhline(y=24, color='yellow', linestyle='-', alpha=0.7, label='正常/過重')\n",
    "plt.axhline(y=27, color='orange', linestyle='-', alpha=0.7, label='過重/輕度肥胖')\n",
    "plt.axhline(y=30, color='red', linestyle='-', alpha=0.7, label='輕度/中度肥胖')\n",
    "plt.axhline(y=35, color='purple', linestyle='-', alpha=0.7, label='中度/重度肥胖')\n",
    "plt.xticks(range(len(bmi)), [f\"P{i+1}\" for i in range(len(bmi))])\n",
    "plt.ylabel('BMI')\n",
    "plt.title('BMI 分布')\n",
    "plt.legend()\n",
    "plt.grid(axis='y', alpha=0.3)"
   ]
  },
  {
   "cell_type": "markdown",
   "id": "b4357926",
   "metadata": {},
   "source": [
    "**解說**：\n",
    "- BMI(身體質量指數)計算是數學函數應用的基本實例：\n",
    "  - 使用公式：BMI = 體重(kg) / 身高(m)²\n",
    "  - 單位轉換(cm到m)通過簡單除法實現\n",
    "  - 使用矢量化運算同時處理多個人的數據\n",
    "- 分類邏輯運用了範圍比較：\n",
    "  - 使用閾值陣列定義各分類的界限\n",
    "  - 透過遍歷方式為每個BMI值分配適當類別\n",
    "  - 實際應用中可以用NumPy的`np.digitize`函數更高效地實現\n",
    "- 結果視覺化：\n",
    "  - 條形圖直觀顯示每個人的BMI值\n",
    "  - 水平線標明不同BMI分類的閾值\n",
    "  - 結合數值結果和視覺效果更全面地理解數據\n",
    "- 此例展示了NumPy在健康數據分析中的簡單應用，類似方法可用於其他醫療指標計算"
   ]
  },
  {
   "cell_type": "markdown",
   "id": "5b35f0ce",
   "metadata": {},
   "source": [
    "### 5.2 多維數據分析：相關性矩陣"
   ]
  },
  {
   "cell_type": "code",
   "execution_count": 39,
   "id": "a2bbcffe",
   "metadata": {},
   "outputs": [
    {
     "name": "stdout",
     "output_type": "stream",
     "text": [
      "數據形狀: (100, 4)\n",
      "前5行數據:\n",
      "[[   39.967   164.913   119.543 55822.166]\n",
      " [   33.617   167.982   122.801 50816.452]\n",
      " [   41.477   170.729   129.122 65213.353]\n",
      " [   50.23    171.058   128.961 73282.15 ]\n",
      " [   32.658   168.991   103.82  52553.958]]\n",
      "\n",
      "相關係數矩陣:\n",
      "[[1.    0.402 0.259 0.886]\n",
      " [0.402 1.    0.25  0.338]\n",
      " [0.259 0.25  1.    0.241]\n",
      " [0.886 0.338 0.241 1.   ]]\n"
     ]
    },
    {
     "data": {
      "image/png": "[encoded data removed]",
      "text/plain": [
       "<Figure size 800x600 with 2 Axes>"
      ]
     },
     "metadata": {},
     "output_type": "display_data"
    }
   ],
   "source": [
    "# 創建一個多變量數據集\n",
    "np.random.seed(42)\n",
    "n_samples = 100\n",
    "\n",
    "# 假設有這幾個變量: 年齡, 身高, 體重, 收入\n",
    "age = np.random.normal(35, 10, n_samples)  # 均值=35, 標準差=10\n",
    "height = 160 + 0.3 * age + np.random.normal(0, 5, n_samples)  # 與年齡正相關\n",
    "weight = 50 + 0.4 * height + np.random.normal(0, 10, n_samples)  # 與身高正相關\n",
    "income = 20000 + 1000 * age + np.random.normal(0, 5000, n_samples)  # 與年齡正相關\n",
    "\n",
    "# 組合數據\n",
    "data = np.column_stack((age, height, weight, income))\n",
    "print(f\"數據形狀: {data.shape}\")\n",
    "print(f\"前5行數據:\\n{data[:5]}\")\n",
    "\n",
    "# 計算相關係數矩陣 (使用 numpy.corrcoef)\n",
    "corr_matrix = np.corrcoef(data, rowvar=False)\n",
    "print(f\"\\n相關係數矩陣:\\n{corr_matrix}\")\n",
    "\n",
    "# 使用 matplotlib 繪製相關係數矩陣的熱力圖\n",
    "plt.figure(figsize=(8, 6))\n",
    "plt.imshow(corr_matrix, cmap='coolwarm', vmin=-1, vmax=1)\n",
    "plt.colorbar(label='Correlation Coefficient')\n",
    "plt.xticks(range(4), ['Age', 'Height', 'Weight', 'Income'])\n",
    "plt.yticks(range(4), ['Age', 'Height', 'Weight', 'Income'])\n",
    "plt.title('Correlation Matrix')\n",
    "\n",
    "# 在熱力圖上標註相關係數值\n",
    "for i in range(4):\n",
    "    for j in range(4):\n",
    "        plt.text(j, i, f'{corr_matrix[i, j]:.2f}', \n",
    "                 ha='center', va='center', \n",
    "                 color='white' if abs(corr_matrix[i, j]) > 0.5 else 'black')"
   ]
  },
  {
   "cell_type": "markdown",
   "id": "e9e6185c",
   "metadata": {},
   "source": [
    "**解說**：\n",
    "- 相關性分析是探索變量間關係的關鍵統計方法：\n",
    "  - 相關係數範圍從-1到1，表示線性關係的強度和方向\n",
    "  - 1代表完全正相關，-1代表完全負相關，0代表無線性相關\n",
    "  - NumPy的`corrcoef`函數計算Pearson相關係數矩陣\n",
    "- 數據生成模型中設置了以下關係：\n",
    "  - 年齡與身高正相關 (年齡增加，身高傾向增加)\n",
    "  - 身高與體重正相關 (身高增加，體重傾向增加)\n",
    "  - 年齡與收入正相關 (年齡增加，收入傾向增加)\n",
    "  - 添加隨機噪聲使關係更符合現實\n",
    "- 熱力圖視覺化相關性：\n",
    "  - 顏色強度反映相關性強度\n",
    "  - 冷色調(藍色)表示負相關，暖色調(紅色)表示正相關\n",
    "  - 對角線始終為1，表示變量與自身完全相關\n",
    "- 實際應用：\n",
    "  - 在特徵工程中識別冗餘變量\n",
    "  - 發現潛在因果關係的初步證據\n",
    "  - 幫助選擇預測模型的輸入特徵"
   ]
  },
  {
   "cell_type": "markdown",
   "id": "70b1c7cb",
   "metadata": {},
   "source": [
    "## 6. 總結與最佳實踐\n",
    "\n",
    "**學習要點**：\n",
    "- 回顧 NumPy 數學函數的使用原則和技巧\n",
    "- 整理常用數學函數的速查表\n",
    "- 理解各類數學函數的適用場景和限制\n",
    "- 掌握數學函數使用的最佳實踐和效能考量\n",
    "\n",
    "**應用場域**：\n",
    "- 數據分析工作流程優化\n",
    "- 科學計算代碼的效能提升\n",
    "- 複雜模型開發和優化\n",
    "- 教學和知識分享"
   ]
  },
  {
   "cell_type": "markdown",
   "id": "478468bc",
   "metadata": {},
   "source": [
    "### NumPy 數學函數使用建議\n",
    "\n",
    "1. **向量化操作優於迴圈**: 儘量使用 NumPy 的向量化函數而非 Python 迴圈，它們更快且更易讀\n",
    "2. **注意 axis 參數**: 多維陣列計算時，明確指定 axis 可避免混淆\n",
    "3. **使用適當的數據類型**: 根據需要選擇正確的數據類型可提高效能並節省記憶體\n",
    "4. **了解廣播規則**: 廣播可以大幅簡化程式碼，但需了解其規則避免錯誤\n",
    "5. **使用 out 參數**: 對大型計算，使用 out 參數可避免額外的記憶體分配\n",
    "\n",
    "### 常用數學函數速查表\n",
    "\n",
    "#### 基本數學函數\n",
    "- 加減乘除: `+`, `-`, `*`, `/`\n",
    "- 次方: `**` 或 `np.power()`\n",
    "- 平方根: `np.sqrt()`\n",
    "- 對數: `np.log()`, `np.log10()`, `np.log2()`\n",
    "- 指數: `np.exp()`\n",
    "- 三角函數: `np.sin()`, `np.cos()`, `np.tan()`\n",
    "\n",
    "#### 統計函數\n",
    "- 總和: `np.sum()`\n",
    "- 平均值: `np.mean()`\n",
    "- 中位數: `np.median()`\n",
    "- 標準差: `np.std()`\n",
    "- 方差: `np.var()`\n",
    "- 分位數: `np.percentile()`\n",
    "\n",
    "#### 線性代數\n",
    "- 矩陣乘法: `@` 或 `np.dot()`\n",
    "- 轉置: `.T`\n",
    "- 求逆: `np.linalg.inv()`\n",
    "- 行列式: `np.linalg.det()`\n",
    "- 特徵值分解: `np.linalg.eig()`\n",
    "- 奇異值分解: `np.linalg.svd()`\n",
    "- 解線性方程組: `np.linalg.solve()`"
   ]
  },
  {
   "cell_type": "markdown",
   "id": "14df75ef",
   "metadata": {},
   "source": [
    "**解說**：\n",
    "- 向量化操作是 NumPy 最重要的效能優勢：\n",
    "  - 向量化代碼不僅執行更快，而且更簡潔、更少出錯\n",
    "  - 例如： `np.sum(a)` 比 `sum([a[i] for i in range(len(a))])` 快得多\n",
    "  - 避免使用顯式Python循環遍歷NumPy陣列\n",
    "- `axis` 參數的正確使用至關重要：\n",
    "  - 當應用於多維陣列時，很多函數的行為依賴於 axis 設置\n",
    "  - `axis=0` 通常沿列(垂直)方向操作，`axis=1` 沿行(水平)方向操作\n",
    "  - 當不確定時，先在小型測試陣列上驗證行為\n",
    "- 內存管理技巧能顯著提升效能：\n",
    "  - 使用 `out` 參數避免創建中間陣列，特別是在重複計算中\n",
    "  - 針對大數據集，考慮使用較小的數據類型(如 `float32` 代替 `float64`)\n",
    "  - 對於大型數據處理，考慮使用 `np.memmap` 或分批處理\n",
    "- 速查表提供了快速參考：\n",
    "  - 根據任務選擇合適的函數而非重新發明輪子\n",
    "  - 組合使用不同類別的函數可以解決複雜問題\n",
    "  - 高效利用 NumPy 生態系統能大幅提升數據分析效率和可靠性"
   ]
  }
 ],
 "metadata": {
  "kernelspec": {
   "display_name": "Python 3",
   "language": "python",
   "name": "python3"
  },
  "language_info": {
   "codemirror_mode": {
    "name": "ipython",
    "version": 3
   },
   "file_extension": ".py",
   "mimetype": "text/x-python",
   "name": "python",
   "nbconvert_exporter": "python",
   "pygments_lexer": "ipython3",
   "version": "3.11.9"
  }
 },
 "nbformat": 4,
 "nbformat_minor": 5
}
