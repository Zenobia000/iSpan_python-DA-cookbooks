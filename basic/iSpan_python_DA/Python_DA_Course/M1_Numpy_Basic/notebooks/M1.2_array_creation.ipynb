{
 "cells": [
  {
   "cell_type": "markdown",
   "id": "d69f5912",
   "metadata": {},
   "source": [
    "# # M1.2 NumPy 陣列的建立方式\n",
    "# \n",
    "# 本教學將詳細介紹各種建立 NumPy 陣列的方法，包括從 Python 序列建立、使用內建函數生成，以及從外部資料匯入。"
   ]
  },
  {
   "cell_type": "markdown",
   "id": "d04a8d56",
   "metadata": {},
   "source": [
    "### 🎯 教學目標\n",
    "\n",
    "**學習要點**：\n",
    "- 掌握不同的 NumPy 陣列建立方法\n",
    "- 了解何時該使用哪種建立方式\n",
    "- 學會如何指定數據類型和陣列形狀"
   ]
  },
  {
   "cell_type": "markdown",
   "id": "34139983",
   "metadata": {},
   "source": [
    "### 🔧 1. 環境設置與導入必要的套件"
   ]
  },
  {
   "cell_type": "markdown",
   "id": "717d1d40",
   "metadata": {},
   "source": [
    "**學習要點**：\n",
    "- 匯入 NumPy 套件\n",
    "- 調整 NumPy 的輸出格式以利顯示浮點數\n",
    "\n",
    "**應用場域**：\n",
    "- 前置設置，用於資料分析或數值模擬的開發環境"
   ]
  },
  {
   "cell_type": "code",
   "execution_count": 1,
   "id": "f04cb727",
   "metadata": {},
   "outputs": [],
   "source": [
    "import numpy as np\n",
    "np.set_printoptions(precision=3, suppress=True)"
   ]
  },
  {
   "cell_type": "markdown",
   "id": "61bb5e37",
   "metadata": {},
   "source": [
    "**解說**：\n",
    "- `np.set_printoptions` 可控制浮點數顯示精度與科學記號的顯示方式，提升閱讀性。\n",
    "- 在教學或除錯情境中，統一輸出格式有助於結果驗證。"
   ]
  },
  {
   "cell_type": "markdown",
   "id": "09df9afc",
   "metadata": {},
   "source": [
    "### 🧱 2. 從 Python 序列建立陣列"
   ]
  },
  {
   "cell_type": "markdown",
   "id": "e8a84014",
   "metadata": {},
   "source": [
    "**學習要點**：\n",
    "- 使用 `list` 或 `tuple` 建立 NumPy 陣列\n",
    "- 使用 `.shape`, `.ndim` 獲取形狀與維度資訊\n",
    "\n",
    "**應用場域**：\n",
    "- 資料輸入的轉換與預處理\n",
    "- 建立初學者的陣列基本概念"
   ]
  },
  {
   "cell_type": "code",
   "execution_count": 2,
   "id": "8fdbee33",
   "metadata": {},
   "outputs": [
    {
     "name": "stdout",
     "output_type": "stream",
     "text": [
      "從 list 建立的 1D 陣列: \n",
      "[1 2 3 4 5]\n",
      "形狀: (5,), 維度: 1\n",
      "\n",
      "從巢狀 list 建立的 2D 陣列: \n",
      "[[1 2 3]\n",
      " [4 5 6]\n",
      " [7 8 9]]\n",
      "形狀: (3, 3), 維度: 2\n",
      "\n",
      "從 tuple 建立的陣列: \n",
      "[10 20 30 40]\n"
     ]
    }
   ],
   "source": [
    "list_1d = [1, 2, 3, 4, 5]\n",
    "array_1d = np.array(list_1d)\n",
    "print(f\"從 list 建立的 1D 陣列: \\n{array_1d}\")\n",
    "print(f\"形狀: {array_1d.shape}, 維度: {array_1d.ndim}\")\n",
    "\n",
    "list_2d = [[1, 2, 3], [4, 5, 6], [7, 8, 9]]\n",
    "array_2d = np.array(list_2d)\n",
    "print(f\"\\n從巢狀 list 建立的 2D 陣列: \\n{array_2d}\")\n",
    "print(f\"形狀: {array_2d.shape}, 維度: {array_2d.ndim}\")\n",
    "\n",
    "tuple_data = (10, 20, 30, 40)\n",
    "array_from_tuple = np.array(tuple_data)\n",
    "print(f\"\\n從 tuple 建立的陣列: \\n{array_from_tuple}\")"
   ]
  },
  {
   "cell_type": "markdown",
   "id": "c3f9c4ec",
   "metadata": {},
   "source": [
    "**解說**：\n",
    "- `np.array()` 能自動偵測巢狀結構的維度，並轉為對應形狀的陣列。\n",
    "- `.shape` 回傳維度大小，`.ndim` 回傳維度數（例如 1D、2D）。\n",
    "- 使用 tuple 與 list 效果相同，關鍵在於是否有巢狀結構。"
   ]
  },
  {
   "cell_type": "markdown",
   "id": "b739bdba",
   "metadata": {},
   "source": [
    "### 🔤 3. 指定數據類型 (dtype)"
   ]
  },
  {
   "cell_type": "markdown",
   "id": "4c65fb0d",
   "metadata": {},
   "source": [
    "**學習要點**：\n",
    "- 明確指定陣列的資料型別\n",
    "- 掌握 `astype`, `dtype` 的差異與應用\n",
    "\n",
    "**應用場域**：\n",
    "- 節省記憶體（如 IoT）、避免類型錯誤（如轉 float → int）\n",
    "- 精確控制模型輸入輸出格式"
   ]
  },
  {
   "cell_type": "code",
   "execution_count": 3,
   "id": "e04913b2",
   "metadata": {},
   "outputs": [
    {
     "name": "stdout",
     "output_type": "stream",
     "text": [
      "整數陣列的類型: int32\n",
      "浮點數陣列的類型: float64\n",
      "\n",
      "強制為 float32 的陣列: [1. 2. 3. 4.], 類型: float32\n",
      "強制為 int64 的陣列: [1 2 3 4], 類型: int64\n",
      "\n",
      "布林陣列: [ True False  True], 類型: bool\n",
      "複數陣列: [1.+0.j 2.+0.j 3.+0.j], 類型: complex128\n"
     ]
    }
   ],
   "source": [
    "int_array = np.array([1, 2, 3, 4])\n",
    "float_array = np.array([1.0, 2.0, 3.0, 4.0])\n",
    "print(f\"整數陣列的類型: {int_array.dtype}\")\n",
    "print(f\"浮點數陣列的類型: {float_array.dtype}\")\n",
    "\n",
    "float32_array = np.array([1, 2, 3, 4], dtype=np.float32)\n",
    "int64_array = np.array([1.5, 2.7, 3.9, 4.1], dtype=np.int64)\n",
    "print(f\"\\n強制為 float32 的陣列: {float32_array}, 類型: {float32_array.dtype}\")\n",
    "print(f\"強制為 int64 的陣列: {int64_array}, 類型: {int64_array.dtype}\")\n",
    "\n",
    "bool_array = np.array([True, False, True], dtype=bool)\n",
    "complex_array = np.array([1, 2, 3], dtype=complex)\n",
    "print(f\"\\n布林陣列: {bool_array}, 類型: {bool_array.dtype}\")\n",
    "print(f\"複數陣列: {complex_array}, 類型: {complex_array.dtype}\")"
   ]
  },
  {
   "cell_type": "markdown",
   "id": "78820606",
   "metadata": {},
   "source": [
    "**解說**：\n",
    "- 指定 `dtype` 可避免自動轉型帶來的精度問題（如 int → float）。\n",
    "- 對浮點數、布林值、複數等都有內建類型支援。\n",
    "- 浮點轉整數會截斷小數部分；可用於離散化特徵。"
   ]
  },
  {
   "cell_type": "markdown",
   "id": "55d439d8",
   "metadata": {},
   "source": [
    "### 📦 4. 使用內建函數建立特殊陣列"
   ]
  },
  {
   "cell_type": "markdown",
   "id": "17e404bb",
   "metadata": {},
   "source": [
    "**學習要點**：\n",
    "- 熟悉 `zeros`, `ones`, `full`, `empty` 等初始化函數\n",
    "- 認識 shape 與填充值設定方式\n",
    "\n",
    "**應用場域**：\n",
    "- 用於初始化模型、占位、測試矩陣運算"
   ]
  },
  {
   "cell_type": "code",
   "execution_count": 4,
   "id": "0c6623b1",
   "metadata": {},
   "outputs": [
    {
     "name": "stdout",
     "output_type": "stream",
     "text": [
      "1D 全零陣列: \n",
      "[0. 0. 0. 0. 0.]\n",
      "2D 全零陣列: \n",
      "[[0. 0. 0. 0.]\n",
      " [0. 0. 0. 0.]\n",
      " [0. 0. 0. 0.]]\n",
      "\n",
      "1D 全一陣列: \n",
      "[1. 1. 1. 1.]\n",
      "2D 全一陣列: \n",
      "[[1. 1. 1.]\n",
      " [1. 1. 1.]]\n",
      "\n",
      "全 7 的 2x3 陣列: \n",
      "[[7 7 7]\n",
      " [7 7 7]]\n",
      "\n",
      "空陣列 (未初始化): \n",
      "[[1. 1.]\n",
      " [1. 1.]]\n"
     ]
    }
   ],
   "source": [
    "zeros_1d = np.zeros(5)\n",
    "zeros_2d = np.zeros((3, 4))\n",
    "print(f\"1D 全零陣列: \\n{zeros_1d}\")\n",
    "print(f\"2D 全零陣列: \\n{zeros_2d}\")\n",
    "\n",
    "ones_1d = np.ones(4)\n",
    "ones_2d = np.ones((2, 3))\n",
    "print(f\"\\n1D 全一陣列: \\n{ones_1d}\")\n",
    "print(f\"2D 全一陣列: \\n{ones_2d}\")\n",
    "\n",
    "full_array = np.full((2, 3), 7)\n",
    "print(f\"\\n全 7 的 2x3 陣列: \\n{full_array}\")\n",
    "\n",
    "empty_array = np.empty((2, 2))\n",
    "print(f\"\\n空陣列 (未初始化): \\n{empty_array}\")"
   ]
  },
  {
   "cell_type": "markdown",
   "id": "a090a978",
   "metadata": {},
   "source": [
    "**解說**：\n",
    "- `empty` 建立未初始化陣列，速度最快但內容不保證。\n",
    "- `full` 可建立固定初始值矩陣，適合建立預設輸入模板。"
   ]
  },
  {
   "cell_type": "markdown",
   "id": "598ad853",
   "metadata": {},
   "source": [
    "### 4.2 等差序列 (arange, linspace)"
   ]
  },
  {
   "cell_type": "markdown",
   "id": "12f123c2",
   "metadata": {},
   "source": [
    "**學習要點**：\n",
    "- 使用 `arange`, `linspace` 建立規則遞增陣列\n",
    "- 理解等距與等點數的差異\n",
    "\n",
    "**應用場域**：\n",
    "- 建立時間序列、模擬輸入、繪圖坐標"
   ]
  },
  {
   "cell_type": "code",
   "execution_count": 5,
   "id": "251516c6",
   "metadata": {},
   "outputs": [
    {
     "name": "stdout",
     "output_type": "stream",
     "text": [
      "arange(5): \n",
      "[0 1 2 3 4]\n",
      "arange(1, 10, 2): \n",
      "[1 3 5 7 9]\n",
      "\n",
      "linspace(0, 1, 5): \n",
      "[0.   0.25 0.5  0.75 1.  ]\n",
      "linspace(0, 10, 11): \n",
      "[ 0.  1.  2.  3.  4.  5.  6.  7.  8.  9. 10.]\n"
     ]
    }
   ],
   "source": [
    "arange_1 = np.arange(5)\n",
    "arange_2 = np.arange(1, 10, 2)\n",
    "print(f\"arange(5): \\n{arange_1}\")\n",
    "print(f\"arange(1, 10, 2): \\n{arange_2}\")\n",
    "\n",
    "linspace_1 = np.linspace(0, 1, 5)\n",
    "linspace_2 = np.linspace(0, 10, 11)\n",
    "print(f\"\\nlinspace(0, 1, 5): \\n{linspace_1}\")\n",
    "print(f\"linspace(0, 10, 11): \\n{linspace_2}\")"
   ]
  },
  {
   "cell_type": "markdown",
   "id": "2ee7dd09",
   "metadata": {},
   "source": [
    "**解說**：\n",
    "- `arange` 基於步長，右界不包含；`linspace` 基於點數，包含兩端點。\n",
    "- 建立浮點序列時 `linspace` 精度更穩定。"
   ]
  },
  {
   "cell_type": "markdown",
   "id": "ef811ec7",
   "metadata": {},
   "source": [
    "### 4.3 對數與幾何等比序列"
   ]
  },
  {
   "cell_type": "markdown",
   "id": "38c411fa",
   "metadata": {},
   "source": [
    "**學習要點**：\n",
    "- 使用 `logspace`, `geomspace` 建立對數與幾何遞增序列\n",
    "\n",
    "**應用場域**：\n",
    "- 用於學習率、頻率、倍率的數值模擬"
   ]
  },
  {
   "cell_type": "code",
   "execution_count": 6,
   "id": "5758d43f",
   "metadata": {},
   "outputs": [
    {
     "name": "stdout",
     "output_type": "stream",
     "text": [
      "logspace(0, 3, 4): \n",
      "[   1.   10.  100. 1000.]\n",
      "\n",
      "geomspace(1, 1000, 4): \n",
      "[   1.   10.  100. 1000.]\n"
     ]
    }
   ],
   "source": [
    "logspace = np.logspace(0, 3, 4)\n",
    "print(f\"logspace(0, 3, 4): \\n{logspace}\")\n",
    "\n",
    "geomspace = np.geomspace(1, 1000, 4)\n",
    "print(f\"\\ngeomspace(1, 1000, 4): \\n{geomspace}\")"
   ]
  },
  {
   "cell_type": "markdown",
   "id": "1311f13c",
   "metadata": {},
   "source": [
    "**解說**：\n",
    "- `logspace(0, 3, 4)` 表示 `10^0 ~ 10^3` 間的 4 個點。\n",
    "- `geomspace` 可處理非 10 為底的等比級數。"
   ]
  },
  {
   "cell_type": "markdown",
   "id": "8d7b4371",
   "metadata": {},
   "source": [
    "### 4.4 單位矩陣與對角矩陣"
   ]
  },
  {
   "cell_type": "markdown",
   "id": "40957076",
   "metadata": {},
   "source": [
    "**學習要點**：\n",
    "- 使用 `eye`, `diag` 建立單位矩陣與對角矩陣\n",
    "- 學會提取對角線元素\n",
    "\n",
    "**應用場域**：\n",
    "- 線性代數、機器學習模型的初始化或判別"
   ]
  },
  {
   "cell_type": "code",
   "execution_count": 7,
   "id": "58a3bfb8",
   "metadata": {},
   "outputs": [
    {
     "name": "stdout",
     "output_type": "stream",
     "text": [
      "3x3 單位矩陣: \n",
      "[[1. 0. 0.]\n",
      " [0. 1. 0.]\n",
      " [0. 0. 1.]]\n",
      "\n",
      "對角矩陣: \n",
      "[[1 0 0 0]\n",
      " [0 2 0 0]\n",
      " [0 0 3 0]\n",
      " [0 0 0 4]]\n",
      "\n",
      "原始矩陣: \n",
      "[[1 2 3]\n",
      " [4 5 6]\n",
      " [7 8 9]]\n",
      "對角線元素: [1 5 9]\n"
     ]
    }
   ],
   "source": [
    "identity_matrix = np.eye(3)\n",
    "print(f\"3x3 單位矩陣: \\n{identity_matrix}\")\n",
    "\n",
    "diag_array = np.diag([1, 2, 3, 4])\n",
    "print(f\"\\n對角矩陣: \\n{diag_array}\")\n",
    "\n",
    "matrix = np.array([[1, 2, 3], [4, 5, 6], [7, 8, 9]])\n",
    "diag_elements = np.diag(matrix)\n",
    "print(f\"\\n原始矩陣: \\n{matrix}\")\n",
    "print(f\"對角線元素: {diag_elements}\")"
   ]
  },
  {
   "cell_type": "markdown",
   "id": "4046b431",
   "metadata": {},
   "source": [
    "**解說**：\n",
    "- `eye(n)` 產生 n 維單位矩陣；`diag` 可建立與抽取對角線。\n",
    "- 對角矩陣常用於正規化、變異矩陣、轉換基底等用途。"
   ]
  },
  {
   "cell_type": "markdown",
   "id": "53f96a04",
   "metadata": {},
   "source": [
    "### 🎲 5. 隨機數陣列"
   ]
  },
  {
   "cell_type": "markdown",
   "id": "53962151",
   "metadata": {},
   "source": [
    "**學習要點**：\n",
    "- 使用 `random` 子模組產生各種分布的隨機數\n",
    "- 包含均勻分布、常態分布、整數、隨機抽樣與打亂\n",
    "\n",
    "**應用場域**：\n",
    "- 模擬資料生成、機器學習隨機初始化、抽樣演算法"
   ]
  },
  {
   "cell_type": "code",
   "execution_count": 8,
   "id": "a545d7ba",
   "metadata": {},
   "outputs": [
    {
     "name": "stdout",
     "output_type": "stream",
     "text": [
      "均勻分布隨機數 [0,1): \n",
      "[[0.375 0.951 0.732]\n",
      " [0.599 0.156 0.156]\n",
      " [0.058 0.866 0.601]]\n",
      "\n",
      "標準常態分布隨機數: \n",
      "[[-0.581 -0.525 -0.571]\n",
      " [-0.924 -2.613  0.95 ]\n",
      " [ 0.816 -1.524 -0.428]]\n",
      "\n",
      "1 到 99 之間的隨機整數: \n",
      "[[80 15 62 62]\n",
      " [47 62 51 55]]\n",
      "\n",
      "從序列中隨機選取: \n",
      "[4 1 3 5 3 5 1 2 4 1]\n",
      "\n",
      "打亂後的陣列: \n",
      "[0 5 2 6 3 7 4 9 8 1]\n"
     ]
    }
   ],
   "source": [
    "np.random.seed(42)\n",
    "\n",
    "rand_uniform = np.random.rand(3, 3)\n",
    "print(f\"均勻分布隨機數 [0,1): \\n{rand_uniform}\")\n",
    "\n",
    "rand_normal = np.random.randn(3, 3)\n",
    "print(f\"\\n標準常態分布隨機數: \\n{rand_normal}\")\n",
    "\n",
    "rand_integers = np.random.randint(1, 100, size=(2, 4))\n",
    "print(f\"\\n1 到 99 之間的隨機整數: \\n{rand_integers}\")\n",
    "\n",
    "rand_choice = np.random.choice([1, 2, 3, 4, 5], size=10)\n",
    "print(f\"\\n從序列中隨機選取: \\n{rand_choice}\")\n",
    "\n",
    "arr = np.arange(10)\n",
    "np.random.shuffle(arr)\n",
    "print(f\"\\n打亂後的陣列: \\n{arr}\")"
   ]
  },
  {
   "cell_type": "markdown",
   "id": "3a4cf5e5",
   "metadata": {},
   "source": [
    "**解說**：\n",
    "- `rand`, `randn`, `randint` 分別對應均勻、常態與離散整數抽樣。\n",
    "- `shuffle` 是 in-place 操作，會改變原陣列。"
   ]
  },
  {
   "cell_type": "markdown",
   "id": "3b35389f",
   "metadata": {},
   "source": [
    "### 🪞 6. 建立與現有陣列形狀一致的新陣列"
   ]
  },
  {
   "cell_type": "markdown",
   "id": "af5709af",
   "metadata": {},
   "source": [
    "**學習要點**：\n",
    "- 使用 `*_like` 系列函數快速建立形狀相同的陣列\n",
    "- 指定預設值如全零、全一、固定值或空值\n",
    "\n",
    "**應用場域**：\n",
    "- 模型占位陣列建立、資料結構複製初始化"
   ]
  },
  {
   "cell_type": "code",
   "execution_count": 9,
   "id": "58dbfcf6",
   "metadata": {},
   "outputs": [
    {
     "name": "stdout",
     "output_type": "stream",
     "text": [
      "zeros_like: \n",
      "[[0 0 0]\n",
      " [0 0 0]]\n",
      "\n",
      "ones_like: \n",
      "[[1 1 1]\n",
      " [1 1 1]]\n",
      "\n",
      "full_like (值為 9): \n",
      "[[9 9 9]\n",
      " [9 9 9]]\n",
      "\n",
      "empty_like: \n",
      "[[0 0 0]\n",
      " [0 0 0]]\n"
     ]
    }
   ],
   "source": [
    "original = np.array([[1, 2, 3], [4, 5, 6]])\n",
    "\n",
    "zeros_like = np.zeros_like(original)\n",
    "print(f\"zeros_like: \\n{zeros_like}\")\n",
    "\n",
    "ones_like = np.ones_like(original)\n",
    "print(f\"\\nones_like: \\n{ones_like}\")\n",
    "\n",
    "full_like = np.full_like(original, 9)\n",
    "print(f\"\\nfull_like (值為 9): \\n{full_like}\")\n",
    "\n",
    "empty_like = np.empty_like(original)\n",
    "print(f\"\\nempty_like: \\n{empty_like}\")"
   ]
  },
  {
   "cell_type": "markdown",
   "id": "f5700bf4",
   "metadata": {},
   "source": [
    "**解說**：\n",
    "- `*_like` 函數可節省手動輸入形狀的麻煩。\n",
    "- `empty_like` 僅建立容器，內容為記憶體中原始值，不可預期。"
   ]
  },
  {
   "cell_type": "markdown",
   "id": "9b248628",
   "metadata": {},
   "source": [
    "### 🔄 7. 陣列重塑與多維建立"
   ]
  },
  {
   "cell_type": "markdown",
   "id": "2868fb58",
   "metadata": {},
   "source": [
    "**學習要點**：\n",
    "- 使用 `reshape` 將一維資料轉換為多維結構\n",
    "- 使用 `-1` 自動推斷維度\n",
    "\n",
    "**應用場域**：\n",
    "- 資料前處理、神經網路輸入格式調整"
   ]
  },
  {
   "cell_type": "code",
   "execution_count": 10,
   "id": "88db9dd0",
   "metadata": {},
   "outputs": [
    {
     "name": "stdout",
     "output_type": "stream",
     "text": [
      "原始 1D 陣列: \n",
      "[ 0  1  2  3  4  5  6  7  8  9 10 11]\n",
      "\n",
      "重塑為 3x4 陣列: \n",
      "[[ 0  1  2  3]\n",
      " [ 4  5  6  7]\n",
      " [ 8  9 10 11]]\n",
      "\n",
      "重塑為 2x2x3 陣列: \n",
      "[[[ 0  1  2]\n",
      "  [ 3  4  5]]\n",
      "\n",
      " [[ 6  7  8]\n",
      "  [ 9 10 11]]]\n",
      "\n",
      "自動計算列數 (3, -1): \n",
      "[[ 0  1  2  3]\n",
      " [ 4  5  6  7]\n",
      " [ 8  9 10 11]]\n"
     ]
    }
   ],
   "source": [
    "flat_array = np.arange(12)\n",
    "reshaped_2d = flat_array.reshape(3, 4)\n",
    "reshaped_3d = flat_array.reshape(2, 2, 3)\n",
    "\n",
    "print(f\"原始 1D 陣列: \\n{flat_array}\")\n",
    "print(f\"\\n重塑為 3x4 陣列: \\n{reshaped_2d}\")\n",
    "print(f\"\\n重塑為 2x2x3 陣列: \\n{reshaped_3d}\")\n",
    "\n",
    "auto_reshape = flat_array.reshape(3, -1)\n",
    "print(f\"\\n自動計算列數 (3, -1): \\n{auto_reshape}\")"
   ]
  },
  {
   "cell_type": "markdown",
   "id": "ef72f9f0",
   "metadata": {},
   "source": [
    "**解說**：\n",
    "- `reshape` 通常不會複製資料，只調整 shape metadata。\n",
    "- 使用 `-1` 可由 NumPy 自動推算剩餘維度，非常方便。"
   ]
  },
  {
   "cell_type": "markdown",
   "id": "169f090c",
   "metadata": {},
   "source": [
    "### 🗂️ 8. 從外部資料建立陣列"
   ]
  },
  {
   "cell_type": "markdown",
   "id": "68e17458",
   "metadata": {},
   "source": [
    "**學習要點**：\n",
    "- 使用 `np.loadtxt` 讀取文字檔\n",
    "- 使用 `np.asarray` 轉換巢狀列表為陣列\n",
    "\n",
    "**應用場域**：\n",
    "- 檔案資料讀取與前處理\n",
    "- 將外部來源（CSV、log）轉為分析格式"
   ]
  },
  {
   "cell_type": "code",
   "execution_count": 11,
   "id": "ca2fdd42",
   "metadata": {},
   "outputs": [
    {
     "name": "stdout",
     "output_type": "stream",
     "text": [
      "從文本文件載入的陣列: \n",
      "[[1. 2. 3.]\n",
      " [4. 5. 6.]\n",
      " [7. 8. 9.]]\n",
      "\n",
      "從列表列表載入: \n",
      "[[1 2 3]\n",
      " [4 5 6]]\n"
     ]
    }
   ],
   "source": [
    "import tempfile\n",
    "import os\n",
    "\n",
    "temp_file = tempfile.NamedTemporaryFile(delete=False, suffix='.txt')\n",
    "temp_file.write(b\"1.0 2.0 3.0\\n4.0 5.0 6.0\\n7.0 8.0 9.0\")\n",
    "temp_file.close()\n",
    "\n",
    "array_from_txt = np.loadtxt(temp_file.name)\n",
    "print(f\"從文本文件載入的陣列: \\n{array_from_txt}\")\n",
    "\n",
    "os.unlink(temp_file.name)\n",
    "\n",
    "data = [[1, 2, 3], [4, 5, 6]]\n",
    "array_from_data = np.asarray(data)\n",
    "print(f\"\\n從列表列表載入: \\n{array_from_data}\")"
   ]
  },
  {
   "cell_type": "markdown",
   "id": "4f6f2d64",
   "metadata": {},
   "source": [
    "**解說**：\n",
    "- `loadtxt` 適合讀取簡單、空白分隔的純數值資料。\n",
    "- `asarray` 可避免不必要的複製（與 `array` 最大差異）。"
   ]
  },
  {
   "cell_type": "markdown",
   "id": "a6082fae",
   "metadata": {},
   "source": [
    "### 🧩 9. 向量與張量"
   ]
  },
  {
   "cell_type": "markdown",
   "id": "038a9fcc",
   "metadata": {},
   "source": [
    "**學習要點**：\n",
    "- 了解 NumPy 如何表示行向量、列向量與高維張量\n",
    "- 掌握 `.reshape()` 的實務應用\n",
    "\n",
    "**應用場域**：\n",
    "- 機器學習中的資料格式轉換\n",
    "- 圖像處理中的多維結構（如 RGB）"
   ]
  },
  {
   "cell_type": "code",
   "execution_count": 12,
   "id": "52a03d70",
   "metadata": {},
   "outputs": [
    {
     "name": "stdout",
     "output_type": "stream",
     "text": [
      "行向量形狀: (4,)\n",
      "\n",
      "列向量: \n",
      "[[1]\n",
      " [2]\n",
      " [3]\n",
      " [4]]\n",
      "列向量形狀: (4, 1)\n",
      "\n",
      "3D 張量形狀: (2, 3, 4)\n",
      "第一個 3x4 矩陣: \n",
      "[[1. 1. 1. 1.]\n",
      " [1. 1. 1. 1.]\n",
      " [1. 1. 1. 1.]]\n"
     ]
    }
   ],
   "source": [
    "row_vector = np.array([1, 2, 3, 4])\n",
    "print(f\"行向量形狀: {row_vector.shape}\")\n",
    "\n",
    "column_vector = row_vector.reshape(-1, 1)\n",
    "print(f\"\\n列向量: \\n{column_vector}\")\n",
    "print(f\"列向量形狀: {column_vector.shape}\")\n",
    "\n",
    "tensor_3d = np.ones((2, 3, 4))\n",
    "print(f\"\\n3D 張量形狀: {tensor_3d.shape}\")\n",
    "print(f\"第一個 3x4 矩陣: \\n{tensor_3d[0]}\")"
   ]
  },
  {
   "cell_type": "markdown",
   "id": "8c463c0a",
   "metadata": {},
   "source": [
    "**解說**：\n",
    "- NumPy 的一維陣列不是矩陣；需用 `.reshape` 顯式轉為 (n,1) 或 (1,n)。\n",
    "- 3D 張量常見於影像、語音與影片等多維資料。"
   ]
  },
  {
   "cell_type": "markdown",
   "id": "ca0f8eb9",
   "metadata": {},
   "source": [
    "### ✅ 10. 總結與最佳實踐建議"
   ]
  },
  {
   "cell_type": "markdown",
   "id": "56e14540",
   "metadata": {},
   "source": [
    "**學習要點**：\n",
    "- 回顧各種建立陣列的方式與函數\n",
    "- 理解何時該使用哪一種建立法\n",
    "\n",
    "**應用場域**：\n",
    "- 實作中快速選擇最合適、最高效的陣列建立策略"
   ]
  },
  {
   "cell_type": "code",
   "execution_count": 13,
   "id": "9d272e71",
   "metadata": {},
   "outputs": [
    {
     "name": "stdout",
     "output_type": "stream",
     "text": [
      "常見建立方式：\n",
      "1. np.array([1, 2, 3])\n",
      "2. np.zeros((3, 3))\n",
      "3. np.ones((2, 4))\n",
      "4. np.full((2, 2), 7)\n",
      "5. np.arange(10), np.linspace(0, 1, 5)\n",
      "6. np.eye(3)\n",
      "7. np.random.rand(3, 3)\n"
     ]
    }
   ],
   "source": [
    "# 建立方式總覽\n",
    "print(\"常見建立方式：\")\n",
    "print(\"1. np.array([1, 2, 3])\")\n",
    "print(\"2. np.zeros((3, 3))\")\n",
    "print(\"3. np.ones((2, 4))\")\n",
    "print(\"4. np.full((2, 2), 7)\")\n",
    "print(\"5. np.arange(10), np.linspace(0, 1, 5)\")\n",
    "print(\"6. np.eye(3)\")\n",
    "print(\"7. np.random.rand(3, 3)\")"
   ]
  },
  {
   "cell_type": "markdown",
   "id": "1a76baa1",
   "metadata": {},
   "source": [
    "**解說**：\n",
    "- `array` 適合已知數據；`zeros`, `ones`, `full` 適合初始化。\n",
    "- `arange` 適合整數序列，`linspace` 適合浮點數精準區間。\n",
    "- `empty` 效率最佳但不可預期；`asarray` 可避免複製。"
   ]
  }
 ],
 "metadata": {
  "language_info": {
   "name": "python"
  }
 },
 "nbformat": 4,
 "nbformat_minor": 5
}
