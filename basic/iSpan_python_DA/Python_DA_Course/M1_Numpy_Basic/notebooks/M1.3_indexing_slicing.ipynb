{
 "cells": [
  {
   "cell_type": "markdown",
   "id": "bfc33a51",
   "metadata": {},
   "source": [
    "## 📘 M1.3 NumPy 陣列的索引與切片技巧\n",
    "# \n",
    "# 本教學將詳細介紹如何有效地從 NumPy 陣列中選取、修改和操作數據。\n",
    "# 掌握這些技巧可以大大提高數據處理的效率和靈活性。"
   ]
  },
  {
   "cell_type": "markdown",
   "id": "a12b3de9",
   "metadata": {},
   "source": [
    "\n",
    "### 🎯 教學目標\n",
    "\n",
    "- 🔍 學習 NumPy 陣列的基本索引方法\n",
    "- 📐 掌握多維陣列的切片技巧\n",
    "- 🧠 了解高級索引方法 (布林索引、花式索引)\n",
    "- 🛠️ 學會如何有效地修改陣列子集"
   ]
  },
  {
   "cell_type": "markdown",
   "id": "1e5b1a90",
   "metadata": {},
   "source": [
    "### 🧰 1. 環境設置與導入必要的套件"
   ]
  },
  {
   "cell_type": "markdown",
   "id": "b10ab3a3",
   "metadata": {},
   "source": [
    "**學習要點**：\n",
    "- 匯入 NumPy 套件與設定顯示選項\n",
    "- 理解適當設置的重要性\n",
    "\n",
    "**應用場域**：\n",
    "- 資料分析與科學計算的環境準備\n",
    "- 讓輸出結果更加易讀且具可解釋性"
   ]
  },
  {
   "cell_type": "code",
   "execution_count": 6,
   "id": "2df93b90",
   "metadata": {},
   "outputs": [],
   "source": [
    "import numpy as np\n",
    "\n",
    "# 設定顯示選項，使輸出更易讀\n",
    "np.set_printoptions(precision=3, suppress=True)"
   ]
  },
  {
   "cell_type": "markdown",
   "id": "38931726",
   "metadata": {},
   "source": [
    "**解說**：\n",
    "- `precision=3` 將浮點數顯示限制為3位小數，提高可讀性\n",
    "- `suppress=True` 抑制科學計數法顯示，避免過大或過小的數以指數形式呈現"
   ]
  },
  {
   "cell_type": "markdown",
   "id": "5244c692",
   "metadata": {},
   "source": [
    "### 🔢 2. 一維陣列的基本索引與切片"
   ]
  },
  {
   "cell_type": "markdown",
   "id": "b48a8a14",
   "metadata": {},
   "source": [
    "**學習要點**：\n",
    "- 掌握單一元素索引的語法與意義\n",
    "- 學習切片操作的參數設置\n",
    "- 理解正負索引在陣列中的差異\n",
    "\n",
    "**應用場域**：\n",
    "- 時間序列資料截取特定區間\n",
    "- 特徵工程中選取部分特徵\n",
    "- 資料預處理中的序列轉換"
   ]
  },
  {
   "cell_type": "code",
   "execution_count": 7,
   "id": "ec04be0f",
   "metadata": {},
   "outputs": [
    {
     "name": "stdout",
     "output_type": "stream",
     "text": [
      "原始一維陣列: [0 1 2 3 4 5 6 7 8 9]\n",
      "arr_1d[0]: 0\n",
      "arr_1d[5]: 5\n",
      "arr_1d[-1]: 9\n",
      "arr_1d[-2]: 8\n",
      "\n",
      "前三個元素 arr_1d[0:3]: [0 1 2]\n",
      "索引 1 到 5 (不含 6) arr_1d[1:6]: [1 2 3 4 5]\n",
      "每隔一個元素 arr_1d[::2]: [0 2 4 6 8]\n",
      "反轉陣列 arr_1d[::-1]: [9 8 7 6 5 4 3 2 1 0]\n",
      "\n",
      "從頭到索引 5 (不含) arr_1d[:5]: [0 1 2 3 4]\n",
      "從索引 5 到尾 arr_1d[5:]: [5 6 7 8 9]\n",
      "整個陣列的複製 arr_1d[:]: [0 1 2 3 4 5 6 7 8 9]\n"
     ]
    }
   ],
   "source": [
    "# 建立一個一維陣列\n",
    "arr_1d = np.arange(10)\n",
    "print(f\"原始一維陣列: {arr_1d}\")\n",
    "\n",
    "# 單一元素索引 (從 0 開始)\n",
    "print(f\"arr_1d[0]: {arr_1d[0]}\")   # 第一個元素\n",
    "print(f\"arr_1d[5]: {arr_1d[5]}\")   # 第六個元素\n",
    "print(f\"arr_1d[-1]: {arr_1d[-1]}\")  # 最後一個元素\n",
    "print(f\"arr_1d[-2]: {arr_1d[-2]}\")  # 倒數第二個元素\n",
    "\n",
    "# 切片: arr[start:stop:step]\n",
    "print(f\"\\n前三個元素 arr_1d[0:3]: {arr_1d[0:3]}\")\n",
    "print(f\"索引 1 到 5 (不含 6) arr_1d[1:6]: {arr_1d[1:6]}\")\n",
    "print(f\"每隔一個元素 arr_1d[::2]: {arr_1d[::2]}\")\n",
    "print(f\"反轉陣列 arr_1d[::-1]: {arr_1d[::-1]}\")\n",
    "\n",
    "# 省略切片參數\n",
    "print(f\"\\n從頭到索引 5 (不含) arr_1d[:5]: {arr_1d[:5]}\")\n",
    "print(f\"從索引 5 到尾 arr_1d[5:]: {arr_1d[5:]}\")\n",
    "print(f\"整個陣列的複製 arr_1d[:]: {arr_1d[:]}\")"
   ]
  },
  {
   "cell_type": "markdown",
   "id": "d9905a00",
   "metadata": {},
   "source": [
    "**解說**：\n",
    "- NumPy 陣列索引從 0 開始，負索引代表從尾部向前計數\n",
    "- 切片格式 `arr[start:stop:step]` 中，最終結果包含 start 但不包含 stop\n",
    "- 省略參數時有預設值：start=0、stop=陣列長度、step=1\n",
    "- `arr[::-1]` 是反轉陣列的常用技巧，step 為 -1 表示反向取值"
   ]
  },
  {
   "cell_type": "markdown",
   "id": "ddecb746",
   "metadata": {},
   "source": [
    "### 🔳 3. 二維陣列的索引與切片"
   ]
  },
  {
   "cell_type": "markdown",
   "id": "f28748db",
   "metadata": {},
   "source": [
    "**學習要點**：\n",
    "- 理解二維陣列的座標系統 (列、行)\n",
    "- 學習獲取特定元素、列、行的方法\n",
    "- 掌握子矩陣的切片技巧\n",
    "\n",
    "**應用場域**：\n",
    "- 影像處理中截取特定區域\n",
    "- 表格資料的行列選取\n",
    "- 地理空間數據分析中的區域選擇"
   ]
  },
  {
   "cell_type": "code",
   "execution_count": 8,
   "id": "eac83f6d",
   "metadata": {},
   "outputs": [
    {
     "name": "stdout",
     "output_type": "stream",
     "text": [
      "二維陣列 (3x4):\n",
      "[[ 0  1  2  3]\n",
      " [ 4  5  6  7]\n",
      " [ 8  9 10 11]]\n",
      "\n",
      "第一列第一行元素 arr_2d[0, 0]: 0\n",
      "第二列第三行元素 arr_2d[1, 2]: 6\n",
      "最後一列最後一行元素 arr_2d[-1, -1]: 11\n",
      "\n",
      "第一列 (row) arr_2d[0]: [0 1 2 3]\n",
      "第一行 (column) arr_2d[:, 0]: [0 4 8]\n",
      "最後一列 arr_2d[-1]: [ 8  9 10 11]\n",
      "\n",
      "前兩列 arr_2d[0:2]:\n",
      "[[0 1 2 3]\n",
      " [4 5 6 7]]\n",
      "前兩列的前三行 arr_2d[0:2, 0:3]:\n",
      "[[0 1 2]\n",
      " [4 5 6]]\n",
      "所有列的偶數行 arr_2d[:, ::2]:\n",
      "[[ 0  2]\n",
      " [ 4  6]\n",
      " [ 8 10]]\n"
     ]
    }
   ],
   "source": [
    "# 建立一個 3x4 的二維陣列\n",
    "arr_2d = np.arange(12).reshape(3, 4)\n",
    "print(f\"二維陣列 (3x4):\\n{arr_2d}\")\n",
    "\n",
    "# 訪問單一元素: arr[row, col]\n",
    "print(f\"\\n第一列第一行元素 arr_2d[0, 0]: {arr_2d[0, 0]}\")\n",
    "print(f\"第二列第三行元素 arr_2d[1, 2]: {arr_2d[1, 2]}\")\n",
    "print(f\"最後一列最後一行元素 arr_2d[-1, -1]: {arr_2d[-1, -1]}\")\n",
    "\n",
    "# 訪問整列或整行\n",
    "print(f\"\\n第一列 (row) arr_2d[0]: {arr_2d[0]}\")\n",
    "print(f\"第一行 (column) arr_2d[:, 0]: {arr_2d[:, 0]}\")\n",
    "print(f\"最後一列 arr_2d[-1]: {arr_2d[-1]}\")\n",
    "\n",
    "# 切片: 子矩陣\n",
    "print(f\"\\n前兩列 arr_2d[0:2]:\\n{arr_2d[0:2]}\")\n",
    "print(f\"前兩列的前三行 arr_2d[0:2, 0:3]:\\n{arr_2d[0:2, 0:3]}\")\n",
    "print(f\"所有列的偶數行 arr_2d[:, ::2]:\\n{arr_2d[:, ::2]}\")"
   ]
  },
  {
   "cell_type": "markdown",
   "id": "2be012ac",
   "metadata": {},
   "source": [
    "**解說**：\n",
    "- 二維陣列使用 `arr[row, col]` 語法進行索引，也可用 `arr[row][col]`\n",
    "- 只提供一個索引 `arr[0]` 時會返回整個列（一個一維陣列）\n",
    "- 使用 `:` 表示選取該維度的所有元素，如 `arr[:, 0]` 表示所有列的第一行\n",
    "- 二維切片在各個維度都支持 start:stop:step 格式"
   ]
  },
  {
   "cell_type": "markdown",
   "id": "48e88d63",
   "metadata": {},
   "source": [
    "### 🧊 4. 三維及更高維度陣列的索引"
   ]
  },
  {
   "cell_type": "markdown",
   "id": "5ce9ed1a",
   "metadata": {},
   "source": [
    "**學習要點**：\n",
    "- 理解三維及更高維度的索引機制\n",
    "- 學習在多個維度上進行切片\n",
    "- 掌握多維數據的訪問層次\n",
    "\n",
    "**應用場域**：\n",
    "- 視頻資料處理 (時間+圖像)\n",
    "- 三維醫學影像分析\n",
    "- 多維時空數據的科學模擬"
   ]
  },
  {
   "cell_type": "code",
   "execution_count": 9,
   "id": "74ff909c",
   "metadata": {},
   "outputs": [
    {
     "name": "stdout",
     "output_type": "stream",
     "text": [
      "三維陣列 (2x3x4):\n",
      "[[[ 0  1  2  3]\n",
      "  [ 4  5  6  7]\n",
      "  [ 8  9 10 11]]\n",
      "\n",
      " [[12 13 14 15]\n",
      "  [16 17 18 19]\n",
      "  [20 21 22 23]]]\n",
      "\n",
      "特定元素 arr_3d[0, 1, 2]: 6\n",
      "\n",
      "第一個矩陣 arr_3d[0]:\n",
      "[[ 0  1  2  3]\n",
      " [ 4  5  6  7]\n",
      " [ 8  9 10 11]]\n",
      "\n",
      "第一個矩陣的第一列 arr_3d[0, 0]:\n",
      "[0 1 2 3]\n",
      "所有矩陣的第一列第一行元素 arr_3d[:, 0, 0]: [ 0 12]\n",
      "\n",
      "第一個矩陣的部分切片 arr_3d[0, :2, :2]:\n",
      "[[0 1]\n",
      " [4 5]]\n"
     ]
    }
   ],
   "source": [
    "# 建立一個 2x3x4 的三維陣列 (2個 3x4 的矩陣)\n",
    "arr_3d = np.arange(24).reshape(2, 3, 4)\n",
    "print(f\"三維陣列 (2x3x4):\\n{arr_3d}\")\n",
    "\n",
    "# 訪問單一元素: arr[depth, row, col]\n",
    "print(f\"\\n特定元素 arr_3d[0, 1, 2]: {arr_3d[0, 1, 2]}\")  # 第1個矩陣，第2列，第3行\n",
    "\n",
    "# 訪問特定的二維矩陣\n",
    "print(f\"\\n第一個矩陣 arr_3d[0]:\\n{arr_3d[0]}\")\n",
    "\n",
    "# 訪問特定的一維向量 (行或列)\n",
    "print(f\"\\n第一個矩陣的第一列 arr_3d[0, 0]:\\n{arr_3d[0, 0]}\")\n",
    "print(f\"所有矩陣的第一列第一行元素 arr_3d[:, 0, 0]: {arr_3d[:, 0, 0]}\")\n",
    "\n",
    "# 切片: 多維子陣列\n",
    "print(f\"\\n第一個矩陣的部分切片 arr_3d[0, :2, :2]:\\n{arr_3d[0, :2, :2]}\")"
   ]
  },
  {
   "cell_type": "markdown",
   "id": "d81b6eeb",
   "metadata": {},
   "source": [
    "**解說**：\n",
    "- 三維陣列可視為「矩陣的矩陣」，索引順序為 [depth, row, column]\n",
    "- 高維數據切片的核心原則與低維相同，每個維度可獨立操作\n",
    "- 多維切片中的每個維度都支持完整的切片語法\n",
    "- 部分維度索引後會降低陣列的維度，如 `arr_3d[0]` 返回一個二維陣列"
   ]
  },
  {
   "cell_type": "markdown",
   "id": "cdfbb06b",
   "metadata": {},
   "source": [
    "### ✏️ 5. 修改陣列元素"
   ]
  },
  {
   "cell_type": "markdown",
   "id": "9fbf1565",
   "metadata": {},
   "source": [
    "**學習要點**：\n",
    "- 學習如何修改陣列中的單一元素\n",
    "- 掌握批量修改陣列子集的技巧\n",
    "- 理解不同索引方法修改元素的影響\n",
    "\n",
    "**應用場域**：\n",
    "- 資料清洗中的異常值替換\n",
    "- 特徵工程中的資料轉換\n",
    "- 資料增強或模擬環境中的值操作"
   ]
  },
  {
   "cell_type": "code",
   "execution_count": 10,
   "id": "eb930ee4",
   "metadata": {},
   "outputs": [
    {
     "name": "stdout",
     "output_type": "stream",
     "text": [
      "原始一維陣列: [0 1 2 3 4 5 6 7 8 9]\n",
      "修改後 (arr_1d_copy[0] = 100): [100   1   2   3   4   5   6   7   8   9]\n",
      "修改後 (arr_1d_copy[1:4] = 200): [100 200 200 200   4   5   6   7   8   9]\n",
      "修改後 (arr_1d_copy[5:8] = [500, 600, 700]): [100 200 200 200   4 500 600 700   8   9]\n",
      "\n",
      "原始二維陣列:\n",
      "[[ 0  1  2  3]\n",
      " [ 4  5  6  7]\n",
      " [ 8  9 10 11]]\n",
      "\n",
      "修改後 (arr_2d_copy[0, 0] = 99):\n",
      "[[99  1  2  3]\n",
      " [ 4  5  6  7]\n",
      " [ 8  9 10 11]]\n",
      "\n",
      "修改後 (arr_2d_copy[1] = [11, 22, 33, 44]):\n",
      "[[99  1  2  3]\n",
      " [11 22 33 44]\n",
      " [ 8  9 10 11]]\n",
      "\n",
      "修改後 (arr_2d_copy[1:3, 2:4] = [[55, 66], [77, 88]]):\n",
      "[[99  1  2  3]\n",
      " [11 22 55 66]\n",
      " [ 8  9 77 88]]\n"
     ]
    }
   ],
   "source": [
    "# 修改一維陣列的元素\n",
    "arr_1d_copy = arr_1d.copy()  # 創建副本避免修改原始陣列\n",
    "print(f\"原始一維陣列: {arr_1d_copy}\")\n",
    "\n",
    "# 修改單一元素\n",
    "arr_1d_copy[0] = 100\n",
    "print(f\"修改後 (arr_1d_copy[0] = 100): {arr_1d_copy}\")\n",
    "\n",
    "# 修改切片 (多個元素)\n",
    "arr_1d_copy[1:4] = 200\n",
    "print(f\"修改後 (arr_1d_copy[1:4] = 200): {arr_1d_copy}\")\n",
    "\n",
    "# 修改切片為序列 (長度必須匹配)\n",
    "arr_1d_copy[5:8] = [500, 600, 700]\n",
    "print(f\"修改後 (arr_1d_copy[5:8] = [500, 600, 700]): {arr_1d_copy}\")\n",
    "\n",
    "# 修改二維陣列\n",
    "arr_2d_copy = arr_2d.copy()\n",
    "print(f\"\\n原始二維陣列:\\n{arr_2d_copy}\")\n",
    "\n",
    "# 修改單一元素\n",
    "arr_2d_copy[0, 0] = 99\n",
    "print(f\"\\n修改後 (arr_2d_copy[0, 0] = 99):\\n{arr_2d_copy}\")\n",
    "\n",
    "# 修改整列\n",
    "arr_2d_copy[1] = [11, 22, 33, 44]\n",
    "print(f\"\\n修改後 (arr_2d_copy[1] = [11, 22, 33, 44]):\\n{arr_2d_copy}\")\n",
    "\n",
    "# 修改子矩陣\n",
    "arr_2d_copy[1:3, 2:4] = [[55, 66], [77, 88]]\n",
    "print(f\"\\n修改後 (arr_2d_copy[1:3, 2:4] = [[55, 66], [77, 88]]):\\n{arr_2d_copy}\")"
   ]
  },
  {
   "cell_type": "markdown",
   "id": "55d1e581",
   "metadata": {},
   "source": [
    "**解說**：\n",
    "- 可以使用任何索引方法來修改陣列元素，賦值操作直接改變原陣列\n",
    "- 使用切片修改時，可以賦值單一值（會廣播到所有選定元素）或同形狀序列\n",
    "- 多維修改時，替換值的維度必須與選擇區域相匹配\n",
    "- 在進行修改前創建副本 `.copy()` 是良好實踐，避免意外修改原數據"
   ]
  },
  {
   "cell_type": "markdown",
   "id": "1640aee0",
   "metadata": {},
   "source": [
    "### 🎭 6. 布林索引 (Boolean Indexing)"
   ]
  },
  {
   "cell_type": "markdown",
   "id": "4d31524c",
   "metadata": {},
   "source": [
    "**學習要點**：\n",
    "- 使用條件表達式創建布林遮罩\n",
    "- 學習如何用布林索引選取符合條件的元素\n",
    "- 掌握組合條件的布林索引方法\n",
    "\n",
    "**應用場域**：\n",
    "- 資料過濾（如選取高於閾值的數據）\n",
    "- 異常值檢測與處理\n",
    "- 資料清洗中的條件式選取"
   ]
  },
  {
   "cell_type": "code",
   "execution_count": 11,
   "id": "b6b1b4aa",
   "metadata": {},
   "outputs": [
    {
     "name": "stdout",
     "output_type": "stream",
     "text": [
      "原始陣列: [0 1 2 3 4 5 6 7 8 9]\n",
      "布林遮罩 (arr > 5): [False False False False False False  True  True  True  True]\n",
      "過濾後的陣列 (arr[mask]): [6 7 8 9]\n",
      "直接用條件 (arr[arr > 5]): [6 7 8 9]\n",
      "偶數元素 (arr[arr % 2 == 0]): [0 2 4 6 8]\n",
      "介於 3 和 7 之間的元素 (arr[(arr >= 3) & (arr <= 7)]): [3 4 5 6 7]\n",
      "\n",
      "修改後 (arr_copy[arr_copy > 5] = 99): [ 0  1  2  3  4  5 99 99 99 99]\n",
      "\n",
      "二維陣列:\n",
      "[[ 0  1  2  3]\n",
      " [ 4  5  6  7]\n",
      " [ 8  9 10 11]]\n",
      "值大於 5 的元素: [ 6  7  8  9 10 11]\n",
      "每一列的和: [ 6 22 38]\n",
      "行的和大於 10 的列:\n",
      "[[ 4  5  6  7]\n",
      " [ 8  9 10 11]]\n"
     ]
    }
   ],
   "source": [
    "# 布林索引允許基於條件選取元素\n",
    "arr = np.arange(10)\n",
    "print(f\"原始陣列: {arr}\")\n",
    "\n",
    "# 創建布林遮罩\n",
    "mask = arr > 5\n",
    "print(f\"布林遮罩 (arr > 5): {mask}\")\n",
    "\n",
    "# 使用布林遮罩選取元素\n",
    "filtered = arr[mask]\n",
    "print(f\"過濾後的陣列 (arr[mask]): {filtered}\")\n",
    "\n",
    "# 直接使用條件表達式\n",
    "print(f\"直接用條件 (arr[arr > 5]): {arr[arr > 5]}\")\n",
    "print(f\"偶數元素 (arr[arr % 2 == 0]): {arr[arr % 2 == 0]}\")\n",
    "print(f\"介於 3 和 7 之間的元素 (arr[(arr >= 3) & (arr <= 7)]): {arr[(arr >= 3) & (arr <= 7)]}\")\n",
    "\n",
    "# 修改符合條件的元素\n",
    "arr_copy = arr.copy()\n",
    "arr_copy[arr_copy > 5] = 99\n",
    "print(f\"\\n修改後 (arr_copy[arr_copy > 5] = 99): {arr_copy}\")\n",
    "\n",
    "# 在二維陣列上使用布林索引\n",
    "arr_2d = np.arange(12).reshape(3, 4)\n",
    "print(f\"\\n二維陣列:\\n{arr_2d}\")\n",
    "\n",
    "# 選取值大於 5 的元素 (結果會被展平)\n",
    "print(f\"值大於 5 的元素: {arr_2d[arr_2d > 5]}\")\n",
    "\n",
    "# 選取行的和大於 10 的列\n",
    "row_sums = arr_2d.sum(axis=1)  # 沿著行計算和\n",
    "print(f\"每一列的和: {row_sums}\")\n",
    "print(f\"行的和大於 10 的列:\\n{arr_2d[row_sums > 10]}\")"
   ]
  },
  {
   "cell_type": "markdown",
   "id": "0361a6e0",
   "metadata": {},
   "source": [
    "**解說**：\n",
    "- 布林索引通過條件創建一個與陣列同形狀的布林遮罩（True/False）\n",
    "- 使用布林遮罩索引時，只返回遮罩中 True 位置的元素\n",
    "- 組合條件需使用 `&`（且）、`|`（或）、`~`（非）運算符，而非 `and`、`or`、`not`\n",
    "- 多維陣列布林索引的結果通常會降維並展平，除非條件按行或列應用"
   ]
  },
  {
   "cell_type": "markdown",
   "id": "dc6cb643",
   "metadata": {},
   "source": [
    "### 🧩 7. 花式索引 (Fancy Indexing)"
   ]
  },
  {
   "cell_type": "markdown",
   "id": "dd98a484",
   "metadata": {},
   "source": [
    "**學習要點**：\n",
    "- 使用整數陣列進行非連續位置的索引\n",
    "- 熟悉多維花式索引的規則與用法\n",
    "- 理解花式索引與切片的區別\n",
    "\n",
    "**應用場域**：\n",
    "- 隨機抽樣與資料重排\n",
    "- 特徵選擇中的非連續特徵抽取\n",
    "- 資料融合時的列對齊"
   ]
  },
  {
   "cell_type": "code",
   "execution_count": 12,
   "id": "bef8e1af",
   "metadata": {},
   "outputs": [
    {
     "name": "stdout",
     "output_type": "stream",
     "text": [
      "原始陣列: [ 0 10 20 30 40 50 60 70 80 90]\n",
      "選取的索引: [1, 3, 5, 8]\n",
      "選取的元素 arr[indices]: [10 30 50 80]\n",
      "\n",
      "負索引: [-1, -3, -5]\n",
      "選取的元素 arr[negative_indices]: [90 70 50]\n",
      "\n",
      "二維陣列:\n",
      "[[ 0  1  2  3]\n",
      " [ 4  5  6  7]\n",
      " [ 8  9 10 11]\n",
      " [12 13 14 15]]\n",
      "選取的列 arr_2d[rows]:\n",
      "[[ 0  1  2  3]\n",
      " [ 8  9 10 11]\n",
      " [12 13 14 15]]\n",
      "\n",
      "選取的列和行 arr_2d[rows, cols]:\n",
      "[ 1 10 12]\n",
      "\n",
      "選取特定子矩陣 arr_2d[rows][:, cols]:\n",
      "[[ 1  2  0]\n",
      " [ 9 10  8]\n",
      " [13 14 12]]\n"
     ]
    }
   ],
   "source": [
    "# 建立一個用於演示的陣列\n",
    "arr = np.arange(10) * 10  # [0, 10, 20, ..., 90]\n",
    "print(f\"原始陣列: {arr}\")\n",
    "\n",
    "# 使用整數索引陣列進行索引\n",
    "indices = [1, 3, 5, 8]\n",
    "print(f\"選取的索引: {indices}\")\n",
    "print(f\"選取的元素 arr[indices]: {arr[indices]}\")\n",
    "\n",
    "# 使用負索引\n",
    "negative_indices = [-1, -3, -5]\n",
    "print(f\"\\n負索引: {negative_indices}\")\n",
    "print(f\"選取的元素 arr[negative_indices]: {arr[negative_indices]}\")\n",
    "\n",
    "# 二維陣列的花式索引\n",
    "arr_2d = np.arange(16).reshape(4, 4)\n",
    "print(f\"\\n二維陣列:\\n{arr_2d}\")\n",
    "\n",
    "# 選取特定的列\n",
    "rows = [0, 2, 3]\n",
    "print(f\"選取的列 arr_2d[rows]:\\n{arr_2d[rows]}\")\n",
    "\n",
    "# 選取特定的列和行 (使用兩個索引陣列)\n",
    "rows = [0, 2, 3]\n",
    "cols = [1, 2, 0]\n",
    "print(f\"\\n選取的列和行 arr_2d[rows, cols]:\\n{arr_2d[rows, cols]}\")\n",
    "# 注意：這會選取 (0,1), (2,2), (3,0) 位置的元素\n",
    "\n",
    "# 選取特定的子矩陣\n",
    "print(f\"\\n選取特定子矩陣 arr_2d[rows][:, cols]:\\n{arr_2d[rows][:, cols]}\")\n",
    "# 這會選取 rows 指定的列，然後每一列中 cols 指定的行"
   ]
  },
  {
   "cell_type": "markdown",
   "id": "5f9d84c1",
   "metadata": {},
   "source": [
    "**解說**：\n",
    "- 花式索引使用整數陣列作為索引，可選取非連續位置的元素\n",
    "- 一維索引時很直觀，返回索引陣列中指定位置的元素\n",
    "- 多維索引時有兩種行為：\n",
    "  - `arr_2d[rows, cols]` 選取元素對（對應位置）\n",
    "  - `arr_2d[rows][:, cols]` 選取子矩陣（先選列再選行）\n",
    "- 花式索引總是創建陣列的副本，而非視圖"
   ]
  },
  {
   "cell_type": "markdown",
   "id": "77a6fc02",
   "metadata": {},
   "source": [
    "### 🔄 8. 組合索引方法"
   ]
  },
  {
   "cell_type": "markdown",
   "id": "a53315c5",
   "metadata": {},
   "source": [
    "**學習要點**：\n",
    "- 學習如何組合不同的索引技術\n",
    "- 理解複合條件選取的順序和效果\n",
    "- 掌握多步驟索引的鏈式操作\n",
    "\n",
    "**應用場域**：\n",
    "- 複雜資料分析中的多條件篩選\n",
    "- 特徵工程中的高級選取技巧\n",
    "- 多層次的數據分組與分析"
   ]
  },
  {
   "cell_type": "code",
   "execution_count": 13,
   "id": "70483f92",
   "metadata": {},
   "outputs": [
    {
     "name": "stdout",
     "output_type": "stream",
     "text": [
      "5x5 陣列:\n",
      "[[ 0  1  2  3  4]\n",
      " [ 5  6  7  8  9]\n",
      " [10 11 12 13 14]\n",
      " [15 16 17 18 19]\n",
      " [20 21 22 23 24]]\n",
      "\n",
      "選擇特定列的前三行 arr_2d[rows, :3]:\n",
      "[[ 0  1  2]\n",
      " [10 11 12]\n",
      " [20 21 22]]\n",
      "\n",
      "使用布林遮罩選擇列 arr_2d[mask]:\n",
      "[[ 0  1  2  3  4]\n",
      " [10 11 12 13 14]\n",
      " [20 21 22 23 24]]\n",
      "\n",
      "第一行值大於10的列:\n",
      "[[15 16 17 18 19]\n",
      " [20 21 22 23 24]]\n",
      "上述結果的特定行 filtered[:, [1, 3]]:\n",
      "[[16 18]\n",
      " [21 23]]\n"
     ]
    }
   ],
   "source": [
    "# 建立一個 5x5 的陣列\n",
    "arr_2d = np.arange(25).reshape(5, 5)\n",
    "print(f\"5x5 陣列:\\n{arr_2d}\")\n",
    "\n",
    "# 組合花式索引和切片\n",
    "rows = [0, 2, 4]\n",
    "print(f\"\\n選擇特定列的前三行 arr_2d[rows, :3]:\\n{arr_2d[rows, :3]}\")\n",
    "\n",
    "# 組合花式索引和布林索引\n",
    "mask = np.array([True, False, True, False, True])  # 選擇第1, 3, 5列\n",
    "print(f\"\\n使用布林遮罩選擇列 arr_2d[mask]:\\n{arr_2d[mask]}\")\n",
    "\n",
    "# 先使用布林索引過濾，再使用花式索引\n",
    "filtered = arr_2d[arr_2d[:, 0] > 10]  # 第一行值大於10的列\n",
    "print(f\"\\n第一行值大於10的列:\\n{filtered}\")\n",
    "print(f\"上述結果的特定行 filtered[:, [1, 3]]:\\n{filtered[:, [1, 3]]}\")"
   ]
  },
  {
   "cell_type": "markdown",
   "id": "7ad12583",
   "metadata": {},
   "source": [
    "**解說**：\n",
    "- 不同索引方法可以組合使用，以實現更複雜的選取\n",
    "- 布林索引與花式索引組合時，通常先應用布林條件再用花式索引選取\n",
    "- 多步驟索引時要注意返回結果的形狀和類型，某些操作會改變維度\n",
    "- 組合索引可能導致原始索引關係變得不直觀，需小心處理"
   ]
  },
  {
   "cell_type": "markdown",
   "id": "073fb081",
   "metadata": {},
   "source": [
    "### 🔄 9. 進階: 索引的視圖與副本"
   ]
  },
  {
   "cell_type": "markdown",
   "id": "03cfcd22",
   "metadata": {},
   "source": [
    "**學習要點**：\n",
    "- 區分切片產生的視圖與副本的區別\n",
    "- 理解不同索引方法返回的結果類型\n",
    "- 掌握 `.copy()` 方法的正確使用時機\n",
    "\n",
    "**應用場域**：\n",
    "- 大型數據集的記憶體優化\n",
    "- 避免意外修改導致的程式錯誤\n",
    "- 並行處理中的數據隔離"
   ]
  },
  {
   "cell_type": "code",
   "execution_count": 14,
   "id": "746680cf",
   "metadata": {},
   "outputs": [
    {
     "name": "stdout",
     "output_type": "stream",
     "text": [
      "原始陣列: [0 1 2 3 4 5 6 7 8 9]\n",
      "\n",
      "視圖 arr_view: [3 4 5 6]\n",
      "修改視圖後，原始陣列: [ 0  1  2 99  4  5  6  7  8  9]\n",
      "\n",
      "副本 arr_copy: [3 4 5 6]\n",
      "修改副本後，原始陣列: [0 1 2 3 4 5 6 7 8 9]\n",
      "\n",
      "花式索引結果: [2 4 6]\n",
      "修改後，原始陣列: [0 1 2 3 4 5 6 7 8 9]\n"
     ]
    }
   ],
   "source": [
    "# 建立一個陣列\n",
    "arr = np.arange(10)\n",
    "print(f\"原始陣列: {arr}\")\n",
    "\n",
    "# 切片創建視圖 (view) - 共享同一塊數據\n",
    "arr_view = arr[3:7]  # 視圖\n",
    "print(f\"\\n視圖 arr_view: {arr_view}\")\n",
    "\n",
    "# 修改視圖會影響原始陣列\n",
    "arr_view[0] = 99\n",
    "print(f\"修改視圖後，原始陣列: {arr}\")\n",
    "\n",
    "# 使用 copy() 創建副本\n",
    "arr = np.arange(10)  # 重置\n",
    "arr_copy = arr[3:7].copy()  # 副本\n",
    "print(f\"\\n副本 arr_copy: {arr_copy}\")\n",
    "\n",
    "# 修改副本不會影響原始陣列\n",
    "arr_copy[0] = 99\n",
    "print(f\"修改副本後，原始陣列: {arr}\")\n",
    "\n",
    "# 花式索引總是返回副本\n",
    "arr = np.arange(10)  # 重置\n",
    "indices = [2, 4, 6]\n",
    "arr_fancy = arr[indices]  # 副本\n",
    "print(f\"\\n花式索引結果: {arr_fancy}\")\n",
    "\n",
    "# 修改不影響原始陣列\n",
    "arr_fancy[0] = 99\n",
    "print(f\"修改後，原始陣列: {arr}\")"
   ]
  },
  {
   "cell_type": "markdown",
   "id": "efba4b17",
   "metadata": {},
   "source": [
    "**解說**：\n",
    "- 切片索引返回「視圖」(view)，與原陣列共享底層數據，修改會互相影響\n",
    "- 花式索引和布林索引返回「副本」(copy)，與原陣列分離，修改不會互相影響\n",
    "- 使用 `.copy()` 方法可以顯式創建副本，避免意外修改原始數據\n",
    "- 在並行計算或需要保留原始數據的場景中，理解視圖與副本的差異至關重要"
   ]
  },
  {
   "cell_type": "markdown",
   "id": "74b40aef",
   "metadata": {},
   "source": [
    "### 📝 10. 實用技巧與注意事項"
   ]
  },
  {
   "cell_type": "markdown",
   "id": "8009560b",
   "metadata": {},
   "source": [
    "**學習要點**：\n",
    "- 掌握索引與切片的最佳實踐\n",
    "- 了解常見的陷阱與避免方法\n",
    "- 學習高級索引的實用技巧\n",
    "\n",
    "**應用場域**：\n",
    "- 程式碼優化與效能調校\n",
    "- 避免常見索引錯誤\n",
    "- 解決複雜的資料選取問題"
   ]
  },
  {
   "cell_type": "markdown",
   "id": "0fcf9133",
   "metadata": {},
   "source": [
    "\n",
    "### 索引實用技巧\n",
    "\n",
    "1. **連續整數索引**：使用切片 `arr[start:stop:step]` 比使用列表 `arr[[0,1,2,3]]` 更高效\n",
    "2. **負索引**：從陣列尾部向前計數，`arr[-1]` 是最後一個元素\n",
    "3. **省略參數**：`arr[:]` 建立整個陣列的視圖，`arr[1:]` 從第二個元素到結尾\n",
    "4. **多維切片**：使用逗號分隔每個維度的切片，如 `arr[0:2, 1:3]`\n",
    "5. **使用 `...`**：代表任意數量的 `:` 切片，如 `arr[0, ..., 2]` 等同於 `arr[0, :, :, 2]`\n",
    " \n",
    "### 常見陷阱與注意事項\n",
    " \n",
    "1. **視圖 vs 副本**：切片產生視圖，修改會影響原陣列；花式索引產生副本，修改不影響原陣列\n",
    "2. **連續切片**：如 `arr[1:5][2:4]` 並不等同於 `arr[3:5]`，而是對第一次切片結果再次切片\n",
    "3. **廣播與索引結合**：修改子陣列時注意形狀匹配，如 `arr[1:3, 1:3] = 99`\n",
    "4. **布林索引**：條件表達式使用 `&`, `|`, `~` 而非 `and`, `or`, `not`，且需要用括號分組\n",
    "5. **空結果**：如果條件不匹配任何元素，返回空陣列而非錯誤"
   ]
  },
  {
   "cell_type": "markdown",
   "id": "487b78de",
   "metadata": {},
   "source": [
    "**解說**：\n",
    "- 索引技巧能大幅提高代碼效率和可讀性，如使用 `...` 簡化高維索引\n",
    "- 理解視圖與副本的區別對避免 NumPy 中的常見錯誤至關重要\n",
    "- 布林運算中 `&`、`|`、`~` 是對陣列逐元素操作，而 `and`、`or`、`not` 是邏輯運算符\n",
    "- 多維索引時思考「先列後行」(`arr[row, col]`) 的方式，與數學上的矩陣表示一致"
   ]
  }
 ],
 "metadata": {
  "kernelspec": {
   "display_name": "Python 3",
   "language": "python",
   "name": "python3"
  },
  "language_info": {
   "codemirror_mode": {
    "name": "ipython",
    "version": 3
   },
   "file_extension": ".py",
   "mimetype": "text/x-python",
   "name": "python",
   "nbconvert_exporter": "python",
   "pygments_lexer": "ipython3",
   "version": "3.11.9"
  }
 },
 "nbformat": 4,
 "nbformat_minor": 5
}
