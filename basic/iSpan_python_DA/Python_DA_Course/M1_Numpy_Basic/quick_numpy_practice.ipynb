{
 "cells": [
  {
   "cell_type": "code",
   "execution_count": null,
   "id": "76310c5d",
   "metadata": {},
   "outputs": [],
   "source": [
    "\n",
    "# # NumPy 30秒快速練習題\n",
    "# 這些練習題設計用於快速驗證 NumPy 的核心概念理解，每題應該能在 30 秒內想出解法。\n",
    "\n",
    "import numpy as np\n",
    "import matplotlib.pyplot as plt"
   ]
  },
  {
   "cell_type": "markdown",
   "id": "75082431",
   "metadata": {},
   "source": [
    "\n",
    "## M1: ndarray 基礎"
   ]
  },
  {
   "cell_type": "code",
   "execution_count": null,
   "id": "4ba4730b",
   "metadata": {},
   "outputs": [],
   "source": [
    "# 練習 1.1: 基本陣列建立\n",
    "# 任務：建立一個包含 1-5 的一維陣列\n",
    "# 提示：使用 np.array()\n",
    "arr1 = None"
   ]
  },
  {
   "cell_type": "code",
   "execution_count": null,
   "id": "a28abf8e",
   "metadata": {},
   "outputs": [],
   "source": [
    "# 練習 1.2: 陣列屬性檢查\n",
    "# 任務：建立一個 2x3 陣列，並檢查其維度、形狀和數據類型\n",
    "# 提示：使用 .ndim, .shape, .dtype\n",
    "arr2 = None"
   ]
  },
  {
   "cell_type": "code",
   "execution_count": null,
   "id": "9a5ecfc9",
   "metadata": {},
   "outputs": [],
   "source": [
    "# 練習 1.3: 簡單運算\n",
    "# 任務：將陣列 [1, 2, 3, 4, 5] 中的所有元素乘 2\n",
    "# 提示：使用陣列乘法\n",
    "arr3 = None"
   ]
  },
  {
   "cell_type": "markdown",
   "id": "021f828a",
   "metadata": {},
   "source": [
    "\n",
    "## M2: 陣列建立方式"
   ]
  },
  {
   "cell_type": "code",
   "execution_count": null,
   "id": "48537e21",
   "metadata": {},
   "outputs": [],
   "source": [
    "# 練習 2.1: 特殊陣列\n",
    "# 任務：建立一個 3x3 的單位矩陣\n",
    "# 提示：使用 np.eye()\n",
    "identity_matrix = None"
   ]
  },
  {
   "cell_type": "code",
   "execution_count": null,
   "id": "f19de131",
   "metadata": {},
   "outputs": [],
   "source": [
    "# 練習 2.2: 等差數列\n",
    "# 任務：建立 0 到 10 間隔為 2 的陣列\n",
    "# 提示：使用 np.arange()\n",
    "sequence = None"
   ]
  },
  {
   "cell_type": "code",
   "execution_count": null,
   "id": "18a2733d",
   "metadata": {},
   "outputs": [],
   "source": [
    "# 練習 2.3: 隨機數陣列\n",
    "# 任務：生成 5 個 0-1 之間的隨機數\n",
    "# 提示：使用 np.random.rand()\n",
    "random_array = None"
   ]
  },
  {
   "cell_type": "markdown",
   "id": "fdfc4005",
   "metadata": {},
   "source": [
    "\n",
    "## M3: 索引與切片"
   ]
  },
  {
   "cell_type": "code",
   "execution_count": null,
   "id": "c7ec00f9",
   "metadata": {},
   "outputs": [],
   "source": [
    "# 練習 3.1: 基本切片\n",
    "# 任務：從陣列 [1, 2, 3, 4, 5] 中取出前三個元素\n",
    "arr = np.array([1, 2, 3, 4, 5])\n",
    "first_three = None"
   ]
  },
  {
   "cell_type": "code",
   "execution_count": null,
   "id": "18817f1b",
   "metadata": {},
   "outputs": [],
   "source": [
    "# 練習 3.2: 條件索引\n",
    "# 任務：找出陣列 [2, 4, 6, 8, 10] 中大於 5 的元素\n",
    "arr = np.array([2, 4, 6, 8, 10])\n",
    "greater_than_five = None"
   ]
  },
  {
   "cell_type": "code",
   "execution_count": null,
   "id": "baac0141",
   "metadata": {},
   "outputs": [],
   "source": [
    "# 練習 3.3: 二維切片\n",
    "# 任務：從 2x3 矩陣中取出第一列\n",
    "arr = np.array([[1, 2, 3], [4, 5, 6]])\n",
    "first_row = None"
   ]
  },
  {
   "cell_type": "markdown",
   "id": "6f364356",
   "metadata": {},
   "source": [
    "\n",
    "## M4: Broadcasting"
   ]
  },
  {
   "cell_type": "code",
   "execution_count": null,
   "id": "1ef8ddaf",
   "metadata": {},
   "outputs": [],
   "source": [
    "# 練習 4.1: 標量廣播\n",
    "# 任務：將陣列 [1, 2, 3] 中的每個元素加 5\n",
    "arr = np.array([1, 2, 3])\n",
    "result1 = None"
   ]
  },
  {
   "cell_type": "code",
   "execution_count": null,
   "id": "6c611842",
   "metadata": {},
   "outputs": [],
   "source": [
    "# 練習 4.2: 一維廣播\n",
    "# 任務：將向量 [10, 20, 30] 加到矩陣的每一列\n",
    "matrix = np.array([[1, 2, 3], [4, 5, 6]])\n",
    "vector = np.array([10, 20, 30])\n",
    "result2 = None"
   ]
  },
  {
   "cell_type": "code",
   "execution_count": null,
   "id": "bd1a30a8",
   "metadata": {},
   "outputs": [],
   "source": [
    "# 練習 4.3: 形狀擴展\n",
    "# 任務：將一維陣列 [1, 2, 3] 轉為列向量（3x1 矩陣）\n",
    "arr = np.array([1, 2, 3])\n",
    "col_vector = None"
   ]
  },
  {
   "cell_type": "markdown",
   "id": "afcc4f63",
   "metadata": {},
   "source": [
    "\n",
    "## M5: 數學函數"
   ]
  },
  {
   "cell_type": "code",
   "execution_count": null,
   "id": "ff597e27",
   "metadata": {},
   "outputs": [],
   "source": [
    "# 練習 5.1: 基本數學運算\n",
    "# 任務：計算陣列 [1, 4, 9, 16] 的平方根\n",
    "arr = np.array([1, 4, 9, 16])\n",
    "sqrt_result = None"
   ]
  },
  {
   "cell_type": "code",
   "execution_count": null,
   "id": "cf857248",
   "metadata": {},
   "outputs": [],
   "source": [
    "# 練習 5.2: 統計函數\n",
    "# 任務：計算陣列 [1, 2, 3, 4, 5] 的平均值和標準差\n",
    "arr = np.array([1, 2, 3, 4, 5])\n",
    "mean = None\n",
    "std = None"
   ]
  },
  {
   "cell_type": "code",
   "execution_count": null,
   "id": "e9804b87",
   "metadata": {},
   "outputs": [],
   "source": [
    "# 練習 5.3: 三角函數\n",
    "# 任務：計算角度 [0, π/2, π] 的正弦值\n",
    "angles = np.array([0, np.pi/2, np.pi])\n",
    "sin_values = None"
   ]
  },
  {
   "cell_type": "markdown",
   "id": "b764f4c8",
   "metadata": {},
   "source": [
    "\n",
    "## M6: 統計分析應用"
   ]
  },
  {
   "cell_type": "code",
   "execution_count": null,
   "id": "88cc7b3a",
   "metadata": {},
   "outputs": [],
   "source": [
    "# 練習 6.1: 數據標準化\n",
    "# 任務：將數據 [1, 2, 3, 4, 5] 標準化（減均值除以標準差）\n",
    "data = np.array([1, 2, 3, 4, 5])\n",
    "standardized = None"
   ]
  },
  {
   "cell_type": "code",
   "execution_count": null,
   "id": "ad355f5f",
   "metadata": {},
   "outputs": [],
   "source": [
    "# 練習 6.2: 相關係數\n",
    "# 任務：計算兩組數據的相關係數\n",
    "x = np.array([1, 2, 3, 4, 5])\n",
    "y = np.array([2, 4, 5, 4, 5])\n",
    "correlation = None"
   ]
  },
  {
   "cell_type": "code",
   "execution_count": null,
   "id": "0d2ad63f",
   "metadata": {},
   "outputs": [],
   "source": [
    "# 練習 6.3: 簡單統計描述\n",
    "# 任務：計算數據 [1, 2, 3, 4, 5] 的基本統計量（平均值、中位數、標準差、最小值、最大值）\n",
    "data = np.array([1, 2, 3, 4, 5])\n",
    "stats = None"
   ]
  }
 ],
 "metadata": {
  "language_info": {
   "name": "python"
  }
 },
 "nbformat": 4,
 "nbformat_minor": 5
}
