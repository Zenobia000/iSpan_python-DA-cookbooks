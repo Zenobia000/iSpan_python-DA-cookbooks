{
 "cells": [
  {
   "cell_type": "markdown",
   "id": "8c99217d",
   "metadata": {},
   "source": [
    "\n",
    "## 📘 M2.2 Pandas 基礎資料選取與索引\n",
    "\n",
    "本教學將介紹 Pandas 中用於選取和索引數據的基本方法，這些是數據分析的核心技能。\n",
    "我們將從簡單的列和行選取開始，然後學習更精確的索引技術，幫助您從數據中提取所需信息。"
   ]
  },
  {
   "cell_type": "markdown",
   "id": "d2f3c01c",
   "metadata": {},
   "source": [
    "\n",
    "### 🎯 教學目標\n",
    "\n",
    "- 🔍 了解選取 DataFrame 列和行的基本方法\n",
    "- 📌 掌握 `.loc[]` 和 `.iloc[]` 的基本用法\n",
    "- 🔎 學習簡單的條件篩選技巧\n",
    "- 💻 練習常見的數據選取操作"
   ]
  },
  {
   "cell_type": "markdown",
   "id": "a9e526be",
   "metadata": {},
   "source": [
    "### 🧰 環境設置"
   ]
  },
  {
   "cell_type": "code",
   "execution_count": 1,
   "id": "090d96ab",
   "metadata": {},
   "outputs": [],
   "source": [
    "import numpy as np\n",
    "import pandas as pd\n",
    "\n",
    "# 設置顯示選項\n",
    "pd.set_option('display.max_rows', 10)\n",
    "pd.set_option('display.max_columns', 10)\n",
    "pd.set_option('display.width', 80)\n",
    "pd.set_option('display.precision', 3)"
   ]
  },
  {
   "cell_type": "markdown",
   "id": "0ad18be0",
   "metadata": {},
   "source": [
    "\n",
    "### 📊 1. 創建示例數據"
   ]
  },
  {
   "cell_type": "code",
   "execution_count": 2,
   "id": "60886814",
   "metadata": {},
   "outputs": [
    {
     "name": "stdout",
     "output_type": "stream",
     "text": [
      "員工數據示例:\n",
      "    ID     Name Department  Salary   JoinDate Gender  Education\n",
      "0  101    Alice         HR   72000 2019-05-21      F    Masters\n",
      "1  102      Bob         IT   78000 2018-12-10      M  Bachelors\n",
      "2  103  Charlie    Finance   83000 2020-01-15      M        PhD\n",
      "3  104    David         IT   85000 2017-08-30      M    Masters\n",
      "4  105      Eve  Marketing   70000 2021-03-02      F  Bachelors\n",
      "5  106    Frank         HR   75000 2019-09-11      M  Bachelors\n",
      "6  107    Grace    Finance   88000 2020-07-28      F        PhD\n"
     ]
    }
   ],
   "source": [
    "# 創建一個員工數據的示例DataFrame\n",
    "employees = pd.DataFrame({\n",
    "    'ID': [101, 102, 103, 104, 105, 106, 107],\n",
    "    'Name': ['Alice', 'Bob', 'Charlie', 'David', 'Eve', 'Frank', 'Grace'],\n",
    "    'Department': ['HR', 'IT', 'Finance', 'IT', 'Marketing', 'HR', 'Finance'],\n",
    "    'Salary': [72000, 78000, 83000, 85000, 70000, 75000, 88000],\n",
    "    'JoinDate': ['2019-05-21', '2018-12-10', '2020-01-15', '2017-08-30', \n",
    "                 '2021-03-02', '2019-09-11', '2020-07-28'],\n",
    "    'Gender': ['F', 'M', 'M', 'M', 'F', 'M', 'F'],\n",
    "    'Education': ['Masters', 'Bachelors', 'PhD', 'Masters', 'Bachelors', 'Bachelors', 'PhD']\n",
    "})\n",
    "\n",
    "# 將JoinDate列轉換為日期類型\n",
    "employees['JoinDate'] = pd.to_datetime(employees['JoinDate'])\n",
    "\n",
    "print(\"員工數據示例:\")\n",
    "print(employees)"
   ]
  },
  {
   "cell_type": "markdown",
   "id": "f0713013",
   "metadata": {},
   "source": [
    "解說：\n",
    "- 我們創建了一個包含7名員工信息的DataFrame，有7列不同的屬性\n",
    "- 這個數據集包含了不同類型的數據：數值型、字符型和日期型\n",
    "- 我們將JoinDate列轉換為日期類型，以便後續可以進行日期相關操作\n",
    "- 這個簡單的數據集將用於展示各種選取和索引方法"
   ]
  },
  {
   "cell_type": "markdown",
   "id": "f3865c75",
   "metadata": {},
   "source": [
    "\n",
    "### 📋 2. 基本列選取"
   ]
  },
  {
   "cell_type": "code",
   "execution_count": 3,
   "id": "aee0ffeb",
   "metadata": {},
   "outputs": [
    {
     "name": "stdout",
     "output_type": "stream",
     "text": [
      "選取Name列 (Series):\n",
      "0      Alice\n",
      "1        Bob\n",
      "2    Charlie\n",
      "3      David\n",
      "4        Eve\n",
      "5      Frank\n",
      "6      Grace\n",
      "Name: Name, dtype: object\n",
      "類型: <class 'pandas.core.series.Series'>\n",
      "\n",
      "選取多列 (DataFrame):\n",
      "      Name Department  Salary\n",
      "0    Alice         HR   72000\n",
      "1      Bob         IT   78000\n",
      "2  Charlie    Finance   83000\n",
      "3    David         IT   85000\n",
      "4      Eve  Marketing   70000\n",
      "5    Frank         HR   75000\n",
      "6    Grace    Finance   88000\n",
      "類型: <class 'pandas.core.frame.DataFrame'>\n",
      "\n",
      "使用點符號選取Department列:\n",
      "0           HR\n",
      "1           IT\n",
      "2      Finance\n",
      "3           IT\n",
      "4    Marketing\n",
      "5           HR\n",
      "6      Finance\n",
      "Name: Department, dtype: object\n"
     ]
    }
   ],
   "source": [
    "# 2.1 選取單一列 (返回Series)\n",
    "name_column = employees['Name']\n",
    "print(\"選取Name列 (Series):\")\n",
    "print(name_column)\n",
    "print(f\"類型: {type(name_column)}\")\n",
    "\n",
    "# 2.2 選取多列 (返回DataFrame)\n",
    "selected_columns = employees[['Name', 'Department', 'Salary']]\n",
    "print(\"\\n選取多列 (DataFrame):\")\n",
    "print(selected_columns)\n",
    "print(f\"類型: {type(selected_columns)}\")\n",
    "\n",
    "# 2.3 選取列的另一種方法 (使用點符號)\n",
    "dept_column = employees.Department\n",
    "print(\"\\n使用點符號選取Department列:\")\n",
    "print(dept_column)\n"
   ]
  },
  {
   "cell_type": "markdown",
   "id": "b1fc5734",
   "metadata": {},
   "source": [
    "解說：\n",
    "- 單列選取: 使用單括號 `df['列名']` 返回一個Series對象\n",
    "- 多列選取: 使用雙括號 `df[['列名1', '列名2']]` 包含一個列名列表，返回DataFrame\n",
    "- 點符號選取: `df.列名` 適用於簡單列名(不包含空格或特殊字符)\n",
    "- 選取列是數據分析的基本操作，可以專注於感興趣的變量"
   ]
  },
  {
   "cell_type": "markdown",
   "id": "00f2b46d",
   "metadata": {},
   "source": [
    "\n",
    "### 📋 3. 基本行選取"
   ]
  },
  {
   "cell_type": "code",
   "execution_count": 4,
   "id": "61c8bf95",
   "metadata": {},
   "outputs": [
    {
     "name": "stdout",
     "output_type": "stream",
     "text": [
      "選取前三行:\n",
      "    ID     Name Department  Salary   JoinDate Gender  Education\n",
      "0  101    Alice         HR   72000 2019-05-21      F    Masters\n",
      "1  102      Bob         IT   78000 2018-12-10      M  Bachelors\n",
      "2  103  Charlie    Finance   83000 2020-01-15      M        PhD\n",
      "\n",
      "選取IT部門的員工:\n",
      "    ID   Name Department  Salary   JoinDate Gender  Education\n",
      "1  102    Bob         IT   78000 2018-12-10      M  Bachelors\n",
      "3  104  David         IT   85000 2017-08-30      M    Masters\n",
      "\n",
      "選取薪資超過80000的員工:\n",
      "    ID     Name Department  Salary   JoinDate Gender Education\n",
      "2  103  Charlie    Finance   83000 2020-01-15      M       PhD\n",
      "3  104    David         IT   85000 2017-08-30      M   Masters\n",
      "6  107    Grace    Finance   88000 2020-07-28      F       PhD\n"
     ]
    }
   ],
   "source": [
    "# 3.1 使用索引切片選取行 (基於位置)\n",
    "first_three_rows = employees[0:3]\n",
    "print(\"選取前三行:\")\n",
    "print(first_three_rows)\n",
    "\n",
    "# 3.2 使用條件選取行\n",
    "it_department = employees[employees['Department'] == 'IT']\n",
    "print(\"\\n選取IT部門的員工:\")\n",
    "print(it_department)\n",
    "\n",
    "high_salary = employees[employees['Salary'] > 80000]\n",
    "print(\"\\n選取薪資超過80000的員工:\")\n",
    "print(high_salary)"
   ]
  },
  {
   "cell_type": "markdown",
   "id": "eebf7bc7",
   "metadata": {},
   "source": [
    "解說：\n",
    "- 使用切片 `df[start:end]` 可以選取特定範圍的行\n",
    "- 切片遵循Python的規則，包含起始索引但不包含結束索引\n",
    "- 使用條件表達式 `df[條件]` 可以根據特定條件篩選行\n",
    "- 條件篩選返回所有滿足條件的行，是數據分析中非常實用的功能"
   ]
  },
  {
   "cell_type": "markdown",
   "id": "76473754",
   "metadata": {},
   "source": [
    "\n",
    "### 📋 4. 使用 .loc[] 和 .iloc[] 進行精確索引"
   ]
  },
  {
   "cell_type": "code",
   "execution_count": 5,
   "id": "32ce103e",
   "metadata": {},
   "outputs": [
    {
     "name": "stdout",
     "output_type": "stream",
     "text": [
      "選取ID為105的行:\n",
      "    ID Name Department  Salary   JoinDate Gender  Education\n",
      "4  105  Eve  Marketing   70000 2021-03-02      F  Bachelors\n",
      "\n",
      "選取索引為2的行:\n",
      "ID                            103\n",
      "Name                      Charlie\n",
      "Department                Finance\n",
      "Salary                      83000\n",
      "JoinDate      2020-01-15 00:00:00\n",
      "Gender                          M\n",
      "Education                     PhD\n",
      "Name: 2, dtype: object\n",
      "\n",
      "選取索引2到4的行和特定列:\n",
      "      Name Department  Salary\n",
      "2  Charlie    Finance   83000\n",
      "3    David         IT   85000\n",
      "4      Eve  Marketing   70000\n"
     ]
    }
   ],
   "source": [
    "# 4.1 基於標籤的索引 (.loc)\n",
    "# 選取ID為105的行\n",
    "row_105 = employees.loc[employees['ID'] == 105]\n",
    "print(\"選取ID為105的行:\")\n",
    "print(row_105)\n",
    "\n",
    "# 選取索引為2的行 (第3行，因為索引從0開始)\n",
    "row_2 = employees.loc[2]\n",
    "print(\"\\n選取索引為2的行:\")\n",
    "print(row_2)\n",
    "\n",
    "# 選取索引2到4的行和特定列\n",
    "subset = employees.loc[2:4, ['Name', 'Department', 'Salary']]\n",
    "print(\"\\n選取索引2到4的行和特定列:\")\n",
    "print(subset)"
   ]
  },
  {
   "cell_type": "markdown",
   "id": "17b94edf",
   "metadata": {},
   "source": [
    "解說：\n",
    "- `.loc[]` 用於基於標籤(索引)的選取\n",
    "- 可以使用單個索引值、索引範圍或索引列表\n",
    "- 可以同時指定行和列，格式為 `.loc[行選擇, 列選擇]`\n",
    "- 使用`.loc[]`時，索引範圍是閉區間，即包含結束索引"
   ]
  },
  {
   "cell_type": "code",
   "execution_count": 6,
   "id": "ed703a9c",
   "metadata": {},
   "outputs": [
    {
     "name": "stdout",
     "output_type": "stream",
     "text": [
      "選取第一行:\n",
      "ID                            101\n",
      "Name                        Alice\n",
      "Department                     HR\n",
      "Salary                      72000\n",
      "JoinDate      2019-05-21 00:00:00\n",
      "Gender                          F\n",
      "Education                 Masters\n",
      "Name: 0, dtype: object\n",
      "\n",
      "選取前三行和第1、3、5列:\n",
      "    ID Department   JoinDate\n",
      "0  101         HR 2019-05-21\n",
      "1  102         IT 2018-12-10\n",
      "2  103    Finance 2020-01-15\n",
      "\n",
      "選取最後一行:\n",
      "ID                            107\n",
      "Name                        Grace\n",
      "Department                Finance\n",
      "Salary                      88000\n",
      "JoinDate      2020-07-28 00:00:00\n",
      "Gender                          F\n",
      "Education                     PhD\n",
      "Name: 6, dtype: object\n"
     ]
    }
   ],
   "source": [
    "# 4.2 基於位置的索引 (.iloc)\n",
    "# 選取第一行 (索引為0)\n",
    "first_row = employees.iloc[0]\n",
    "print(\"選取第一行:\")\n",
    "print(first_row)\n",
    "\n",
    "# 選取前三行和第1、3、5列 (位置從0開始)\n",
    "subset_iloc = employees.iloc[0:3, [0, 2, 4]]\n",
    "print(\"\\n選取前三行和第1、3、5列:\")\n",
    "print(subset_iloc)\n",
    "\n",
    "# 使用負索引選取最後一行\n",
    "last_row = employees.iloc[-1]\n",
    "print(\"\\n選取最後一行:\")\n",
    "print(last_row)"
   ]
  },
  {
   "cell_type": "markdown",
   "id": "011cc49a",
   "metadata": {},
   "source": [
    "解說：\n",
    "- `.iloc[]` 用於基於位置的選取，與Python列表索引類似\n",
    "- 位置索引從0開始，可以使用單個位置、位置範圍或位置列表\n",
    "- 可以同時指定行和列的位置，格式為 `.iloc[行位置, 列位置]`\n",
    "- 使用`.iloc[]`時，位置範圍是半開區間，即不包含結束位置\n",
    "- 負索引表示從末尾開始計數，`-1`表示最後一個元素"
   ]
  },
  {
   "cell_type": "markdown",
   "id": "be2952f6",
   "metadata": {},
   "source": [
    "\n",
    "### 📋 5. 簡單的條件篩選"
   ]
  },
  {
   "cell_type": "code",
   "execution_count": 7,
   "id": "fc2e218c",
   "metadata": {},
   "outputs": [
    {
     "name": "stdout",
     "output_type": "stream",
     "text": [
      "女性員工:\n",
      "    ID   Name Department  Salary   JoinDate Gender  Education\n",
      "0  101  Alice         HR   72000 2019-05-21      F    Masters\n",
      "4  105    Eve  Marketing   70000 2021-03-02      F  Bachelors\n",
      "6  107  Grace    Finance   88000 2020-07-28      F        PhD\n",
      "\n",
      "HR部門的女性員工:\n",
      "    ID   Name Department  Salary   JoinDate Gender Education\n",
      "0  101  Alice         HR   72000 2019-05-21      F   Masters\n",
      "\n",
      "HR或Finance部門的員工:\n",
      "    ID     Name Department  Salary   JoinDate Gender  Education\n",
      "0  101    Alice         HR   72000 2019-05-21      F    Masters\n",
      "2  103  Charlie    Finance   83000 2020-01-15      M        PhD\n",
      "5  106    Frank         HR   75000 2019-09-11      M  Bachelors\n",
      "6  107    Grace    Finance   88000 2020-07-28      F        PhD\n",
      "\n",
      "HR或IT部門的員工:\n",
      "    ID   Name Department  Salary   JoinDate Gender  Education\n",
      "0  101  Alice         HR   72000 2019-05-21      F    Masters\n",
      "1  102    Bob         IT   78000 2018-12-10      M  Bachelors\n",
      "3  104  David         IT   85000 2017-08-30      M    Masters\n",
      "5  106  Frank         HR   75000 2019-09-11      M  Bachelors\n"
     ]
    }
   ],
   "source": [
    "# 5.1 單一條件篩選\n",
    "female_employees = employees[employees['Gender'] == 'F']\n",
    "print(\"女性員工:\")\n",
    "print(female_employees)\n",
    "\n",
    "# 5.2 多條件篩選 (使用 & 和 |)\n",
    "# &: 與操作，要求同時滿足多個條件\n",
    "hr_female = employees[(employees['Department'] == 'HR') & (employees['Gender'] == 'F')]\n",
    "print(\"\\nHR部門的女性員工:\")\n",
    "print(hr_female)\n",
    "\n",
    "# |: 或操作，滿足任一條件即可\n",
    "hr_or_finance = employees[(employees['Department'] == 'HR') | (employees['Department'] == 'Finance')]\n",
    "print(\"\\nHR或Finance部門的員工:\")\n",
    "print(hr_or_finance)\n",
    "\n",
    "# 5.3 使用 isin() 進行多值匹配\n",
    "selected_depts = employees[employees['Department'].isin(['HR', 'IT'])]\n",
    "print(\"\\nHR或IT部門的員工:\")\n",
    "print(selected_depts)"
   ]
  },
  {
   "cell_type": "markdown",
   "id": "5d48c748",
   "metadata": {},
   "source": [
    "解說：\n",
    "- 單一條件篩選: 使用比較運算符如 ==, >, <, >=, <=, != 等\n",
    "- 多條件篩選: 使用 & (與)和 | (或)連接多個條件，記得用括號包裹每個條件\n",
    "- `.isin()` 方法用於檢查值是否在給定列表中，適合多值匹配\n",
    "- 這些條件篩選方法可以靈活組合，處理各種數據分析需求"
   ]
  },
  {
   "cell_type": "markdown",
   "id": "899edc75",
   "metadata": {},
   "source": [
    "\n",
    "### 📊 6. 基礎實例：員工數據分析"
   ]
  },
  {
   "cell_type": "code",
   "execution_count": 8,
   "id": "e1f8f3c2",
   "metadata": {},
   "outputs": [
    {
     "name": "stdout",
     "output_type": "stream",
     "text": [
      "各部門平均薪資:\n",
      "Department\n",
      "Finance      85500.0\n",
      "HR           73500.0\n",
      "IT           81500.0\n",
      "Marketing    70000.0\n",
      "Name: Salary, dtype: float64\n",
      "\n",
      "薪資最高的員工:\n",
      "ID                            107\n",
      "Name                        Grace\n",
      "Department                Finance\n",
      "Salary                      88000\n",
      "JoinDate      2020-07-28 00:00:00\n",
      "Gender                          F\n",
      "Education                     PhD\n",
      "Name: 6, dtype: object\n",
      "\n",
      "各學歷層級的員工人數:\n",
      "Education\n",
      "Bachelors    3\n",
      "Masters      2\n",
      "PhD          2\n",
      "Name: count, dtype: int64\n"
     ]
    }
   ],
   "source": [
    "# 6.1 計算各部門的平均薪資\n",
    "dept_avg_salary = employees.groupby('Department')['Salary'].mean()\n",
    "print(\"各部門平均薪資:\")\n",
    "print(dept_avg_salary)\n",
    "\n",
    "# 6.2 找出薪資最高的員工\n",
    "highest_salary = employees.loc[employees['Salary'].idxmax()]\n",
    "print(\"\\n薪資最高的員工:\")\n",
    "print(highest_salary)\n",
    "\n",
    "# 6.3 統計各學歷層級的員工人數\n",
    "education_count = employees['Education'].value_counts()\n",
    "print(\"\\n各學歷層級的員工人數:\")\n",
    "print(education_count)"
   ]
  },
  {
   "cell_type": "markdown",
   "id": "48259d6e",
   "metadata": {},
   "source": [
    "解說：\n",
    "- 通過簡單的選取方法，我們可以執行基本的數據分析任務\n",
    "- `groupby()` 用於分組統計，我們會在後續課程中深入學習\n",
    "- `.idxmax()` 返回最大值所在的索引位置\n",
    "- `.value_counts()` 計算每個唯一值出現的次數\n",
    "- 這些基本操作是更複雜分析的基礎"
   ]
  },
  {
   "cell_type": "markdown",
   "id": "92319272",
   "metadata": {},
   "source": [
    "\n",
    "### 📋 7. 總結"
   ]
  },
  {
   "cell_type": "markdown",
   "id": "a2a65339",
   "metadata": {},
   "source": [
    "\n",
    "#### 7.1 選取和索引的方法概覽\n",
    "- **列選取**:\n",
    "  - 單列: `df['列名']` (返回Series)\n",
    "  - 多列: `df[['列名1', '列名2']]` (返回DataFrame)\n",
    "  \n",
    "- **行選取**:\n",
    "  - 切片: `df[start:end]`\n",
    "  - 條件: `df[df['列名'] > 值]`\n",
    "  \n",
    "- **精確索引**:\n",
    "  - `.loc[行標籤, 列標籤]` - 基於標籤索引\n",
    "  - `.iloc[行位置, 列位置]` - 基於位置索引\n",
    "  \n",
    "- **條件篩選**:\n",
    "  - 單條件: `df[df['列名'] == 值]`\n",
    "  - 多條件與: `df[(條件1) & (條件2)]`\n",
    "  - 多條件或: `df[(條件1) | (條件2)]`\n",
    "  - 多值匹配: `df[df['列名'].isin([值1, 值2])]`"
   ]
  },
  {
   "cell_type": "markdown",
   "id": "dc93267f",
   "metadata": {},
   "source": [
    "\n",
    "#### 7.2 選取與索引時的注意事項\n",
    "- `.loc[]` 的範圍是閉區間，包含結束索引\n",
    "- `.iloc[]` 的範圍是半開區間，不包含結束位置\n",
    "- 使用條件篩選時，多個條件要用括號括起來\n",
    "- 點符號 (`df.列名`) 只適用於列名不含空格或特殊字符的情況\n",
    "- 選取單列返回Series，選取多列或行返回DataFrame"
   ]
  },
  {
   "cell_type": "markdown",
   "id": "1efc2b8a",
   "metadata": {},
   "source": [
    "\n",
    "#### 7.3 下一步學習\n",
    "- 更多資料篩選技巧\n",
    "- 數據分組與聚合\n",
    "- 處理缺失值\n",
    "- 數據轉換與計算\n",
    "- 透視表與交叉表"
   ]
  }
 ],
 "metadata": {
  "kernelspec": {
   "display_name": "Python 3",
   "language": "python",
   "name": "python3"
  },
  "language_info": {
   "codemirror_mode": {
    "name": "ipython",
    "version": 3
   },
   "file_extension": ".py",
   "mimetype": "text/x-python",
   "name": "python",
   "nbconvert_exporter": "python",
   "pygments_lexer": "ipython3",
   "version": "3.11.9"
  }
 },
 "nbformat": 4,
 "nbformat_minor": 5
}
