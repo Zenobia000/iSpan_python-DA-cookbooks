{
 "cells": [
  {
   "cell_type": "code",
   "execution_count": null,
   "id": "24f9fc77",
   "metadata": {},
   "outputs": [],
   "source": [
    "[markdown]\n",
    "## 📘 M2.4 Pandas 缺失值處理基礎\n",
    "\n",
    "本教學將介紹 Pandas 中處理缺失值的基本方法。在實際數據分析中，處理缺失值是數據清洗過程中的重要步驟，掌握這些技巧可以幫助您更有效地準備數據。"
   ]
  },
  {
   "cell_type": "code",
   "execution_count": null,
   "id": "e1c71db5",
   "metadata": {},
   "outputs": [],
   "source": [
    "[markdown]\n",
    "### 🎯 教學目標\n",
    "\n",
    "- 🔍 了解 Pandas 中缺失值的表示方式\n",
    "- 📊 學習檢測和計算缺失值的方法\n",
    "- 🧹 掌握處理缺失值的基本策略（刪除與填充）\n",
    "- 💻 練習缺失值處理的基本技巧"
   ]
  },
  {
   "cell_type": "code",
   "execution_count": null,
   "id": "7dec40ad",
   "metadata": {},
   "outputs": [],
   "source": [
    "### 🧰 環境設置"
   ]
  },
  {
   "cell_type": "code",
   "execution_count": null,
   "id": "7cba991d",
   "metadata": {},
   "outputs": [],
   "source": [
    "import numpy as np\n",
    "import pandas as pd\n",
    "\n",
    "# 設置顯示選項\n",
    "pd.set_option('display.max_rows', 10)\n",
    "pd.set_option('display.max_columns', 10)\n",
    "pd.set_option('display.width', 80)\n",
    "pd.set_option('display.precision', 3)"
   ]
  },
  {
   "cell_type": "code",
   "execution_count": null,
   "id": "644beaa4",
   "metadata": {},
   "outputs": [],
   "source": [
    "[markdown]\n",
    "### 📊 1. 缺失值的表示與創建\n",
    "\n",
    "Pandas 使用 `NaN` (Not a Number) 來表示數值型數據的缺失值，使用 `None` 表示其他類型的缺失值。"
   ]
  },
  {
   "cell_type": "code",
   "execution_count": null,
   "id": "ea91829c",
   "metadata": {},
   "outputs": [],
   "source": [
    "# 1.1 創建帶有缺失值的 DataFrame\n",
    "df = pd.DataFrame({\n",
    "    'A': [1, 2, np.nan, 4, 5],\n",
    "    'B': [np.nan, 2, 3, 4, 5],\n",
    "    'C': [1, 2, 3, np.nan, 5],\n",
    "    'D': ['a', 'b', 'c', None, 'e']\n",
    "})\n",
    "\n",
    "print(\"帶有缺失值的 DataFrame:\")\n",
    "print(df)"
   ]
  },
  {
   "cell_type": "code",
   "execution_count": null,
   "id": "b011497c",
   "metadata": {},
   "outputs": [],
   "source": [
    "# 1.2 了解 NaN 和 None 的區別\n",
    "print(\"NaN 是浮點型嗎?\", np.issubdtype(type(np.nan), np.floating))\n",
    "print(\"None 的類型:\", type(None))\n",
    "print(\"\\n使用 np.nan 建立的列的數據類型:\", df['A'].dtype)\n",
    "print(\"使用 None 建立的列的數據類型:\", df['D'].dtype)"
   ]
  },
  {
   "cell_type": "code",
   "execution_count": null,
   "id": "c0bc5d36",
   "metadata": {},
   "outputs": [],
   "source": [
    "# 解說:\n",
    "# - Pandas 使用浮點型的 NaN 表示數值型缺失值\n",
    "# - None 表示非數值型數據的缺失\n",
    "# - 當列中含有 NaN 時，數值列會被轉換為浮點型\n",
    "# - 當列中含有 None 時，字符串列會保持原數據類型\n",
    "# - 在大多數情況下，Pandas 會將 None 在內部轉換為 NaN 進行處理"
   ]
  },
  {
   "cell_type": "code",
   "execution_count": null,
   "id": "d820a765",
   "metadata": {},
   "outputs": [],
   "source": [
    "[markdown]\n",
    "### 📊 2. 檢測缺失值"
   ]
  },
  {
   "cell_type": "code",
   "execution_count": null,
   "id": "0b77eb7a",
   "metadata": {},
   "outputs": [],
   "source": [
    "# 2.1 檢測缺失值\n",
    "is_na = df.isna()  # 也可以使用 df.isnull()\n",
    "print(\"缺失值檢測 (True 表示缺失):\")\n",
    "print(is_na)\n",
    "\n",
    "# 2.2 檢測非缺失值\n",
    "is_not_na = df.notna()  # 也可以使用 df.notnull()\n",
    "print(\"\\n非缺失值檢測 (True 表示非缺失):\")\n",
    "print(is_not_na)"
   ]
  },
  {
   "cell_type": "code",
   "execution_count": null,
   "id": "0933842b",
   "metadata": {},
   "outputs": [],
   "source": [
    "# 2.3 計算每列的缺失值數量\n",
    "na_count_by_column = df.isna().sum()\n",
    "print(\"每列的缺失值數量:\")\n",
    "print(na_count_by_column)\n",
    "\n",
    "# 2.4 計算每行的缺失值數量\n",
    "na_count_by_row = df.isna().sum(axis=1)\n",
    "print(\"\\n每行的缺失值數量:\")\n",
    "print(na_count_by_row)\n",
    "\n",
    "# 2.5 計算缺失值的百分比\n",
    "na_percentage = df.isna().mean() * 100\n",
    "print(\"\\n每列缺失值的百分比:\")\n",
    "print(na_percentage)"
   ]
  },
  {
   "cell_type": "code",
   "execution_count": null,
   "id": "2e16e95f",
   "metadata": {},
   "outputs": [],
   "source": [
    "# 解說:\n",
    "# - `isna()` 和 `isnull()` 都用於檢測缺失值，返回布爾值矩陣\n",
    "# - `notna()` 和 `notnull()` 用於檢測非缺失值，與 `isna()` 相反\n",
    "# - 使用 `sum()` 可以計算缺失值的數量，參數 `axis=1` 表示按行計算\n",
    "# - 使用 `mean()` 可以計算缺失值的比例，乘以 100 轉換為百分比\n",
    "# - 這些方法可以幫助我們了解數據集中缺失值的分布情況"
   ]
  },
  {
   "cell_type": "code",
   "execution_count": null,
   "id": "ef57e390",
   "metadata": {},
   "outputs": [],
   "source": [
    "[markdown]\n",
    "### 📊 3. 刪除缺失值"
   ]
  },
  {
   "cell_type": "code",
   "execution_count": null,
   "id": "094845ab",
   "metadata": {},
   "outputs": [],
   "source": [
    "# 3.1 刪除含有缺失值的行\n",
    "df_dropna_rows = df.dropna()\n",
    "print(\"刪除所有含有缺失值的行:\")\n",
    "print(df_dropna_rows)\n",
    "\n",
    "# 3.2 刪除所有值都是缺失值的行\n",
    "df_dropna_all = df.dropna(how='all')\n",
    "print(\"\\n刪除所有值都是缺失值的行:\")\n",
    "print(df_dropna_all)\n",
    "\n",
    "# 3.3 刪除含有缺失值的列\n",
    "df_dropna_columns = df.dropna(axis=1)\n",
    "print(\"\\n刪除所有含有缺失值的列:\")\n",
    "print(df_dropna_columns)"
   ]
  },
  {
   "cell_type": "code",
   "execution_count": null,
   "id": "ac5275ae",
   "metadata": {},
   "outputs": [],
   "source": [
    "# 3.4 根據閾值刪除缺失值\n",
    "# 只保留至少有 3 個非缺失值的行\n",
    "df_thresh = df.dropna(thresh=3)\n",
    "print(\"保留至少有 3 個非缺失值的行:\")\n",
    "print(df_thresh)\n",
    "\n",
    "# 3.5 基於特定列刪除缺失值\n",
    "df_subset = df.dropna(subset=['A', 'B'])\n",
    "print(\"\\n刪除 A 或 B 列有缺失值的行:\")\n",
    "print(df_subset)"
   ]
  },
  {
   "cell_type": "code",
   "execution_count": null,
   "id": "0741c387",
   "metadata": {},
   "outputs": [],
   "source": [
    "# 解說:\n",
    "# - `dropna()` 用於刪除含有缺失值的行或列\n",
    "# - 默認情況下，`dropna()` 刪除任何包含缺失值的行\n",
    "# - 參數 `how='all'` 表示僅當所有值都是缺失值時才刪除\n",
    "# - 參數 `axis=1` 表示刪除列而不是行\n",
    "# - 參數 `thresh` 指定保留行/列所需的非缺失值最小數量\n",
    "# - 參數 `subset` 指定僅考慮特定列的缺失值\n",
    "# - 這些方法默認返回新的 DataFrame，不修改原始數據"
   ]
  },
  {
   "cell_type": "code",
   "execution_count": null,
   "id": "648529d0",
   "metadata": {},
   "outputs": [],
   "source": [
    "[markdown]\n",
    "### 📊 4. 填充缺失值"
   ]
  },
  {
   "cell_type": "code",
   "execution_count": null,
   "id": "f6065049",
   "metadata": {},
   "outputs": [],
   "source": [
    "# 4.1 用固定值填充缺失值\n",
    "df_fill_0 = df.fillna(0)\n",
    "print(\"用 0 填充所有缺失值:\")\n",
    "print(df_fill_0)\n",
    "\n",
    "# 4.2 針對不同列使用不同的填充值\n",
    "fill_values = {'A': 0, 'B': 999, 'C': df['C'].mean(), 'D': 'missing'}\n",
    "df_fill_dict = df.fillna(fill_values)\n",
    "print(\"\\n使用字典指定不同列的填充值:\")\n",
    "print(df_fill_dict)"
   ]
  },
  {
   "cell_type": "code",
   "execution_count": null,
   "id": "647deb86",
   "metadata": {},
   "outputs": [],
   "source": [
    "# 4.3 使用前向填充 (Forward Fill)\n",
    "df_ffill = df.fillna(method='ffill')\n",
    "print(\"使用前向填充 (用前一個有效值填充):\")\n",
    "print(df_ffill)\n",
    "\n",
    "# 4.4 使用後向填充 (Backward Fill)\n",
    "df_bfill = df.fillna(method='bfill')\n",
    "print(\"\\n使用後向填充 (用後一個有效值填充):\")\n",
    "print(df_bfill)\n",
    "\n",
    "# 4.5 限制填充的連續缺失值數量\n",
    "df_ffill_limit = df.fillna(method='ffill', limit=1)\n",
    "print(\"\\n限制前向填充最多填充連續 1 個缺失值:\")\n",
    "print(df_ffill_limit)"
   ]
  },
  {
   "cell_type": "code",
   "execution_count": null,
   "id": "1eaaab1b",
   "metadata": {},
   "outputs": [],
   "source": [
    "# 解說:\n",
    "# - `fillna()` 用於填充缺失值\n",
    "# - 可以使用固定值填充所有缺失值\n",
    "# - 可以使用字典為不同列指定不同的填充值\n",
    "# - `method='ffill'` (或 `pad`) 表示使用前一個有效值填充\n",
    "# - `method='bfill'` (或 `backfill`) 表示使用後一個有效值填充\n",
    "# - 參數 `limit` 可以限制連續填充的缺失值數量\n",
    "# - 這些方法默認返回新的 DataFrame，不修改原始數據"
   ]
  },
  {
   "cell_type": "code",
   "execution_count": null,
   "id": "9c7d2209",
   "metadata": {},
   "outputs": [],
   "source": [
    "[markdown]\n",
    "### 📊 5. 插值法填充缺失值"
   ]
  },
  {
   "cell_type": "code",
   "execution_count": null,
   "id": "5ae7eac5",
   "metadata": {},
   "outputs": [],
   "source": [
    "# 5.1 創建一個有數值缺失的示例\n",
    "ts = pd.Series([1, np.nan, np.nan, 4, 5, np.nan, 7])\n",
    "print(\"原始數值序列:\")\n",
    "print(ts)\n",
    "\n",
    "# 5.2 線性插值\n",
    "ts_interp = ts.interpolate()\n",
    "print(\"\\n線性插值後:\")\n",
    "print(ts_interp)\n",
    "\n",
    "# 5.3 使用其他插值方法\n",
    "ts_interp_quad = ts.interpolate(method='quadratic')\n",
    "print(\"\\n二次插值後:\")\n",
    "print(ts_interp_quad)"
   ]
  },
  {
   "cell_type": "code",
   "execution_count": null,
   "id": "69b55d0a",
   "metadata": {},
   "outputs": [],
   "source": [
    "# 解說:\n",
    "# - `interpolate()` 用於使用插值法填充缺失值\n",
    "# - 默認使用線性插值，假設相鄰點之間有線性關係\n",
    "# - 也支持其他插值方法，如二次插值 (`quadratic`)\n",
    "# - 插值法主要適用於數值型數據，特別是時間序列數據\n",
    "# - 對於有明顯趨勢或規律的數據，插值法通常比簡單填充更合理\n",
    "# - 插值法需要足夠的非缺失值點作為參考"
   ]
  },
  {
   "cell_type": "code",
   "execution_count": null,
   "id": "ceb2b721",
   "metadata": {},
   "outputs": [],
   "source": [
    "[markdown]\n",
    "### 📊 6. 實際案例：學生成績數據"
   ]
  },
  {
   "cell_type": "code",
   "execution_count": null,
   "id": "caccb44e",
   "metadata": {},
   "outputs": [],
   "source": [
    "# 6.1 創建學生成績數據集\n",
    "students = pd.DataFrame({\n",
    "    'Name': ['Alice', 'Bob', 'Charlie', 'David', 'Eva', 'Frank', 'Grace'],\n",
    "    'Math': [85, 90, np.nan, 75, 60, np.nan, 95],\n",
    "    'Science': [90, np.nan, 80, 70, np.nan, 85, 100],\n",
    "    'English': [np.nan, 85, 90, 80, 70, 75, np.nan],\n",
    "    'History': [80, 75, 85, np.nan, 90, 80, 85]\n",
    "})\n",
    "\n",
    "print(\"學生成績數據 (含缺失值):\")\n",
    "print(students)"
   ]
  },
  {
   "cell_type": "code",
   "execution_count": null,
   "id": "f9454763",
   "metadata": {},
   "outputs": [],
   "source": [
    "# 6.2 檢查缺失值情況\n",
    "print(\"每門課程的缺失成績數量:\")\n",
    "print(students.isna().sum())\n",
    "print(\"\\n每個學生的缺失成績數量:\")\n",
    "print(students.isna().sum(axis=1))\n",
    "\n",
    "# 6.3 使用平均值填充缺失的成績\n",
    "students_filled = students.copy()\n",
    "for column in ['Math', 'Science', 'English', 'History']:\n",
    "    students_filled[column] = students_filled[column].fillna(students[column].mean())\n",
    "    \n",
    "print(\"\\n使用課程平均分填充後的成績:\")\n",
    "print(students_filled)\n",
    "\n",
    "# 6.4 找出完成所有科目的學生\n",
    "complete_students = students.dropna()\n",
    "print(\"\\n完成所有科目的學生:\")\n",
    "print(complete_students)"
   ]
  },
  {
   "cell_type": "code",
   "execution_count": null,
   "id": "060a6330",
   "metadata": {},
   "outputs": [],
   "source": [
    "# 解說:\n",
    "# - 在實際應用中，缺失值處理策略取決於數據的性質和分析目的\n",
    "# - 對於成績數據，使用科目平均分填充是常見的做法\n",
    "# - 計算每個學生的缺失科目數量可以幫助識別數據完整性問題\n",
    "# - 根據分析目的，可能需要刪除缺失值過多的記錄\n",
    "# - 處理缺失值是數據預處理的重要步驟，直接影響分析結果的可靠性"
   ]
  },
  {
   "cell_type": "code",
   "execution_count": null,
   "id": "6d1138c4",
   "metadata": {},
   "outputs": [],
   "source": [
    "[markdown]\n",
    "### 📋 7. 總結"
   ]
  },
  {
   "cell_type": "code",
   "execution_count": null,
   "id": "a6619c6d",
   "metadata": {},
   "outputs": [],
   "source": [
    "[markdown]\n",
    "#### 7.1 缺失值處理的主要方法\n",
    "\n",
    "- **檢測缺失值**:\n",
    "  - `isna()` / `isnull()`: 檢測缺失值\n",
    "  - `notna()` / `notnull()`: 檢測非缺失值\n",
    "  - `.sum()`, `.mean()`: 計算缺失值數量和比例\n",
    "\n",
    "- **刪除缺失值**:\n",
    "  - `dropna()`: 刪除含有缺失值的行或列\n",
    "  - 參數: `how`, `axis`, `thresh`, `subset`\n",
    "\n",
    "- **填充缺失值**:\n",
    "  - `fillna()`: 使用指定值或方法填充缺失值\n",
    "  - 填充策略: 固定值、字典指定值、前向填充、後向填充\n",
    "  - `interpolate()`: 使用插值法填充數值型缺失值"
   ]
  },
  {
   "cell_type": "code",
   "execution_count": null,
   "id": "86fcc200",
   "metadata": {},
   "outputs": [],
   "source": [
    "[markdown]\n",
    "#### 7.2 缺失值處理的注意事項\n",
    "\n",
    "- 在刪除缺失值前先了解缺失的模式和原因\n",
    "- 選擇合適的填充方法，避免引入偏差\n",
    "- 考慮缺失值是否代表有意義的信息\n",
    "- 處理缺失值前後對比數據統計特性，確保一致性\n",
    "- 根據缺失值的比例和分布選擇最合適的策略"
   ]
  },
  {
   "cell_type": "code",
   "execution_count": null,
   "id": "c23c73be",
   "metadata": {},
   "outputs": [],
   "source": [
    "[markdown]\n",
    "#### 7.3 下一步學習\n",
    "\n",
    "- 探索更多缺失值处理技巧\n",
    "- 學習數據類型轉換與處理\n",
    "- 了解重複值檢測與處理\n",
    "- 學習數據清洗的完整流程\n",
    "- 掌握數據預處理的最佳實踐"
   ]
  }
 ],
 "metadata": {},
 "nbformat": 4,
 "nbformat_minor": 5
}
