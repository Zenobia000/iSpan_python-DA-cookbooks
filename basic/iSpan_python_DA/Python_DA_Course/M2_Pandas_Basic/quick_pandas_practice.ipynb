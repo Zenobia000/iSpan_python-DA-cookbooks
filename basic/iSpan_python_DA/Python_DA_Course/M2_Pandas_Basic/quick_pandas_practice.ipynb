{
 "cells": [
  {
   "cell_type": "code",
   "execution_count": null,
   "id": "9effa0a4",
   "metadata": {},
   "outputs": [],
   "source": [
    "\n",
    "# # Pandas 30秒快速練習題\n",
    "# 這些練習題設計用於快速驗證 Pandas 的核心概念理解，每題應該能在 30 秒內想出解法。\n",
    "\n",
    "import pandas as pd\n",
    "import numpy as np\n",
    "\n",
    "# 設定顯示選項\n",
    "pd.set_option('display.max_columns', None)\n",
    "pd.set_option('display.expand_frame_repr', False)"
   ]
  },
  {
   "cell_type": "markdown",
   "id": "d653b4f7",
   "metadata": {},
   "source": [
    "\n",
    "## M2.1: DataFrame 與 Series 基礎"
   ]
  },
  {
   "cell_type": "code",
   "execution_count": null,
   "id": "75573a9c",
   "metadata": {},
   "outputs": [],
   "source": [
    "# 練習 1.1: Series 建立\n",
    "# 任務：建立一個包含 5 個城市及其人口數的 Series，並設定適當的索引\n",
    "# 提示：使用 pd.Series() 並指定 index\n",
    "population = None"
   ]
  },
  {
   "cell_type": "code",
   "execution_count": null,
   "id": "b6eef37d",
   "metadata": {},
   "outputs": [],
   "source": [
    "# 練習 1.2: DataFrame 建立\n",
    "# 任務：建立一個包含學生資訊的 DataFrame，包含姓名、年齡、成績三個欄位，至少 3 筆資料\n",
    "# 提示：使用 pd.DataFrame() 從字典建立\n",
    "students_df = None"
   ]
  },
  {
   "cell_type": "code",
   "execution_count": null,
   "id": "3dc24302",
   "metadata": {},
   "outputs": [],
   "source": [
    "# 練習 1.3: DataFrame 基本資訊\n",
    "# 任務：檢查 students_df 的基本資訊（資料型態、非空值數量等）\n",
    "# 提示：使用 .info() 方法\n",
    "# 在此處檢查資訊"
   ]
  },
  {
   "cell_type": "markdown",
   "id": "95a54d6e",
   "metadata": {},
   "source": [
    "\n",
    "## M2.2: 檔案讀取與寫入"
   ]
  },
  {
   "cell_type": "code",
   "execution_count": null,
   "id": "87af2162",
   "metadata": {},
   "outputs": [],
   "source": [
    "# 練習 2.1: CSV 讀取\n",
    "# 任務：讀取 'air-quality.csv' 檔案\n",
    "# 提示：使用 pd.read_csv()\n",
    "df_csv = None"
   ]
  },
  {
   "cell_type": "code",
   "execution_count": null,
   "id": "b1a35ec7",
   "metadata": {},
   "outputs": [],
   "source": [
    "# 練習 2.2: Excel 讀取\n",
    "# 任務：讀取 '通訊錄_output.xlsx' 檔案\n",
    "# 提示：使用 pd.read_excel()\n",
    "df_excel = None"
   ]
  },
  {
   "cell_type": "code",
   "execution_count": null,
   "id": "c4251bd7",
   "metadata": {},
   "outputs": [],
   "source": [
    "# 練習 2.3: 資料匯出\n",
    "# 任務：將 air-quality.csv 儲存為 CSV 檔案，名稱為 'output_students.csv'\n",
    "# 提示：使用 .to_csv() 方法\n",
    "# 在此處匯出資料"
   ]
  },
  {
   "cell_type": "markdown",
   "id": "f331d084",
   "metadata": {},
   "source": [
    "\n",
    "# ## M2.3: 資料選取方法"
   ]
  },
  {
   "cell_type": "code",
   "execution_count": null,
   "id": "78c3d42a",
   "metadata": {},
   "outputs": [],
   "source": [
    "# 練習 3.1: 欄位選取\n",
    "# 任務：從 students_df 中選取 '姓名' 和 '成績' 欄位\n",
    "# 提示：使用中括號 [] 或 .loc\n",
    "selected_columns = None"
   ]
  },
  {
   "cell_type": "code",
   "execution_count": null,
   "id": "00acb7f4",
   "metadata": {},
   "outputs": [],
   "source": [
    "# 練習 3.2: 條件篩選\n",
    "# 任務：找出 students_df 中成績大於 80 的學生\n",
    "# 提示：使用布林索引\n",
    "high_scores = None"
   ]
  },
  {
   "cell_type": "code",
   "execution_count": null,
   "id": "94474e0a",
   "metadata": {},
   "outputs": [],
   "source": [
    "# 練習 3.3: iloc 使用\n",
    "# 任務：選取 students_df 的前兩列和第一、第三欄\n",
    "# 提示：使用 .iloc\n",
    "selected_data = None"
   ]
  },
  {
   "cell_type": "markdown",
   "id": "ef18cdf2",
   "metadata": {},
   "source": [
    "\n",
    "## M2.4: 缺失值處理"
   ]
  },
  {
   "cell_type": "code",
   "execution_count": null,
   "id": "a2c813d9",
   "metadata": {},
   "outputs": [],
   "source": [
    "# 建立包含缺失值的測試資料\n",
    "test_df = pd.DataFrame({\n",
    "    'A': [1, np.nan, 3, np.nan, 5],\n",
    "    'B': [np.nan, 2, 3, 4, 5],\n",
    "    'C': [1, 2, np.nan, 4, 5]\n",
    "})"
   ]
  },
  {
   "cell_type": "code",
   "execution_count": null,
   "id": "a8ccd009",
   "metadata": {},
   "outputs": [],
   "source": [
    "# 練習 4.1: 缺失值檢查\n",
    "# 任務：檢查每個欄位的缺失值數量\n",
    "# 提示：使用 .isnull() 和 .sum()\n",
    "missing_count = None"
   ]
  },
  {
   "cell_type": "code",
   "execution_count": null,
   "id": "24135dc3",
   "metadata": {},
   "outputs": [],
   "source": [
    "# 練習 4.2: 填補缺失值\n",
    "# 任務：將 test_df 中的缺失值以該欄位的平均值填補\n",
    "# 提示：使用 .fillna() 和 .mean()\n",
    "filled_df = None"
   ]
  },
  {
   "cell_type": "code",
   "execution_count": null,
   "id": "8348200f",
   "metadata": {},
   "outputs": [],
   "source": [
    "# 練習 4.3: 刪除缺失值\n",
    "# 任務：刪除 test_df 中含有缺失值的列\n",
    "# 提示：使用 .dropna()\n",
    "cleaned_df = None"
   ]
  },
  {
   "cell_type": "markdown",
   "id": "84dee7da",
   "metadata": {},
   "source": [
    "\n",
    "## M2.5: 資料轉換"
   ]
  },
  {
   "cell_type": "code",
   "execution_count": null,
   "id": "95228d70",
   "metadata": {},
   "outputs": [],
   "source": [
    "# 建立測試資料\n",
    "dates_df = pd.DataFrame({\n",
    "    'date_str': ['2024-01-01', '2024-01-02', '2024-01-03'],\n",
    "    'value': [100, 200, 300]\n",
    "})"
   ]
  },
  {
   "cell_type": "code",
   "execution_count": null,
   "id": "5eb2a421",
   "metadata": {},
   "outputs": [],
   "source": [
    "# 練習 5.1: 資料型態轉換\n",
    "# 任務：將 'date_str' 欄位轉換為日期型態\n",
    "# 提示：使用 pd.to_datetime()\n",
    "dates_df['date'] = None"
   ]
  },
  {
   "cell_type": "code",
   "execution_count": null,
   "id": "68064818",
   "metadata": {},
   "outputs": [],
   "source": [
    "# 練習 5.2: 數值轉換\n",
    "# 任務：將 students_df 中的成績轉換為等第（90以上為A，80-89為B，70-79為C，60-69為D，低於60為F）\n",
    "# 提示：使用 .apply() 或 pd.cut()\n",
    "grades = None"
   ]
  },
  {
   "cell_type": "code",
   "execution_count": null,
   "id": "c383932c",
   "metadata": {},
   "outputs": [],
   "source": [
    "# 練習 5.3: 資料重塑\n",
    "# 任務：將以下資料從長格式轉換為寬格式\n",
    "long_df = pd.DataFrame({\n",
    "    'student': ['A', 'A', 'B', 'B'],\n",
    "    'subject': ['Math', 'English', 'Math', 'English'],\n",
    "    'score': [85, 90, 75, 85]\n",
    "})\n",
    "# 提示：使用 .pivot() 或 .pivot_table()\n",
    "wide_df = None"
   ]
  }
 ],
 "metadata": {
  "language_info": {
   "name": "python"
  }
 },
 "nbformat": 4,
 "nbformat_minor": 5
}
