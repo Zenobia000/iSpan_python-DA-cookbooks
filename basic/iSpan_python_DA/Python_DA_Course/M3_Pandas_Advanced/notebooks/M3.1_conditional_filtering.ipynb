{
 "cells": [
  {
   "cell_type": "markdown",
   "id": "231cc87f",
   "metadata": {},
   "source": [
    "\n",
    "# 📘 M3.1 Pandas 進階資料選取與篩選\n",
    "\n",
    "本教學將介紹 Pandas 中的進階資料選取與篩選技巧，這些技巧能讓您更有效地處理複雜資料集。\n",
    "進階篩選能力在處理大型資料集、複雜分析和資料清洗任務時特別重要，能顯著提升您的數據分析效率。"
   ]
  },
  {
   "cell_type": "markdown",
   "id": "0f6d484e",
   "metadata": {},
   "source": [
    "\n",
    "## 🎯 教學目標\n",
    "\n",
    "- 🔍 掌握複雜條件組合與布林索引進階技巧\n",
    "- 🔄 學習多級索引與標籤操作的進階方法\n",
    "- 📊 深入了解 query() 方法與字符串表達式篩選\n",
    "- 🧮 探索 DataFrame 選取的高效方法\n",
    "- 🛠️ 掌握專業資料分析師常用的進階篩選技巧"
   ]
  },
  {
   "cell_type": "markdown",
   "id": "778a210d",
   "metadata": {},
   "source": [
    "\n",
    "## 🧰 1. 環境設置"
   ]
  },
  {
   "cell_type": "code",
   "execution_count": 1,
   "id": "860bd2e6",
   "metadata": {},
   "outputs": [],
   "source": [
    "import numpy as np\n",
    "import pandas as pd\n",
    "import matplotlib.pyplot as plt\n",
    "\n",
    "# 設置顯示選項\n",
    "pd.set_option('display.max_rows', 10)\n",
    "pd.set_option('display.max_columns', 10)\n",
    "pd.set_option('display.width', 80)\n",
    "pd.set_option('display.precision', 2)"
   ]
  },
  {
   "cell_type": "markdown",
   "id": "379cebdf",
   "metadata": {},
   "source": [
    "\n",
    "## 📊 2. 複雜條件組合與進階布爾索引"
   ]
  },
  {
   "cell_type": "code",
   "execution_count": 2,
   "id": "a9be5db9",
   "metadata": {},
   "outputs": [
    {
     "name": "stdout",
     "output_type": "stream",
     "text": [
      "資料預覽:\n",
      "     ID      Name  Age  Income  Score Category    Status RegisterDate  \\\n",
      "0  1000  Client_0   56   92955    2.0        B  Inactive   2020-01-01   \n",
      "1  1001  Client_1   69   94925    7.2        A  Inactive   2020-01-02   \n",
      "2  1002  Client_2   46   97969    3.8        D   Pending   2020-01-03   \n",
      "3  1003  Client_3   32   35311    1.7        B   Pending   2020-01-04   \n",
      "4  1004  Client_4   60   83707    0.3        D  Inactive   2020-01-05   \n",
      "\n",
      "   LastLogin  \n",
      "0 2023-01-01  \n",
      "1 2023-01-02  \n",
      "2 2023-01-03  \n",
      "3 2023-01-04  \n",
      "4 2023-01-05  \n"
     ]
    }
   ],
   "source": [
    "# 建立較複雜的示例資料\n",
    "np.random.seed(42)  # 設定隨機種子以確保結果可重現\n",
    "df = pd.DataFrame({\n",
    "    'ID': range(1000, 1020),\n",
    "    'Name': ['Client_' + str(i) for i in range(20)],\n",
    "    'Age': np.random.randint(18, 70, 20),\n",
    "    'Income': np.random.randint(30000, 100000, 20),\n",
    "    'Score': np.random.randint(0, 100, 20) / 10,\n",
    "    'Category': np.random.choice(['A', 'B', 'C', 'D'], 20),\n",
    "    'Status': np.random.choice(['Active', 'Inactive', 'Pending'], 20),\n",
    "    'RegisterDate': pd.date_range(start='2020-01-01', periods=20),\n",
    "    'LastLogin': pd.date_range(start='2023-01-01', periods=20),\n",
    "})\n",
    "\n",
    "print(\"資料預覽:\")\n",
    "print(df.head())"
   ]
  },
  {
   "cell_type": "markdown",
   "id": "bd8e435b",
   "metadata": {},
   "source": [
    "\n",
    "### 2.1 複雜條件的嵌套與組合"
   ]
  },
  {
   "cell_type": "code",
   "execution_count": 3,
   "id": "09001bdd",
   "metadata": {},
   "outputs": [
    {
     "name": "stdout",
     "output_type": "stream",
     "text": [
      "複雜條件篩選結果:\n",
      "      ID       Name  Age  Income  Score Category    Status RegisterDate  \\\n",
      "0   1000   Client_0   56   92955    2.0        B  Inactive   2020-01-01   \n",
      "1   1001   Client_1   69   94925    7.2        A  Inactive   2020-01-02   \n",
      "9   1009   Client_9   40   89150    8.9        B    Active   2020-01-10   \n",
      "12  1012  Client_12   41   97435    8.3        B    Active   2020-01-13   \n",
      "13  1013  Client_13   53   86886    9.1        A  Inactive   2020-01-14   \n",
      "14  1014  Client_14   57   96803    5.9        C    Active   2020-01-15   \n",
      "\n",
      "    LastLogin  \n",
      "0  2023-01-01  \n",
      "1  2023-01-02  \n",
      "9  2023-01-10  \n",
      "12 2023-01-13  \n",
      "13 2023-01-14  \n",
      "14 2023-01-15  \n"
     ]
    }
   ],
   "source": [
    "# 複雜條件混合 AND, OR, NOT 操作\n",
    "complex_filter = (\n",
    "    # 高收入且年齡較大的客戶 或 高分數且狀態活躍的客戶\n",
    "    ((df['Income'] > 80000) & (df['Age'] > 50)) | \n",
    "    ((df['Score'] > 7) & (df['Status'] == 'Active'))\n",
    ") & ~(df['Category'].isin(['D']))  # 排除 D 類別\n",
    "\n",
    "print(\"複雜條件篩選結果:\")\n",
    "print(df[complex_filter])"
   ]
  },
  {
   "cell_type": "code",
   "execution_count": 4,
   "id": "2a7a792f",
   "metadata": {},
   "outputs": [
    {
     "name": "stdout",
     "output_type": "stream",
     "text": [
      "使用條件優先級篩選結果:\n",
      "      ID       Name  Age  Income  Score Category  Status RegisterDate  \\\n",
      "9   1009   Client_9   40   89150    8.9        B  Active   2020-01-10   \n",
      "12  1012  Client_12   41   97435    8.3        B  Active   2020-01-13   \n",
      "16  1016  Client_16   20   41394    4.3        B  Active   2020-01-17   \n",
      "\n",
      "    LastLogin  \n",
      "9  2023-01-10  \n",
      "12 2023-01-13  \n",
      "16 2023-01-17  \n"
     ]
    }
   ],
   "source": [
    "# 使用括號控制條件優先級\n",
    "# 案例：找出活躍用戶中，年齡小於30或收入高於75000的A或B類別用戶\n",
    "priority_filter = (\n",
    "    (df['Status'] == 'Active') & \n",
    "    ((df['Age'] < 30) | (df['Income'] > 75000)) & \n",
    "    (df['Category'].isin(['A', 'B']))\n",
    ")\n",
    "\n",
    "print(\"使用條件優先級篩選結果:\")\n",
    "print(df[priority_filter])"
   ]
  },
  {
   "cell_type": "markdown",
   "id": "d0cdbf4f",
   "metadata": {},
   "source": [
    "\n",
    "### 2.2 使用 query() 方法進行高效篩選"
   ]
  },
  {
   "cell_type": "code",
   "execution_count": 5,
   "id": "64361bf5",
   "metadata": {},
   "outputs": [
    {
     "name": "stdout",
     "output_type": "stream",
     "text": [
      "使用 query() 篩選年齡 > 40 且收入 > 60000 的結果:\n",
      "      ID       Name  Age  Income  Score Category    Status RegisterDate  \\\n",
      "0   1000   Client_0   56   92955    2.0        B  Inactive   2020-01-01   \n",
      "1   1001   Client_1   69   94925    7.2        A  Inactive   2020-01-02   \n",
      "2   1002   Client_2   46   97969    3.8        D   Pending   2020-01-03   \n",
      "4   1004   Client_4   60   83707    0.3        D  Inactive   2020-01-05   \n",
      "12  1012  Client_12   41   97435    8.3        B    Active   2020-01-13   \n",
      "13  1013  Client_13   53   86886    9.1        A  Inactive   2020-01-14   \n",
      "14  1014  Client_14   57   96803    5.9        C    Active   2020-01-15   \n",
      "15  1015  Client_15   41   61551    7.0        B    Active   2020-01-16   \n",
      "19  1019  Client_19   41   71606    3.4        B    Active   2020-01-20   \n",
      "\n",
      "    LastLogin  \n",
      "0  2023-01-01  \n",
      "1  2023-01-02  \n",
      "2  2023-01-03  \n",
      "4  2023-01-05  \n",
      "12 2023-01-13  \n",
      "13 2023-01-14  \n",
      "14 2023-01-15  \n",
      "15 2023-01-16  \n",
      "19 2023-01-20  \n"
     ]
    }
   ],
   "source": [
    "# 使用 query() 的基本語法\n",
    "query_result = df.query('Age > 40 and Income > 60000')\n",
    "print(\"使用 query() 篩選年齡 > 40 且收入 > 60000 的結果:\")\n",
    "print(query_result)"
   ]
  },
  {
   "cell_type": "code",
   "execution_count": 6,
   "id": "deaf5451",
   "metadata": {},
   "outputs": [
    {
     "name": "stdout",
     "output_type": "stream",
     "text": [
      "使用變量的 query() 篩選結果:\n",
      "Empty DataFrame\n",
      "Columns: [ID, Name, Age, Income, Score, Category, Status, RegisterDate, LastLogin]\n",
      "Index: []\n"
     ]
    }
   ],
   "source": [
    "# 在 query() 中使用變量參考\n",
    "min_age = 30\n",
    "max_income = 80000\n",
    "categories = ['A', 'C']\n",
    "\n",
    "# 使用 @ 符號引用外部變量\n",
    "query_with_vars = df.query(\n",
    "    'Age > @min_age and Income < @max_income and Category in @categories'\n",
    ")\n",
    "\n",
    "print(\"使用變量的 query() 篩選結果:\")\n",
    "print(query_with_vars)"
   ]
  },
  {
   "cell_type": "code",
   "execution_count": 7,
   "id": "c439c685",
   "metadata": {},
   "outputs": [
    {
     "name": "stdout",
     "output_type": "stream",
     "text": [
      "複雜條件的 query() 篩選結果:\n",
      "      ID       Name  Age  Income  Score Category    Status RegisterDate  \\\n",
      "0   1000   Client_0   56   92955    2.0        B  Inactive   2020-01-01   \n",
      "1   1001   Client_1   69   94925    7.2        A  Inactive   2020-01-02   \n",
      "2   1002   Client_2   46   97969    3.8        D   Pending   2020-01-03   \n",
      "4   1004   Client_4   60   83707    0.3        D  Inactive   2020-01-05   \n",
      "9   1009   Client_9   40   89150    8.9        B    Active   2020-01-10   \n",
      "12  1012  Client_12   41   97435    8.3        B    Active   2020-01-13   \n",
      "13  1013  Client_13   53   86886    9.1        A  Inactive   2020-01-14   \n",
      "14  1014  Client_14   57   96803    5.9        C    Active   2020-01-15   \n",
      "15  1015  Client_15   41   61551    7.0        B    Active   2020-01-16   \n",
      "\n",
      "    LastLogin  \n",
      "0  2023-01-01  \n",
      "1  2023-01-02  \n",
      "2  2023-01-03  \n",
      "4  2023-01-05  \n",
      "9  2023-01-10  \n",
      "12 2023-01-13  \n",
      "13 2023-01-14  \n",
      "14 2023-01-15  \n",
      "15 2023-01-16  \n"
     ]
    }
   ],
   "source": [
    "# query() 方法的優勢：更簡潔的語法，尤其對複雜條件\n",
    "complex_query = df.query(\n",
    "    '(Income > 70000 and Age > 45) or '\n",
    "    '(Score > 6 and Status == \"Active\") and '\n",
    "    'Category != \"D\"'\n",
    ")\n",
    "\n",
    "print(\"複雜條件的 query() 篩選結果:\")\n",
    "print(complex_query)"
   ]
  },
  {
   "cell_type": "markdown",
   "id": "35741060",
   "metadata": {},
   "source": [
    "\n",
    "### 2.3 使用 eval() 進行向量化運算"
   ]
  },
  {
   "cell_type": "code",
   "execution_count": 8,
   "id": "1723023d",
   "metadata": {},
   "outputs": [
    {
     "name": "stdout",
     "output_type": "stream",
     "text": [
      "使用 eval() 創建新列後的數據:\n",
      "   Income  Age  Score  IncomePerAge  HighValue\n",
      "0   92955   56    2.0       1659.91      False\n",
      "1   94925   69    7.2       1375.72       True\n",
      "2   97969   46    3.8       2129.76      False\n",
      "3   35311   32    1.7       1103.47      False\n",
      "4   83707   60    0.3       1395.12      False\n",
      "5   58693   25    8.8       2347.72      False\n",
      "6   55658   38    5.9       1464.68      False\n",
      "7   48431   56    1.3        864.84      False\n",
      "8   32747   36    0.8        909.64      False\n",
      "9   89150   40    8.9       2228.75       True\n"
     ]
    }
   ],
   "source": [
    "# 使用 eval() 創建複合條件列\n",
    "df['IncomePerAge'] = df.eval('Income / Age')\n",
    "df['HighValue'] = df.eval('(Income > 70000) & (Score > 6)')\n",
    "\n",
    "print(\"使用 eval() 創建新列後的數據:\")\n",
    "print(df[['Income', 'Age', 'Score', 'IncomePerAge', 'HighValue']].head(10))"
   ]
  },
  {
   "cell_type": "code",
   "execution_count": 9,
   "id": "91dc67c0",
   "metadata": {},
   "outputs": [
    {
     "name": "stdout",
     "output_type": "stream",
     "text": [
      "使用 eval() 進行複合條件篩選結果:\n",
      "      ID       Name  Age  Income  Score  ...  Status RegisterDate  LastLogin  \\\n",
      "9   1009   Client_9   40   89150    8.9  ...  Active   2020-01-10 2023-01-10   \n",
      "12  1012  Client_12   41   97435    8.3  ...  Active   2020-01-13 2023-01-13   \n",
      "14  1014  Client_14   57   96803    5.9  ...  Active   2020-01-15 2023-01-15   \n",
      "15  1015  Client_15   41   61551    7.0  ...  Active   2020-01-16 2023-01-16   \n",
      "16  1016  Client_16   20   41394    4.3  ...  Active   2020-01-17 2023-01-17   \n",
      "17  1017  Client_17   39   99092    0.7  ...  Active   2020-01-18 2023-01-18   \n",
      "19  1019  Client_19   41   71606    3.4  ...  Active   2020-01-20 2023-01-20   \n",
      "\n",
      "   IncomePerAge  HighValue  \n",
      "9       2228.75       True  \n",
      "12      2376.46       True  \n",
      "14      1698.30      False  \n",
      "15      1501.24      False  \n",
      "16      2069.70      False  \n",
      "17      2540.82      False  \n",
      "19      1746.49      False  \n",
      "\n",
      "[7 rows x 11 columns]\n"
     ]
    }
   ],
   "source": [
    "# 使用 eval() 進行條件篩選\n",
    "eval_filter = df.eval('(IncomePerAge > 1500) & (Status == \"Active\")')\n",
    "print(\"使用 eval() 進行複合條件篩選結果:\")\n",
    "print(df[eval_filter])"
   ]
  },
  {
   "cell_type": "markdown",
   "id": "9745d753",
   "metadata": {},
   "source": [
    "\n",
    "## 📊 3. 多級索引與標籤操作"
   ]
  },
  {
   "cell_type": "code",
   "execution_count": 10,
   "id": "e9769114",
   "metadata": {},
   "outputs": [
    {
     "name": "stdout",
     "output_type": "stream",
     "text": [
      "多級索引 DataFrame:\n",
      "                     Sales  Expenses\n",
      "Year Quarter Region                 \n",
      "2021 Q1      East      100        80\n",
      "     Q2      West      120        90\n",
      "     Q3      East      110        85\n",
      "2022 Q1      West      130        95\n",
      "     Q2      East      140       100\n",
      "     Q3      West      135       105\n",
      "2023 Q1      East      150       110\n",
      "     Q2      West      160       115\n"
     ]
    }
   ],
   "source": [
    "# 創建多級索引 DataFrame\n",
    "multi_idx_data = pd.DataFrame({\n",
    "    'Year': [2021, 2021, 2021, 2022, 2022, 2022, 2023, 2023],\n",
    "    'Quarter': ['Q1', 'Q2', 'Q3', 'Q1', 'Q2', 'Q3', 'Q1', 'Q2'],\n",
    "    'Region': ['East', 'West', 'East', 'West', 'East', 'West', 'East', 'West'],\n",
    "    'Sales': [100, 120, 110, 130, 140, 135, 150, 160],\n",
    "    'Expenses': [80, 90, 85, 95, 100, 105, 110, 115]\n",
    "})\n",
    "\n",
    "# 設置多級索引\n",
    "multi_df = multi_idx_data.set_index(['Year', 'Quarter', 'Region'])\n",
    "print(\"多級索引 DataFrame:\")\n",
    "print(multi_df)"
   ]
  },
  {
   "cell_type": "markdown",
   "id": "4d632ba8",
   "metadata": {},
   "source": [
    "\n",
    "### 3.1 多級索引的選取操作"
   ]
  },
  {
   "cell_type": "code",
   "execution_count": 11,
   "id": "103af980",
   "metadata": {},
   "outputs": [
    {
     "data": {
      "text/html": [
       "<div>\n",
       "<style scoped>\n",
       "    .dataframe tbody tr th:only-of-type {\n",
       "        vertical-align: middle;\n",
       "    }\n",
       "\n",
       "    .dataframe tbody tr th {\n",
       "        vertical-align: top;\n",
       "    }\n",
       "\n",
       "    .dataframe thead th {\n",
       "        text-align: right;\n",
       "    }\n",
       "</style>\n",
       "<table border=\"1\" class=\"dataframe\">\n",
       "  <thead>\n",
       "    <tr style=\"text-align: right;\">\n",
       "      <th></th>\n",
       "      <th></th>\n",
       "      <th></th>\n",
       "      <th>Sales</th>\n",
       "      <th>Expenses</th>\n",
       "    </tr>\n",
       "    <tr>\n",
       "      <th>Year</th>\n",
       "      <th>Quarter</th>\n",
       "      <th>Region</th>\n",
       "      <th></th>\n",
       "      <th></th>\n",
       "    </tr>\n",
       "  </thead>\n",
       "  <tbody>\n",
       "    <tr>\n",
       "      <th rowspan=\"3\" valign=\"top\">2021</th>\n",
       "      <th>Q1</th>\n",
       "      <th>East</th>\n",
       "      <td>100</td>\n",
       "      <td>80</td>\n",
       "    </tr>\n",
       "    <tr>\n",
       "      <th>Q2</th>\n",
       "      <th>West</th>\n",
       "      <td>120</td>\n",
       "      <td>90</td>\n",
       "    </tr>\n",
       "    <tr>\n",
       "      <th>Q3</th>\n",
       "      <th>East</th>\n",
       "      <td>110</td>\n",
       "      <td>85</td>\n",
       "    </tr>\n",
       "    <tr>\n",
       "      <th rowspan=\"3\" valign=\"top\">2022</th>\n",
       "      <th>Q1</th>\n",
       "      <th>West</th>\n",
       "      <td>130</td>\n",
       "      <td>95</td>\n",
       "    </tr>\n",
       "    <tr>\n",
       "      <th>Q2</th>\n",
       "      <th>East</th>\n",
       "      <td>140</td>\n",
       "      <td>100</td>\n",
       "    </tr>\n",
       "    <tr>\n",
       "      <th>Q3</th>\n",
       "      <th>West</th>\n",
       "      <td>135</td>\n",
       "      <td>105</td>\n",
       "    </tr>\n",
       "    <tr>\n",
       "      <th rowspan=\"2\" valign=\"top\">2023</th>\n",
       "      <th>Q1</th>\n",
       "      <th>East</th>\n",
       "      <td>150</td>\n",
       "      <td>110</td>\n",
       "    </tr>\n",
       "    <tr>\n",
       "      <th>Q2</th>\n",
       "      <th>West</th>\n",
       "      <td>160</td>\n",
       "      <td>115</td>\n",
       "    </tr>\n",
       "  </tbody>\n",
       "</table>\n",
       "</div>"
      ],
      "text/plain": [
       "                     Sales  Expenses\n",
       "Year Quarter Region                 \n",
       "2021 Q1      East      100        80\n",
       "     Q2      West      120        90\n",
       "     Q3      East      110        85\n",
       "2022 Q1      West      130        95\n",
       "     Q2      East      140       100\n",
       "     Q3      West      135       105\n",
       "2023 Q1      East      150       110\n",
       "     Q2      West      160       115"
      ]
     },
     "execution_count": 11,
     "metadata": {},
     "output_type": "execute_result"
    }
   ],
   "source": [
    "multi_df"
   ]
  },
  {
   "cell_type": "code",
   "execution_count": 12,
   "id": "e36e9821",
   "metadata": {},
   "outputs": [
    {
     "name": "stdout",
     "output_type": "stream",
     "text": [
      "選取2022年的所有數據:\n",
      "                Sales  Expenses\n",
      "Quarter Region                 \n",
      "Q1      West      130        95\n",
      "Q2      East      140       100\n",
      "Q3      West      135       105\n",
      "\n",
      "選取2021年Q1東區的數據:\n",
      "Sales       100\n",
      "Expenses     80\n",
      "Name: (2021, Q1, East), dtype: int64\n",
      "\n",
      "選取2021-2022年Q1的數據:\n",
      "                     Sales  Expenses\n",
      "Year Quarter Region                 \n",
      "2021 Q1      East      100        80\n",
      "2022 Q1      West      130        95\n"
     ]
    }
   ],
   "source": [
    "# 選取特定層級的數據\n",
    "print(\"選取2022年的所有數據:\")\n",
    "print(multi_df.loc[2022])\n",
    "\n",
    "# 選取特定多級索引組合\n",
    "print(\"\\n選取2021年Q1東區的數據:\")\n",
    "print(multi_df.loc[(2021, 'Q1', 'East')])\n",
    "\n",
    "# 選取跨層級的部分索引\n",
    "print(\"\\n選取2021-2022年Q1的數據:\")\n",
    "print(multi_df.loc[(slice(2021, 2022), 'Q1'), :])"
   ]
  },
  {
   "cell_type": "code",
   "execution_count": 13,
   "id": "d83c8c3b",
   "metadata": {},
   "outputs": [
    {
     "name": "stdout",
     "output_type": "stream",
     "text": [
      "使用複雜索引切片:\n",
      "                     Sales  Expenses\n",
      "Year Quarter Region                 \n",
      "2021 Q1      East      100        80\n",
      "     Q3      East      110        85\n",
      "2022 Q1      West      130        95\n",
      "     Q3      West      135       105\n"
     ]
    }
   ],
   "source": [
    "# 使用複雜的索引切片\n",
    "print(\"使用複雜索引切片:\")\n",
    "idx = pd.IndexSlice\n",
    "print(multi_df.loc[idx[2021:2022, ['Q1', 'Q3'], :], :])"
   ]
  },
  {
   "cell_type": "code",
   "execution_count": 14,
   "id": "9f8bc881",
   "metadata": {},
   "outputs": [
    {
     "name": "stdout",
     "output_type": "stream",
     "text": [
      "使用 xs 選取所有年度的 Q2 數據:\n",
      "             Sales  Expenses\n",
      "Year Region                 \n",
      "2021 West      120        90\n",
      "2022 East      140       100\n",
      "2023 West      160       115\n",
      "\n",
      "使用 xs 選取所有 East 地區的數據:\n",
      "              Sales  Expenses\n",
      "Year Quarter                 \n",
      "2021 Q1         100        80\n",
      "     Q3         110        85\n",
      "2022 Q2         140       100\n",
      "2023 Q1         150       110\n"
     ]
    }
   ],
   "source": [
    "# 使用 xs 方法進行跨層級選取\n",
    "print(\"使用 xs 選取所有年度的 Q2 數據:\")\n",
    "print(multi_df.xs('Q2', level='Quarter'))\n",
    "\n",
    "print(\"\\n使用 xs 選取所有 East 地區的數據:\")\n",
    "print(multi_df.xs('East', level='Region'))"
   ]
  },
  {
   "cell_type": "markdown",
   "id": "38734e4b",
   "metadata": {},
   "source": [
    "\n",
    "### 3.2 多級索引的條件篩選"
   ]
  },
  {
   "cell_type": "code",
   "execution_count": 15,
   "id": "db12071c",
   "metadata": {},
   "outputs": [
    {
     "name": "stdout",
     "output_type": "stream",
     "text": [
      "銷售額 > 130 的數據:\n",
      "                     Sales  Expenses\n",
      "Year Quarter Region                 \n",
      "2022 Q2      East      140       100\n",
      "     Q3      West      135       105\n",
      "2023 Q1      East      150       110\n",
      "     Q2      West      160       115\n"
     ]
    }
   ],
   "source": [
    "# 對多級索引 DataFrame 使用條件篩選\n",
    "sales_filter = multi_df['Sales'] > 130\n",
    "print(\"銷售額 > 130 的數據:\")\n",
    "print(multi_df[sales_filter])"
   ]
  },
  {
   "cell_type": "code",
   "execution_count": 16,
   "id": "be451e77",
   "metadata": {},
   "outputs": [
    {
     "name": "stdout",
     "output_type": "stream",
     "text": [
      "篩選所有東區且銷售額 > 120 的數據:\n",
      "                     Sales  Expenses\n",
      "Year Quarter Region                 \n",
      "2022 Q2      East      140       100\n",
      "2023 Q1      East      150       110\n"
     ]
    }
   ],
   "source": [
    "# 基於索引值的條件篩選\n",
    "print(\"篩選所有東區且銷售額 > 120 的數據:\")\n",
    "region_idx = multi_df.index.get_level_values('Region') == 'East'\n",
    "sales_idx = multi_df['Sales'] > 120\n",
    "print(multi_df[region_idx & sales_idx])"
   ]
  },
  {
   "cell_type": "markdown",
   "id": "a453255f",
   "metadata": {},
   "source": [
    "\n",
    "## 📊 4. 進階字符串操作與正則表達式篩選"
   ]
  },
  {
   "cell_type": "code",
   "execution_count": 17,
   "id": "ef02989d",
   "metadata": {},
   "outputs": [
    {
     "name": "stdout",
     "output_type": "stream",
     "text": [
      "產品數據:\n",
      "   ID             Product                                        Description  \\\n",
      "0   1       iPhone 13 Pro  Apple smartphone with A15 chip and ProMotion d...   \n",
      "1   2  Samsung Galaxy S22           Android flagship with Snapdragon 8 Gen 1   \n",
      "2   3            iPad Air        Apple tablet with M1 chip and 10.9\" display   \n",
      "3   4      Google Pixel 6  Google smartphone with Tensor chip and Android 12   \n",
      "4   5     MacBook Pro 14\"  Apple laptop with M1 Pro/Max chip and Mini-LED...   \n",
      "5   6        Xiaomi Mi 11  Android smartphone with Snapdragon 888 and 120...   \n",
      "6   7         Dell XPS 15  Windows laptop with Intel i7 and NVIDIA RTX gr...   \n",
      "7   8         AirPods Pro  Apple wireless earbuds with active noise cance...   \n",
      "8   9       Apple Watch 7     Apple smartwatch with always-on Retina display   \n",
      "9  10     Lenovo ThinkPad       Windows business laptop with Intel i5/i7 CPU   \n",
      "\n",
      "   Price  \n",
      "0    999  \n",
      "1    899  \n",
      "2    599  \n",
      "3    699  \n",
      "4   1999  \n",
      "5    799  \n",
      "6   1799  \n",
      "7    249  \n",
      "8    399  \n",
      "9   1099  \n"
     ]
    }
   ],
   "source": [
    "# 創建包含文本數據的 DataFrame\n",
    "text_df = pd.DataFrame({\n",
    "    'ID': range(1, 11),\n",
    "    'Product': ['iPhone 13 Pro', 'Samsung Galaxy S22', 'iPad Air', \n",
    "                'Google Pixel 6', 'MacBook Pro 14\"', 'Xiaomi Mi 11',\n",
    "                'Dell XPS 15', 'AirPods Pro', 'Apple Watch 7', 'Lenovo ThinkPad'],\n",
    "    'Description': [\n",
    "        'Apple smartphone with A15 chip and ProMotion display',\n",
    "        'Android flagship with Snapdragon 8 Gen 1',\n",
    "        'Apple tablet with M1 chip and 10.9\" display',\n",
    "        'Google smartphone with Tensor chip and Android 12',\n",
    "        'Apple laptop with M1 Pro/Max chip and Mini-LED display',\n",
    "        'Android smartphone with Snapdragon 888 and 120Hz display',\n",
    "        'Windows laptop with Intel i7 and NVIDIA RTX graphics',\n",
    "        'Apple wireless earbuds with active noise cancellation',\n",
    "        'Apple smartwatch with always-on Retina display',\n",
    "        'Windows business laptop with Intel i5/i7 CPU'\n",
    "    ],\n",
    "    'Price': [999, 899, 599, 699, 1999, 799, 1799, 249, 399, 1099]\n",
    "})\n",
    "\n",
    "print(\"產品數據:\")\n",
    "print(text_df)"
   ]
  },
  {
   "cell_type": "markdown",
   "id": "d3e87946",
   "metadata": {},
   "source": [
    "\n",
    "### 4.1 使用字符串方法篩選"
   ]
  },
  {
   "cell_type": "code",
   "execution_count": 18,
   "id": "34c767e6",
   "metadata": {},
   "outputs": [
    {
     "name": "stdout",
     "output_type": "stream",
     "text": [
      "蘋果產品:\n",
      "   ID          Product                                        Description  \\\n",
      "0   1    iPhone 13 Pro  Apple smartphone with A15 chip and ProMotion d...   \n",
      "2   3         iPad Air        Apple tablet with M1 chip and 10.9\" display   \n",
      "4   5  MacBook Pro 14\"  Apple laptop with M1 Pro/Max chip and Mini-LED...   \n",
      "7   8      AirPods Pro  Apple wireless earbuds with active noise cance...   \n",
      "8   9    Apple Watch 7     Apple smartwatch with always-on Retina display   \n",
      "\n",
      "   Price  \n",
      "0    999  \n",
      "2    599  \n",
      "4   1999  \n",
      "7    249  \n",
      "8    399  \n"
     ]
    }
   ],
   "source": [
    "# 使用 str.contains() 篩選產品名稱\n",
    "apple_products = text_df[text_df['Product'].str.contains('Apple|iPhone|iPad|MacBook|AirPods')]\n",
    "print(\"蘋果產品:\")\n",
    "print(apple_products)"
   ]
  },
  {
   "cell_type": "code",
   "execution_count": 19,
   "id": "ef1a69e3",
   "metadata": {},
   "outputs": [
    {
     "name": "stdout",
     "output_type": "stream",
     "text": [
      "包含'chip'且非Android產品:\n",
      "   ID          Product                                        Description  \\\n",
      "0   1    iPhone 13 Pro  Apple smartphone with A15 chip and ProMotion d...   \n",
      "2   3         iPad Air        Apple tablet with M1 chip and 10.9\" display   \n",
      "4   5  MacBook Pro 14\"  Apple laptop with M1 Pro/Max chip and Mini-LED...   \n",
      "\n",
      "   Price  \n",
      "0    999  \n",
      "2    599  \n",
      "4   1999  \n"
     ]
    }
   ],
   "source": [
    "# 使用多種字符串篩選方法\n",
    "# 找出描述中包含 \"chip\" 且不包含 \"Android\" 的產品\n",
    "chip_filter = (\n",
    "    text_df['Description'].str.contains('chip') & \n",
    "    ~text_df['Description'].str.contains('Android')\n",
    ")\n",
    "print(\"包含'chip'且非Android產品:\")\n",
    "print(text_df[chip_filter])"
   ]
  },
  {
   "cell_type": "markdown",
   "id": "8ef84f43",
   "metadata": {},
   "source": [
    "\n",
    "### 4.2 使用正則表達式進行高級篩選"
   ]
  },
  {
   "cell_type": "code",
   "execution_count": 20,
   "id": "83d94599",
   "metadata": {},
   "outputs": [
    {
     "name": "stdout",
     "output_type": "stream",
     "text": [
      "描述中包含尺寸數字的產品:\n",
      "   ID   Product                                  Description  Price\n",
      "2   3  iPad Air  Apple tablet with M1 chip and 10.9\" display    599\n"
     ]
    }
   ],
   "source": [
    "# 使用正則表達式篩選價格在說明中有明確數字的產品\n",
    "import re\n",
    "regex_filter = text_df['Description'].str.contains(r'\\d+\\.?\\d*\"', regex=True)\n",
    "print(\"描述中包含尺寸數字的產品:\")\n",
    "print(text_df[regex_filter])"
   ]
  },
  {
   "cell_type": "code",
   "execution_count": 21,
   "id": "6a9630f6",
   "metadata": {},
   "outputs": [
    {
     "name": "stdout",
     "output_type": "stream",
     "text": [
      "提取處理器資訊後的數據:\n",
      "              Product           Processor\n",
      "0       iPhone 13 Pro            A15 chip\n",
      "1  Samsung Galaxy S22    Snapdragon 8 Gen\n",
      "2            iPad Air             M1 chip\n",
      "3      Google Pixel 6         Tensor chip\n",
      "4     MacBook Pro 14\"          M1 Pro/Max\n",
      "5        Xiaomi Mi 11  Snapdragon 888 and\n",
      "6         Dell XPS 15        Intel i7 and\n",
      "7         AirPods Pro                 NaN\n",
      "8       Apple Watch 7                 NaN\n",
      "9     Lenovo ThinkPad            Intel i5\n"
     ]
    }
   ],
   "source": [
    "# 使用正則表達式擷取資訊\n",
    "# 從描述中提取處理器信息\n",
    "text_df['Processor'] = text_df['Description'].str.extract(r'((?:A\\d+|M\\d+|Intel i\\d+|Snapdragon \\d+|Tensor)(?:\\s\\w+/?\\w+)?)')\n",
    "print(\"提取處理器資訊後的數據:\")\n",
    "print(text_df[['Product', 'Processor']])"
   ]
  },
  {
   "cell_type": "markdown",
   "id": "ab694075",
   "metadata": {},
   "source": [
    "\n",
    "## 📊 5. 高效率篩選技巧與性能優化"
   ]
  },
  {
   "cell_type": "code",
   "execution_count": 22,
   "id": "245491eb",
   "metadata": {},
   "outputs": [
    {
     "name": "stdout",
     "output_type": "stream",
     "text": [
      "大型數據集結構:\n",
      "    A   B  C     D\n",
      "0  64   3  Z  0.53\n",
      "1  88  40  Z  0.20\n",
      "2  70  59  X  0.04\n",
      "3   8  61  X  0.47\n",
      "4  87  10  X  0.65\n",
      "Shape: (100000, 4)\n"
     ]
    }
   ],
   "source": [
    "# 創建較大的資料集來展示性能差異\n",
    "import time\n",
    "large_df = pd.DataFrame({\n",
    "    'A': np.random.randint(0, 100, 100000),\n",
    "    'B': np.random.randint(0, 100, 100000),\n",
    "    'C': np.random.choice(['X', 'Y', 'Z'], 100000),\n",
    "    'D': np.random.uniform(0, 1, 100000)\n",
    "})\n",
    "\n",
    "print(\"大型數據集結構:\")\n",
    "print(large_df.head())\n",
    "print(f\"Shape: {large_df.shape}\")"
   ]
  },
  {
   "cell_type": "markdown",
   "id": "594e1052",
   "metadata": {},
   "source": [
    "\n",
    "### 5.1 條件篩選的效能比較"
   ]
  },
  {
   "cell_type": "code",
   "execution_count": 23,
   "id": "ee163845",
   "metadata": {},
   "outputs": [
    {
     "name": "stdout",
     "output_type": "stream",
     "text": [
      "篩選結果包含 4852 行\n",
      "\n",
      "性能比較 (秒):\n",
      "Boolean indexing: 0.006000041961669922\n",
      "query(): 0.006711006164550781\n",
      "Sequential filtering: 0.003013134002685547\n",
      "eval() with numexpr: 0.004998683929443359\n"
     ]
    }
   ],
   "source": [
    "# 比較不同篩選方法的性能\n",
    "def compare_filtering_methods(df):\n",
    "    results = {}\n",
    "    \n",
    "    # 方法1: 標準布爾索引\n",
    "    start = time.time()\n",
    "    filtered_1 = df[(df['A'] > 50) & (df['B'] < 30) & (df['C'] == 'X')]\n",
    "    results['Boolean indexing'] = time.time() - start\n",
    "    \n",
    "    # 方法2: query() 方法\n",
    "    start = time.time()\n",
    "    filtered_2 = df.query('A > 50 and B < 30 and C == \"X\"')\n",
    "    results['query()'] = time.time() - start\n",
    "    \n",
    "    # 方法3: 单个列連續篩選\n",
    "    start = time.time()\n",
    "    filtered_3 = df[df['A'] > 50]\n",
    "    filtered_3 = filtered_3[filtered_3['B'] < 30]\n",
    "    filtered_3 = filtered_3[filtered_3['C'] == 'X']\n",
    "    results['Sequential filtering'] = time.time() - start\n",
    "    \n",
    "    # 方法4: 使用 numexpr 库加速 (如果已安装)\n",
    "    try:\n",
    "        start = time.time()\n",
    "        filtered_4 = df.eval('A > 50 & B < 30 & C == \"X\"', engine='numexpr')\n",
    "        results['eval() with numexpr'] = time.time() - start\n",
    "    except:\n",
    "        results['eval() with numexpr'] = 'Not available'\n",
    "    \n",
    "    return results, len(filtered_1)\n",
    "\n",
    "# 運行比較\n",
    "performance, row_count = compare_filtering_methods(large_df)\n",
    "print(f\"篩選結果包含 {row_count} 行\")\n",
    "print(\"\\n性能比較 (秒):\")\n",
    "for method, time_taken in performance.items():\n",
    "    print(f\"{method}: {time_taken}\")\n"
   ]
  },
  {
   "cell_type": "markdown",
   "id": "4ce570e7",
   "metadata": {},
   "source": [
    "\n",
    "### 5.2 高效篩選的最佳實踐"
   ]
  },
  {
   "cell_type": "code",
   "execution_count": 24,
   "id": "96c82380",
   "metadata": {},
   "outputs": [
    {
     "name": "stdout",
     "output_type": "stream",
     "text": [
      "高效篩選的最佳實踐：\n",
      "1. 對於簡單條件，標準布爾索引通常最快且最直觀\n",
      "2. 對於複雜條件，query() 方法提供更好的可讀性和性能\n",
      "3. 對於大型數據集，考慮使用索引來加速篩選\n",
      "4. 儘可能先篩選掉大部分不需要的資料，再做更精細的篩選\n",
      "5. 確保篩選條件的順序，將最嚴格的條件放在前面\n"
     ]
    }
   ],
   "source": [
    "# 高效篩選的技巧和建議\n",
    "print(\"高效篩選的最佳實踐：\")\n",
    "print(\"1. 對於簡單條件，標準布爾索引通常最快且最直觀\")\n",
    "print(\"2. 對於複雜條件，query() 方法提供更好的可讀性和性能\")\n",
    "print(\"3. 對於大型數據集，考慮使用索引來加速篩選\")\n",
    "print(\"4. 儘可能先篩選掉大部分不需要的資料，再做更精細的篩選\")\n",
    "print(\"5. 確保篩選條件的順序，將最嚴格的條件放在前面\")"
   ]
  },
  {
   "cell_type": "code",
   "execution_count": 25,
   "id": "23f8f1ec",
   "metadata": {},
   "outputs": [
    {
     "name": "stdout",
     "output_type": "stream",
     "text": [
      "無索引查詢時間: 0.00109 秒\n",
      "有索引查詢時間: 0.00054 秒\n",
      "性能提升: 2.03x\n"
     ]
    }
   ],
   "source": [
    "# 演示索引對查詢性能的影響\n",
    "indexed_df = large_df.copy()\n",
    "indexed_df.set_index('A', inplace=True)\n",
    "\n",
    "# 比較有索引和無索引的查詢性能\n",
    "start = time.time()\n",
    "result1 = large_df[large_df['A'] > 80]\n",
    "time_no_index = time.time() - start\n",
    "\n",
    "start = time.time()\n",
    "result2 = indexed_df.loc[indexed_df.index > 80]\n",
    "time_with_index = time.time() - start\n",
    "\n",
    "print(f\"無索引查詢時間: {time_no_index:.5f} 秒\")\n",
    "print(f\"有索引查詢時間: {time_with_index:.5f} 秒\")\n",
    "print(f\"性能提升: {time_no_index/time_with_index:.2f}x\")"
   ]
  },
  {
   "cell_type": "markdown",
   "id": "2bc70321",
   "metadata": {},
   "source": [
    "\n",
    "## 📊 6. 實際案例：客戶數據的複雜篩選與分析"
   ]
  },
  {
   "cell_type": "code",
   "execution_count": 26,
   "id": "80624011",
   "metadata": {},
   "outputs": [
    {
     "name": "stdout",
     "output_type": "stream",
     "text": [
      "客戶數據預覽:\n",
      "   CustomerID  Age Gender   Region Membership  ...  \\\n",
      "0        1001   56      M  Central   Platinum  ...   \n",
      "1        1002   69      M    North     Silver  ...   \n",
      "2        1003   46      F     East     Bronze  ...   \n",
      "3        1004   32      M    South     Bronze  ...   \n",
      "4        1005   60      M     East     Bronze  ...   \n",
      "\n",
      "                   LastPurchase TotalSpent  PurchaseCount  AverageRating  \\\n",
      "0 2023-01-01 00:00:00.000000000     564.85              6            3.2   \n",
      "1 2023-01-01 04:19:27.567567567     470.82              3            4.4   \n",
      "2 2023-01-01 08:38:55.135135135     975.04              4            4.4   \n",
      "3 2023-01-01 12:58:22.702702702     426.63              1            4.2   \n",
      "4 2023-01-01 17:17:50.270270270     289.05              2            3.4   \n",
      "\n",
      "   HasReturns  \n",
      "0       False  \n",
      "1       False  \n",
      "2       False  \n",
      "3       False  \n",
      "4        True  \n",
      "\n",
      "[5 rows x 11 columns]\n",
      "\n",
      "資料集維度: (1000, 11)\n"
     ]
    }
   ],
   "source": [
    "# 建立模擬的客戶購買數據集\n",
    "np.random.seed(42)\n",
    "n_customers = 1000\n",
    "\n",
    "# 創建基本客戶資料\n",
    "customers = pd.DataFrame({\n",
    "    'CustomerID': range(1001, 1001 + n_customers),\n",
    "    'Age': np.random.randint(18, 80, n_customers),\n",
    "    'Gender': np.random.choice(['M', 'F'], n_customers),\n",
    "    'Region': np.random.choice(['North', 'South', 'East', 'West', 'Central'], n_customers),\n",
    "    'Membership': np.random.choice(['Bronze', 'Silver', 'Gold', 'Platinum'], n_customers, \n",
    "                                  p=[0.5, 0.3, 0.15, 0.05]),\n",
    "    'SignupDate': pd.date_range(start='2018-01-01', periods=n_customers, freq='D'),\n",
    "    'LastPurchase': pd.date_range(start='2023-01-01', end='2023-06-30', periods=n_customers),\n",
    "})\n",
    "\n",
    "# 添加購買相關信息\n",
    "customers['TotalSpent'] = np.random.gamma(shape=5, scale=100, size=n_customers).round(2)\n",
    "customers['PurchaseCount'] = np.random.poisson(lam=5, size=n_customers)\n",
    "customers['AverageRating'] = np.clip(np.random.normal(loc=4, scale=0.5, size=n_customers), 1, 5).round(1)\n",
    "customers['HasReturns'] = np.random.choice([True, False], n_customers, p=[0.1, 0.9])\n",
    "\n",
    "print(\"客戶數據預覽:\")\n",
    "print(customers.head())\n",
    "print(f\"\\n資料集維度: {customers.shape}\")"
   ]
  },
  {
   "cell_type": "markdown",
   "id": "db87c990",
   "metadata": {},
   "source": [
    "\n",
    "### 6.1 業務問題解決：篩選高價值客戶"
   ]
  },
  {
   "cell_type": "code",
   "execution_count": 27,
   "id": "c510a2f5",
   "metadata": {},
   "outputs": [
    {
     "name": "stdout",
     "output_type": "stream",
     "text": [
      "符合條件的高價值客戶數: 20\n",
      "\n",
      "高價值客戶資料預覽:\n",
      "     CustomerID  Age Gender   Region Membership  ...  \\\n",
      "679        1680   33      F  Central     Silver  ...   \n",
      "681        1682   19      F    North       Gold  ...   \n",
      "687        1688   41      F  Central       Gold  ...   \n",
      "697        1698   54      M     West       Gold  ...   \n",
      "711        1712   19      F    North       Gold  ...   \n",
      "\n",
      "                     LastPurchase TotalSpent  PurchaseCount  AverageRating  \\\n",
      "679 2023-05-03 08:12:58.378378378     523.38              8            4.7   \n",
      "681 2023-05-03 16:51:53.513513514     574.88              6            4.1   \n",
      "687 2023-05-04 18:48:38.918918920     497.79             11            4.2   \n",
      "697 2023-05-06 14:03:14.594594596     937.19              6            4.1   \n",
      "711 2023-05-09 02:35:40.540540542     881.42              3            4.0   \n",
      "\n",
      "     HasReturns  \n",
      "679       False  \n",
      "681       False  \n",
      "687       False  \n",
      "697       False  \n",
      "711       False  \n",
      "\n",
      "[5 rows x 11 columns]\n"
     ]
    }
   ],
   "source": [
    "# 業務問題：識別潛在的高價值客戶，用於目標營銷活動\n",
    "# 條件：\n",
    "# 1. 總消費 > 500 或 購買次數 > 10\n",
    "# 2. 評價在 4 分以上\n",
    "# 3. 沒有退貨記錄\n",
    "# 4. 60天內有活動\n",
    "# 5. 是白金或黃金會員 或 是銀會員但年齡在30-45歲之間\n",
    "# 6. 不在南區（因為南區已有單獨活動）\n",
    "\n",
    "# 計算最後購買距今天數\n",
    "last_purchase_days = (pd.Timestamp('2023-07-01') - customers['LastPurchase']).dt.days\n",
    "\n",
    "# 使用 query() 方法處理複雜條件\n",
    "high_value_customers = customers.query(\n",
    "    '(TotalSpent > 500 or PurchaseCount > 10) and ' +\n",
    "    'AverageRating >= 4 and ' +\n",
    "    'not HasReturns and ' + \n",
    "    f'@last_purchase_days <= 60 and ' +\n",
    "    '(Membership in [\"Platinum\", \"Gold\"] or ' +\n",
    "    '(Membership == \"Silver\" and Age >= 30 and Age <= 45)) and ' +\n",
    "    'Region != \"South\"'\n",
    ")\n",
    "\n",
    "print(f\"符合條件的高價值客戶數: {len(high_value_customers)}\")\n",
    "print(\"\\n高價值客戶資料預覽:\")\n",
    "print(high_value_customers.head())"
   ]
  },
  {
   "cell_type": "code",
   "execution_count": 28,
   "id": "f157743d",
   "metadata": {},
   "outputs": [
    {
     "name": "stdout",
     "output_type": "stream",
     "text": [
      "高價值客戶的區域分布 (%):\n",
      "Region\n",
      "Central    40.0\n",
      "West       30.0\n",
      "North      25.0\n",
      "East        5.0\n",
      "Name: proportion, dtype: float64\n"
     ]
    },
    {
     "data": {
      "image/png": "[encoded data removed]",
      "text/plain": [
       "<Figure size 1000x600 with 2 Axes>"
      ]
     },
     "metadata": {},
     "output_type": "display_data"
    }
   ],
   "source": [
    "# 分析高價值客戶的區域分布\n",
    "region_distribution = high_value_customers['Region'].value_counts(normalize=True) * 100\n",
    "print(\"高價值客戶的區域分布 (%):\")\n",
    "print(region_distribution)\n",
    "\n",
    "# 可視化高價值客戶的平均消費和購買次數的關係\n",
    "plt.figure(figsize=(10, 6))\n",
    "plt.scatter(high_value_customers['PurchaseCount'], \n",
    "            high_value_customers['TotalSpent'],\n",
    "            c=high_value_customers['AverageRating'], \n",
    "            cmap='viridis', \n",
    "            alpha=0.7,\n",
    "            s=80)\n",
    "plt.colorbar(label='Average Rating')\n",
    "plt.xlabel('Purchase Count')\n",
    "plt.ylabel('Total Spent ($)')\n",
    "plt.title('Relationship between Purchase Count and Total Spent for High-Value Customers')\n",
    "plt.grid(True, alpha=0.3)\n",
    "plt.tight_layout()\n",
    "plt.show()"
   ]
  },
  {
   "cell_type": "markdown",
   "id": "b24c9872",
   "metadata": {},
   "source": [
    "\n",
    "## 📋 7. 總結"
   ]
  },
  {
   "cell_type": "markdown",
   "id": "fb0a1983",
   "metadata": {},
   "source": [
    "\n",
    "### 7.1 進階篩選技巧\n",
    "\n",
    "- **複雜條件組合**：使用 `&`、`|`、`~` 和括號組合複雜的布爾邏輯\n",
    "- **query() 方法**：提供更簡潔、易讀的篩選語法，尤其適合複雜條件\n",
    "- **eval() 函數**：實現向量化運算和條件評估，避免中間DataFrame生成\n",
    "- **多級索引操作**：使用 `.loc`、`IndexSlice` 和 `.xs()` 高效處理層次化數據\n",
    "- **正則表達式篩選**：使用 `.str.contains(regex=True)` 和 `.str.extract()` 處理文本數據"
   ]
  },
  {
   "cell_type": "markdown",
   "id": "db3827be",
   "metadata": {},
   "source": [
    "\n",
    "### 7.2 性能優化建議\n",
    "\n",
    "- 對於頻繁查詢的列設置索引，尤其是大型數據集\n",
    "- 選擇合適的篩選方法：簡單條件用布爾索引，複雜條件用 `query()`\n",
    "- 優先篩選能排除大量數據的條件\n",
    "- 考慮使用 `categorical` 類型優化字符串列的內存使用和查詢性能\n",
    "- 對於極大型數據集，考慮使用分塊處理或 Dask/Vaex 等專用工具"
   ]
  },
  {
   "cell_type": "markdown",
   "id": "054fd645",
   "metadata": {},
   "source": [
    "\n",
    "### 7.3 下一步學習\n",
    "\n",
    "- 探索 Pandas 的分組和聚合功能\n",
    "- 學習數據透視表和交叉表操作\n",
    "- 了解 Pandas 中的合併和連接技術\n",
    "- 掌握時間序列數據分析\n",
    "- 學習高級數據清洗與預處理方法"
   ]
  }
 ],
 "metadata": {
  "kernelspec": {
   "display_name": "Python 3",
   "language": "python",
   "name": "python3"
  },
  "language_info": {
   "name": "python",
   "version": "3.11.9"
  }
 },
 "nbformat": 4,
 "nbformat_minor": 5
}
