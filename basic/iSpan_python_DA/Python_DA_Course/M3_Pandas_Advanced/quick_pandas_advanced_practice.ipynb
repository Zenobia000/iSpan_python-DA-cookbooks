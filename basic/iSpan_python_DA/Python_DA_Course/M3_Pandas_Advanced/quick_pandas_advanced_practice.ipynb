{
 "cells": [
  {
   "cell_type": "code",
   "execution_count": null,
   "id": "862c6aad",
   "metadata": {},
   "outputs": [],
   "source": [
    "\n",
    "# # Pandas 進階 30秒快速練習題\n",
    "# 這些練習題設計用於快速驗證 Pandas 進階概念的理解，每題應該能在 30 秒內想出解法。\n",
    "\n",
    "import pandas as pd\n",
    "import numpy as np\n",
    "\n",
    "# 設定顯示選項\n",
    "pd.set_option('display.max_columns', None)\n",
    "pd.set_option('display.expand_frame_repr', False)\n",
    "\n",
    "# 建立測試資料\n",
    "sales_df = pd.DataFrame({\n",
    "    '日期': pd.date_range('2024-01-01', '2024-01-05'),\n",
    "    '商品': ['A', 'B', 'A', 'C', 'B'],\n",
    "    '類別': ['食品', '電子', '食品', '服飾', '電子'],\n",
    "    '價格': [100, 500, 150, 300, 450],\n",
    "    '數量': [5, 2, 3, 1, 4],\n",
    "    '地區': ['北部', '北部', '中部', '南部', '中部']\n",
    "})"
   ]
  },
  {
   "cell_type": "markdown",
   "id": "2fa2d655",
   "metadata": {},
   "source": [
    "\n",
    "## M3.1: 條件過濾進階"
   ]
  },
  {
   "cell_type": "code",
   "execution_count": null,
   "id": "0d140713",
   "metadata": {},
   "outputs": [],
   "source": [
    "# 練習 1.1: 複合條件過濾\n",
    "# 任務：找出價格大於 200 且在北部地區的商品\n",
    "# 提示：使用 & 運算子組合條件\n",
    "filtered_sales = None"
   ]
  },
  {
   "cell_type": "code",
   "execution_count": null,
   "id": "ffae4218",
   "metadata": {},
   "outputs": [],
   "source": [
    "# 練習 1.2: 條件選擇\n",
    "# 任務：根據地區分類，如果是'北部'則標記為'重點區域'，其他標記為'一般區域'\n",
    "# 提示：使用 np.where()\n",
    "area_category = None"
   ]
  },
  {
   "cell_type": "code",
   "execution_count": null,
   "id": "9ece17d1",
   "metadata": {},
   "outputs": [],
   "source": [
    "# 練習 1.3: 多重條件選擇\n",
    "# 任務：根據價格分類：<200為'低價'，200-400為'中價'，>400為'高價'\n",
    "# 提示：使用 pd.cut() 或 np.select()\n",
    "price_category = None"
   ]
  },
  {
   "cell_type": "markdown",
   "id": "3ffee882",
   "metadata": {},
   "source": [
    "\n",
    "## M3.2: 分組聚合操作"
   ]
  },
  {
   "cell_type": "code",
   "execution_count": null,
   "id": "8e7d04df",
   "metadata": {},
   "outputs": [],
   "source": [
    "# 練習 2.1: 基本分組計算\n",
    "# 任務：計算每個類別的平均價格和總銷售數量\n",
    "# 提示：使用 groupby() 和 agg()\n",
    "category_stats = None"
   ]
  },
  {
   "cell_type": "code",
   "execution_count": null,
   "id": "b1906688",
   "metadata": {},
   "outputs": [],
   "source": [
    "# 練習 2.2: 多重分組\n",
    "# 任務：計算每個類別在每個地區的總銷售額（價格 * 數量）\n",
    "# 提示：使用 groupby() 和多個欄位\n",
    "sales_by_category_region = None"
   ]
  },
  {
   "cell_type": "code",
   "execution_count": null,
   "id": "545255e3",
   "metadata": {},
   "outputs": [],
   "source": [
    "# 練習 2.3: 自定義聚合\n",
    "# 任務：計算每個類別的最高價格和最低價格的差額\n",
    "# 提示：使用 agg() 和 lambda 函數\n",
    "price_range = None"
   ]
  },
  {
   "cell_type": "markdown",
   "id": "0474528f",
   "metadata": {},
   "source": [
    "\n",
    "## M3.3: 樞紐分析與交叉表"
   ]
  },
  {
   "cell_type": "code",
   "execution_count": null,
   "id": "854b0ccd",
   "metadata": {},
   "outputs": [],
   "source": [
    "# 練習 3.1: 建立樞紐表\n",
    "# 任務：建立以地區為索引、類別為欄位的銷售總額樞紐表\n",
    "# 提示：使用 pivot_table()\n",
    "sales_pivot = None"
   ]
  },
  {
   "cell_type": "code",
   "execution_count": null,
   "id": "c73e3a57",
   "metadata": {},
   "outputs": [],
   "source": [
    "# 練習 3.2: 交叉表分析\n",
    "# 任務：計算不同地區和類別的商品數量分布\n",
    "# 提示：使用 pd.crosstab()\n",
    "category_region_cross = None"
   ]
  },
  {
   "cell_type": "code",
   "execution_count": null,
   "id": "f1754edf",
   "metadata": {},
   "outputs": [],
   "source": [
    "# 練習 3.3: 樞紐表多值統計\n",
    "# 任務：計算每個類別的平均價格和總數量\n",
    "# 提示：使用 pivot_table() 的 aggfunc 參數\n",
    "multi_stat_pivot = None"
   ]
  },
  {
   "cell_type": "markdown",
   "id": "2d60ff64",
   "metadata": {},
   "source": [
    "## M3.4: 合併與連接操作"
   ]
  },
  {
   "cell_type": "code",
   "execution_count": null,
   "id": "cf1795c3",
   "metadata": {},
   "outputs": [],
   "source": [
    "# 建立額外的測試資料\n",
    "inventory_df = pd.DataFrame({\n",
    "    '商品': ['A', 'B', 'C', 'D'],\n",
    "    '庫存': [100, 150, 80, 200]\n",
    "})"
   ]
  },
  {
   "cell_type": "code",
   "execution_count": null,
   "id": "d9282bcd",
   "metadata": {},
   "outputs": [],
   "source": [
    "# 練習 4.1: 合併資料框\n",
    "# 任務：將銷售資料與庫存資料合併\n",
    "# 提示：使用 merge()\n",
    "merged_data = None"
   ]
  },
  {
   "cell_type": "code",
   "execution_count": null,
   "id": "66de0b34",
   "metadata": {},
   "outputs": [],
   "source": [
    "# 練習 4.2: 不同類型的連接\n",
    "# 任務：使用外部連接合併銷售和庫存資料\n",
    "# 提示：使用 merge() 的 how 參數\n",
    "outer_merged = None"
   ]
  },
  {
   "cell_type": "code",
   "execution_count": null,
   "id": "2f1af82a",
   "metadata": {},
   "outputs": [],
   "source": [
    "# 練習 4.3: 多鍵合併\n",
    "# 建立新的測試資料\n",
    "prices_df = pd.DataFrame({\n",
    "    '商品': ['A', 'B', 'C'],\n",
    "    '類別': ['食品', '電子', '服飾'],\n",
    "    '建議售價': [120, 550, 350]\n",
    "})\n",
    "# 任務：使用商品和類別作為合併鍵\n",
    "# 提示：使用 merge() 的 on 參數\n",
    "multi_key_merged = None"
   ]
  },
  {
   "cell_type": "markdown",
   "id": "c2e9c094",
   "metadata": {},
   "source": [
    "## M3.5: 時間序列操作"
   ]
  },
  {
   "cell_type": "code",
   "execution_count": null,
   "id": "b28f0c97",
   "metadata": {},
   "outputs": [],
   "source": [
    "# 建立時間序列測試資料\n",
    "time_series_df = pd.DataFrame({\n",
    "    '日期': pd.date_range('2024-01-01', '2024-01-10', freq='D'),\n",
    "    '銷售額': np.random.randint(1000, 5000, 10)\n",
    "})"
   ]
  },
  {
   "cell_type": "code",
   "execution_count": null,
   "id": "7bcd2e08",
   "metadata": {},
   "outputs": [],
   "source": [
    "# 練習 5.1: 時間索引設置\n",
    "# 任務：將日期設為索引並按日期排序\n",
    "# 提示：使用 set_index() 和 sort_index()\n",
    "ts_indexed = None"
   ]
  },
  {
   "cell_type": "code",
   "execution_count": null,
   "id": "7052cff9",
   "metadata": {},
   "outputs": [],
   "source": [
    "# 練習 5.2: 時間重採樣\n",
    "# 任務：計算三天為一期的平均銷售額\n",
    "# 提示：使用 resample()\n",
    "sales_resampled = None"
   ]
  },
  {
   "cell_type": "code",
   "execution_count": null,
   "id": "3f134433",
   "metadata": {},
   "outputs": [],
   "source": [
    "# 練習 5.3: 時間位移\n",
    "# 任務：計算銷售額的三天移動平均\n",
    "# 提示：使用 rolling()\n",
    "moving_avg = None"
   ]
  }
 ],
 "metadata": {
  "language_info": {
   "name": "python"
  }
 },
 "nbformat": 4,
 "nbformat_minor": 5
}
