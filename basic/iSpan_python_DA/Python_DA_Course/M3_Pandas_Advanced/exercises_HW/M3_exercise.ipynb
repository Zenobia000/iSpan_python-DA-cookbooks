{
 "cells": [
  {
   "cell_type": "markdown",
   "id": "3e29beda",
   "metadata": {},
   "source": [
    "\n",
    "# 📘 M3 Pandas 進階應用 - 練習題\n",
    "\n",
    "本練習將幫助您鞏固 Pandas 進階模組中學到的知識，包括條件篩選、分組聚合、樞紐表與交叉表、數據合併以及時間序列分析等技術。"
   ]
  },
  {
   "cell_type": "markdown",
   "id": "5573b6b0",
   "metadata": {},
   "source": [
    "\n",
    "## 🧰 環境設置"
   ]
  },
  {
   "cell_type": "code",
   "execution_count": 1,
   "id": "7c69f448",
   "metadata": {},
   "outputs": [],
   "source": [
    "import numpy as np\n",
    "import pandas as pd\n",
    "import matplotlib.pyplot as plt\n",
    "import seaborn as sns\n",
    "\n",
    "# 設置顯示選項\n",
    "pd.set_option('display.max_rows', 15)\n",
    "pd.set_option('display.max_columns', 12)\n",
    "pd.set_option('display.width', 100)\n",
    "pd.set_option('display.precision', 2)\n",
    "\n",
    "# 設置隨機種子確保結果可重現\n",
    "np.random.seed(42)"
   ]
  },
  {
   "cell_type": "markdown",
   "id": "2dc8eb63",
   "metadata": {},
   "source": [
    "\n",
    "## 📊 練習資料準備\n",
    "\n",
    "我們將使用一個模擬的電子商務數據集進行練習。"
   ]
  },
  {
   "cell_type": "code",
   "execution_count": 2,
   "id": "e24b3ecb",
   "metadata": {},
   "outputs": [
    {
     "name": "stdout",
     "output_type": "stream",
     "text": [
      "訂單數據預覽:\n",
      "   order_id order_date  customer_id  product_id  quantity  unit_price payment_method  \\\n",
      "0         1 2022-04-13          350          70         2      479.98         PayPal   \n",
      "1         2 2022-12-15           56          45         2      118.92  Bank Transfer   \n",
      "2         3 2022-09-28           60          98         1      564.24  Bank Transfer   \n",
      "3         4 2022-04-17          138          47         5      254.45  Bank Transfer   \n",
      "4         5 2022-03-13           39          79         6      977.37  Bank Transfer   \n",
      "\n",
      "  shipping_method order_status  total_amount  \n",
      "0        Standard    Completed        959.96  \n",
      "1        Standard    Completed        237.84  \n",
      "2        Standard    Completed        564.24  \n",
      "3         Express      Shipped       1272.25  \n",
      "4        Standard    Completed       5864.22  \n",
      "\n",
      "客戶數據預覽:\n",
      "   customer_id customer_name customer_segment    country  join_date\n",
      "0            1    Customer_1           Retail         UK 2020-01-01\n",
      "1            2    Customer_2        Wholesale         UK 2020-01-02\n",
      "2            3    Customer_3           Retail        USA 2020-01-03\n",
      "3            4    Customer_4           Retail     France 2020-01-04\n",
      "4            5    Customer_5           Retail  Australia 2020-01-05\n",
      "\n",
      "產品數據預覽:\n",
      "   product_id product_name category  supplier_id  stock_quantity\n",
      "0           1    Product_1   Sports            9             902\n",
      "1           2    Product_2     Home            6             158\n",
      "2           3    Product_3     Home            5              59\n",
      "3           4    Product_4    Books            1             498\n",
      "4           5    Product_5     Home            3             316\n"
     ]
    }
   ],
   "source": [
    "# 創建日期範圍\n",
    "dates = pd.date_range(start='2022-01-01', end='2022-12-31', freq='D')\n",
    "\n",
    "# 創建訂單數據\n",
    "n_orders = 5000\n",
    "order_data = {\n",
    "    'order_id': np.arange(1, n_orders + 1),\n",
    "    'order_date': np.random.choice(dates, n_orders),\n",
    "    'customer_id': np.random.randint(1, 501, n_orders),\n",
    "    'product_id': np.random.randint(1, 101, n_orders),\n",
    "    'quantity': np.random.randint(1, 10, n_orders),\n",
    "    'unit_price': np.random.uniform(10, 1000, n_orders).round(2),\n",
    "    'payment_method': np.random.choice(['Credit Card', 'PayPal', 'Bank Transfer', 'Cash'], n_orders),\n",
    "    'shipping_method': np.random.choice(['Standard', 'Express', 'Next Day'], n_orders, p=[0.7, 0.2, 0.1]),\n",
    "    'order_status': np.random.choice(['Completed', 'Shipped', 'Processing', 'Cancelled'], n_orders, p=[0.8, 0.1, 0.05, 0.05])\n",
    "}\n",
    "\n",
    "# 創建訂單 DataFrame\n",
    "orders_df = pd.DataFrame(order_data)\n",
    "\n",
    "# 計算訂單總金額\n",
    "orders_df['total_amount'] = orders_df['quantity'] * orders_df['unit_price']\n",
    "\n",
    "# 創建客戶數據\n",
    "n_customers = 500\n",
    "customer_data = {\n",
    "    'customer_id': np.arange(1, n_customers + 1),\n",
    "    'customer_name': [f'Customer_{i}' for i in range(1, n_customers + 1)],\n",
    "    'customer_segment': np.random.choice(['Retail', 'Wholesale', 'Online'], n_customers, p=[0.6, 0.3, 0.1]),\n",
    "    'country': np.random.choice(['USA', 'Canada', 'UK', 'Germany', 'France', 'Australia', 'Japan'], n_customers),\n",
    "    'join_date': pd.date_range(start='2020-01-01', periods=n_customers)\n",
    "}\n",
    "\n",
    "# 創建客戶 DataFrame\n",
    "customers_df = pd.DataFrame(customer_data)\n",
    "\n",
    "# 創建產品數據\n",
    "n_products = 100\n",
    "product_data = {\n",
    "    'product_id': np.arange(1, n_products + 1),\n",
    "    'product_name': [f'Product_{i}' for i in range(1, n_products + 1)],\n",
    "    'category': np.random.choice(['Electronics', 'Clothing', 'Home', 'Books', 'Sports'], n_products),\n",
    "    'supplier_id': np.random.randint(1, 21, n_products),\n",
    "    'stock_quantity': np.random.randint(0, 1000, n_products)\n",
    "}\n",
    "\n",
    "# 創建產品 DataFrame\n",
    "products_df = pd.DataFrame(product_data)\n",
    "\n",
    "# 顯示數據預覽\n",
    "print(\"訂單數據預覽:\")\n",
    "print(orders_df.head())\n",
    "print(\"\\n客戶數據預覽:\")\n",
    "print(customers_df.head())\n",
    "print(\"\\n產品數據預覽:\")\n",
    "print(products_df.head())"
   ]
  },
  {
   "cell_type": "markdown",
   "id": "e375be38",
   "metadata": {},
   "source": [
    "\n",
    "## 🔍 練習 1: 進階條件篩選\n",
    "\n",
    "使用 M3.1 中學到的進階條件篩選技術完成以下任務。"
   ]
  },
  {
   "cell_type": "markdown",
   "id": "fcfce72b",
   "metadata": {},
   "source": [
    "\n",
    "### 1.1 使用複雜條件組合\n",
    "\n",
    "篩選出符合以下條件的訂單:\n",
    "- 訂單金額大於 500 或數量大於 5\n",
    "- 支付方式為 \"Credit Card\" 或 \"PayPal\"\n",
    "- 訂單狀態不是 \"Cancelled\""
   ]
  },
  {
   "cell_type": "code",
   "execution_count": null,
   "id": "7caf84f2",
   "metadata": {},
   "outputs": [],
   "source": [
    "# 在此編寫您的代碼\n",
    "filtered_orders = None  # 替換為您的篩選代碼\n",
    "\n",
    "# 顯示結果\n",
    "print(f\"符合條件的訂單數量: {len(filtered_orders)}\")\n",
    "print(filtered_orders.head())"
   ]
  },
  {
   "cell_type": "markdown",
   "id": "f824a545",
   "metadata": {},
   "source": [
    "\n",
    "### 1.2 使用 query() 方法\n",
    "\n",
    "使用 query() 方法篩選出:\n",
    "- 2022年第一季度 (1-3月)\n",
    "- \"Electronics\" 類別的產品\n",
    "- 訂單金額大於 1000\n",
    "\n",
    "提示: 您需要先合併訂單和產品數據。"
   ]
  },
  {
   "cell_type": "code",
   "execution_count": null,
   "id": "0dc9a3d5",
   "metadata": {},
   "outputs": [],
   "source": [
    "# 在此編寫您的代碼\n",
    "# 1. 合併訂單和產品數據\n",
    "merged_data = None  # 替換為您的合併代碼\n",
    "\n",
    "# 2. 使用 query() 進行篩選\n",
    "q1_electronics = None  # 替換為您的篩選代碼\n",
    "\n",
    "# 顯示結果\n",
    "print(f\"符合條件的訂單數量: {len(q1_electronics)}\")\n",
    "print(q1_electronics.head())"
   ]
  },
  {
   "cell_type": "markdown",
   "id": "ab7aed10",
   "metadata": {},
   "source": [
    "\n",
    "### 1.3 使用字符串方法和正則表達式\n",
    "\n",
    "找出客戶名稱中包含數字 \"5\" 的客戶，並顯示他們的訂單總數和總金額。"
   ]
  },
  {
   "cell_type": "code",
   "execution_count": null,
   "id": "75b79fd2",
   "metadata": {},
   "outputs": [],
   "source": [
    "# 在此編寫您的代碼\n",
    "customers_with_5 = None  # 替換為您的篩選代碼\n",
    "\n",
    "# 合併客戶和訂單數據\n",
    "customer_orders = None  # 替換為您的合併和聚合代碼\n",
    "\n",
    "# 顯示結果\n",
    "print(f\"名稱中包含數字5的客戶數量: {len(customers_with_5)}\")\n",
    "print(customer_orders.head())"
   ]
  },
  {
   "cell_type": "markdown",
   "id": "1a117c9d",
   "metadata": {},
   "source": [
    "\n",
    "## 🔄 練習 2: 分組與聚合進階應用\n",
    "\n",
    "使用 M3.2 中學到的分組與聚合技術完成以下任務。"
   ]
  },
  {
   "cell_type": "markdown",
   "id": "ea3963a6",
   "metadata": {},
   "source": [
    "\n",
    "### 2.1 多種聚合函數組合\n",
    "\n",
    "按產品類別分組，計算以下指標:\n",
    "- 訂單總數\n",
    "- 總銷售金額\n",
    "- 平均訂單金額\n",
    "- 最大和最小訂單金額\n",
    "- 訂單金額的標準差"
   ]
  },
  {
   "cell_type": "code",
   "execution_count": null,
   "id": "4fa50243",
   "metadata": {},
   "outputs": [],
   "source": [
    "# 在此編寫您的代碼\n",
    "# 合併訂單和產品數據\n",
    "merged_data = None  # 替換為您的合併代碼\n",
    "\n",
    "# 按類別分組並計算多種聚合指標\n",
    "category_stats = None  # 替換為您的分組聚合代碼\n",
    "\n",
    "# 顯示結果\n",
    "print(category_stats)"
   ]
  },
  {
   "cell_type": "markdown",
   "id": "a0db6edb",
   "metadata": {},
   "source": [
    "\n",
    "### 2.2 使用 transform 進行組內標準化\n",
    "\n",
    "對每個產品類別內的訂單金額進行標準化，計算:\n",
    "- 每筆訂單金額與該類別平均訂單金額的差異百分比\n",
    "- 每筆訂單金額在該類別中的百分位數"
   ]
  },
  {
   "cell_type": "code",
   "execution_count": null,
   "id": "b4f492a7",
   "metadata": {},
   "outputs": [],
   "source": [
    "# 在此編寫您的代碼\n",
    "# 合併訂單和產品數據\n",
    "merged_data = None  # 替換為您的合併代碼\n",
    "\n",
    "# 使用 transform 進行組內標準化\n",
    "merged_data['category_avg'] = None  # 替換為您的 transform 代碼\n",
    "merged_data['diff_from_avg_pct'] = None  # 替換為您的計算代碼\n",
    "\n",
    "# 計算組內百分位數\n",
    "merged_data['category_percentile'] = None  # 替換為您的百分位數計算代碼\n",
    "\n",
    "# 顯示結果\n",
    "print(merged_data[['category', 'total_amount', 'category_avg', 'diff_from_avg_pct', 'category_percentile']].head(10))"
   ]
  },
  {
   "cell_type": "markdown",
   "id": "dfb035e1",
   "metadata": {},
   "source": [
    "\n",
    "### 2.3 使用 apply 進行複雜的組內操作\n",
    "\n",
    "對每個客戶，找出他們購買金額最高的前3個訂單，並計算這些訂單佔該客戶總消費的百分比。"
   ]
  },
  {
   "cell_type": "code",
   "execution_count": null,
   "id": "2a7bdb22",
   "metadata": {},
   "outputs": [],
   "source": [
    "# 在此編寫您的代碼\n",
    "# 定義一個函數來找出每個客戶的前3個訂單\n",
    "def top_orders(group):\n",
    "    # 在此編寫您的函數內容\n",
    "    pass\n",
    "\n",
    "# 應用函數到每個客戶組\n",
    "top_customer_orders = None  # 替換為您的 apply 代碼\n",
    "\n",
    "# 顯示結果\n",
    "print(top_customer_orders.head(10))"
   ]
  },
  {
   "cell_type": "markdown",
   "id": "4d1d3bfd",
   "metadata": {},
   "source": [
    "\n",
    "## 📊 練習 3: 樞紐表與交叉表\n",
    "\n",
    "使用 M3.3 中學到的樞紐表與交叉表技術完成以下任務。"
   ]
  },
  {
   "cell_type": "markdown",
   "id": "d94424ac",
   "metadata": {},
   "source": [
    "\n",
    "### 3.1 創建多層次樞紐表\n",
    "\n",
    "創建一個樞紐表，顯示:\n",
    "- 行: 產品類別和支付方式\n",
    "- 列: 訂單月份和訂單狀態\n",
    "- 值: 訂單總金額(總和)和訂單數量(計數)"
   ]
  },
  {
   "cell_type": "code",
   "execution_count": null,
   "id": "be2b06f6",
   "metadata": {},
   "outputs": [],
   "source": [
    "# 在此編寫您的代碼\n",
    "# 準備數據\n",
    "merged_data = None  # 替換為您的合併代碼\n",
    "merged_data['order_month'] = None  # 提取訂單月份\n",
    "\n",
    "# 創建多層次樞紐表\n",
    "pivot_table = None  # 替換為您的樞紐表代碼\n",
    "\n",
    "# 顯示結果\n",
    "print(pivot_table.head())"
   ]
  },
  {
   "cell_type": "markdown",
   "id": "747848de",
   "metadata": {},
   "source": [
    "\n",
    "### 3.2 使用交叉表分析類別關係\n",
    "\n",
    "創建一個交叉表，分析:\n",
    "- 不同產品類別在不同國家的銷售分布\n",
    "- 計算每個類別在每個國家的銷售佔比 (normalize)\n",
    "- 添加邊際總計"
   ]
  },
  {
   "cell_type": "code",
   "execution_count": null,
   "id": "8eec7dab",
   "metadata": {},
   "outputs": [],
   "source": [
    "# 在此編寫您的代碼\n",
    "# 準備數據\n",
    "merged_data = None  # 替換為您的合併代碼\n",
    "\n",
    "# 創建交叉表\n",
    "cross_tab = None  # 替換為您的交叉表代碼\n",
    "\n",
    "# 顯示結果\n",
    "print(cross_tab)"
   ]
  },
  {
   "cell_type": "markdown",
   "id": "4f5c68ff",
   "metadata": {},
   "source": [
    "\n",
    "### 3.3 使用 stack 和 unstack 重塑數據\n",
    "\n",
    "對練習 3.1 中創建的樞紐表:\n",
    "- 使用 stack 將月份層級轉為行\n",
    "- 然後使用 unstack 將訂單狀態轉為列\n",
    "- 最後重置索引得到一個扁平的表格"
   ]
  },
  {
   "cell_type": "code",
   "execution_count": null,
   "id": "34a498ce",
   "metadata": {},
   "outputs": [],
   "source": [
    "# 在此編寫您的代碼\n",
    "# 使用 stack 和 unstack 重塑數據\n",
    "reshaped_data = None  # 替換為您的重塑代碼\n",
    "\n",
    "# 重置索引\n",
    "flat_data = None  # 替換為您的重置索引代碼\n",
    "\n",
    "# 顯示結果\n",
    "print(flat_data.head())"
   ]
  },
  {
   "cell_type": "markdown",
   "id": "b7f5b3c4",
   "metadata": {},
   "source": [
    "\n",
    "## 🔄 練習 4: 數據合併與連接\n",
    "\n",
    "使用 M3.4 中學到的數據合併技術完成以下任務。"
   ]
  },
  {
   "cell_type": "markdown",
   "id": "446918cd",
   "metadata": {},
   "source": [
    "\n",
    "### 4.1 多表連接創建完整視圖\n",
    "\n",
    "創建一個完整的訂單視圖，包含:\n",
    "- 訂單信息\n",
    "- 客戶信息\n",
    "- 產品信息\n",
    "\n",
    "確保使用正確的連接類型，並處理可能的重複列名。"
   ]
  },
  {
   "cell_type": "code",
   "execution_count": null,
   "id": "5333770a",
   "metadata": {},
   "outputs": [],
   "source": [
    "# 在此編寫您的代碼\n",
    "# 連接訂單和客戶\n",
    "order_customer = None  # 替換為您的合併代碼\n",
    "\n",
    "# 連接訂單客戶和產品\n",
    "complete_view = None  # 替換為您的合併代碼\n",
    "\n",
    "# 顯示結果\n",
    "print(f\"完整視圖的列: {complete_view.columns.tolist()}\")\n",
    "print(f\"完整視圖的行數: {len(complete_view)}\")\n",
    "print(complete_view.head())"
   ]
  },
  {
   "cell_type": "markdown",
   "id": "f3823446",
   "metadata": {},
   "source": [
    "\n",
    "### 4.2 使用不同的合併方法比較結果\n",
    "\n",
    "比較不同合併方法 (inner, left, right, outer) 在合併訂單和產品數據時的結果差異。\n",
    "\n",
    "提示: 為了展示差異，先創建一些沒有對應訂單的產品和沒有對應產品的訂單。"
   ]
  },
  {
   "cell_type": "code",
   "execution_count": null,
   "id": "3ca1b7e7",
   "metadata": {},
   "outputs": [],
   "source": [
    "# 在此編寫您的代碼\n",
    "# 創建一些沒有對應訂單的產品\n",
    "missing_products = None  # 替換為您的代碼\n",
    "\n",
    "# 創建一些沒有對應產品的訂單\n",
    "missing_orders = None  # 替換為您的代碼\n",
    "\n",
    "# 比較不同合併方法\n",
    "inner_join = None  # 替換為您的內連接代碼\n",
    "left_join = None  # 替換為您的左連接代碼\n",
    "right_join = None  # 替換為您的右連接代碼\n",
    "outer_join = None  # 替換為您的外連接代碼\n",
    "\n",
    "# 顯示結果比較\n",
    "print(f\"Inner Join 行數: {len(inner_join)}\")\n",
    "print(f\"Left Join 行數: {len(left_join)}\")\n",
    "print(f\"Right Join 行數: {len(right_join)}\")\n",
    "print(f\"Outer Join 行數: {len(outer_join)}\")"
   ]
  },
  {
   "cell_type": "markdown",
   "id": "ff85d511",
   "metadata": {},
   "source": [
    "\n",
    "### 4.3 條件式合併\n",
    "\n",
    "假設我們有一個折扣表，根據訂單日期和產品類別提供不同的折扣率。使用條件式合併將適當的折扣應用到每個訂單。"
   ]
  },
  {
   "cell_type": "code",
   "execution_count": null,
   "id": "ad629b6f",
   "metadata": {},
   "outputs": [],
   "source": [
    "# 在此編寫您的代碼\n",
    "# 創建折扣表\n",
    "discount_data = {\n",
    "    'category': ['Electronics', 'Electronics', 'Clothing', 'Clothing', 'Home', 'Home', 'Books', 'Sports'],\n",
    "    'start_date': pd.to_datetime(['2022-01-01', '2022-07-01', '2022-01-01', '2022-07-01', \n",
    "                                  '2022-01-01', '2022-07-01', '2022-01-01', '2022-01-01']),\n",
    "    'end_date': pd.to_datetime(['2022-06-30', '2022-12-31', '2022-06-30', '2022-12-31', \n",
    "                                '2022-06-30', '2022-12-31', '2022-12-31', '2022-12-31']),\n",
    "    'discount_rate': [0.05, 0.08, 0.10, 0.15, 0.07, 0.12, 0.20, 0.10]\n",
    "}\n",
    "discount_df = pd.DataFrame(discount_data)\n",
    "\n",
    "# 準備訂單和產品數據\n",
    "merged_data = None  # 替換為您的合併代碼\n",
    "\n",
    "# 條件式合併應用折扣\n",
    "# 提示: 您需要檢查每個訂單的日期是否在折扣的日期範圍內，以及產品類別是否匹配\n",
    "orders_with_discount = None  # 替換為您的條件式合併代碼\n",
    "\n",
    "# 計算折扣後金額\n",
    "orders_with_discount['discounted_amount'] = None  # 替換為您的計算代碼\n",
    "\n",
    "# 顯示結果\n",
    "print(orders_with_discount[['order_id', 'order_date', 'category', 'total_amount', 'discount_rate', 'discounted_amount']].head(10))"
   ]
  },
  {
   "cell_type": "markdown",
   "id": "1c693ba0",
   "metadata": {},
   "source": [
    "\n",
    "## ⏰ 練習 5: 時間序列分析\n",
    "\n",
    "使用 M3.5 中學到的時間序列分析技術完成以下任務。"
   ]
  },
  {
   "cell_type": "markdown",
   "id": "32fc9241",
   "metadata": {},
   "source": [
    "\n",
    "### 5.1 時間序列重採樣與頻率轉換\n",
    "\n",
    "對訂單數據:\n",
    "- 按日、週、月重採樣，計算每個時間單位的訂單數和總金額\n",
    "- 比較不同時間尺度下的趨勢\n",
    "- 使用適當的視覺化展示結果"
   ]
  },
  {
   "cell_type": "code",
   "execution_count": null,
   "id": "6885a37c",
   "metadata": {},
   "outputs": [],
   "source": [
    "# 在此編寫您的代碼\n",
    "# 設置訂單日期為索引\n",
    "orders_ts = None  # 替換為您的代碼\n",
    "\n",
    "# 按不同頻率重採樣\n",
    "daily_orders = None  # 替換為您的日重採樣代碼\n",
    "weekly_orders = None  # 替換為您的週重採樣代碼\n",
    "monthly_orders = None  # 替換為您的月重採樣代碼\n",
    "\n",
    "# 視覺化比較\n",
    "plt.figure(figsize=(15, 10))\n",
    "\n",
    "# 繪製日訂單量\n",
    "plt.subplot(3, 1, 1)\n",
    "# 在此編寫您的繪圖代碼\n",
    "\n",
    "# 繪製週訂單量\n",
    "plt.subplot(3, 1, 2)\n",
    "# 在此編寫您的繪圖代碼\n",
    "\n",
    "# 繪製月訂單量\n",
    "plt.subplot(3, 1, 3)\n",
    "# 在此編寫您的繪圖代碼\n",
    "\n",
    "plt.tight_layout()\n",
    "plt.show()"
   ]
  },
  {
   "cell_type": "markdown",
   "id": "673215a9",
   "metadata": {},
   "source": [
    "\n",
    "### 5.2 移動窗口計算\n",
    "\n",
    "計算訂單金額的:\n",
    "- 7天移動平均\n",
    "- 30天移動平均\n",
    "- 7天移動標準差\n",
    "\n",
    "使用這些指標識別銷售趨勢和波動性。"
   ]
  },
  {
   "cell_type": "code",
   "execution_count": null,
   "id": "6c87c53c",
   "metadata": {},
   "outputs": [],
   "source": [
    "# 在此編寫您的代碼\n",
    "# 按日期匯總訂單金額\n",
    "daily_sales = None  # 替換為您的代碼\n",
    "\n",
    "# 計算移動平均和標準差\n",
    "daily_sales['7d_MA'] = None  # 替換為您的7天移動平均代碼\n",
    "daily_sales['30d_MA'] = None  # 替換為您的30天移動平均代碼\n",
    "daily_sales['7d_STD'] = None  # 替換為您的7天標準差代碼\n",
    "\n",
    "# 視覺化結果\n",
    "plt.figure(figsize=(15, 10))\n",
    "\n",
    "# 繪製移動平均\n",
    "plt.subplot(2, 1, 1)\n",
    "# 在此編寫您的繪圖代碼\n",
    "\n",
    "# 繪製移動標準差\n",
    "plt.subplot(2, 1, 2)\n",
    "# 在此編寫您的繪圖代碼\n",
    "\n",
    "plt.tight_layout()\n",
    "plt.show()"
   ]
  },
  {
   "cell_type": "markdown",
   "id": "bd3efe87",
   "metadata": {},
   "source": [
    "\n",
    "### 5.3 時間序列分解\n",
    "\n",
    "對月度銷售數據進行時間序列分解:\n",
    "- 提取趨勢成分\n",
    "- 提取季節性成分\n",
    "- 提取殘差成分\n",
    "- 分析各成分的特點"
   ]
  },
  {
   "cell_type": "code",
   "execution_count": null,
   "id": "cd37675e",
   "metadata": {},
   "outputs": [],
   "source": [
    "# 在此編寫您的代碼\n",
    "from statsmodels.tsa.seasonal import seasonal_decompose\n",
    "\n",
    "# 準備月度銷售數據\n",
    "monthly_sales = None  # 替換為您的代碼\n",
    "\n",
    "# 進行時間序列分解\n",
    "decomposition = None  # 替換為您的分解代碼\n",
    "\n",
    "# 提取各成分\n",
    "trend = decomposition.trend\n",
    "seasonal = decomposition.seasonal\n",
    "residual = decomposition.resid\n",
    "\n",
    "# 視覺化分解結果\n",
    "plt.figure(figsize=(12, 10))\n",
    "\n",
    "# 繪製原始數據\n",
    "plt.subplot(4, 1, 1)\n",
    "# 在此編寫您的繪圖代碼\n",
    "\n",
    "# 繪製趨勢成分\n",
    "plt.subplot(4, 1, 2)\n",
    "# 在此編寫您的繪圖代碼\n",
    "\n",
    "# 繪製季節性成分\n",
    "plt.subplot(4, 1, 3)\n",
    "# 在此編寫您的繪圖代碼\n",
    "\n",
    "# 繪製殘差成分\n",
    "plt.subplot(4, 1, 4)\n",
    "# 在此編寫您的繪圖代碼\n",
    "\n",
    "plt.tight_layout()\n",
    "plt.show()"
   ]
  },
  {
   "cell_type": "markdown",
   "id": "7e5e113b",
   "metadata": {},
   "source": [
    "\n",
    "## 🏆 綜合挑戰: 電子商務數據分析儀表板\n",
    "\n",
    "結合本模組學到的所有技術，創建一個電子商務數據分析儀表板，包括:\n",
    "\n",
    "1. 銷售概況: 總訂單數、總銷售額、平均訂單金額、取消率\n",
    "2. 時間趨勢: 按月銷售趨勢，識別季節性模式\n",
    "3. 客戶分析: 按客戶細分的銷售分布，識別高價值客戶\n",
    "4. 產品分析: 按類別的銷售分布，識別熱門產品\n",
    "5. 地理分析: 按國家的銷售分布\n",
    "\n",
    "使用適當的視覺化展示您的分析結果。"
   ]
  },
  {
   "cell_type": "code",
   "execution_count": null,
   "id": "38238f40",
   "metadata": {},
   "outputs": [],
   "source": [
    "# 在此編寫您的綜合分析代碼\n",
    "# 1. 準備數據\n",
    "complete_data = None  # 替換為您的數據準備代碼\n",
    "\n",
    "# 2. 銷售概況\n",
    "sales_summary = None  # 替換為您的銷售概況計算代碼\n",
    "\n",
    "# 3. 時間趨勢分析\n",
    "time_trend = None  # 替換為您的時間趨勢分析代碼\n",
    "\n",
    "# 4. 客戶分析\n",
    "customer_analysis = None  # 替換為您的客戶分析代碼\n",
    "\n",
    "# 5. 產品分析\n",
    "product_analysis = None  # 替換為您的產品分析代碼\n",
    "\n",
    "# 6. 地理分析\n",
    "geo_analysis = None  # 替換為您的地理分析代碼\n",
    "\n",
    "# 7. 創建儀表板\n",
    "plt.figure(figsize=(15, 15))\n",
    "\n",
    "# 銷售趨勢\n",
    "plt.subplot(3, 2, 1)\n",
    "# 在此編寫您的繪圖代碼\n",
    "\n",
    "# 類別分布\n",
    "plt.subplot(3, 2, 2)\n",
    "# 在此編寫您的繪圖代碼\n",
    "\n",
    "# 客戶細分\n",
    "plt.subplot(3, 2, 3)\n",
    "# 在此編寫您的繪圖代碼\n",
    "\n",
    "# 支付方式分布\n",
    "plt.subplot(3, 2, 4)\n",
    "# 在此編寫您的繪圖代碼\n",
    "\n",
    "# 國家分布\n",
    "plt.subplot(3, 2, 5)\n",
    "# 在此編寫您的繪圖代碼\n",
    "\n",
    "# 訂單狀態分布\n",
    "plt.subplot(3, 2, 6)\n",
    "# 在此編寫您的繪圖代碼\n",
    "\n",
    "plt.tight_layout()\n",
    "plt.show()"
   ]
  },
  {
   "cell_type": "markdown",
   "id": "5f89351b",
   "metadata": {},
   "source": [
    "\n",
    "## 📋 總結\n",
    "\n",
    "在這個練習中，您應用了 Pandas 進階模組中學到的各種技術，包括:\n",
    "\n",
    "- 進階條件篩選\n",
    "- 分組與聚合\n",
    "- 樞紐表與交叉表\n",
    "- 數據合併與連接\n",
    "- 時間序列分析\n",
    "\n",
    "這些技能對於處理複雜的數據分析任務非常重要，能夠幫助您從數據中提取有價值的見解。"
   ]
  }
 ],
 "metadata": {
  "kernelspec": {
   "display_name": "Python 3",
   "language": "python",
   "name": "python3"
  },
  "language_info": {
   "codemirror_mode": {
    "name": "ipython",
    "version": 3
   },
   "file_extension": ".py",
   "mimetype": "text/x-python",
   "name": "python",
   "nbconvert_exporter": "python",
   "pygments_lexer": "ipython3",
   "version": "3.11.9"
  }
 },
 "nbformat": 4,
 "nbformat_minor": 5
}
