{
 "cells": [
  {
   "cell_type": "markdown",
   "id": "8a720965",
   "metadata": {},
   "source": [
    "\n",
    "# 📘 M3 Pandas 進階應用 - 練習題解答"
   ]
  },
  {
   "cell_type": "markdown",
   "id": "b3b81a4b",
   "metadata": {},
   "source": [
    "\n",
    "## 🧰 環境設置"
   ]
  },
  {
   "cell_type": "code",
   "execution_count": 1,
   "id": "1d000860",
   "metadata": {},
   "outputs": [],
   "source": [
    "import numpy as np\n",
    "import pandas as pd\n",
    "import matplotlib.pyplot as plt\n",
    "import seaborn as sns\n",
    "from statsmodels.tsa.seasonal import seasonal_decompose\n",
    "\n",
    "# 設置顯示選項\n",
    "pd.set_option('display.max_rows', 15)\n",
    "pd.set_option('display.max_columns', 12)\n",
    "pd.set_option('display.width', 100)\n",
    "pd.set_option('display.precision', 2)\n",
    "\n",
    "# 設置隨機種子確保結果可重現\n",
    "np.random.seed(42)"
   ]
  },
  {
   "cell_type": "markdown",
   "id": "8a9c31a1",
   "metadata": {},
   "source": [
    "\n",
    "## 🔍 練習 1: 進階條件篩選"
   ]
  },
  {
   "cell_type": "markdown",
   "id": "797912bd",
   "metadata": {},
   "source": [
    "\n",
    "### 1.1 使用複雜條件組合"
   ]
  },
  {
   "cell_type": "code",
   "execution_count": null,
   "id": "57c37856",
   "metadata": {},
   "outputs": [],
   "source": [
    "# 篩選訂單\n",
    "filtered_orders = orders_df[\n",
    "    ((orders_df['total_amount'] > 500) | (orders_df['quantity'] > 5)) &\n",
    "    (orders_df['payment_method'].isin(['Credit Card', 'PayPal'])) &\n",
    "    (orders_df['order_status'] != 'Cancelled')\n",
    "]\n",
    "\n",
    "# 顯示結果\n",
    "print(f\"符合條件的訂單數量: {len(filtered_orders)}\")\n",
    "print(filtered_orders.head())"
   ]
  },
  {
   "cell_type": "markdown",
   "id": "9250c491",
   "metadata": {},
   "source": [
    "\n",
    "### 1.2 使用 query() 方法"
   ]
  },
  {
   "cell_type": "code",
   "execution_count": null,
   "id": "54c406df",
   "metadata": {},
   "outputs": [],
   "source": [
    "# 合併訂單和產品數據\n",
    "merged_data = orders_df.merge(products_df, on='product_id')\n",
    "\n",
    "# 使用 query() 進行篩選\n",
    "q1_electronics = merged_data.query(\n",
    "    \"order_date.dt.month.isin([1,2,3]) and \"\n",
    "    \"category == 'Electronics' and \"\n",
    "    \"total_amount > 1000\"\n",
    ")\n",
    "\n",
    "# 顯示結果\n",
    "print(f\"符合條件的訂單數量: {len(q1_electronics)}\")\n",
    "print(q1_electronics.head())"
   ]
  },
  {
   "cell_type": "markdown",
   "id": "fa735ec9",
   "metadata": {},
   "source": [
    "\n",
    "### 1.3 使用字符串方法和正則表達式"
   ]
  },
  {
   "cell_type": "code",
   "execution_count": null,
   "id": "bf7e19ec",
   "metadata": {},
   "outputs": [],
   "source": [
    "# 找出包含數字5的客戶\n",
    "customers_with_5 = customers_df[customers_df['customer_name'].str.contains('5')]\n",
    "\n",
    "# 合併客戶和訂單數據並計算統計\n",
    "customer_orders = orders_df.merge(customers_with_5, on='customer_id').groupby('customer_name').agg({\n",
    "    'order_id': 'count',\n",
    "    'total_amount': 'sum'\n",
    "}).reset_index()\n",
    "\n",
    "# 顯示結果\n",
    "print(f\"名稱中包含數字5的客戶數量: {len(customers_with_5)}\")\n",
    "print(customer_orders.head())"
   ]
  },
  {
   "cell_type": "markdown",
   "id": "ff06e50e",
   "metadata": {},
   "source": [
    "\n",
    "## 🔄 練習 2: 分組與聚合進階應用"
   ]
  },
  {
   "cell_type": "markdown",
   "id": "2aa3dbd8",
   "metadata": {},
   "source": [
    "\n",
    "### 2.1 多種聚合函數組合"
   ]
  },
  {
   "cell_type": "code",
   "execution_count": null,
   "id": "20e4d848",
   "metadata": {},
   "outputs": [],
   "source": [
    "# 合併訂單和產品數據\n",
    "merged_data = orders_df.merge(products_df, on='product_id')\n",
    "\n",
    "# 按類別分組並計算多種聚合指標\n",
    "category_stats = merged_data.groupby('category').agg({\n",
    "    'order_id': 'count',\n",
    "    'total_amount': ['sum', 'mean', 'min', 'max', 'std']\n",
    "}).round(2)\n",
    "\n",
    "# 重命名列\n",
    "category_stats.columns = ['訂單總數', '總銷售金額', '平均訂單金額', '最小訂單金額', '最大訂單金額', '訂單金額標準差']\n",
    "\n",
    "# 顯示結果\n",
    "print(category_stats)"
   ]
  },
  {
   "cell_type": "markdown",
   "id": "c6c9e1df",
   "metadata": {},
   "source": [
    "\n",
    "### 2.2 使用 transform 進行組內標準化"
   ]
  },
  {
   "cell_type": "code",
   "execution_count": null,
   "id": "b74795b0",
   "metadata": {},
   "outputs": [],
   "source": [
    "# 合併訂單和產品數據\n",
    "merged_data = orders_df.merge(products_df, on='product_id')\n",
    "\n",
    "# 使用 transform 計算類別平均值\n",
    "merged_data['category_avg'] = merged_data.groupby('category')['total_amount'].transform('mean')\n",
    "\n",
    "# 計算與平均值的差異百分比\n",
    "merged_data['diff_from_avg_pct'] = ((merged_data['total_amount'] - merged_data['category_avg']) \n",
    "                                   / merged_data['category_avg'] * 100)\n",
    "\n",
    "# 計算組內百分位數\n",
    "merged_data['category_percentile'] = merged_data.groupby('category')['total_amount'].transform(\n",
    "    lambda x: pd.Series(x).rank(pct=True)\n",
    ")\n",
    "\n",
    "# 顯示結果\n",
    "print(merged_data[['category', 'total_amount', 'category_avg', \n",
    "                  'diff_from_avg_pct', 'category_percentile']].head(10))"
   ]
  },
  {
   "cell_type": "markdown",
   "id": "9cd12a3f",
   "metadata": {},
   "source": [
    "\n",
    "### 2.3 使用 apply 進行複雜的組內操作"
   ]
  },
  {
   "cell_type": "code",
   "execution_count": null,
   "id": "4ac2fde5",
   "metadata": {},
   "outputs": [],
   "source": [
    "def top_orders(group):\n",
    "    # 排序並選擇前3個訂單\n",
    "    top3 = group.nlargest(3, 'total_amount')\n",
    "    # 計算這些訂單佔總消費的百分比\n",
    "    total_spent = group['total_amount'].sum()\n",
    "    top3['pct_of_total'] = (top3['total_amount'] / total_spent * 100).round(2)\n",
    "    return top3\n",
    "\n",
    "# 應用函數到每個客戶組\n",
    "top_customer_orders = orders_df.groupby('customer_id').apply(top_orders).reset_index(drop=True)\n",
    "\n",
    "# 顯示結果\n",
    "print(top_customer_orders.head(10))"
   ]
  },
  {
   "cell_type": "markdown",
   "id": "0568fbd8",
   "metadata": {},
   "source": [
    "\n",
    "## 📊 練習 3: 樞紐表與交叉表"
   ]
  },
  {
   "cell_type": "markdown",
   "id": "60f2577f",
   "metadata": {},
   "source": [
    "\n",
    "### 3.1 創建多層次樞紐表"
   ]
  },
  {
   "cell_type": "code",
   "execution_count": null,
   "id": "09a8d256",
   "metadata": {},
   "outputs": [],
   "source": [
    "# 準備數據\n",
    "merged_data = orders_df.merge(products_df, on='product_id')\n",
    "merged_data['order_month'] = merged_data['order_date'].dt.strftime('%Y-%m')\n",
    "\n",
    "# 創建多層次樞紐表\n",
    "pivot_table = pd.pivot_table(\n",
    "    merged_data,\n",
    "    values=['total_amount', 'order_id'],\n",
    "    index=['order_month', 'order_status'],\n",
    "    columns=['category', 'payment_method'],\n",
    "    aggfunc={'total_amount': 'sum', 'order_id': 'count'}\n",
    ")\n",
    "\n",
    "# 顯示結果\n",
    "print(pivot_table.head())"
   ]
  },
  {
   "cell_type": "markdown",
   "id": "9de3aab1",
   "metadata": {},
   "source": [
    "\n",
    "### 3.2 使用交叉表分析類別關係"
   ]
  },
  {
   "cell_type": "code",
   "execution_count": null,
   "id": "adabadd8",
   "metadata": {},
   "outputs": [],
   "source": [
    "# 準備數據\n",
    "merged_data = orders_df.merge(products_df, on='product_id').merge(customers_df, on='customer_id')\n",
    "\n",
    "# 創建交叉表\n",
    "cross_tab = pd.crosstab(\n",
    "    merged_data['category'],\n",
    "    merged_data['country'],\n",
    "    values=merged_data['total_amount'],\n",
    "    aggfunc='sum',\n",
    "    normalize='columns',\n",
    "    margins=True\n",
    ").round(3) * 100  # 轉換為百分比\n",
    "\n",
    "# 顯示結果\n",
    "print(cross_tab)"
   ]
  },
  {
   "cell_type": "markdown",
   "id": "666d88d9",
   "metadata": {},
   "source": [
    "\n",
    "### 3.3 使用 stack 和 unstack 重塑數據"
   ]
  },
  {
   "cell_type": "code",
   "execution_count": null,
   "id": "60fad379",
   "metadata": {},
   "outputs": [],
   "source": [
    "# 使用 stack 和 unstack 重塑數據\n",
    "reshaped_data = pivot_table.stack(level=0).unstack(level=1)\n",
    "\n",
    "# 重置索引\n",
    "flat_data = reshaped_data.reset_index()\n",
    "\n",
    "# 顯示結果\n",
    "print(flat_data.head())"
   ]
  },
  {
   "cell_type": "markdown",
   "id": "689addcd",
   "metadata": {},
   "source": [
    "\n",
    "## 🔄 練習 4: 數據合併與連接"
   ]
  },
  {
   "cell_type": "markdown",
   "id": "e6cc80b8",
   "metadata": {},
   "source": [
    "\n",
    "### 4.1 多表連接創建完整視圖"
   ]
  },
  {
   "cell_type": "code",
   "execution_count": null,
   "id": "3ac26360",
   "metadata": {},
   "outputs": [],
   "source": [
    "# 連接訂單和客戶\n",
    "order_customer = orders_df.merge(\n",
    "    customers_df,\n",
    "    on='customer_id',\n",
    "    how='left',\n",
    "    suffixes=('_order', '_customer')\n",
    ")\n",
    "\n",
    "# 連接訂單客戶和產品\n",
    "complete_view = order_customer.merge(\n",
    "    products_df,\n",
    "    on='product_id',\n",
    "    how='left',\n",
    "    suffixes=('', '_product')\n",
    ")\n",
    "\n",
    "# 顯示結果\n",
    "print(f\"完整視圖的列: {complete_view.columns.tolist()}\")\n",
    "print(f\"完整視圖的行數: {len(complete_view)}\")\n",
    "print(complete_view.head())"
   ]
  },
  {
   "cell_type": "markdown",
   "id": "952088b5",
   "metadata": {},
   "source": [
    "\n",
    "### 4.2 使用不同的合併方法比較結果"
   ]
  },
  {
   "cell_type": "code",
   "execution_count": null,
   "id": "414cfae9",
   "metadata": {},
   "outputs": [],
   "source": [
    "# 創建一些沒有對應訂單的產品\n",
    "new_products = pd.DataFrame({\n",
    "    'product_id': [1001, 1002],\n",
    "    'product_name': ['New Product 1', 'New Product 2'],\n",
    "    'category': ['Electronics', 'Home'],\n",
    "    'supplier_id': [1, 2],\n",
    "    'stock_quantity': [100, 200]\n",
    "})\n",
    "missing_products = pd.concat([products_df, new_products])\n",
    "\n",
    "# 創建一些沒有對應產品的訂單\n",
    "new_orders = orders_df.copy()\n",
    "new_orders.loc[len(new_orders)] = [len(new_orders)+1, pd.Timestamp('2022-12-31'),\n",
    "                                  1, 9999, 1, 100, 'Credit Card', 'Standard',\n",
    "                                  'Completed', 100]\n",
    "\n",
    "# 比較不同合併方法\n",
    "inner_join = orders_df.merge(missing_products, on='product_id', how='inner')\n",
    "left_join = orders_df.merge(missing_products, on='product_id', how='left')\n",
    "right_join = orders_df.merge(missing_products, on='product_id', how='right')\n",
    "outer_join = orders_df.merge(missing_products, on='product_id', how='outer')\n",
    "\n",
    "# 顯示結果比較\n",
    "print(f\"Inner Join 行數: {len(inner_join)}\")\n",
    "print(f\"Left Join 行數: {len(left_join)}\")\n",
    "print(f\"Right Join 行數: {len(right_join)}\")\n",
    "print(f\"Outer Join 行數: {len(outer_join)}\")"
   ]
  },
  {
   "cell_type": "markdown",
   "id": "26ef764b",
   "metadata": {},
   "source": [
    "\n",
    "### 4.3 條件式合併"
   ]
  },
  {
   "cell_type": "code",
   "execution_count": null,
   "id": "a04c02a9",
   "metadata": {},
   "outputs": [],
   "source": [
    "# 創建折扣表\n",
    "discount_data = {\n",
    "    'category': ['Electronics', 'Electronics', 'Clothing', 'Clothing', 'Home', 'Home', 'Books', 'Sports'],\n",
    "    'start_date': pd.to_datetime(['2022-01-01', '2022-07-01', '2022-01-01', '2022-07-01', \n",
    "                                 '2022-01-01', '2022-07-01', '2022-01-01', '2022-01-01']),\n",
    "    'end_date': pd.to_datetime(['2022-06-30', '2022-12-31', '2022-06-30', '2022-12-31', \n",
    "                               '2022-06-30', '2022-12-31', '2022-12-31', '2022-12-31']),\n",
    "    'discount_rate': [0.05, 0.08, 0.10, 0.15, 0.07, 0.12, 0.20, 0.10]\n",
    "}\n",
    "discount_df = pd.DataFrame(discount_data)\n",
    "\n",
    "# 準備訂單和產品數據\n",
    "merged_data = orders_df.merge(products_df, on='product_id')\n",
    "\n",
    "# 條件式合併應用折扣\n",
    "def apply_discount(row):\n",
    "    matching_discounts = discount_df[\n",
    "        (discount_df['category'] == row['category']) &\n",
    "        (discount_df['start_date'] <= row['order_date']) &\n",
    "        (discount_df['end_date'] >= row['order_date'])\n",
    "    ]\n",
    "    return matching_discounts['discount_rate'].iloc[0] if len(matching_discounts) > 0 else 0\n",
    "\n",
    "merged_data['discount_rate'] = merged_data.apply(apply_discount, axis=1)\n",
    "\n",
    "# 計算折扣後金額\n",
    "merged_data['discounted_amount'] = merged_data['total_amount'] * (1 - merged_data['discount_rate'])\n",
    "\n",
    "# 顯示結果\n",
    "print(merged_data[['order_id', 'order_date', 'category', 'total_amount', \n",
    "                  'discount_rate', 'discounted_amount']].head(10))"
   ]
  },
  {
   "cell_type": "markdown",
   "id": "fcf123da",
   "metadata": {},
   "source": [
    "\n",
    "## ⏰ 練習 5: 時間序列分析"
   ]
  },
  {
   "cell_type": "markdown",
   "id": "40ca0255",
   "metadata": {},
   "source": [
    "\n",
    "### 5.1 時間序列重採樣與頻率轉換"
   ]
  },
  {
   "cell_type": "code",
   "execution_count": null,
   "id": "95a70eb9",
   "metadata": {},
   "outputs": [],
   "source": [
    "# 設置訂單日期為索引\n",
    "orders_ts = orders_df.set_index('order_date')\n",
    "\n",
    "# 按不同頻率重採樣\n",
    "daily_orders = orders_ts.resample('D').agg({\n",
    "    'order_id': 'count',\n",
    "    'total_amount': 'sum'\n",
    "})\n",
    "\n",
    "weekly_orders = orders_ts.resample('W').agg({\n",
    "    'order_id': 'count',\n",
    "    'total_amount': 'sum'\n",
    "})\n",
    "\n",
    "monthly_orders = orders_ts.resample('M').agg({\n",
    "    'order_id': 'count',\n",
    "    'total_amount': 'sum'\n",
    "})\n",
    "\n",
    "# 視覺化比較\n",
    "plt.figure(figsize=(15, 10))\n",
    "\n",
    "# 繪製日訂單量\n",
    "plt.subplot(3, 1, 1)\n",
    "plt.plot(daily_orders.index, daily_orders['order_id'])\n",
    "plt.title('日訂單量')\n",
    "plt.grid(True)\n",
    "\n",
    "# 繪製週訂單量\n",
    "plt.subplot(3, 1, 2)\n",
    "plt.plot(weekly_orders.index, weekly_orders['order_id'])\n",
    "plt.title('週訂單量')\n",
    "plt.grid(True)\n",
    "\n",
    "# 繪製月訂單量\n",
    "plt.subplot(3, 1, 3)\n",
    "plt.plot(monthly_orders.index, monthly_orders['order_id'])\n",
    "plt.title('月訂單量')\n",
    "plt.grid(True)\n",
    "\n",
    "plt.tight_layout()\n",
    "plt.show()"
   ]
  },
  {
   "cell_type": "markdown",
   "id": "b2cbb898",
   "metadata": {},
   "source": [
    "\n",
    "### 5.2 移動窗口計算"
   ]
  },
  {
   "cell_type": "code",
   "execution_count": null,
   "id": "9f458623",
   "metadata": {},
   "outputs": [],
   "source": [
    "# 按日期匯總訂單金額\n",
    "daily_sales = orders_ts['total_amount'].resample('D').sum()\n",
    "\n",
    "# 計算移動平均和標準差\n",
    "daily_sales = pd.DataFrame(daily_sales)\n",
    "daily_sales['7d_MA'] = daily_sales['total_amount'].rolling(window=7).mean()\n",
    "daily_sales['30d_MA'] = daily_sales['total_amount'].rolling(window=30).mean()\n",
    "daily_sales['7d_STD'] = daily_sales['total_amount'].rolling(window=7).std()\n",
    "\n",
    "# 視覺化結果\n",
    "plt.figure(figsize=(15, 10))\n",
    "\n",
    "# 繪製移動平均\n",
    "plt.subplot(2, 1, 1)\n",
    "plt.plot(daily_sales.index, daily_sales['total_amount'], label='Daily Sales', alpha=0.5)\n",
    "plt.plot(daily_sales.index, daily_sales['7d_MA'], label='7-day MA')\n",
    "plt.plot(daily_sales.index, daily_sales['30d_MA'], label='30-day MA')\n",
    "plt.title('銷售額移動平均')\n",
    "plt.legend()\n",
    "plt.grid(True)\n",
    "\n",
    "# 繪製移動標準差\n",
    "plt.subplot(2, 1, 2)\n",
    "plt.plot(daily_sales.index, daily_sales['7d_STD'])\n",
    "plt.title('7天移動標準差')\n",
    "plt.grid(True)\n",
    "\n",
    "plt.tight_layout()\n",
    "plt.show()"
   ]
  },
  {
   "cell_type": "markdown",
   "id": "573466d6",
   "metadata": {},
   "source": [
    "\n",
    "### 5.3 移動窗口計算與時間序列分解"
   ]
  },
  {
   "cell_type": "markdown",
   "id": "7e210518",
   "metadata": {},
   "source": [
    "對月度銷售數據進行分析：\n",
    "- 計算3個月移動平均\n",
    "- 進行時間序列分解，識別趨勢和季節性\n",
    "- 視覺化展示結果"
   ]
  },
  {
   "cell_type": "code",
   "execution_count": null,
   "id": "0f2f9f35",
   "metadata": {},
   "outputs": [],
   "source": [
    "# 計算3個月移動平均\n",
    "monthly_orders['3個月移動平均_訂單數'] = monthly_orders['訂單數'].rolling(window=3).mean()\n",
    "monthly_orders['3個月移動平均_總金額'] = monthly_orders['總金額'].rolling(window=3).mean()\n",
    "\n",
    "# 進行時間序列分解\n",
    "# 使用加法模型進行分解\n",
    "decomposition = seasonal_decompose(monthly_orders['總金額'], period=12, model='additive')\n",
    "\n",
    "# 視覺化分解結果\n",
    "plt.figure(figsize=(12, 10))\n",
    "\n",
    "# 繪製原始數據\n",
    "plt.subplot(4, 1, 1)\n",
    "plt.plot(monthly_orders.index, monthly_orders['總金額'])\n",
    "plt.title('原始月度銷售數據')\n",
    "plt.grid(True)\n",
    "\n",
    "# 繪製趨勢成分\n",
    "plt.subplot(4, 1, 2)\n",
    "plt.plot(monthly_orders.index, decomposition.trend)\n",
    "plt.title('趨勢成分')\n",
    "plt.grid(True)\n",
    "\n",
    "# 繪製季節性成分\n",
    "plt.subplot(4, 1, 3)\n",
    "plt.plot(monthly_orders.index, decomposition.seasonal)\n",
    "plt.title('季節性成分')\n",
    "plt.grid(True)\n",
    "\n",
    "# 繪製殘差成分\n",
    "plt.subplot(4, 1, 4)\n",
    "plt.plot(monthly_orders.index, decomposition.resid)\n",
    "plt.title('殘差成分')\n",
    "plt.grid(True)\n",
    "\n",
    "plt.tight_layout()\n",
    "plt.show()"
   ]
  },
  {
   "cell_type": "markdown",
   "id": "a85f8d56",
   "metadata": {},
   "source": [
    "\n",
    "## 🏆 綜合挑戰: 電子商務數據分析儀表板"
   ]
  },
  {
   "cell_type": "code",
   "execution_count": null,
   "id": "136a6bff",
   "metadata": {},
   "outputs": [],
   "source": [
    "# 1. 準備數據 - 合併訂單、客戶和產品數據\n",
    "complete_data = orders_df.merge(customers_df, on='customer_id', how='left')\\\n",
    "                        .merge(products_df, on='product_id', how='left')\n",
    "\n",
    "# 2. 銷售概況\n",
    "sales_summary = {\n",
    "    '總訂單數': len(complete_data),\n",
    "    '總銷售額': complete_data['total_amount'].sum(),\n",
    "    '平均訂單金額': complete_data['total_amount'].mean(),\n",
    "    '取消率': (complete_data['order_status'] == 'Cancelled').mean() * 100\n",
    "}\n",
    "\n",
    "# 3. 時間趨勢分析\n",
    "time_trend = complete_data.groupby('order_date')['total_amount'].sum().reset_index()\n",
    "time_trend.set_index('order_date', inplace=True)\n",
    "monthly_trend = time_trend.resample('M').sum()\n",
    "\n",
    "# 4. 客戶分析\n",
    "customer_analysis = complete_data.groupby('customer_segment').agg({\n",
    "    'order_id': 'count',\n",
    "    'total_amount': 'sum'\n",
    "}).reset_index()\n",
    "\n",
    "# 5. 產品分析\n",
    "product_analysis = complete_data.groupby('category').agg({\n",
    "    'order_id': 'count',\n",
    "    'total_amount': 'sum'\n",
    "}).reset_index()\n",
    "\n",
    "# 6. 地理分析\n",
    "geo_analysis = complete_data.groupby('country').agg({\n",
    "    'order_id': 'count',\n",
    "    'total_amount': 'sum'\n",
    "}).reset_index()\n",
    "\n",
    "# 7. 創建儀表板\n",
    "plt.figure(figsize=(15, 15))\n",
    "\n",
    "# 銷售趨勢\n",
    "plt.subplot(3, 2, 1)\n",
    "plt.plot(monthly_trend.index, monthly_trend['total_amount'])\n",
    "plt.title('月度銷售趨勢')\n",
    "plt.xticks(rotation=45)\n",
    "plt.grid(True)\n",
    "\n",
    "# 類別分布\n",
    "plt.subplot(3, 2, 2)\n",
    "plt.pie(product_analysis['total_amount'], labels=product_analysis['category'], autopct='%1.1f%%')\n",
    "plt.title('各類別銷售額分布')\n",
    "\n",
    "# 客戶細分\n",
    "plt.subplot(3, 2, 3)\n",
    "sns.barplot(data=customer_analysis, x='customer_segment', y='total_amount')\n",
    "plt.title('客戶細分銷售分布')\n",
    "plt.xticks(rotation=45)\n",
    "\n",
    "# 支付方式分布\n",
    "plt.subplot(3, 2, 4)\n",
    "payment_dist = complete_data['payment_method'].value_counts()\n",
    "plt.pie(payment_dist, labels=payment_dist.index, autopct='%1.1f%%')\n",
    "plt.title('支付方式分布')\n",
    "\n",
    "# 國家分布\n",
    "plt.subplot(3, 2, 5)\n",
    "sns.barplot(data=geo_analysis.sort_values('total_amount', ascending=False), \n",
    "            x='country', y='total_amount')\n",
    "plt.title('各國家銷售額分布')\n",
    "plt.xticks(rotation=45)\n",
    "\n",
    "# 訂單狀態分布\n",
    "plt.subplot(3, 2, 6)\n",
    "status_dist = complete_data['order_status'].value_counts()\n",
    "plt.pie(status_dist, labels=status_dist.index, autopct='%1.1f%%')\n",
    "plt.title('訂單狀態分布')\n",
    "\n",
    "plt.tight_layout()\n",
    "plt.show()\n",
    "\n",
    "# 打印銷售概況\n",
    "print(\"\\n銷售概況:\")\n",
    "for metric, value in sales_summary.items():\n",
    "    if metric in ['總銷售額', '平均訂單金額']:\n",
    "        print(f\"{metric}: ${value:,.2f}\")\n",
    "    elif metric == '取消率':\n",
    "        print(f\"{metric}: {value:.1f}%\")\n",
    "    else:\n",
    "        print(f\"{metric}: {value:,}\")"
   ]
  },
  {
   "cell_type": "markdown",
   "id": "a745e088",
   "metadata": {},
   "source": [
    "\n",
    "## 📋 總結\n",
    "\n",
    "在這個綜合練習中，我們應用了 Pandas 進階模組中學到的各種技術：\n",
    "\n",
    "1. **進階條件篩選**\n",
    "   - 使用複雜的布林條件組合\n",
    "   - 應用 query() 方法進行高效篩選\n",
    "\n",
    "2. **分組與聚合**\n",
    "   - 使用多種聚合函數\n",
    "   - 應用 transform() 進行組內計算\n",
    "\n",
    "3. **樞紐表與交叉表**\n",
    "   - 創建多維度分析視圖\n",
    "   - 使用不同的聚合方法\n",
    "\n",
    "4. **數據合併與連接**\n",
    "   - 合併多個數據表\n",
    "   - 處理不同類型的連接\n",
    "\n",
    "5. **時間序列分析**\n",
    "   - 重採樣與頻率轉換\n",
    "   - 移動窗口計算\n",
    "   - 時間序列分解\n",
    "\n",
    "這些技術的綜合運用使我們能夠從電子商務數據中提取有價值的業務洞察，\n",
    "幫助理解銷售趨勢、客戶行為和產品表現。"
   ]
  }
 ],
 "metadata": {
  "kernelspec": {
   "display_name": "Python 3",
   "language": "python",
   "name": "python3"
  },
  "language_info": {
   "codemirror_mode": {
    "name": "ipython",
    "version": 3
   },
   "file_extension": ".py",
   "mimetype": "text/x-python",
   "name": "python",
   "nbconvert_exporter": "python",
   "pygments_lexer": "ipython3",
   "version": "3.11.9"
  }
 },
 "nbformat": 4,
 "nbformat_minor": 5
}
