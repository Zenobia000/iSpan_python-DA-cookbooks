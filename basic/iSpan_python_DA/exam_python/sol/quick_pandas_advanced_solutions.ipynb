{
 "cells": [
  {
   "cell_type": "code",
   "execution_count": null,
   "id": "43c16f2b",
   "metadata": {},
   "outputs": [],
   "source": [
    "\n",
    "# # Pandas 進階 30秒快速練習題 - 解答\n",
    "# 這些是練習題的參考解答，每個解答都經過優化，確保簡潔且易於理解。\n",
    "\n",
    "import pandas as pd\n",
    "import numpy as np\n",
    "\n",
    "# 設定顯示選項\n",
    "pd.set_option('display.max_columns', None)\n",
    "pd.set_option('display.expand_frame_repr', False)\n",
    "\n",
    "# 建立測試資料\n",
    "sales_df = pd.DataFrame({\n",
    "    '日期': pd.date_range('2024-01-01', '2024-01-05'),\n",
    "    '商品': ['A', 'B', 'A', 'C', 'B'],\n",
    "    '類別': ['食品', '電子', '食品', '服飾', '電子'],\n",
    "    '價格': [100, 500, 150, 300, 450],\n",
    "    '數量': [5, 2, 3, 1, 4],\n",
    "    '地區': ['北部', '北部', '中部', '南部', '中部']\n",
    "})"
   ]
  },
  {
   "cell_type": "code",
   "execution_count": null,
   "id": "63cd813b",
   "metadata": {},
   "outputs": [],
   "source": [
    "\n",
    "# ## M3.1: 條件過濾進階"
   ]
  },
  {
   "cell_type": "code",
   "execution_count": null,
   "id": "e9a04fd5",
   "metadata": {},
   "outputs": [],
   "source": [
    "# 解答 1.1: 複合條件過濾\n",
    "filtered_sales = sales_df[(sales_df['價格'] > 200) & (sales_df['地區'] == '北部')]\n",
    "print(\"價格大於 200 且在北部地區的商品：\")\n",
    "print(filtered_sales)"
   ]
  },
  {
   "cell_type": "code",
   "execution_count": null,
   "id": "b6a745b8",
   "metadata": {},
   "outputs": [],
   "source": [
    "# 解答 1.2: 條件選擇\n",
    "area_category = np.where(sales_df['地區'] == '北部', '重點區域', '一般區域')\n",
    "print(\"\\n地區分類：\")\n",
    "print(pd.Series(area_category, index=sales_df.index))"
   ]
  },
  {
   "cell_type": "code",
   "execution_count": null,
   "id": "8380531e",
   "metadata": {},
   "outputs": [],
   "source": [
    "# 解答 1.3: 多重條件選擇\n",
    "conditions = [\n",
    "    (sales_df['價格'] < 200),\n",
    "    (sales_df['價格'].between(200, 400)),\n",
    "    (sales_df['價格'] > 400)\n",
    "]\n",
    "choices = ['低價', '中價', '高價']\n",
    "price_category = np.select(conditions, choices)\n",
    "print(\"\\n價格分類：\")\n",
    "print(pd.Series(price_category, index=sales_df.index))"
   ]
  },
  {
   "cell_type": "code",
   "execution_count": null,
   "id": "84ef1ee8",
   "metadata": {},
   "outputs": [],
   "source": [
    "\n",
    "# ## M3.2: 分組聚合操作"
   ]
  },
  {
   "cell_type": "code",
   "execution_count": null,
   "id": "61bed6ce",
   "metadata": {},
   "outputs": [],
   "source": [
    "# 解答 2.1: 基本分組計算\n",
    "category_stats = sales_df.groupby('類別').agg({\n",
    "    '價格': 'mean',\n",
    "    '數量': 'sum'\n",
    "})\n",
    "print(\"類別統計：\")\n",
    "print(category_stats)"
   ]
  },
  {
   "cell_type": "code",
   "execution_count": null,
   "id": "ef907d82",
   "metadata": {},
   "outputs": [],
   "source": [
    "# 解答 2.2: 多重分組\n",
    "sales_df['銷售額'] = sales_df['價格'] * sales_df['數量']\n",
    "sales_by_category_region = sales_df.groupby(['類別', '地區'])['銷售額'].sum()\n",
    "print(\"\\n各類別各地區銷售額：\")\n",
    "print(sales_by_category_region)"
   ]
  },
  {
   "cell_type": "code",
   "execution_count": null,
   "id": "4859b7ea",
   "metadata": {},
   "outputs": [],
   "source": [
    "# 解答 2.3: 自定義聚合\n",
    "price_range = sales_df.groupby('類別')['價格'].agg(\n",
    "    價格差額=lambda x: x.max() - x.min()\n",
    ")\n",
    "print(\"\\n各類別價格差額：\")\n",
    "print(price_range)"
   ]
  },
  {
   "cell_type": "code",
   "execution_count": null,
   "id": "c4100f71",
   "metadata": {},
   "outputs": [],
   "source": [
    "\n",
    "# ## M3.3: 樞紐分析與交叉表"
   ]
  },
  {
   "cell_type": "code",
   "execution_count": null,
   "id": "5e272947",
   "metadata": {},
   "outputs": [],
   "source": [
    "# 解答 3.1: 建立樞紐表\n",
    "sales_pivot = pd.pivot_table(\n",
    "    sales_df,\n",
    "    values='銷售額',\n",
    "    index='地區',\n",
    "    columns='類別',\n",
    "    aggfunc='sum'\n",
    ")\n",
    "print(\"銷售額樞紐表：\")\n",
    "print(sales_pivot)"
   ]
  },
  {
   "cell_type": "code",
   "execution_count": null,
   "id": "e6992a44",
   "metadata": {},
   "outputs": [],
   "source": [
    "# 解答 3.2: 交叉表分析\n",
    "category_region_cross = pd.crosstab(sales_df['地區'], sales_df['類別'])\n",
    "print(\"\\n地區和類別的交叉表：\")\n",
    "print(category_region_cross)"
   ]
  },
  {
   "cell_type": "code",
   "execution_count": null,
   "id": "aee3ec99",
   "metadata": {},
   "outputs": [],
   "source": [
    "# 解答 3.3: 樞紐表多值統計\n",
    "multi_stat_pivot = pd.pivot_table(\n",
    "    sales_df,\n",
    "    values=['價格', '數量'],\n",
    "    index='類別',\n",
    "    aggfunc={'價格': 'mean', '數量': 'sum'}\n",
    ")\n",
    "print(\"\\n多值統計樞紐表：\")\n",
    "print(multi_stat_pivot)"
   ]
  },
  {
   "cell_type": "code",
   "execution_count": null,
   "id": "e69af3ed",
   "metadata": {},
   "outputs": [],
   "source": [
    "\n",
    "# ## M3.4: 合併與連接操作\n",
    "\n",
    "# 建立額外的測試資料\n",
    "inventory_df = pd.DataFrame({\n",
    "    '商品': ['A', 'B', 'C', 'D'],\n",
    "    '庫存': [100, 150, 80, 200]\n",
    "})"
   ]
  },
  {
   "cell_type": "code",
   "execution_count": null,
   "id": "a506f5be",
   "metadata": {},
   "outputs": [],
   "source": [
    "# 解答 4.1: 合併資料框\n",
    "merged_data = pd.merge(sales_df, inventory_df, on='商品')\n",
    "print(\"合併後的資料：\")\n",
    "print(merged_data)"
   ]
  },
  {
   "cell_type": "code",
   "execution_count": null,
   "id": "c9ae1f89",
   "metadata": {},
   "outputs": [],
   "source": [
    "# 解答 4.2: 不同類型的連接\n",
    "outer_merged = pd.merge(sales_df, inventory_df, on='商品', how='outer')\n",
    "print(\"\\n外部連接結果：\")\n",
    "print(outer_merged)"
   ]
  },
  {
   "cell_type": "code",
   "execution_count": null,
   "id": "b8fb17c1",
   "metadata": {},
   "outputs": [],
   "source": [
    "# 解答 4.3: 多鍵合併\n",
    "prices_df = pd.DataFrame({\n",
    "    '商品': ['A', 'B', 'C'],\n",
    "    '類別': ['食品', '電子', '服飾'],\n",
    "    '建議售價': [120, 550, 350]\n",
    "})\n",
    "multi_key_merged = pd.merge(sales_df, prices_df, on=['商品', '類別'])\n",
    "print(\"\\n多鍵合併結果：\")\n",
    "print(multi_key_merged)"
   ]
  },
  {
   "cell_type": "code",
   "execution_count": null,
   "id": "05312594",
   "metadata": {},
   "outputs": [],
   "source": [
    "\n",
    "# ## M3.5: 時間序列操作\n",
    "\n",
    "# 建立時間序列測試資料\n",
    "time_series_df = pd.DataFrame({\n",
    "    '日期': pd.date_range('2024-01-01', '2024-01-10', freq='D'),\n",
    "    '銷售額': np.random.randint(1000, 5000, 10)\n",
    "})"
   ]
  },
  {
   "cell_type": "code",
   "execution_count": null,
   "id": "582c7967",
   "metadata": {},
   "outputs": [],
   "source": [
    "# 解答 5.1: 時間索引設置\n",
    "ts_indexed = time_series_df.set_index('日期').sort_index()\n",
    "print(\"設置時間索引後的資料：\")\n",
    "print(ts_indexed)"
   ]
  },
  {
   "cell_type": "code",
   "execution_count": null,
   "id": "f17e009f",
   "metadata": {},
   "outputs": [],
   "source": [
    "# 解答 5.2: 時間重採樣\n",
    "sales_resampled = ts_indexed.resample('3D')['銷售額'].mean()\n",
    "print(\"\\n三天平均銷售額：\")\n",
    "print(sales_resampled)"
   ]
  },
  {
   "cell_type": "code",
   "execution_count": null,
   "id": "fbac9d38",
   "metadata": {},
   "outputs": [],
   "source": [
    "# 解答 5.3: 時間位移\n",
    "moving_avg = ts_indexed['銷售額'].rolling(window=3).mean()\n",
    "print(\"\\n三天移動平均：\")\n",
    "print(moving_avg)"
   ]
  }
 ],
 "metadata": {
  "language_info": {
   "name": "python"
  }
 },
 "nbformat": 4,
 "nbformat_minor": 5
}
