{
 "cells": [
  {
   "cell_type": "code",
   "execution_count": null,
   "id": "7c88b159",
   "metadata": {},
   "outputs": [],
   "source": [
    "\n",
    "# # Pandas 30秒快速練習題 - 解答\n",
    "# 這些是練習題的參考解答，每個解答都經過優化，確保簡潔且易於理解。\n",
    "\n",
    "import pandas as pd\n",
    "import numpy as np\n",
    "\n",
    "# 設定顯示選項\n",
    "pd.set_option('display.max_columns', None)\n",
    "pd.set_option('display.expand_frame_repr', False)"
   ]
  },
  {
   "cell_type": "markdown",
   "id": "cc9ec1f2",
   "metadata": {},
   "source": [
    "\n",
    "## M2.1: DataFrame 與 Series 基礎"
   ]
  },
  {
   "cell_type": "code",
   "execution_count": null,
   "id": "a056512f",
   "metadata": {},
   "outputs": [],
   "source": [
    "# 解答 1.1: Series 建立\n",
    "population = pd.Series(\n",
    "    [1000000, 2000000, 1500000, 800000, 3000000],\n",
    "    index=['台北', '新北', '桃園', '台中', '高雄']\n",
    ")\n",
    "print(\"城市人口：\")\n",
    "print(population)"
   ]
  },
  {
   "cell_type": "code",
   "execution_count": null,
   "id": "6f43c5ab",
   "metadata": {},
   "outputs": [],
   "source": [
    "# 解答 1.2: DataFrame 建立\n",
    "students_df = pd.DataFrame({\n",
    "    '姓名': ['小明', '小華', '小美'],\n",
    "    '年齡': [18, 17, 19],\n",
    "    '成績': [85, 92, 78]\n",
    "})\n",
    "print(\"\\n學生資料：\")\n",
    "print(students_df)"
   ]
  },
  {
   "cell_type": "code",
   "execution_count": null,
   "id": "717ab665",
   "metadata": {},
   "outputs": [],
   "source": [
    "# 解答 1.3: DataFrame 基本資訊\n",
    "print(\"\\nDataFrame 基本資訊：\")\n",
    "students_df.info()"
   ]
  },
  {
   "cell_type": "markdown",
   "id": "7b705167",
   "metadata": {},
   "source": [
    "\n",
    "## M2.2: 檔案讀取與寫入"
   ]
  },
  {
   "cell_type": "code",
   "execution_count": null,
   "id": "40f0b87c",
   "metadata": {},
   "outputs": [],
   "source": [
    "# 解答 2.1: CSV 讀取\n",
    "df_csv = pd.read_csv('students_data.csv')\n",
    "print(\"從 CSV 讀取的資料：\")\n",
    "print(df_csv)"
   ]
  },
  {
   "cell_type": "code",
   "execution_count": null,
   "id": "8e9666d8",
   "metadata": {},
   "outputs": [],
   "source": [
    "# 解答 2.2: Excel 讀取\n",
    "df_excel = pd.read_excel('products_data.xlsx')\n",
    "print(\"\\n從 Excel 讀取的資料：\")\n",
    "print(df_excel)"
   ]
  },
  {
   "cell_type": "code",
   "execution_count": null,
   "id": "69872f9b",
   "metadata": {},
   "outputs": [],
   "source": [
    "# 解答 2.3: 資料匯出\n",
    "students_df.to_csv('output_students.csv', index=False)\n",
    "print(\"\\n資料已匯出至 output_students.csv\")"
   ]
  },
  {
   "cell_type": "markdown",
   "id": "eac7a6a9",
   "metadata": {},
   "source": [
    "\n",
    "## M2.3: 資料選取方法"
   ]
  },
  {
   "cell_type": "code",
   "execution_count": null,
   "id": "4d651940",
   "metadata": {},
   "outputs": [],
   "source": [
    "# 解答 3.1: 欄位選取\n",
    "selected_columns = students_df[['姓名', '成績']]\n",
    "print(\"選取的欄位：\")\n",
    "print(selected_columns)"
   ]
  },
  {
   "cell_type": "code",
   "execution_count": null,
   "id": "5f153eac",
   "metadata": {},
   "outputs": [],
   "source": [
    "# 解答 3.2: 條件篩選\n",
    "high_scores = students_df[students_df['成績'] > 80]\n",
    "print(\"\\n成績大於 80 的學生：\")\n",
    "print(high_scores)"
   ]
  },
  {
   "cell_type": "code",
   "execution_count": null,
   "id": "12f531da",
   "metadata": {},
   "outputs": [],
   "source": [
    "# 解答 3.3: iloc 使用\n",
    "selected_data = students_df.iloc[0:2, [0, 2]]\n",
    "print(\"\\n使用 iloc 選取的資料：\")\n",
    "print(selected_data)"
   ]
  },
  {
   "cell_type": "markdown",
   "id": "f7b74b97",
   "metadata": {},
   "source": [
    "\n",
    "## M2.4: 缺失值處理"
   ]
  },
  {
   "cell_type": "code",
   "execution_count": null,
   "id": "1c9cfc29",
   "metadata": {},
   "outputs": [],
   "source": [
    "# 建立包含缺失值的測試資料\n",
    "test_df = pd.DataFrame({\n",
    "    'A': [1, np.nan, 3, np.nan, 5],\n",
    "    'B': [np.nan, 2, 3, 4, 5],\n",
    "    'C': [1, 2, np.nan, 4, 5]\n",
    "})\n",
    "print(\"原始資料：\")\n",
    "print(test_df)"
   ]
  },
  {
   "cell_type": "code",
   "execution_count": null,
   "id": "2c103c86",
   "metadata": {},
   "outputs": [],
   "source": [
    "# 解答 4.1: 缺失值檢查\n",
    "missing_count = test_df.isnull().sum()\n",
    "print(\"\\n每個欄位的缺失值數量：\")\n",
    "print(missing_count)"
   ]
  },
  {
   "cell_type": "code",
   "execution_count": null,
   "id": "22a56182",
   "metadata": {},
   "outputs": [],
   "source": [
    "# 解答 4.2: 填補缺失值\n",
    "filled_df = test_df.fillna(test_df.mean())\n",
    "print(\"\\n填補缺失值後的資料：\")\n",
    "print(filled_df)"
   ]
  },
  {
   "cell_type": "code",
   "execution_count": null,
   "id": "128e4f9b",
   "metadata": {},
   "outputs": [],
   "source": [
    "# 解答 4.3: 刪除缺失值\n",
    "cleaned_df = test_df.dropna()\n",
    "print(\"\\n刪除含缺失值的列後的資料：\")\n",
    "print(cleaned_df)"
   ]
  },
  {
   "cell_type": "markdown",
   "id": "9a8ab1b0",
   "metadata": {},
   "source": [
    "\n",
    "## M2.5: 資料轉換"
   ]
  },
  {
   "cell_type": "code",
   "execution_count": null,
   "id": "f331f600",
   "metadata": {},
   "outputs": [],
   "source": [
    "# 建立測試資料\n",
    "dates_df = pd.DataFrame({\n",
    "    'date_str': ['2024-01-01', '2024-01-02', '2024-01-03'],\n",
    "    'value': [100, 200, 300]\n",
    "})"
   ]
  },
  {
   "cell_type": "code",
   "execution_count": null,
   "id": "18dfb417",
   "metadata": {},
   "outputs": [],
   "source": [
    "# 解答 5.1: 資料型態轉換\n",
    "dates_df['date'] = pd.to_datetime(dates_df['date_str'])\n",
    "print(\"轉換日期型態後的資料：\")\n",
    "print(dates_df)"
   ]
  },
  {
   "cell_type": "code",
   "execution_count": null,
   "id": "6f0fbaf1",
   "metadata": {},
   "outputs": [],
   "source": [
    "# 解答 5.2: 數值轉換\n",
    "def convert_to_grade(score):\n",
    "    if score >= 90:\n",
    "        return 'A'\n",
    "    elif score >= 80:\n",
    "        return 'B'\n",
    "    elif score >= 70:\n",
    "        return 'C'\n",
    "    elif score >= 60:\n",
    "        return 'D'\n",
    "    else:\n",
    "        return 'F'\n",
    "\n",
    "grades = students_df['成績'].apply(convert_to_grade)\n",
    "print(\"\\n成績轉換為等第：\")\n",
    "print(grades)"
   ]
  },
  {
   "cell_type": "code",
   "execution_count": null,
   "id": "1c79ba0d",
   "metadata": {},
   "outputs": [],
   "source": [
    "# 解答 5.3: 資料重塑\n",
    "long_df = pd.DataFrame({\n",
    "    'student': ['A', 'A', 'B', 'B'],\n",
    "    'subject': ['Math', 'English', 'Math', 'English'],\n",
    "    'score': [85, 90, 75, 85]\n",
    "})\n",
    "\n",
    "wide_df = long_df.pivot(index='student', columns='subject', values='score')\n",
    "print(\"\\n轉換為寬格式的資料：\")\n",
    "print(wide_df)"
   ]
  }
 ],
 "metadata": {
  "language_info": {
   "name": "python"
  }
 },
 "nbformat": 4,
 "nbformat_minor": 5
}
