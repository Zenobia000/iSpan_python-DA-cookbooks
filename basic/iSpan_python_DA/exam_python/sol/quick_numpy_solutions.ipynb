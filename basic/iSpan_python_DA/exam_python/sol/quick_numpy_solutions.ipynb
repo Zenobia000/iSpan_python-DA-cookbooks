{
 "cells": [
  {
   "cell_type": "code",
   "execution_count": null,
   "id": "9fb81fe6",
   "metadata": {},
   "outputs": [],
   "source": [
    "\n",
    "# # NumPy 30秒快速練習題 - 解答\n",
    "# 這些是練習題的參考解答，每個解答都經過優化，確保簡潔且易於理解。\n",
    "\n",
    "import numpy as np\n",
    "import matplotlib.pyplot as plt"
   ]
  },
  {
   "cell_type": "markdown",
   "id": "fbb205ce",
   "metadata": {},
   "source": [
    "\n",
    "## M1: ndarray 基礎"
   ]
  },
  {
   "cell_type": "code",
   "execution_count": null,
   "id": "2aff6a84",
   "metadata": {},
   "outputs": [],
   "source": [
    "# 解答 1.1: 基本陣列建立\n",
    "arr1 = np.array([1, 2, 3, 4, 5])\n",
    "print(\"基本陣列:\", arr1)"
   ]
  },
  {
   "cell_type": "code",
   "execution_count": null,
   "id": "770ea570",
   "metadata": {},
   "outputs": [],
   "source": [
    "# 解答 1.2: 陣列屬性檢查\n",
    "arr2 = np.array([[1, 2, 3], [4, 5, 6]])\n",
    "print(\"維度:\", arr2.ndim)\n",
    "print(\"形狀:\", arr2.shape)\n",
    "print(\"數據類型:\", arr2.dtype)"
   ]
  },
  {
   "cell_type": "code",
   "execution_count": null,
   "id": "79cedc27",
   "metadata": {},
   "outputs": [],
   "source": [
    "# 解答 1.3: 簡單運算\n",
    "arr3 = np.array([1, 2, 3, 4, 5]) * 2\n",
    "print(\"乘 2 後:\", arr3)"
   ]
  },
  {
   "cell_type": "markdown",
   "id": "3773d573",
   "metadata": {},
   "source": [
    "\n",
    "## M2: 陣列建立方式"
   ]
  },
  {
   "cell_type": "code",
   "execution_count": null,
   "id": "8cfe4114",
   "metadata": {},
   "outputs": [],
   "source": [
    "# 解答 2.1: 特殊陣列\n",
    "identity_matrix = np.eye(3)\n",
    "print(\"3x3 單位矩陣:\\n\", identity_matrix)"
   ]
  },
  {
   "cell_type": "code",
   "execution_count": null,
   "id": "d16edf7b",
   "metadata": {},
   "outputs": [],
   "source": [
    "# 解答 2.2: 等差數列\n",
    "sequence = np.arange(0, 11, 2)\n",
    "print(\"等差數列:\", sequence)"
   ]
  },
  {
   "cell_type": "code",
   "execution_count": null,
   "id": "292e35e9",
   "metadata": {},
   "outputs": [],
   "source": [
    "# 解答 2.3: 隨機數陣列\n",
    "np.random.seed(42)  # 設定隨機種子以確保結果可重現\n",
    "random_array = np.random.rand(5)\n",
    "print(\"隨機數陣列:\", random_array)"
   ]
  },
  {
   "cell_type": "markdown",
   "id": "855874b5",
   "metadata": {},
   "source": [
    "\n",
    "## M3: 索引與切片"
   ]
  },
  {
   "cell_type": "code",
   "execution_count": null,
   "id": "c6418db3",
   "metadata": {},
   "outputs": [],
   "source": [
    "# 解答 3.1: 基本切片\n",
    "arr = np.array([1, 2, 3, 4, 5])\n",
    "first_three = arr[:3]\n",
    "print(\"前三個元素:\", first_three)"
   ]
  },
  {
   "cell_type": "code",
   "execution_count": null,
   "id": "e86b7f65",
   "metadata": {},
   "outputs": [],
   "source": [
    "# 解答 3.2: 條件索引\n",
    "arr = np.array([2, 4, 6, 8, 10])\n",
    "greater_than_five = arr[arr > 5]\n",
    "print(\"大於 5 的元素:\", greater_than_five)"
   ]
  },
  {
   "cell_type": "code",
   "execution_count": null,
   "id": "6995d8fd",
   "metadata": {},
   "outputs": [],
   "source": [
    "# 解答 3.3: 二維切片\n",
    "arr = np.array([[1, 2, 3], [4, 5, 6]])\n",
    "first_row = arr[0, :]  # 或 arr[0]\n",
    "print(\"第一列:\", first_row)"
   ]
  },
  {
   "cell_type": "markdown",
   "id": "c751e145",
   "metadata": {},
   "source": [
    "\n",
    "## M4: Broadcasting"
   ]
  },
  {
   "cell_type": "code",
   "execution_count": null,
   "id": "4ca7c5ab",
   "metadata": {},
   "outputs": [],
   "source": [
    "# 解答 4.1: 標量廣播\n",
    "arr = np.array([1, 2, 3])\n",
    "result1 = arr + 5\n",
    "print(\"加 5 後:\", result1)"
   ]
  },
  {
   "cell_type": "code",
   "execution_count": null,
   "id": "c5508551",
   "metadata": {},
   "outputs": [],
   "source": [
    "# 解答 4.2: 一維廣播\n",
    "matrix = np.array([[1, 2, 3], [4, 5, 6]])\n",
    "vector = np.array([10, 20, 30])\n",
    "result2 = matrix + vector\n",
    "print(\"廣播結果:\\n\", result2)"
   ]
  },
  {
   "cell_type": "code",
   "execution_count": null,
   "id": "14c24816",
   "metadata": {},
   "outputs": [],
   "source": [
    "# 解答 4.3: 形狀擴展\n",
    "arr = np.array([1, 2, 3])\n",
    "col_vector = arr[:, np.newaxis]\n",
    "print(\"列向量:\\n\", col_vector)"
   ]
  },
  {
   "cell_type": "markdown",
   "id": "1c82514a",
   "metadata": {},
   "source": [
    "\n",
    "## M5: 數學函數"
   ]
  },
  {
   "cell_type": "code",
   "execution_count": null,
   "id": "171f7767",
   "metadata": {},
   "outputs": [],
   "source": [
    "# 解答 5.1: 基本數學運算\n",
    "arr = np.array([1, 4, 9, 16])\n",
    "sqrt_result = np.sqrt(arr)\n",
    "print(\"平方根:\", sqrt_result)"
   ]
  },
  {
   "cell_type": "code",
   "execution_count": null,
   "id": "da3a5f3b",
   "metadata": {},
   "outputs": [],
   "source": [
    "# 解答 5.2: 統計函數\n",
    "arr = np.array([1, 2, 3, 4, 5])\n",
    "mean = np.mean(arr)\n",
    "std = np.std(arr)\n",
    "print(\"平均值:\", mean)\n",
    "print(\"標準差:\", std)"
   ]
  },
  {
   "cell_type": "code",
   "execution_count": null,
   "id": "d6a8b093",
   "metadata": {},
   "outputs": [],
   "source": [
    "# 解答 5.3: 三角函數\n",
    "angles = np.array([0, np.pi/2, np.pi])\n",
    "sin_values = np.sin(angles)\n",
    "print(\"正弦值:\", sin_values)"
   ]
  },
  {
   "cell_type": "markdown",
   "id": "480132c9",
   "metadata": {},
   "source": [
    "\n",
    "## M6: 統計分析應用"
   ]
  },
  {
   "cell_type": "code",
   "execution_count": null,
   "id": "85cb7555",
   "metadata": {},
   "outputs": [],
   "source": [
    "# 解答 6.1: 數據標準化\n",
    "data = np.array([1, 2, 3, 4, 5])\n",
    "standardized = (data - np.mean(data)) / np.std(data)\n",
    "print(\"標準化後:\", standardized)"
   ]
  },
  {
   "cell_type": "code",
   "execution_count": null,
   "id": "ce15fab7",
   "metadata": {},
   "outputs": [],
   "source": [
    "# 解答 6.2: 相關係數\n",
    "x = np.array([1, 2, 3, 4, 5])\n",
    "y = np.array([2, 4, 5, 4, 5])\n",
    "correlation = np.corrcoef(x, y)[0, 1]\n",
    "print(\"相關係數:\", correlation)"
   ]
  },
  {
   "cell_type": "code",
   "execution_count": null,
   "id": "bd8102ed",
   "metadata": {},
   "outputs": [],
   "source": [
    "# 解答 6.3: 簡單統計描述\n",
    "data = np.array([1, 2, 3, 4, 5])\n",
    "stats = {\n",
    "    'mean': np.mean(data),\n",
    "    'median': np.median(data),\n",
    "    'std': np.std(data),\n",
    "    'min': np.min(data),\n",
    "    'max': np.max(data)\n",
    "}\n",
    "print(\"統計描述:\", stats)"
   ]
  }
 ],
 "metadata": {
  "language_info": {
   "name": "python"
  }
 },
 "nbformat": 4,
 "nbformat_minor": 5
}
